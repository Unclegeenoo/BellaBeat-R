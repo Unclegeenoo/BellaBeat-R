{
 "cells": [
  {
   "cell_type": "code",
   "execution_count": null,
   "metadata": {},
   "outputs": [],
   "source": []
  },
  {
   "cell_type": "code",
   "execution_count": 639,
   "metadata": {},
   "outputs": [],
   "source": [
    "import streamlit as st\n",
    "import pandas as pd\n",
    "import matplotlib.pyplot as plt\n",
    "import numpy as np\n",
    "import seaborn as sns"
   ]
  },
  {
   "cell_type": "code",
   "execution_count": 640,
   "metadata": {},
   "outputs": [],
   "source": [
    "df_fin = pd.read_csv(\"D:\\Python\\WebApp\\MLC_Finances_Eng_Final_UTF8.csv\")\n",
    "df_att = pd.read_csv(\"D:\\Python\\WebApp\\MLC_Attendance_Eng_FInal_UTF8.csv\")\n",
    "\n",
    "### use condensed to get summary statistics, split using the credit/debit column\n",
    "df_fin2 = pd.read_csv(\"D:\\Python\\WebApp\\MLC_Finances_Eng_Condensed_UTF8_V2.csv\")"
   ]
  },
  {
   "cell_type": "code",
   "execution_count": 641,
   "metadata": {},
   "outputs": [
    {
     "name": "stdout",
     "output_type": "stream",
     "text": [
      "14982\n",
      "16668\n"
     ]
    }
   ],
   "source": [
    "print(df_fin.size)\n",
    "print(df_att.size)\n"
   ]
  },
  {
   "cell_type": "code",
   "execution_count": 642,
   "metadata": {},
   "outputs": [
    {
     "data": {
      "text/html": [
       "<div>\n",
       "<style scoped>\n",
       "    .dataframe tbody tr th:only-of-type {\n",
       "        vertical-align: middle;\n",
       "    }\n",
       "\n",
       "    .dataframe tbody tr th {\n",
       "        vertical-align: top;\n",
       "    }\n",
       "\n",
       "    .dataframe thead th {\n",
       "        text-align: right;\n",
       "    }\n",
       "</style>\n",
       "<table border=\"1\" class=\"dataframe\">\n",
       "  <thead>\n",
       "    <tr style=\"text-align: right;\">\n",
       "      <th></th>\n",
       "      <th>Sum</th>\n",
       "      <th>Arkhipov</th>\n",
       "      <th>Arkhipov USD</th>\n",
       "      <th>Ventsel</th>\n",
       "    </tr>\n",
       "  </thead>\n",
       "  <tbody>\n",
       "    <tr>\n",
       "      <th>count</th>\n",
       "      <td>1362.000000</td>\n",
       "      <td>1119.000000</td>\n",
       "      <td>64.000000</td>\n",
       "      <td>322.000000</td>\n",
       "    </tr>\n",
       "    <tr>\n",
       "      <th>mean</th>\n",
       "      <td>0.000000</td>\n",
       "      <td>0.000000</td>\n",
       "      <td>0.000000</td>\n",
       "      <td>0.000000</td>\n",
       "    </tr>\n",
       "    <tr>\n",
       "      <th>std</th>\n",
       "      <td>4709.803635</td>\n",
       "      <td>4751.131381</td>\n",
       "      <td>112.048176</td>\n",
       "      <td>3927.837722</td>\n",
       "    </tr>\n",
       "    <tr>\n",
       "      <th>min</th>\n",
       "      <td>-28800.000000</td>\n",
       "      <td>-28800.000000</td>\n",
       "      <td>-523.000000</td>\n",
       "      <td>-15000.000000</td>\n",
       "    </tr>\n",
       "    <tr>\n",
       "      <th>25%</th>\n",
       "      <td>-2000.000000</td>\n",
       "      <td>-2082.000000</td>\n",
       "      <td>-2.000000</td>\n",
       "      <td>-1300.000000</td>\n",
       "    </tr>\n",
       "    <tr>\n",
       "      <th>50%</th>\n",
       "      <td>200.000000</td>\n",
       "      <td>200.000000</td>\n",
       "      <td>-2.000000</td>\n",
       "      <td>0.000000</td>\n",
       "    </tr>\n",
       "    <tr>\n",
       "      <th>75%</th>\n",
       "      <td>2300.000000</td>\n",
       "      <td>2500.000000</td>\n",
       "      <td>40.000000</td>\n",
       "      <td>1287.500000</td>\n",
       "    </tr>\n",
       "    <tr>\n",
       "      <th>max</th>\n",
       "      <td>30300.000000</td>\n",
       "      <td>30300.000000</td>\n",
       "      <td>250.000000</td>\n",
       "      <td>19250.000000</td>\n",
       "    </tr>\n",
       "  </tbody>\n",
       "</table>\n",
       "</div>"
      ],
      "text/plain": [
       "                Sum      Arkhipov  Arkhipov USD       Ventsel\n",
       "count   1362.000000   1119.000000     64.000000    322.000000\n",
       "mean       0.000000      0.000000      0.000000      0.000000\n",
       "std     4709.803635   4751.131381    112.048176   3927.837722\n",
       "min   -28800.000000 -28800.000000   -523.000000 -15000.000000\n",
       "25%    -2000.000000  -2082.000000     -2.000000  -1300.000000\n",
       "50%      200.000000    200.000000     -2.000000      0.000000\n",
       "75%     2300.000000   2500.000000     40.000000   1287.500000\n",
       "max    30300.000000  30300.000000    250.000000  19250.000000"
      ]
     },
     "execution_count": 642,
     "metadata": {},
     "output_type": "execute_result"
    }
   ],
   "source": [
    "df_fin.describe()"
   ]
  },
  {
   "cell_type": "code",
   "execution_count": 643,
   "metadata": {},
   "outputs": [
    {
     "data": {
      "text/html": [
       "<div>\n",
       "<style scoped>\n",
       "    .dataframe tbody tr th:only-of-type {\n",
       "        vertical-align: middle;\n",
       "    }\n",
       "\n",
       "    .dataframe tbody tr th {\n",
       "        vertical-align: top;\n",
       "    }\n",
       "\n",
       "    .dataframe thead th {\n",
       "        text-align: right;\n",
       "    }\n",
       "</style>\n",
       "<table border=\"1\" class=\"dataframe\">\n",
       "  <thead>\n",
       "    <tr style=\"text-align: right;\">\n",
       "      <th></th>\n",
       "      <th>Date_Start</th>\n",
       "      <th>Date_End</th>\n",
       "      <th>Year</th>\n",
       "      <th>Attendance</th>\n",
       "    </tr>\n",
       "  </thead>\n",
       "  <tbody>\n",
       "    <tr>\n",
       "      <th>count</th>\n",
       "      <td>926.000000</td>\n",
       "      <td>926.00000</td>\n",
       "      <td>926.000000</td>\n",
       "      <td>926.000000</td>\n",
       "    </tr>\n",
       "    <tr>\n",
       "      <th>mean</th>\n",
       "      <td>15.757019</td>\n",
       "      <td>15.75486</td>\n",
       "      <td>2017.514039</td>\n",
       "      <td>7.568035</td>\n",
       "    </tr>\n",
       "    <tr>\n",
       "      <th>std</th>\n",
       "      <td>8.732315</td>\n",
       "      <td>8.72346</td>\n",
       "      <td>2.352989</td>\n",
       "      <td>5.050364</td>\n",
       "    </tr>\n",
       "    <tr>\n",
       "      <th>min</th>\n",
       "      <td>1.000000</td>\n",
       "      <td>1.00000</td>\n",
       "      <td>2013.000000</td>\n",
       "      <td>0.000000</td>\n",
       "    </tr>\n",
       "    <tr>\n",
       "      <th>25%</th>\n",
       "      <td>8.000000</td>\n",
       "      <td>8.00000</td>\n",
       "      <td>2016.000000</td>\n",
       "      <td>4.000000</td>\n",
       "    </tr>\n",
       "    <tr>\n",
       "      <th>50%</th>\n",
       "      <td>16.000000</td>\n",
       "      <td>16.00000</td>\n",
       "      <td>2017.000000</td>\n",
       "      <td>7.000000</td>\n",
       "    </tr>\n",
       "    <tr>\n",
       "      <th>75%</th>\n",
       "      <td>23.000000</td>\n",
       "      <td>23.00000</td>\n",
       "      <td>2020.000000</td>\n",
       "      <td>10.000000</td>\n",
       "    </tr>\n",
       "    <tr>\n",
       "      <th>max</th>\n",
       "      <td>31.000000</td>\n",
       "      <td>31.00000</td>\n",
       "      <td>2022.000000</td>\n",
       "      <td>31.000000</td>\n",
       "    </tr>\n",
       "  </tbody>\n",
       "</table>\n",
       "</div>"
      ],
      "text/plain": [
       "       Date_Start   Date_End         Year  Attendance\n",
       "count  926.000000  926.00000   926.000000  926.000000\n",
       "mean    15.757019   15.75486  2017.514039    7.568035\n",
       "std      8.732315    8.72346     2.352989    5.050364\n",
       "min      1.000000    1.00000  2013.000000    0.000000\n",
       "25%      8.000000    8.00000  2016.000000    4.000000\n",
       "50%     16.000000   16.00000  2017.000000    7.000000\n",
       "75%     23.000000   23.00000  2020.000000   10.000000\n",
       "max     31.000000   31.00000  2022.000000   31.000000"
      ]
     },
     "execution_count": 643,
     "metadata": {},
     "output_type": "execute_result"
    }
   ],
   "source": [
    "df_att.describe()"
   ]
  },
  {
   "cell_type": "code",
   "execution_count": 644,
   "metadata": {},
   "outputs": [
    {
     "name": "stdout",
     "output_type": "stream",
     "text": [
      "<class 'pandas.core.frame.DataFrame'>\n",
      "RangeIndex: 1362 entries, 0 to 1361\n",
      "Data columns (total 11 columns):\n",
      " #   Column          Non-Null Count  Dtype  \n",
      "---  ------          --------------  -----  \n",
      " 0   Operation       1362 non-null   object \n",
      " 1   Classification  1362 non-null   object \n",
      " 2   Sum             1362 non-null   int64  \n",
      " 3   Category        1362 non-null   object \n",
      " 4   Date            1362 non-null   object \n",
      " 5   Owner           1362 non-null   object \n",
      " 6   Commentary Eng  1269 non-null   object \n",
      " 7   Commentary      1268 non-null   object \n",
      " 8   Arkhipov        1119 non-null   float64\n",
      " 9   Arkhipov USD    64 non-null     float64\n",
      " 10  Ventsel         322 non-null    float64\n",
      "dtypes: float64(3), int64(1), object(7)\n",
      "memory usage: 117.2+ KB\n"
     ]
    }
   ],
   "source": [
    "df_fin.info()"
   ]
  },
  {
   "cell_type": "code",
   "execution_count": 645,
   "metadata": {},
   "outputs": [
    {
     "name": "stdout",
     "output_type": "stream",
     "text": [
      "<class 'pandas.core.frame.DataFrame'>\n",
      "RangeIndex: 926 entries, 0 to 925\n",
      "Data columns (total 18 columns):\n",
      " #   Column           Non-Null Count  Dtype \n",
      "---  ------           --------------  ----- \n",
      " 0   Name             926 non-null    object\n",
      " 1   Status           926 non-null    object\n",
      " 2   Type             926 non-null    object\n",
      " 3   Creator          926 non-null    object\n",
      " 4   Date             926 non-null    object\n",
      " 5   Day_Start        926 non-null    object\n",
      " 6   Day_End          926 non-null    object\n",
      " 7   Month_Start      926 non-null    object\n",
      " 8   Month_Finish     926 non-null    object\n",
      " 9   Date_Start       926 non-null    int64 \n",
      " 10  Date_End         926 non-null    int64 \n",
      " 11  Year             926 non-null    int64 \n",
      " 12  Time_Start       926 non-null    object\n",
      " 13  Duration         926 non-null    object\n",
      " 14  Location         926 non-null    object\n",
      " 15  Going            926 non-null    object\n",
      " 16  Attendance       926 non-null    int64 \n",
      " 17  Date_Date_Excel  926 non-null    object\n",
      "dtypes: int64(4), object(14)\n",
      "memory usage: 130.3+ KB\n"
     ]
    }
   ],
   "source": [
    "df_att.info()"
   ]
  },
  {
   "cell_type": "code",
   "execution_count": 646,
   "metadata": {},
   "outputs": [
    {
     "data": {
      "text/html": [
       "<div>\n",
       "<style scoped>\n",
       "    .dataframe tbody tr th:only-of-type {\n",
       "        vertical-align: middle;\n",
       "    }\n",
       "\n",
       "    .dataframe tbody tr th {\n",
       "        vertical-align: top;\n",
       "    }\n",
       "\n",
       "    .dataframe thead th {\n",
       "        text-align: right;\n",
       "    }\n",
       "</style>\n",
       "<table border=\"1\" class=\"dataframe\">\n",
       "  <thead>\n",
       "    <tr style=\"text-align: right;\">\n",
       "      <th></th>\n",
       "      <th>Name</th>\n",
       "      <th>Status</th>\n",
       "      <th>Type</th>\n",
       "      <th>Creator</th>\n",
       "      <th>Date</th>\n",
       "      <th>Day_Start</th>\n",
       "      <th>Day_End</th>\n",
       "      <th>Month_Start</th>\n",
       "      <th>Month_Finish</th>\n",
       "      <th>Date_Start</th>\n",
       "      <th>Date_End</th>\n",
       "      <th>Year</th>\n",
       "      <th>Time_Start</th>\n",
       "      <th>Duration</th>\n",
       "      <th>Location</th>\n",
       "      <th>Going</th>\n",
       "      <th>Attendance</th>\n",
       "      <th>Date_Date_Excel</th>\n",
       "    </tr>\n",
       "  </thead>\n",
       "  <tbody>\n",
       "    <tr>\n",
       "      <th>0</th>\n",
       "      <td>Saturday Practice</td>\n",
       "      <td>Completed</td>\n",
       "      <td>Team Practice</td>\n",
       "      <td>Eugene Arkhipov</td>\n",
       "      <td>SATURDAY, NOVEMBER 2, 2013 AT 4 PM UTC+03</td>\n",
       "      <td>SATURDAY</td>\n",
       "      <td>SATURDAY</td>\n",
       "      <td>NOVEMBER</td>\n",
       "      <td>November</td>\n",
       "      <td>2</td>\n",
       "      <td>2</td>\n",
       "      <td>2013</td>\n",
       "      <td>4:00 PM</td>\n",
       "      <td>Duration: 3 hr</td>\n",
       "      <td>ул. Флотская, 11а, москва</td>\n",
       "      <td>No Data</td>\n",
       "      <td>7</td>\n",
       "      <td>Saturday, November 2, 2013</td>\n",
       "    </tr>\n",
       "    <tr>\n",
       "      <th>1</th>\n",
       "      <td>Sunday Practice</td>\n",
       "      <td>Completed</td>\n",
       "      <td>Team Practice</td>\n",
       "      <td>Eugene Arkhipov</td>\n",
       "      <td>SUNDAY, NOVEMBER 3, 2013 AT 11:45 AM UTC+03</td>\n",
       "      <td>SUNDAY</td>\n",
       "      <td>SUNDAY</td>\n",
       "      <td>NOVEMBER</td>\n",
       "      <td>November</td>\n",
       "      <td>3</td>\n",
       "      <td>3</td>\n",
       "      <td>2013</td>\n",
       "      <td>11:45 AM</td>\n",
       "      <td>Duration: 3 hr</td>\n",
       "      <td>ул. Флотская, 11а, москва</td>\n",
       "      <td>No Data</td>\n",
       "      <td>5</td>\n",
       "      <td>Sunday, November 3, 2013</td>\n",
       "    </tr>\n",
       "    <tr>\n",
       "      <th>2</th>\n",
       "      <td>Monday Practice</td>\n",
       "      <td>Completed</td>\n",
       "      <td>Team Practice</td>\n",
       "      <td>Eugene Arkhipov</td>\n",
       "      <td>MONDAY, NOVEMBER 4, 2013 AT 12 PM UTC+03</td>\n",
       "      <td>MONDAY</td>\n",
       "      <td>MONDAY</td>\n",
       "      <td>NOVEMBER</td>\n",
       "      <td>November</td>\n",
       "      <td>4</td>\n",
       "      <td>4</td>\n",
       "      <td>2013</td>\n",
       "      <td>12:00 PM</td>\n",
       "      <td>Duration: 3 hr</td>\n",
       "      <td>ул. Флотская, 11а, москва</td>\n",
       "      <td>No Data</td>\n",
       "      <td>3</td>\n",
       "      <td>Monday, November 4, 2013</td>\n",
       "    </tr>\n",
       "    <tr>\n",
       "      <th>3</th>\n",
       "      <td>Saturday Practice</td>\n",
       "      <td>Completed</td>\n",
       "      <td>Team Practice</td>\n",
       "      <td>Eugene Arkhipov</td>\n",
       "      <td>SATURDAY, NOVEMBER 9, 2013 AT 4 PM UTC+03</td>\n",
       "      <td>SATURDAY</td>\n",
       "      <td>SATURDAY</td>\n",
       "      <td>NOVEMBER</td>\n",
       "      <td>November</td>\n",
       "      <td>9</td>\n",
       "      <td>9</td>\n",
       "      <td>2013</td>\n",
       "      <td>4:00 PM</td>\n",
       "      <td>Duration: 3 hr</td>\n",
       "      <td>ул. Флотская, 11а, москва</td>\n",
       "      <td>No Data</td>\n",
       "      <td>11</td>\n",
       "      <td>Saturday, November 9, 2013</td>\n",
       "    </tr>\n",
       "    <tr>\n",
       "      <th>4</th>\n",
       "      <td>Sunday Practice</td>\n",
       "      <td>Completed</td>\n",
       "      <td>Team Practice</td>\n",
       "      <td>Eugene Arkhipov</td>\n",
       "      <td>SUNDAY, NOVEMBER 10, 2013 AT 11:45 AM UTC+03</td>\n",
       "      <td>SUNDAY</td>\n",
       "      <td>SUNDAY</td>\n",
       "      <td>NOVEMBER</td>\n",
       "      <td>November</td>\n",
       "      <td>10</td>\n",
       "      <td>10</td>\n",
       "      <td>2013</td>\n",
       "      <td>11:45 AM</td>\n",
       "      <td>Duration: 3 hr</td>\n",
       "      <td>ул. Флотская, 11а, москва</td>\n",
       "      <td>No Data</td>\n",
       "      <td>11</td>\n",
       "      <td>Sunday, November 10, 2013</td>\n",
       "    </tr>\n",
       "  </tbody>\n",
       "</table>\n",
       "</div>"
      ],
      "text/plain": [
       "                Name     Status           Type          Creator  \\\n",
       "0  Saturday Practice  Completed  Team Practice  Eugene Arkhipov   \n",
       "1    Sunday Practice  Completed  Team Practice  Eugene Arkhipov   \n",
       "2    Monday Practice  Completed  Team Practice  Eugene Arkhipov   \n",
       "3  Saturday Practice  Completed  Team Practice  Eugene Arkhipov   \n",
       "4    Sunday Practice  Completed  Team Practice  Eugene Arkhipov   \n",
       "\n",
       "                                           Date Day_Start   Day_End  \\\n",
       "0     SATURDAY, NOVEMBER 2, 2013 AT 4 PM UTC+03  SATURDAY  SATURDAY   \n",
       "1   SUNDAY, NOVEMBER 3, 2013 AT 11:45 AM UTC+03    SUNDAY    SUNDAY   \n",
       "2      MONDAY, NOVEMBER 4, 2013 AT 12 PM UTC+03    MONDAY    MONDAY   \n",
       "3     SATURDAY, NOVEMBER 9, 2013 AT 4 PM UTC+03  SATURDAY  SATURDAY   \n",
       "4  SUNDAY, NOVEMBER 10, 2013 AT 11:45 AM UTC+03    SUNDAY    SUNDAY   \n",
       "\n",
       "  Month_Start Month_Finish  Date_Start  Date_End  Year Time_Start  \\\n",
       "0    NOVEMBER     November           2         2  2013    4:00 PM   \n",
       "1    NOVEMBER     November           3         3  2013   11:45 AM   \n",
       "2    NOVEMBER     November           4         4  2013   12:00 PM   \n",
       "3    NOVEMBER     November           9         9  2013    4:00 PM   \n",
       "4    NOVEMBER     November          10        10  2013   11:45 AM   \n",
       "\n",
       "         Duration                   Location    Going  Attendance  \\\n",
       "0  Duration: 3 hr  ул. Флотская, 11а, москва  No Data           7   \n",
       "1  Duration: 3 hr  ул. Флотская, 11а, москва  No Data           5   \n",
       "2  Duration: 3 hr  ул. Флотская, 11а, москва  No Data           3   \n",
       "3  Duration: 3 hr  ул. Флотская, 11а, москва  No Data          11   \n",
       "4  Duration: 3 hr  ул. Флотская, 11а, москва  No Data          11   \n",
       "\n",
       "              Date_Date_Excel  \n",
       "0  Saturday, November 2, 2013  \n",
       "1    Sunday, November 3, 2013  \n",
       "2    Monday, November 4, 2013  \n",
       "3  Saturday, November 9, 2013  \n",
       "4   Sunday, November 10, 2013  "
      ]
     },
     "execution_count": 646,
     "metadata": {},
     "output_type": "execute_result"
    }
   ],
   "source": [
    "df_att.head()"
   ]
  },
  {
   "cell_type": "code",
   "execution_count": 647,
   "metadata": {},
   "outputs": [
    {
     "data": {
      "text/html": [
       "<div>\n",
       "<style scoped>\n",
       "    .dataframe tbody tr th:only-of-type {\n",
       "        vertical-align: middle;\n",
       "    }\n",
       "\n",
       "    .dataframe tbody tr th {\n",
       "        vertical-align: top;\n",
       "    }\n",
       "\n",
       "    .dataframe thead th {\n",
       "        text-align: right;\n",
       "    }\n",
       "</style>\n",
       "<table border=\"1\" class=\"dataframe\">\n",
       "  <thead>\n",
       "    <tr style=\"text-align: right;\">\n",
       "      <th></th>\n",
       "      <th>Operation</th>\n",
       "      <th>Classification</th>\n",
       "      <th>Sum</th>\n",
       "      <th>Category</th>\n",
       "      <th>Date</th>\n",
       "      <th>Owner</th>\n",
       "      <th>Commentary Eng</th>\n",
       "      <th>Commentary</th>\n",
       "      <th>Arkhipov</th>\n",
       "      <th>Arkhipov USD</th>\n",
       "      <th>Ventsel</th>\n",
       "    </tr>\n",
       "  </thead>\n",
       "  <tbody>\n",
       "    <tr>\n",
       "      <th>0</th>\n",
       "      <td>Head Purchase</td>\n",
       "      <td>Debit</td>\n",
       "      <td>-10000</td>\n",
       "      <td>Equipment</td>\n",
       "      <td>1/8/2015</td>\n",
       "      <td>Arkhipov</td>\n",
       "      <td>Denis for Heads</td>\n",
       "      <td>Дену за Headы</td>\n",
       "      <td>-10000.0</td>\n",
       "      <td>NaN</td>\n",
       "      <td>0.0</td>\n",
       "    </tr>\n",
       "    <tr>\n",
       "      <th>1</th>\n",
       "      <td>Membership Fee</td>\n",
       "      <td>Credit</td>\n",
       "      <td>29000</td>\n",
       "      <td>Membership Fee</td>\n",
       "      <td>1/8/2015</td>\n",
       "      <td>Arkhipov</td>\n",
       "      <td>Balance Remainder Arkhipov</td>\n",
       "      <td>Остаток у Arkhipovа</td>\n",
       "      <td>29000.0</td>\n",
       "      <td>NaN</td>\n",
       "      <td>0.0</td>\n",
       "    </tr>\n",
       "    <tr>\n",
       "      <th>2</th>\n",
       "      <td>Stick Sale</td>\n",
       "      <td>Credit</td>\n",
       "      <td>3000</td>\n",
       "      <td>Equipment</td>\n",
       "      <td>1/8/2015</td>\n",
       "      <td>Ventsel</td>\n",
       "      <td>NaN</td>\n",
       "      <td>NaN</td>\n",
       "      <td>0.0</td>\n",
       "      <td>NaN</td>\n",
       "      <td>3000.0</td>\n",
       "    </tr>\n",
       "    <tr>\n",
       "      <th>3</th>\n",
       "      <td>Stick Sale</td>\n",
       "      <td>Credit</td>\n",
       "      <td>3000</td>\n",
       "      <td>Equipment</td>\n",
       "      <td>1/8/2015</td>\n",
       "      <td>Ventsel</td>\n",
       "      <td>NaN</td>\n",
       "      <td>NaN</td>\n",
       "      <td>0.0</td>\n",
       "      <td>NaN</td>\n",
       "      <td>3000.0</td>\n",
       "    </tr>\n",
       "    <tr>\n",
       "      <th>4</th>\n",
       "      <td>Stick Sale</td>\n",
       "      <td>Credit</td>\n",
       "      <td>3000</td>\n",
       "      <td>Equipment</td>\n",
       "      <td>1/8/2015</td>\n",
       "      <td>Ventsel</td>\n",
       "      <td>NaN</td>\n",
       "      <td>NaN</td>\n",
       "      <td>0.0</td>\n",
       "      <td>NaN</td>\n",
       "      <td>3000.0</td>\n",
       "    </tr>\n",
       "  </tbody>\n",
       "</table>\n",
       "</div>"
      ],
      "text/plain": [
       "        Operation Classification    Sum        Category      Date     Owner  \\\n",
       "0   Head Purchase          Debit -10000       Equipment  1/8/2015  Arkhipov   \n",
       "1  Membership Fee         Credit  29000  Membership Fee  1/8/2015  Arkhipov   \n",
       "2      Stick Sale         Credit   3000       Equipment  1/8/2015   Ventsel   \n",
       "3      Stick Sale         Credit   3000       Equipment  1/8/2015   Ventsel   \n",
       "4      Stick Sale         Credit   3000       Equipment  1/8/2015   Ventsel   \n",
       "\n",
       "               Commentary Eng           Commentary  Arkhipov  Arkhipov USD  \\\n",
       "0             Denis for Heads        Дену за Headы  -10000.0           NaN   \n",
       "1  Balance Remainder Arkhipov  Остаток у Arkhipovа   29000.0           NaN   \n",
       "2                         NaN                  NaN       0.0           NaN   \n",
       "3                         NaN                  NaN       0.0           NaN   \n",
       "4                         NaN                  NaN       0.0           NaN   \n",
       "\n",
       "   Ventsel  \n",
       "0      0.0  \n",
       "1      0.0  \n",
       "2   3000.0  \n",
       "3   3000.0  \n",
       "4   3000.0  "
      ]
     },
     "execution_count": 647,
     "metadata": {},
     "output_type": "execute_result"
    }
   ],
   "source": [
    "df_fin.head()"
   ]
  },
  {
   "cell_type": "markdown",
   "metadata": {},
   "source": [
    "Financial Exploratory analysis General"
   ]
  },
  {
   "cell_type": "markdown",
   "metadata": {},
   "source": [
    "split main database into 2 seperate databases based on currency"
   ]
  },
  {
   "cell_type": "code",
   "execution_count": 648,
   "metadata": {},
   "outputs": [],
   "source": [
    "# Create separate DataFrames for Credit/Debit and Credit USD/Debit USD transactions\n",
    "df_fin_usd = df_fin[df_fin['Classification'].str.contains('USD')]\n",
    "df_fin_rub = df_fin[~df_fin['Classification'].str.contains('USD')]\n",
    "\n",
    "\n"
   ]
  },
  {
   "cell_type": "code",
   "execution_count": 649,
   "metadata": {},
   "outputs": [
    {
     "name": "stdout",
     "output_type": "stream",
     "text": [
      "<class 'pandas.core.frame.DataFrame'>\n",
      "Int64Index: 1298 entries, 0 to 1361\n",
      "Data columns (total 11 columns):\n",
      " #   Column          Non-Null Count  Dtype  \n",
      "---  ------          --------------  -----  \n",
      " 0   Operation       1298 non-null   object \n",
      " 1   Classification  1298 non-null   object \n",
      " 2   Sum             1298 non-null   int64  \n",
      " 3   Category        1298 non-null   object \n",
      " 4   Date            1298 non-null   object \n",
      " 5   Owner           1298 non-null   object \n",
      " 6   Commentary Eng  1205 non-null   object \n",
      " 7   Commentary      1204 non-null   object \n",
      " 8   Arkhipov        1119 non-null   float64\n",
      " 9   Arkhipov USD    0 non-null      float64\n",
      " 10  Ventsel         322 non-null    float64\n",
      "dtypes: float64(3), int64(1), object(7)\n",
      "memory usage: 121.7+ KB\n"
     ]
    }
   ],
   "source": [
    "df_fin_rub.info()"
   ]
  },
  {
   "cell_type": "code",
   "execution_count": 650,
   "metadata": {},
   "outputs": [
    {
     "name": "stdout",
     "output_type": "stream",
     "text": [
      "<class 'pandas.core.frame.DataFrame'>\n",
      "Int64Index: 64 entries, 592 to 1355\n",
      "Data columns (total 11 columns):\n",
      " #   Column          Non-Null Count  Dtype  \n",
      "---  ------          --------------  -----  \n",
      " 0   Operation       64 non-null     object \n",
      " 1   Classification  64 non-null     object \n",
      " 2   Sum             64 non-null     int64  \n",
      " 3   Category        64 non-null     object \n",
      " 4   Date            64 non-null     object \n",
      " 5   Owner           64 non-null     object \n",
      " 6   Commentary Eng  64 non-null     object \n",
      " 7   Commentary      64 non-null     object \n",
      " 8   Arkhipov        0 non-null      float64\n",
      " 9   Arkhipov USD    64 non-null     float64\n",
      " 10  Ventsel         0 non-null      float64\n",
      "dtypes: float64(3), int64(1), object(7)\n",
      "memory usage: 6.0+ KB\n"
     ]
    }
   ],
   "source": [
    "df_fin_usd.info()"
   ]
  },
  {
   "cell_type": "code",
   "execution_count": 651,
   "metadata": {},
   "outputs": [
    {
     "data": {
      "text/html": [
       "<div>\n",
       "<style scoped>\n",
       "    .dataframe tbody tr th:only-of-type {\n",
       "        vertical-align: middle;\n",
       "    }\n",
       "\n",
       "    .dataframe tbody tr th {\n",
       "        vertical-align: top;\n",
       "    }\n",
       "\n",
       "    .dataframe thead th {\n",
       "        text-align: right;\n",
       "    }\n",
       "</style>\n",
       "<table border=\"1\" class=\"dataframe\">\n",
       "  <thead>\n",
       "    <tr style=\"text-align: right;\">\n",
       "      <th></th>\n",
       "      <th>Operation</th>\n",
       "      <th>Classification</th>\n",
       "      <th>Sum</th>\n",
       "      <th>Category</th>\n",
       "      <th>Date</th>\n",
       "      <th>Owner</th>\n",
       "      <th>Commentary Eng</th>\n",
       "      <th>Commentary</th>\n",
       "      <th>Arkhipov</th>\n",
       "      <th>Arkhipov USD</th>\n",
       "      <th>Ventsel</th>\n",
       "    </tr>\n",
       "  </thead>\n",
       "  <tbody>\n",
       "    <tr>\n",
       "      <th>592</th>\n",
       "      <td>Savings</td>\n",
       "      <td>Credit USD</td>\n",
       "      <td>250</td>\n",
       "      <td>Equipment</td>\n",
       "      <td>26/06/2018</td>\n",
       "      <td>Arkhipov USD</td>\n",
       "      <td>money set aside for FIL fee/equipment purchase</td>\n",
       "      <td>деньги отложенны за FIL Fee/equipment purchase</td>\n",
       "      <td>NaN</td>\n",
       "      <td>250.0</td>\n",
       "      <td>NaN</td>\n",
       "    </tr>\n",
       "    <tr>\n",
       "      <th>660</th>\n",
       "      <td>Elbows Purchase</td>\n",
       "      <td>Debit USD</td>\n",
       "      <td>-250</td>\n",
       "      <td>Equipment</td>\n",
       "      <td>14/06/2019</td>\n",
       "      <td>Arkhipov USD</td>\n",
       "      <td>elbow pads (270 usd total)</td>\n",
       "      <td>elbow pads (270 USD total)</td>\n",
       "      <td>NaN</td>\n",
       "      <td>-250.0</td>\n",
       "      <td>NaN</td>\n",
       "    </tr>\n",
       "    <tr>\n",
       "      <th>1059</th>\n",
       "      <td>Gloves Sale</td>\n",
       "      <td>Credit USD</td>\n",
       "      <td>40</td>\n",
       "      <td>Equipment</td>\n",
       "      <td>6/5/2021</td>\n",
       "      <td>Arkhipov USD</td>\n",
       "      <td>Oleg, brine king gloves</td>\n",
       "      <td>Oleg, brine king gloves</td>\n",
       "      <td>NaN</td>\n",
       "      <td>40.0</td>\n",
       "      <td>NaN</td>\n",
       "    </tr>\n",
       "    <tr>\n",
       "      <th>1060</th>\n",
       "      <td>Shafts Sale</td>\n",
       "      <td>Credit USD</td>\n",
       "      <td>50</td>\n",
       "      <td>Equipment</td>\n",
       "      <td>6/5/2021</td>\n",
       "      <td>Arkhipov USD</td>\n",
       "      <td>Oleg, brine triumph shaft</td>\n",
       "      <td>Oleg, brine triumph shaft</td>\n",
       "      <td>NaN</td>\n",
       "      <td>50.0</td>\n",
       "      <td>NaN</td>\n",
       "    </tr>\n",
       "    <tr>\n",
       "      <th>1061</th>\n",
       "      <td>Strings Sale</td>\n",
       "      <td>Credit USD</td>\n",
       "      <td>20</td>\n",
       "      <td>Equipment</td>\n",
       "      <td>6/5/2021</td>\n",
       "      <td>Arkhipov USD</td>\n",
       "      <td>20 usd money mesh, Misha p</td>\n",
       "      <td>20 usd money mesh, Misha p</td>\n",
       "      <td>NaN</td>\n",
       "      <td>20.0</td>\n",
       "      <td>NaN</td>\n",
       "    </tr>\n",
       "  </tbody>\n",
       "</table>\n",
       "</div>"
      ],
      "text/plain": [
       "            Operation Classification  Sum   Category        Date  \\\n",
       "592           Savings     Credit USD  250  Equipment  26/06/2018   \n",
       "660   Elbows Purchase      Debit USD -250  Equipment  14/06/2019   \n",
       "1059      Gloves Sale     Credit USD   40  Equipment    6/5/2021   \n",
       "1060      Shafts Sale     Credit USD   50  Equipment    6/5/2021   \n",
       "1061     Strings Sale     Credit USD   20  Equipment    6/5/2021   \n",
       "\n",
       "             Owner                                  Commentary Eng  \\\n",
       "592   Arkhipov USD  money set aside for FIL fee/equipment purchase   \n",
       "660   Arkhipov USD                      elbow pads (270 usd total)   \n",
       "1059  Arkhipov USD                         Oleg, brine king gloves   \n",
       "1060  Arkhipov USD                       Oleg, brine triumph shaft   \n",
       "1061  Arkhipov USD                      20 usd money mesh, Misha p   \n",
       "\n",
       "                                          Commentary  Arkhipov  Arkhipov USD  \\\n",
       "592   деньги отложенны за FIL Fee/equipment purchase       NaN         250.0   \n",
       "660                       elbow pads (270 USD total)       NaN        -250.0   \n",
       "1059                         Oleg, brine king gloves       NaN          40.0   \n",
       "1060                       Oleg, brine triumph shaft       NaN          50.0   \n",
       "1061                      20 usd money mesh, Misha p       NaN          20.0   \n",
       "\n",
       "      Ventsel  \n",
       "592       NaN  \n",
       "660       NaN  \n",
       "1059      NaN  \n",
       "1060      NaN  \n",
       "1061      NaN  "
      ]
     },
     "execution_count": 651,
     "metadata": {},
     "output_type": "execute_result"
    }
   ],
   "source": [
    "# Display the two separate DataFrames\n",
    "df_fin_usd.head()"
   ]
  },
  {
   "cell_type": "code",
   "execution_count": 652,
   "metadata": {},
   "outputs": [
    {
     "data": {
      "text/html": [
       "<div>\n",
       "<style scoped>\n",
       "    .dataframe tbody tr th:only-of-type {\n",
       "        vertical-align: middle;\n",
       "    }\n",
       "\n",
       "    .dataframe tbody tr th {\n",
       "        vertical-align: top;\n",
       "    }\n",
       "\n",
       "    .dataframe thead th {\n",
       "        text-align: right;\n",
       "    }\n",
       "</style>\n",
       "<table border=\"1\" class=\"dataframe\">\n",
       "  <thead>\n",
       "    <tr style=\"text-align: right;\">\n",
       "      <th></th>\n",
       "      <th>Operation</th>\n",
       "      <th>Classification</th>\n",
       "      <th>Sum</th>\n",
       "      <th>Category</th>\n",
       "      <th>Date</th>\n",
       "      <th>Owner</th>\n",
       "      <th>Commentary Eng</th>\n",
       "      <th>Commentary</th>\n",
       "      <th>Arkhipov</th>\n",
       "      <th>Arkhipov USD</th>\n",
       "      <th>Ventsel</th>\n",
       "    </tr>\n",
       "  </thead>\n",
       "  <tbody>\n",
       "    <tr>\n",
       "      <th>0</th>\n",
       "      <td>Head Purchase</td>\n",
       "      <td>Debit</td>\n",
       "      <td>-10000</td>\n",
       "      <td>Equipment</td>\n",
       "      <td>1/8/2015</td>\n",
       "      <td>Arkhipov</td>\n",
       "      <td>Denis for Heads</td>\n",
       "      <td>Дену за Headы</td>\n",
       "      <td>-10000.0</td>\n",
       "      <td>NaN</td>\n",
       "      <td>0.0</td>\n",
       "    </tr>\n",
       "    <tr>\n",
       "      <th>1</th>\n",
       "      <td>Membership Fee</td>\n",
       "      <td>Credit</td>\n",
       "      <td>29000</td>\n",
       "      <td>Membership Fee</td>\n",
       "      <td>1/8/2015</td>\n",
       "      <td>Arkhipov</td>\n",
       "      <td>Balance Remainder Arkhipov</td>\n",
       "      <td>Остаток у Arkhipovа</td>\n",
       "      <td>29000.0</td>\n",
       "      <td>NaN</td>\n",
       "      <td>0.0</td>\n",
       "    </tr>\n",
       "    <tr>\n",
       "      <th>2</th>\n",
       "      <td>Stick Sale</td>\n",
       "      <td>Credit</td>\n",
       "      <td>3000</td>\n",
       "      <td>Equipment</td>\n",
       "      <td>1/8/2015</td>\n",
       "      <td>Ventsel</td>\n",
       "      <td>NaN</td>\n",
       "      <td>NaN</td>\n",
       "      <td>0.0</td>\n",
       "      <td>NaN</td>\n",
       "      <td>3000.0</td>\n",
       "    </tr>\n",
       "    <tr>\n",
       "      <th>3</th>\n",
       "      <td>Stick Sale</td>\n",
       "      <td>Credit</td>\n",
       "      <td>3000</td>\n",
       "      <td>Equipment</td>\n",
       "      <td>1/8/2015</td>\n",
       "      <td>Ventsel</td>\n",
       "      <td>NaN</td>\n",
       "      <td>NaN</td>\n",
       "      <td>0.0</td>\n",
       "      <td>NaN</td>\n",
       "      <td>3000.0</td>\n",
       "    </tr>\n",
       "    <tr>\n",
       "      <th>4</th>\n",
       "      <td>Stick Sale</td>\n",
       "      <td>Credit</td>\n",
       "      <td>3000</td>\n",
       "      <td>Equipment</td>\n",
       "      <td>1/8/2015</td>\n",
       "      <td>Ventsel</td>\n",
       "      <td>NaN</td>\n",
       "      <td>NaN</td>\n",
       "      <td>0.0</td>\n",
       "      <td>NaN</td>\n",
       "      <td>3000.0</td>\n",
       "    </tr>\n",
       "  </tbody>\n",
       "</table>\n",
       "</div>"
      ],
      "text/plain": [
       "        Operation Classification    Sum        Category      Date     Owner  \\\n",
       "0   Head Purchase          Debit -10000       Equipment  1/8/2015  Arkhipov   \n",
       "1  Membership Fee         Credit  29000  Membership Fee  1/8/2015  Arkhipov   \n",
       "2      Stick Sale         Credit   3000       Equipment  1/8/2015   Ventsel   \n",
       "3      Stick Sale         Credit   3000       Equipment  1/8/2015   Ventsel   \n",
       "4      Stick Sale         Credit   3000       Equipment  1/8/2015   Ventsel   \n",
       "\n",
       "               Commentary Eng           Commentary  Arkhipov  Arkhipov USD  \\\n",
       "0             Denis for Heads        Дену за Headы  -10000.0           NaN   \n",
       "1  Balance Remainder Arkhipov  Остаток у Arkhipovа   29000.0           NaN   \n",
       "2                         NaN                  NaN       0.0           NaN   \n",
       "3                         NaN                  NaN       0.0           NaN   \n",
       "4                         NaN                  NaN       0.0           NaN   \n",
       "\n",
       "   Ventsel  \n",
       "0      0.0  \n",
       "1      0.0  \n",
       "2   3000.0  \n",
       "3   3000.0  \n",
       "4   3000.0  "
      ]
     },
     "execution_count": 652,
     "metadata": {},
     "output_type": "execute_result"
    }
   ],
   "source": [
    "df_fin_rub.head()"
   ]
  },
  {
   "cell_type": "markdown",
   "metadata": {},
   "source": [
    "Calculate the total sum spent on each category:"
   ]
  },
  {
   "cell_type": "code",
   "execution_count": 653,
   "metadata": {},
   "outputs": [
    {
     "name": "stdout",
     "output_type": "stream",
     "text": [
      "Category\n",
      "Equipment    1046\n",
      "Payout      -1046\n",
      "Name: Sum, dtype: int64\n"
     ]
    }
   ],
   "source": [
    "category_sums_usd = df_fin_usd.groupby('Category')['Sum'].sum()\n",
    "print(category_sums_usd)"
   ]
  },
  {
   "cell_type": "code",
   "execution_count": 654,
   "metadata": {},
   "outputs": [
    {
     "name": "stdout",
     "output_type": "stream",
     "text": [
      "Category\n",
      "Accounting Services             -12430\n",
      "Digital Services                -33936\n",
      "Equipment                       126939\n",
      "Event                             5800\n",
      "Field                            36489\n",
      "Fine                              1000\n",
      "Interest Payment                  1290\n",
      "Internal Transfer                    0\n",
      "International Membership Fee    -90659\n",
      "Legal Services                  -40850\n",
      "Loan                               650\n",
      "Logistical Debits               -26151\n",
      "Logistical Fees                  -5000\n",
      "Marketing                        -4900\n",
      "Membership Fee                  147400\n",
      "Misc                             -7742\n",
      "Payout                          -97900\n",
      "Name: Sum, dtype: int64\n"
     ]
    }
   ],
   "source": [
    "category_sums_rub = df_fin_rub.groupby('Category')['Sum'].sum()\n",
    "print(category_sums_rub)"
   ]
  },
  {
   "cell_type": "markdown",
   "metadata": {},
   "source": [
    "Calculate the number of transactions for each category:"
   ]
  },
  {
   "cell_type": "code",
   "execution_count": 655,
   "metadata": {},
   "outputs": [
    {
     "name": "stdout",
     "output_type": "stream",
     "text": [
      "Equipment                       559\n",
      "Field                           538\n",
      "Membership Fee                   97\n",
      "Logistical Debits                30\n",
      "Digital Services                 19\n",
      "Internal Transfer                10\n",
      "Legal Services                    9\n",
      "International Membership Fee      7\n",
      "Loan                              6\n",
      "Payout                            6\n",
      "Marketing                         4\n",
      "Accounting Services               4\n",
      "Misc                              4\n",
      "Event                             2\n",
      "Logistical Fees                   1\n",
      "Fine                              1\n",
      "Interest Payment                  1\n",
      "Name: Category, dtype: int64\n"
     ]
    }
   ],
   "source": [
    "category_transaction_counts_rub = df_fin_rub['Category'].value_counts()\n",
    "print(category_transaction_counts_rub)"
   ]
  },
  {
   "cell_type": "code",
   "execution_count": 656,
   "metadata": {},
   "outputs": [
    {
     "name": "stdout",
     "output_type": "stream",
     "text": [
      "Equipment    62\n",
      "Payout        2\n",
      "Name: Category, dtype: int64\n"
     ]
    }
   ],
   "source": [
    "category_transaction_counts_usd = df_fin_usd['Category'].value_counts()\n",
    "print(category_transaction_counts_usd)"
   ]
  },
  {
   "cell_type": "markdown",
   "metadata": {},
   "source": [
    "Calculate the number of transactions for each category of transaction:"
   ]
  },
  {
   "cell_type": "code",
   "execution_count": 657,
   "metadata": {},
   "outputs": [
    {
     "name": "stdout",
     "output_type": "stream",
     "text": [
      "Category                      Classification\n",
      "Accounting Services           Debit               4\n",
      "Digital Services              Debit              19\n",
      "Equipment                     Credit            330\n",
      "                              Debit             229\n",
      "Event                         Credit              2\n",
      "Field                         Credit            292\n",
      "                              Debit             246\n",
      "Fine                          Credit              1\n",
      "Interest Payment              Credit              1\n",
      "Internal Transfer             Credit              5\n",
      "                              Debit               5\n",
      "International Membership Fee  Debit               7\n",
      "Legal Services                Debit               9\n",
      "Loan                          Credit              3\n",
      "                              Debit               3\n",
      "Logistical Debits             Debit              30\n",
      "Logistical Fees               Debit               1\n",
      "Marketing                     Debit               4\n",
      "Membership Fee                Credit             97\n",
      "Misc                          Debit               4\n",
      "Payout                        Debit               6\n",
      "Name: Operation, dtype: int64\n"
     ]
    }
   ],
   "source": [
    "category_classification_counts_rub = df_fin_rub.groupby(['Category', 'Classification'])['Operation'].count()\n",
    "print(category_classification_counts_rub)"
   ]
  },
  {
   "cell_type": "code",
   "execution_count": 658,
   "metadata": {},
   "outputs": [
    {
     "name": "stdout",
     "output_type": "stream",
     "text": [
      "Category   Classification\n",
      "Equipment  Credit USD        30\n",
      "           Debit USD         32\n",
      "Payout     Debit USD          2\n",
      "Name: Operation, dtype: int64\n"
     ]
    }
   ],
   "source": [
    "category_classification_counts_usd = df_fin_usd.groupby(['Category', 'Classification'])['Operation'].count()\n",
    "print(category_classification_counts_usd)"
   ]
  },
  {
   "cell_type": "markdown",
   "metadata": {},
   "source": [
    "financial exploratory analysis by category"
   ]
  },
  {
   "cell_type": "code",
   "execution_count": 659,
   "metadata": {},
   "outputs": [
    {
     "name": "stdout",
     "output_type": "stream",
     "text": [
      "                        Category  Total Sum  Number of Transactions\n",
      "0            Accounting Services     -12430                       4\n",
      "1               Digital Services     -33936                      19\n",
      "2                      Equipment     126939                     559\n",
      "3                          Event       5800                       2\n",
      "4                          Field      36489                     538\n",
      "5                           Fine       1000                       1\n",
      "6               Interest Payment       1290                       1\n",
      "7              Internal Transfer          0                      10\n",
      "8   International Membership Fee     -90659                       7\n",
      "9                 Legal Services     -40850                       9\n",
      "10                          Loan        650                       6\n",
      "11             Logistical Debits     -26151                      30\n",
      "12               Logistical Fees      -5000                       1\n",
      "13                     Marketing      -4900                       4\n",
      "14                Membership Fee     147400                      97\n",
      "15                          Misc      -7742                       4\n",
      "16                        Payout     -97900                       6\n"
     ]
    }
   ],
   "source": [
    "category_summary_rub = df_fin_rub.groupby('Category').agg({'Sum': ['sum', 'count']})\n",
    "category_summary_rub.columns = ['Total Sum', 'Number of Transactions']\n",
    "category_summary_rub = category_summary_rub.reset_index()\n",
    "\n",
    "print(category_summary_rub)"
   ]
  },
  {
   "cell_type": "code",
   "execution_count": 660,
   "metadata": {},
   "outputs": [
    {
     "name": "stdout",
     "output_type": "stream",
     "text": [
      "    Category  Total Sum  Number of Transactions\n",
      "0  Equipment       1046                      62\n",
      "1     Payout      -1046                       2\n"
     ]
    }
   ],
   "source": [
    "category_summary_usd = df_fin_usd.groupby('Category').agg({'Sum': ['sum', 'count']})\n",
    "category_summary_usd.columns = ['Total Sum', 'Number of Transactions']\n",
    "category_summary_usd = category_summary_usd.reset_index()\n",
    "\n",
    "print(category_summary_usd)"
   ]
  },
  {
   "cell_type": "code",
   "execution_count": null,
   "metadata": {},
   "outputs": [],
   "source": []
  },
  {
   "cell_type": "markdown",
   "metadata": {},
   "source": [
    "group by operation"
   ]
  },
  {
   "cell_type": "code",
   "execution_count": 661,
   "metadata": {},
   "outputs": [
    {
     "name": "stdout",
     "output_type": "stream",
     "text": [
      "             Operation  Total Sum  Number of Transactions  \\\n",
      "0        Ball Purchase      -4800                      32   \n",
      "1       Ball Purchases      -2700                       1   \n",
      "2            Ball Sale      20450                      96   \n",
      "3               Credit       1290                       1   \n",
      "4      Elbows Purchase     -42708                      23   \n",
      "5          Elbows Sale      49350                      27   \n",
      "6   Equipment Purchase     -68002                      26   \n",
      "7       Equipment Sale      35180                      25   \n",
      "8           Field Fees    1430805                     288   \n",
      "9         Field Rental   -1405060                     244   \n",
      "10     Gloves Purchase     -38900                      26   \n",
      "11         Gloves Sale      54650                      24   \n",
      "12       Head Purchase     -36488                      17   \n",
      "13           Head Sale      61600                      21   \n",
      "14     Helmet Purchase     -47296                      23   \n",
      "15         Helmet Sale      75700                      22   \n",
      "16     Lacrosse Clinic       5800                       2   \n",
      "17                Loan        250                       2   \n",
      "18       Loan Issuance     -10000                       2   \n",
      "19      Loan Repayment      10400                       2   \n",
      "20  Materials Purchase      -2400                       2   \n",
      "21      Membership Fee     150944                      98   \n",
      "22  Membership Fee EFL     -43442                       4   \n",
      "23  Membership Fee FIL     -47217                       3   \n",
      "24        Order Refund      14577                       2   \n",
      "25             Payment    -128859                      70   \n",
      "26              Payout     -97900                       6   \n",
      "27         Player Fine       1000                       1   \n",
      "28       Reimbursement      12950                       3   \n",
      "29     Shafts Purchase     -49400                      19   \n",
      "30         Shafts Sale      29440                      12   \n",
      "31      Shoulders Sale       1000                       1   \n",
      "32          Stick Sale     141050                      64   \n",
      "33     Sticks Purchase     -80196                      52   \n",
      "34    Strings Purchase      -7239                       3   \n",
      "35        Strings Sale      16000                      26   \n",
      "36        T-Shirt Sale      38471                      10   \n",
      "37   T-Shirts Purchase     -38300                       8   \n",
      "38   Transfer to Artur          0                      10   \n",
      "\n",
      "    Profit/Loss per Transaction  \n",
      "0                   -150.000000  \n",
      "1                  -2700.000000  \n",
      "2                    213.020833  \n",
      "3                   1290.000000  \n",
      "4                  -1856.869565  \n",
      "5                   1827.777778  \n",
      "6                  -2615.461538  \n",
      "7                   1407.200000  \n",
      "8                   4968.072917  \n",
      "9                  -5758.442623  \n",
      "10                 -1496.153846  \n",
      "11                  2277.083333  \n",
      "12                 -2146.352941  \n",
      "13                  2933.333333  \n",
      "14                 -2056.347826  \n",
      "15                  3440.909091  \n",
      "16                  2900.000000  \n",
      "17                   125.000000  \n",
      "18                 -5000.000000  \n",
      "19                  5200.000000  \n",
      "20                 -1200.000000  \n",
      "21                  1540.244898  \n",
      "22                -10860.500000  \n",
      "23                -15739.000000  \n",
      "24                  7288.500000  \n",
      "25                 -1840.842857  \n",
      "26                -16316.666667  \n",
      "27                  1000.000000  \n",
      "28                  4316.666667  \n",
      "29                 -2600.000000  \n",
      "30                  2453.333333  \n",
      "31                  1000.000000  \n",
      "32                  2203.906250  \n",
      "33                 -1542.230769  \n",
      "34                 -2413.000000  \n",
      "35                   615.384615  \n",
      "36                  3847.100000  \n",
      "37                 -4787.500000  \n",
      "38                     0.000000  \n"
     ]
    }
   ],
   "source": [
    "operation_summary_rub = df_fin_rub.groupby('Operation').agg({'Sum': ['sum', 'count']})\n",
    "operation_summary_rub.columns = ['Total Sum', 'Number of Transactions']\n",
    "operation_summary_rub = operation_summary_rub.reset_index()\n",
    "\n",
    "# Calculate the Total Sum per Transaction\n",
    "operation_summary_rub['Profit/Loss per Transaction'] = operation_summary_rub['Total Sum'] / operation_summary_rub['Number of Transactions']\n",
    "\n",
    "print(operation_summary_rub)"
   ]
  },
  {
   "cell_type": "code",
   "execution_count": 662,
   "metadata": {},
   "outputs": [
    {
     "name": "stdout",
     "output_type": "stream",
     "text": [
      "           Operation  Total Sum  Number of Transactions  \\\n",
      "0     Ball Purchases       -181                       1   \n",
      "1    Elbows Purchase       -250                       1   \n",
      "2        Elbows Sale         80                       2   \n",
      "3     Equipment Sale          5                       1   \n",
      "4        Gloves Sale        195                       6   \n",
      "5          Head Sale        310                       7   \n",
      "6        Helmet Sale        240                       5   \n",
      "7             Payout      -1046                       2   \n",
      "8      Reimbursement        181                       1   \n",
      "9            Savings        250                       1   \n",
      "10       Shafts Sale        259                       5   \n",
      "11  Strings Purchase        -68                      30   \n",
      "12      Strings Sale         25                       2   \n",
      "\n",
      "    Profit/Loss per Transaction  \n",
      "0                   -181.000000  \n",
      "1                   -250.000000  \n",
      "2                     40.000000  \n",
      "3                      5.000000  \n",
      "4                     32.500000  \n",
      "5                     44.285714  \n",
      "6                     48.000000  \n",
      "7                   -523.000000  \n",
      "8                    181.000000  \n",
      "9                    250.000000  \n",
      "10                    51.800000  \n",
      "11                    -2.266667  \n",
      "12                    12.500000  \n"
     ]
    }
   ],
   "source": [
    "operation_summary_usd = df_fin_usd.groupby('Operation').agg({'Sum': ['sum', 'count']})\n",
    "operation_summary_usd.columns = ['Total Sum', 'Number of Transactions']\n",
    "operation_summary_usd = operation_summary_usd.reset_index()\n",
    "\n",
    "# Calculate the Total Sum per Transaction\n",
    "operation_summary_usd['Profit/Loss per Transaction'] = operation_summary_usd['Total Sum'] / operation_summary_usd['Number of Transactions']\n",
    "\n",
    "print(operation_summary_usd)"
   ]
  },
  {
   "cell_type": "markdown",
   "metadata": {},
   "source": [
    "###############sum totals for each category, separate usd and rub################"
   ]
  },
  {
   "cell_type": "code",
   "execution_count": 663,
   "metadata": {},
   "outputs": [],
   "source": [
    "# Create variables for each pair/group of usd operations\n",
    "ball_total_usd = df_fin_usd.loc[df_fin_usd['Operation'].isin(['Ball Purchase', 'Ball Sale', 'Ball Purchases']), 'Sum'].sum()\n",
    "elbows_total_usd = df_fin_usd.loc[df_fin_usd['Operation'].isin(['Elbows Purchase', 'Elbows Sale']), 'Sum'].sum()\n",
    "equipment_total_usd = df_fin_usd.loc[df_fin_usd['Operation'].isin(['Equipment Purchase', 'Equipment Sale']), 'Sum'].sum()\n",
    "field_total_usd = df_fin_usd.loc[df_fin_usd['Operation'].isin(['Field Fees', 'Field Rental']), 'Sum'].sum()\n",
    "gloves_total_usd = df_fin_usd.loc[df_fin_usd['Operation'].isin(['Gloves Purchase', 'Gloves Sale']), 'Sum'].sum()\n",
    "head_total_usd = df_fin_usd.loc[df_fin_usd['Operation'].isin(['Head Purchase', 'Head Sale']), 'Sum'].sum()\n",
    "helmet_total_usd = df_fin_usd.loc[df_fin_usd['Operation'].isin(['Helmet Purchase', 'Helmet Sale']), 'Sum'].sum()\n",
    "loan_total_usd = df_fin_usd.loc[df_fin_usd['Operation'].isin(['Loan Issuance', 'Loan Repayment', 'Loan']), 'Sum'].sum()\n",
    "membership_total_usd = df_fin_usd.loc[df_fin_usd['Operation'].isin(['Membership Fee', 'Membership Fee EFL', 'Membership Fee FIL']), 'Sum'].sum()\n",
    "shafts_total_usd = df_fin_usd.loc[df_fin_usd['Operation'].isin(['Shafts Purchase', 'Shafts Sale']), 'Sum'].sum()\n",
    "stick_total_usd = df_fin_usd.loc[df_fin_usd['Operation'].isin(['Stick Sale', 'Sticks Purchase']), 'Sum'].sum()\n",
    "strings_total_usd = df_fin_usd.loc[df_fin_usd['Operation'].isin(['Strings Purchase', 'Strings Sale']), 'Sum'].sum()\n",
    "t_shirt_total_usd = df_fin_usd.loc[df_fin_usd['Operation'].isin(['T-Shirt Sale', 'T-Shirts Purchase']), 'Sum'].sum()\n",
    "\n"
   ]
  },
  {
   "cell_type": "code",
   "execution_count": 664,
   "metadata": {},
   "outputs": [],
   "source": [
    "# Create variables for each pair/group of rub operations\n",
    "ball_total_rub = df_fin_rub.loc[df_fin_rub['Operation'].isin(['Ball Purchase', 'Ball Sale', 'Ball Purchases']), 'Sum'].sum()\n",
    "elbows_total_rub = df_fin_rub.loc[df_fin_rub['Operation'].isin(['Elbows Purchase', 'Elbows Sale']), 'Sum'].sum()\n",
    "equipment_total_rub = df_fin_rub.loc[df_fin_rub['Operation'].isin(['Equipment Purchase', 'Equipment Sale']), 'Sum'].sum()\n",
    "field_total_rub = df_fin_rub.loc[df_fin_rub['Operation'].isin(['Field Fees', 'Field Rental']), 'Sum'].sum()\n",
    "gloves_total_rub = df_fin_rub.loc[df_fin_rub['Operation'].isin(['Gloves Purchase', 'Gloves Sale']), 'Sum'].sum()\n",
    "head_total_rub = df_fin_rub.loc[df_fin_rub['Operation'].isin(['Head Purchase', 'Head Sale']), 'Sum'].sum()\n",
    "helmet_total_rub = df_fin_rub.loc[df_fin_rub['Operation'].isin(['Helmet Purchase', 'Helmet Sale']), 'Sum'].sum()\n",
    "loan_total_rub = df_fin_rub.loc[df_fin_rub['Operation'].isin(['Loan Issuance', 'Loan Repayment', 'Loan']), 'Sum'].sum()\n",
    "membership_total_rub = df_fin_rub.loc[df_fin_rub['Operation'].isin(['Membership Fee', 'Membership Fee EFL', 'Membership Fee FIL']), 'Sum'].sum()\n",
    "shafts_total_rub = df_fin_rub.loc[df_fin_rub['Operation'].isin(['Shafts Purchase', 'Shafts Sale']), 'Sum'].sum()\n",
    "stick_total_rub = df_fin_rub.loc[df_fin_rub['Operation'].isin(['Stick Sale', 'Sticks Purchase']), 'Sum'].sum()\n",
    "strings_total_rub = df_fin_rub.loc[df_fin_rub['Operation'].isin(['Strings Purchase', 'Strings Sale']), 'Sum'].sum()\n",
    "t_shirt_total_rub = df_fin_rub.loc[df_fin_rub['Operation'].isin(['T-Shirt Sale', 'T-Shirts Purchase']), 'Sum'].sum()"
   ]
  },
  {
   "cell_type": "code",
   "execution_count": 665,
   "metadata": {},
   "outputs": [],
   "source": [
    "# Create variables for usd operations without partners\n",
    "bank_interest_usd = df_fin_usd.loc[df_fin_usd['Operation'] == 'Credit', 'Sum'].sum()\n",
    "materials_purchase_usd = df_fin_usd.loc[df_fin_usd['Operation'] == 'Materials Purchase', 'Sum'].sum()\n",
    "lacrosse_clinic_usd = df_fin_usd.loc[df_fin_usd['Operation'] == 'Lacrosse Clinic', 'Sum'].sum()\n",
    "\n"
   ]
  },
  {
   "cell_type": "code",
   "execution_count": 666,
   "metadata": {},
   "outputs": [],
   "source": [
    "# Create variables for rub operations without partners\n",
    "bank_interest_rub = df_fin_rub.loc[df_fin_rub['Operation'] == 'Credit', 'Sum'].sum()\n",
    "materials_purchase_rub = df_fin_rub.loc[df_fin_rub['Operation'] == 'Materials Purchase', 'Sum'].sum()\n",
    "lacrosse_clinic_rub = df_fin_rub.loc[df_fin_rub['Operation'] == 'Lacrosse Clinic', 'Sum'].sum()"
   ]
  },
  {
   "cell_type": "code",
   "execution_count": 667,
   "metadata": {},
   "outputs": [],
   "source": [
    "# Add addditonal totals for usd\n",
    "order_refund_total_usd = df_fin_usd.loc[df_fin_usd['Operation'] == 'Order Refund', 'Sum'].sum()\n",
    "payment_total_usd = df_fin_usd.loc[df_fin_usd['Operation'] == 'Payment', 'Sum'].sum()\n",
    "payout_total_usd = df_fin_usd.loc[df_fin_usd['Operation'] == 'Payout', 'Sum'].sum()\n",
    "player_fine_total_usd = df_fin_usd.loc[df_fin_usd['Operation'] == 'Player Fine', 'Sum'].sum()\n",
    "reimbursement_total_usd = df_fin_usd.loc[df_fin_usd['Operation'] == 'Reimbursement', 'Sum'].sum()\n",
    "shoulders_sale_total_usd = df_fin_usd.loc[df_fin_usd['Operation'] == 'Shoulders Sale', 'Sum'].sum()\n",
    "transfer_to_artur_total_usd = df_fin_usd.loc[df_fin_usd['Operation'] == 'Transfer to Artur', 'Sum'].sum()"
   ]
  },
  {
   "cell_type": "code",
   "execution_count": 668,
   "metadata": {},
   "outputs": [],
   "source": [
    "# Add addditonal totals for rub\n",
    "order_refund_total_rub = df_fin_rub.loc[df_fin_rub['Operation'] == 'Order Refund', 'Sum'].sum()\n",
    "payment_total_rub = df_fin_rub.loc[df_fin_rub['Operation'] == 'Payment', 'Sum'].sum()\n",
    "payout_total_rub = df_fin_rub.loc[df_fin_rub['Operation'] == 'Payout', 'Sum'].sum()\n",
    "player_fine_total_rub = df_fin_rub.loc[df_fin_rub['Operation'] == 'Player Fine', 'Sum'].sum()\n",
    "reimbursement_total_rub = df_fin_rub.loc[df_fin_rub['Operation'] == 'Reimbursement', 'Sum'].sum()\n",
    "shoulders_sale_total_rub = df_fin_rub.loc[df_fin_rub['Operation'] == 'Shoulders Sale', 'Sum'].sum()\n",
    "transfer_to_artur_total_rub = df_fin_rub.loc[df_fin_rub['Operation'] == 'Transfer to Artur', 'Sum'].sum()"
   ]
  },
  {
   "cell_type": "markdown",
   "metadata": {},
   "source": [
    "totals:"
   ]
  },
  {
   "cell_type": "markdown",
   "metadata": {},
   "source": [
    "ball_total_usd\n",
    "elbows_total_usd\n",
    "equipment_total_usd\n",
    "field_total_usd\n",
    "gloves_total_usd\n",
    "head_total_usd\n",
    "helmet_total_usd\n",
    "loan_total_usd\n",
    "shafts_total_usd\n",
    "stick_total_usd\n",
    "strings_total_usd\n",
    "t_shirt_total_usd\n",
    "membership_total_usd\n",
    "order_refund_total_usd\n",
    "payment_total_usd\n",
    "payout_total_usd\n",
    "player_fine_total_usd\n",
    "reimbursement_total_usd\n",
    "shoulders_sale_total_usd\n",
    "transfer_to_artur_total_usd\n",
    "bank_interest_usd\n",
    "materials_purchase_usd\n",
    "lacrosse_clinic_usd"
   ]
  },
  {
   "cell_type": "code",
   "execution_count": 669,
   "metadata": {},
   "outputs": [
    {
     "name": "stdout",
     "output_type": "stream",
     "text": [
      "Ball Total USD: -181\n",
      "Elbows Total USD: -170\n",
      "Equipment Total USD: 5\n",
      "Field Total USD: 0\n",
      "Gloves Total USD: 195\n",
      "Head Total USD: 310\n",
      "Helmet Total USD: 240\n",
      "Loan Total USD: 0\n",
      "Shafts Total USD: 259\n",
      "Stick Total USD: 0\n",
      "Strings Total USD: -43\n",
      "T-Shirt Total USD: 0\n",
      "Membership Fee Total USD: 0\n",
      "Order Refund Total USD: 0\n",
      "Payment Total USD: 0\n",
      "Payout Total USD: -1046\n",
      "Player Fine Total USD: 0\n",
      "Reimbursement Total USD: 181\n",
      "Shoulders Sale Total USD: 0\n",
      "Transfer to Artur Total USD: 0\n",
      "Bank Interest USD: 0\n",
      "Materials Purchase USD: 0\n",
      "Lacrosse Clinic USD: 0\n"
     ]
    }
   ],
   "source": [
    "# Display the total sums for each usd operation\n",
    "print(\"Ball Total USD:\", ball_total_usd)\n",
    "print(\"Elbows Total USD:\", elbows_total_usd)\n",
    "print(\"Equipment Total USD:\", equipment_total_usd)\n",
    "print(\"Field Total USD:\", field_total_usd)\n",
    "print(\"Gloves Total USD:\", gloves_total_usd)\n",
    "print(\"Head Total USD:\", head_total_usd)\n",
    "print(\"Helmet Total USD:\", helmet_total_usd)\n",
    "print(\"Loan Total USD:\", loan_total_usd)\n",
    "print(\"Shafts Total USD:\", shafts_total_usd)\n",
    "print(\"Stick Total USD:\", stick_total_usd)\n",
    "print(\"Strings Total USD:\", strings_total_usd)\n",
    "print(\"T-Shirt Total USD:\", t_shirt_total_usd)\n",
    "print(\"Membership Fee Total USD:\", membership_total_usd)\n",
    "print(\"Order Refund Total USD:\", order_refund_total_usd)\n",
    "print(\"Payment Total USD:\", payment_total_usd)\n",
    "print(\"Payout Total USD:\", payout_total_usd)\n",
    "print(\"Player Fine Total USD:\", player_fine_total_usd)\n",
    "print(\"Reimbursement Total USD:\", reimbursement_total_usd)\n",
    "print(\"Shoulders Sale Total USD:\", shoulders_sale_total_usd)\n",
    "print(\"Transfer to Artur Total USD:\", transfer_to_artur_total_usd)\n",
    "print(\"Bank Interest USD:\", bank_interest_usd)\n",
    "print(\"Materials Purchase USD:\", materials_purchase_usd)\n",
    "print(\"Lacrosse Clinic USD:\", lacrosse_clinic_usd)\n"
   ]
  },
  {
   "cell_type": "code",
   "execution_count": 670,
   "metadata": {},
   "outputs": [
    {
     "name": "stdout",
     "output_type": "stream",
     "text": [
      "Ball Total RUB: 12950\n",
      "Elbows Total RUB: 6642\n",
      "Equipment Total RUB: -32822\n",
      "Field Total RUB: 25745\n",
      "Gloves Total RUB: 15750\n",
      "Head Total RUB: 25112\n",
      "Helmet Total RUB: 28404\n",
      "Loan Total RUB: 650\n",
      "Shafts Total RUB: -19960\n",
      "Stick Total RUB: 60854\n",
      "Strings Total RUB: 8761\n",
      "T-Shirt Total RUB: 171\n",
      "Membership Fee Total RUB: 60285\n",
      "Order Refund Total RUB: 14577\n",
      "Payment Total RUB: -128859\n",
      "Payout Total RUB: -97900\n",
      "Player Fine Total RUB: 1000\n",
      "Reimbursement Total RUB: 12950\n",
      "Shoulders Sale Total RUB: 1000\n",
      "Transfer to Artur Total RUB: 0\n",
      "Bank Interest RUB: 1290\n",
      "Materials Purchase RUB: -2400\n",
      "Lacrosse Clinic RUB: 5800\n"
     ]
    }
   ],
   "source": [
    "# Display the total sums for each rub operation\n",
    "print(\"Ball Total RUB:\", ball_total_rub)\n",
    "print(\"Elbows Total RUB:\", elbows_total_rub)\n",
    "print(\"Equipment Total RUB:\", equipment_total_rub)\n",
    "print(\"Field Total RUB:\", field_total_rub)\n",
    "print(\"Gloves Total RUB:\", gloves_total_rub)\n",
    "print(\"Head Total RUB:\", head_total_rub)\n",
    "print(\"Helmet Total RUB:\", helmet_total_rub)\n",
    "print(\"Loan Total RUB:\", loan_total_rub)\n",
    "print(\"Shafts Total RUB:\", shafts_total_rub)\n",
    "print(\"Stick Total RUB:\", stick_total_rub)\n",
    "print(\"Strings Total RUB:\", strings_total_rub)\n",
    "print(\"T-Shirt Total RUB:\", t_shirt_total_rub)\n",
    "print(\"Membership Fee Total RUB:\", membership_total_rub)\n",
    "print(\"Order Refund Total RUB:\", order_refund_total_rub)\n",
    "print(\"Payment Total RUB:\", payment_total_rub)\n",
    "print(\"Payout Total RUB:\", payout_total_rub)\n",
    "print(\"Player Fine Total RUB:\", player_fine_total_rub)\n",
    "print(\"Reimbursement Total RUB:\", reimbursement_total_rub)\n",
    "print(\"Shoulders Sale Total RUB:\", shoulders_sale_total_rub)\n",
    "print(\"Transfer to Artur Total RUB:\", transfer_to_artur_total_rub)\n",
    "print(\"Bank Interest RUB:\", bank_interest_rub)\n",
    "print(\"Materials Purchase RUB:\", materials_purchase_rub)\n",
    "print(\"Lacrosse Clinic RUB:\", lacrosse_clinic_rub)\n"
   ]
  },
  {
   "cell_type": "markdown",
   "metadata": {},
   "source": [
    "calculate turnover \n"
   ]
  },
  {
   "cell_type": "code",
   "execution_count": 671,
   "metadata": {},
   "outputs": [
    {
     "name": "stdout",
     "output_type": "stream",
     "text": [
      "Total Turnover (USD): 3090\n",
      "Total Turnover (RUB): 4378614\n"
     ]
    }
   ],
   "source": [
    "# Calculate the total turnover as the sum of absolute values of the \"Sum\" column\n",
    "total_turnover_usd = df_fin_usd['Sum'].abs().sum()\n",
    "total_turnover_rub = df_fin_rub['Sum'].abs().sum()\n",
    "\n",
    "# Display the total turnover\n",
    "print(\"Total Turnover (USD):\", total_turnover_usd)\n",
    "print(\"Total Turnover (RUB):\", total_turnover_rub)"
   ]
  },
  {
   "cell_type": "markdown",
   "metadata": {},
   "source": [
    "calculate revenue"
   ]
  },
  {
   "cell_type": "code",
   "execution_count": 672,
   "metadata": {},
   "outputs": [
    {
     "name": "stdout",
     "output_type": "stream",
     "text": [
      "Income USD: 1545\n",
      "Expenses USD: -499\n"
     ]
    }
   ],
   "source": [
    "# Calculate income and expenses for USD DataFrame\n",
    "income_usd = df_fin_usd[df_fin_usd['Classification'].isin(['Credit', 'Credit USD'])]['Sum'].sum()\n",
    "expenses_usd = df_fin_usd[df_fin_usd['Classification'].isin(['Debit', 'Debit USD'])]['Sum'].sum()\n",
    "\n",
    "# Exclude \"Payout Total USD\"\n",
    "expenses_usd -= payout_total_usd\n",
    "\n",
    "# Display the results\n",
    "print(\"Income USD:\", income_usd)\n",
    "print(\"Expenses USD:\", expenses_usd)\n",
    "\n"
   ]
  },
  {
   "cell_type": "code",
   "execution_count": 673,
   "metadata": {},
   "outputs": [
    {
     "name": "stdout",
     "output_type": "stream",
     "text": [
      "Income RUB: 2189307\n",
      "Expenses RUB: -2091407\n"
     ]
    }
   ],
   "source": [
    "# Calculate income and expenses for RUB DataFrame\n",
    "income_rub = df_fin_rub[df_fin_rub['Classification'].isin(['Credit', 'Credit USD'])]['Sum'].sum()\n",
    "expenses_rub = df_fin_rub[df_fin_rub['Classification'].isin(['Debit', 'Debit USD'])]['Sum'].sum()\n",
    "\n",
    "# Exclude \"Payout Total RUB\"\n",
    "expenses_rub -= payout_total_rub\n",
    "\n",
    "# Display the results\n",
    "print(\"Income RUB:\", income_rub)\n",
    "print(\"Expenses RUB:\", expenses_rub)\n"
   ]
  },
  {
   "cell_type": "markdown",
   "metadata": {},
   "source": [
    "calculate profit"
   ]
  },
  {
   "cell_type": "code",
   "execution_count": 674,
   "metadata": {},
   "outputs": [
    {
     "name": "stdout",
     "output_type": "stream",
     "text": [
      "1046\n",
      "97900\n"
     ]
    }
   ],
   "source": [
    "total_profit_rub = abs(payout_total_rub)\n",
    "total_profit_usd = abs(payout_total_usd)\n",
    "\n",
    "\n",
    "\n",
    "print(total_profit_usd)\n",
    "print(total_profit_rub)"
   ]
  },
  {
   "cell_type": "code",
   "execution_count": 675,
   "metadata": {},
   "outputs": [
    {
     "name": "stdout",
     "output_type": "stream",
     "text": [
      "Profit Margin (USD): 67.70226537216828\n",
      "Profit Margin (RUB): 4.4717346630691805\n"
     ]
    }
   ],
   "source": [
    "# Calculate profit margin (Profit as a percentage of income)\n",
    "profit_margin_usd = (abs(payout_total_usd) / income_usd) * 100\n",
    "profit_margin_rub = (abs(payout_total_rub) / income_rub) * 100\n",
    "\n",
    "\n",
    "# Display the results for USD\n",
    "print(\"Profit Margin (USD):\", profit_margin_usd)\n",
    "print(\"Profit Margin (RUB):\", profit_margin_rub)\n",
    "\n"
   ]
  },
  {
   "cell_type": "markdown",
   "metadata": {},
   "source": [
    "NEED TO IDENTIFY REVENUE FOR EACH CATEGORY AND REPLACE TOTAL_PROFIT_USD WITH EACH CATEGORY REVENUE"
   ]
  },
  {
   "cell_type": "code",
   "execution_count": 676,
   "metadata": {},
   "outputs": [
    {
     "name": "stdout",
     "output_type": "stream",
     "text": [
      "0\n",
      "20450\n"
     ]
    }
   ],
   "source": [
    "# Filter the USD data frame for the \"Ball Purchase\" and \"Ball Purchases\" operations\n",
    "ball_revenue_usd = df_fin_usd[df_fin_usd['Operation'].isin(['Ball Sale'])]\n",
    "ball_revenue_rub = df_fin_rub[df_fin_rub['Operation'].isin(['Ball Sale'])]\n",
    "\n",
    "# Calculate the sum of the \"Ball Purchase\" and \"Ball Purchases\" operations in USD\n",
    "ball_revenue_usd = ball_revenue_usd['Sum'].sum()\n",
    "ball_revenue_rub = ball_revenue_rub['Sum'].sum()\n",
    "\n",
    "print(ball_revenue_usd)\n",
    "print(ball_revenue_rub)"
   ]
  },
  {
   "cell_type": "code",
   "execution_count": 677,
   "metadata": {},
   "outputs": [
    {
     "name": "stdout",
     "output_type": "stream",
     "text": [
      "12950\n",
      "20450\n",
      "0.6332518337408313\n"
     ]
    }
   ],
   "source": [
    "test = ball_total_rub / ball_revenue_rub\n",
    "\n",
    "print(ball_total_rub)\n",
    "print(ball_revenue_rub)\n",
    "print(test)"
   ]
  },
  {
   "cell_type": "code",
   "execution_count": 678,
   "metadata": {},
   "outputs": [],
   "source": [
    "# Filter the USD data frame for the specified operations for each category\n",
    "ball_revenue_usd = df_fin_usd[df_fin_usd['Operation'].isin(['Ball Sale'])]['Sum'].sum()\n",
    "elbows_revenue_usd = df_fin_usd[df_fin_usd['Operation'].isin(['Elbows Sale'])]['Sum'].sum()\n",
    "equipment_revenue_usd = df_fin_usd[df_fin_usd['Operation'].isin(['Equipment Sale'])]['Sum'].sum()\n",
    "gloves_revenue_usd = df_fin_usd[df_fin_usd['Operation'].isin(['Gloves Sale'])]['Sum'].sum()\n",
    "head_revenue_usd = df_fin_usd[df_fin_usd['Operation'].isin(['Head Sale'])]['Sum'].sum()\n",
    "helmet_revenue_usd = df_fin_usd[df_fin_usd['Operation'].isin(['Helmet Sale'])]['Sum'].sum()\n",
    "shafts_revenue_usd = df_fin_usd[df_fin_usd['Operation'].isin(['Shafts Sale'])]['Sum'].sum()\n",
    "stick_revenue_usd = df_fin_usd[df_fin_usd['Operation'].isin(['Stick Sale'])]['Sum'].sum()\n",
    "strings_revenue_usd = df_fin_usd[df_fin_usd['Operation'].isin(['Strings Sale'])]['Sum'].sum()\n",
    "t_shirt_revenue_usd = df_fin_usd[df_fin_usd['Operation'].isin(['T-Shirt Sale'])]['Sum'].sum()\n",
    "order_refund_revenue_usd = df_fin_usd[df_fin_usd['Operation'].isin(['Order Refund'])]['Sum'].sum()\n",
    "membership_fee_revenue_usd = df_fin_usd[df_fin_usd['Operation'].isin(['Membership Fee'])]['Sum'].sum()\n",
    "player_fine_revenue_usd = df_fin_usd[df_fin_usd['Operation'].isin(['Player Fine'])]['Sum'].sum()\n",
    "reimbursement_revenue_usd = df_fin_usd[df_fin_usd['Operation'].isin(['Reimbursement'])]['Sum'].sum()\n",
    "shoulders_sale_revenue_usd = df_fin_usd[df_fin_usd['Operation'].isin(['Shoulders Sale'])]['Sum'].sum()\n",
    "loan_revenue_usd = (df_fin_usd[df_fin_usd['Operation'].isin(['Loan Repayment'])]['Sum'].sum()) + (df_fin_usd[df_fin_usd['Operation'].isin(['Loan'])]['Sum'].sum())\n",
    "bank_interest_revenue_usd = df_fin_usd[df_fin_usd['Operation'].isin(['Credit'])]['Sum'].sum()\n",
    "lacrosse_clinic_revenue_usd = df_fin_usd[df_fin_usd['Operation'].isin(['Lacrosse Clinic'])]['Sum'].sum()\n",
    "field_revenue_usd = df_fin_usd[df_fin_usd['Operation'].isin(['Field Fees'])]['Sum'].sum()\n",
    "\n",
    "\n"
   ]
  },
  {
   "cell_type": "code",
   "execution_count": 679,
   "metadata": {},
   "outputs": [
    {
     "name": "stdout",
     "output_type": "stream",
     "text": [
      "Ball Revenue (USD): 0.00\n",
      "Elbows Revenue (USD): 80.00\n",
      "Equipment Revenue (USD): 5.00\n",
      "Gloves Revenue (USD): 195.00\n",
      "Head Revenue (USD): 310.00\n",
      "Helmet Revenue (USD): 240.00\n",
      "Shafts Revenue (USD): 259.00\n",
      "Stick Revenue (USD): 0.00\n",
      "Strings Revenue (USD): 25.00\n",
      "T-Shirt Revenue (USD): 0.00\n",
      "Order Refund Revenue (USD): 0.00\n",
      "Membership Fee Revenue (USD): 0.00\n",
      "Player Fine Revenue (USD): 0.00\n",
      "Reimbursement Revenue (USD): 181.00\n",
      "Shoulders Sale Revenue (USD): 0.00\n",
      "Loan Revenue (USD): 0.00\n",
      "Bank Interest Revenue (USD): 0.00\n",
      "Lacrosse Clinic Revenue (USD): 0.00\n",
      "Field Revenue (USD): 0.00\n"
     ]
    }
   ],
   "source": [
    "# Display the revenue for each category in USD\n",
    "print(\"Ball Revenue (USD): {:.2f}\".format(ball_revenue_usd))\n",
    "print(\"Elbows Revenue (USD): {:.2f}\".format(elbows_revenue_usd))\n",
    "print(\"Equipment Revenue (USD): {:.2f}\".format(equipment_revenue_usd))\n",
    "print(\"Gloves Revenue (USD): {:.2f}\".format(gloves_revenue_usd))\n",
    "print(\"Head Revenue (USD): {:.2f}\".format(head_revenue_usd))\n",
    "print(\"Helmet Revenue (USD): {:.2f}\".format(helmet_revenue_usd))\n",
    "print(\"Shafts Revenue (USD): {:.2f}\".format(shafts_revenue_usd))\n",
    "print(\"Stick Revenue (USD): {:.2f}\".format(stick_revenue_usd))\n",
    "print(\"Strings Revenue (USD): {:.2f}\".format(strings_revenue_usd))\n",
    "print(\"T-Shirt Revenue (USD): {:.2f}\".format(t_shirt_revenue_usd))\n",
    "print(\"Order Refund Revenue (USD): {:.2f}\".format(order_refund_revenue_usd))\n",
    "print(\"Membership Fee Revenue (USD): {:.2f}\".format(membership_fee_revenue_usd))\n",
    "print(\"Player Fine Revenue (USD): {:.2f}\".format(player_fine_revenue_usd))\n",
    "print(\"Reimbursement Revenue (USD): {:.2f}\".format(reimbursement_revenue_usd))\n",
    "print(\"Shoulders Sale Revenue (USD): {:.2f}\".format(shoulders_sale_revenue_usd))\n",
    "print(\"Loan Revenue (USD): {:.2f}\".format(loan_revenue_usd))\n",
    "print(\"Bank Interest Revenue (USD): {:.2f}\".format(bank_interest_revenue_usd))\n",
    "print(\"Lacrosse Clinic Revenue (USD): {:.2f}\".format(lacrosse_clinic_revenue_usd))\n",
    "print(\"Field Revenue (USD): {:.2f}\".format(field_revenue_usd))\n"
   ]
  },
  {
   "cell_type": "code",
   "execution_count": 680,
   "metadata": {},
   "outputs": [],
   "source": [
    "# Filter the rub data frame for the specified operations for each category\n",
    "ball_revenue_rub = df_fin_rub[df_fin_rub['Operation'].isin(['Ball Sale'])]['Sum'].sum()\n",
    "elbows_revenue_rub = df_fin_rub[df_fin_rub['Operation'].isin(['Elbows Sale'])]['Sum'].sum()\n",
    "equipment_revenue_rub = df_fin_rub[df_fin_rub['Operation'].isin(['Equipment Sale'])]['Sum'].sum()\n",
    "gloves_revenue_rub = df_fin_rub[df_fin_rub['Operation'].isin(['Gloves Sale'])]['Sum'].sum()\n",
    "head_revenue_rub = df_fin_rub[df_fin_rub['Operation'].isin(['Head Sale'])]['Sum'].sum()\n",
    "helmet_revenue_rub = df_fin_rub[df_fin_rub['Operation'].isin(['Helmet Sale'])]['Sum'].sum()\n",
    "shafts_revenue_rub = df_fin_rub[df_fin_rub['Operation'].isin(['Shafts Sale'])]['Sum'].sum()\n",
    "stick_revenue_rub = df_fin_rub[df_fin_rub['Operation'].isin(['Stick Sale'])]['Sum'].sum()\n",
    "strings_revenue_rub = df_fin_rub[df_fin_rub['Operation'].isin(['Strings Sale'])]['Sum'].sum()\n",
    "t_shirt_revenue_rub = df_fin_rub[df_fin_rub['Operation'].isin(['T-Shirt Sale'])]['Sum'].sum()\n",
    "order_refund_revenue_rub = df_fin_rub[df_fin_rub['Operation'].isin(['Order Refund'])]['Sum'].sum()\n",
    "membership_fee_revenue_rub = df_fin_rub[df_fin_rub['Operation'].isin(['Membership Fee'])]['Sum'].sum()\n",
    "player_fine_revenue_rub = df_fin_rub[df_fin_rub['Operation'].isin(['Player Fine'])]['Sum'].sum()\n",
    "reimbursement_revenue_rub = df_fin_rub[df_fin_rub['Operation'].isin(['Reimbursement'])]['Sum'].sum()\n",
    "shoulders_sale_revenue_rub = df_fin_rub[df_fin_rub['Operation'].isin(['Shoulders Sale'])]['Sum'].sum()\n",
    "loan_revenue_rub = (df_fin_rub[df_fin_rub['Operation'].isin(['Loan Repayment'])]['Sum'].sum()) + (df_fin_rub[df_fin_rub['Operation'].isin(['Loan'])]['Sum'].sum())\n",
    "bank_interest_revenue_rub = df_fin_rub[df_fin_rub['Operation'].isin(['Credit'])]['Sum'].sum()\n",
    "lacrosse_clinic_revenue_rub = df_fin_rub[df_fin_rub['Operation'].isin(['Lacrosse Clinic'])]['Sum'].sum()\n",
    "field_revenue_rub = df_fin_rub[df_fin_rub['Operation'].isin(['Field Fees'])]['Sum'].sum()"
   ]
  },
  {
   "cell_type": "code",
   "execution_count": 681,
   "metadata": {},
   "outputs": [
    {
     "name": "stdout",
     "output_type": "stream",
     "text": [
      "Ball Revenue (rub): 20450.00\n",
      "Elbows Revenue (rub): 49350.00\n",
      "Equipment Revenue (rub): 35180.00\n",
      "Gloves Revenue (rub): 54650.00\n",
      "Head Revenue (rub): 61600.00\n",
      "Helmet Revenue (rub): 75700.00\n",
      "Shafts Revenue (rub): 29440.00\n",
      "Stick Revenue (rub): 141050.00\n",
      "Strings Revenue (rub): 16000.00\n",
      "T-Shirt Revenue (rub): 38471.00\n",
      "Order Refund Revenue (rub): 14577.00\n",
      "Membership Fee Revenue (rub): 150944.00\n",
      "Player Fine Revenue (rub): 1000.00\n",
      "Reimbursement Revenue (rub): 12950.00\n",
      "Shoulders Sale Revenue (rub): 1000.00\n",
      "Loan Revenue (rub): 10650.00\n",
      "Bank Interest Revenue (rub): 1290.00\n",
      "Lacrosse Clinic Revenue (rub): 5800.00\n",
      "Field Revenue (rub): 1430805.00\n"
     ]
    }
   ],
   "source": [
    "# Display the revenue for each category in rub\n",
    "print(\"Ball Revenue (rub): {:.2f}\".format(ball_revenue_rub))\n",
    "print(\"Elbows Revenue (rub): {:.2f}\".format(elbows_revenue_rub))\n",
    "print(\"Equipment Revenue (rub): {:.2f}\".format(equipment_revenue_rub))\n",
    "print(\"Gloves Revenue (rub): {:.2f}\".format(gloves_revenue_rub))\n",
    "print(\"Head Revenue (rub): {:.2f}\".format(head_revenue_rub))\n",
    "print(\"Helmet Revenue (rub): {:.2f}\".format(helmet_revenue_rub))\n",
    "print(\"Shafts Revenue (rub): {:.2f}\".format(shafts_revenue_rub))\n",
    "print(\"Stick Revenue (rub): {:.2f}\".format(stick_revenue_rub))\n",
    "print(\"Strings Revenue (rub): {:.2f}\".format(strings_revenue_rub))\n",
    "print(\"T-Shirt Revenue (rub): {:.2f}\".format(t_shirt_revenue_rub))\n",
    "print(\"Order Refund Revenue (rub): {:.2f}\".format(order_refund_revenue_rub))\n",
    "print(\"Membership Fee Revenue (rub): {:.2f}\".format(membership_fee_revenue_rub))\n",
    "print(\"Player Fine Revenue (rub): {:.2f}\".format(player_fine_revenue_rub))\n",
    "print(\"Reimbursement Revenue (rub): {:.2f}\".format(reimbursement_revenue_rub))\n",
    "print(\"Shoulders Sale Revenue (rub): {:.2f}\".format(shoulders_sale_revenue_rub))\n",
    "print(\"Loan Revenue (rub): {:.2f}\".format(loan_revenue_rub))\n",
    "print(\"Bank Interest Revenue (rub): {:.2f}\".format(bank_interest_revenue_rub))\n",
    "print(\"Lacrosse Clinic Revenue (rub): {:.2f}\".format(lacrosse_clinic_revenue_rub))\n",
    "print(\"Field Revenue (rub): {:.2f}\".format(field_revenue_rub))\n"
   ]
  },
  {
   "cell_type": "code",
   "execution_count": null,
   "metadata": {},
   "outputs": [],
   "source": []
  },
  {
   "cell_type": "code",
   "execution_count": 682,
   "metadata": {},
   "outputs": [
    {
     "name": "stderr",
     "output_type": "stream",
     "text": [
      "C:\\Users\\mader\\AppData\\Local\\Temp\\ipykernel_57240\\2976571891.py:1: RuntimeWarning: divide by zero encountered in longlong_scalars\n",
      "  ball_profit_percent_usd = ball_total_usd / ball_revenue_usd\n",
      "C:\\Users\\mader\\AppData\\Local\\Temp\\ipykernel_57240\\2976571891.py:4: RuntimeWarning: invalid value encountered in longlong_scalars\n",
      "  field_profit_percent_usd = field_total_usd / field_revenue_usd\n",
      "C:\\Users\\mader\\AppData\\Local\\Temp\\ipykernel_57240\\2976571891.py:8: RuntimeWarning: invalid value encountered in longlong_scalars\n",
      "  loan_profit_percent_usd = loan_total_usd / loan_revenue_usd\n",
      "C:\\Users\\mader\\AppData\\Local\\Temp\\ipykernel_57240\\2976571891.py:10: RuntimeWarning: invalid value encountered in longlong_scalars\n",
      "  stick_profit_percent_usd = stick_total_usd / stick_revenue_usd\n",
      "C:\\Users\\mader\\AppData\\Local\\Temp\\ipykernel_57240\\2976571891.py:12: RuntimeWarning: invalid value encountered in longlong_scalars\n",
      "  t_shirt_profit_percent_usd = t_shirt_total_usd / t_shirt_revenue_usd\n",
      "C:\\Users\\mader\\AppData\\Local\\Temp\\ipykernel_57240\\2976571891.py:13: RuntimeWarning: invalid value encountered in longlong_scalars\n",
      "  membership_profit_percent_usd = membership_total_usd / membership_fee_revenue_usd\n",
      "C:\\Users\\mader\\AppData\\Local\\Temp\\ipykernel_57240\\2976571891.py:14: RuntimeWarning: invalid value encountered in longlong_scalars\n",
      "  order_refund_profit_percent_usd = order_refund_total_usd / order_refund_revenue_usd\n",
      "C:\\Users\\mader\\AppData\\Local\\Temp\\ipykernel_57240\\2976571891.py:15: RuntimeWarning: invalid value encountered in longlong_scalars\n",
      "  player_fine_profit_percent_usd = player_fine_total_usd / player_fine_revenue_usd\n",
      "C:\\Users\\mader\\AppData\\Local\\Temp\\ipykernel_57240\\2976571891.py:17: RuntimeWarning: invalid value encountered in longlong_scalars\n",
      "  shoulders_sale_profit_percent_usd = shoulders_sale_total_usd / shoulders_sale_revenue_usd\n",
      "C:\\Users\\mader\\AppData\\Local\\Temp\\ipykernel_57240\\2976571891.py:18: RuntimeWarning: invalid value encountered in longlong_scalars\n",
      "  bank_interest_profit_percent_usd = bank_interest_usd / bank_interest_revenue_usd\n",
      "C:\\Users\\mader\\AppData\\Local\\Temp\\ipykernel_57240\\2976571891.py:19: RuntimeWarning: invalid value encountered in longlong_scalars\n",
      "  lacrosse_clinic_profit_percent_usd = lacrosse_clinic_usd / lacrosse_clinic_revenue_usd\n"
     ]
    }
   ],
   "source": [
    "ball_profit_percent_usd = ball_total_usd / ball_revenue_usd\n",
    "elbows_profit_percent_usd = elbows_total_usd / elbows_revenue_usd\n",
    "equipment_profit_percent_usd = equipment_total_usd / equipment_revenue_usd\n",
    "field_profit_percent_usd = field_total_usd / field_revenue_usd\n",
    "gloves_profit_percent_usd = gloves_total_usd / gloves_revenue_usd\n",
    "head_profit_percent_usd = head_total_usd / head_revenue_usd\n",
    "helmet_profit_percent_usd = helmet_total_usd / helmet_revenue_usd\n",
    "loan_profit_percent_usd = loan_total_usd / loan_revenue_usd\n",
    "shafts_profit_percent_usd = shafts_total_usd / shafts_revenue_usd\n",
    "stick_profit_percent_usd = stick_total_usd / stick_revenue_usd\n",
    "strings_profit_percent_usd = strings_total_usd / strings_revenue_usd\n",
    "t_shirt_profit_percent_usd = t_shirt_total_usd / t_shirt_revenue_usd\n",
    "membership_profit_percent_usd = membership_total_usd / membership_fee_revenue_usd\n",
    "order_refund_profit_percent_usd = order_refund_total_usd / order_refund_revenue_usd\n",
    "player_fine_profit_percent_usd = player_fine_total_usd / player_fine_revenue_usd\n",
    "reimbursement_profit_percent_usd = reimbursement_total_usd / reimbursement_revenue_usd\n",
    "shoulders_sale_profit_percent_usd = shoulders_sale_total_usd / shoulders_sale_revenue_usd\n",
    "bank_interest_profit_percent_usd = bank_interest_usd / bank_interest_revenue_usd\n",
    "lacrosse_clinic_profit_percent_usd = lacrosse_clinic_usd / lacrosse_clinic_revenue_usd\n",
    "\n"
   ]
  },
  {
   "cell_type": "code",
   "execution_count": null,
   "metadata": {},
   "outputs": [],
   "source": []
  },
  {
   "cell_type": "code",
   "execution_count": 683,
   "metadata": {},
   "outputs": [
    {
     "name": "stdout",
     "output_type": "stream",
     "text": [
      "Ball Profit Percent (USD): -inf%\n",
      "Elbows Profit Percent (USD): -212.50%\n",
      "Equipment Profit Percent (USD): 100.00%\n",
      "Field Profit Percent (USD): nan%\n",
      "Gloves Profit Percent (USD): 100.00%\n",
      "Head Profit Percent (USD): 100.00%\n",
      "Helmet Profit Percent (USD): 100.00%\n",
      "Loan Profit Percent (USD): nan%\n",
      "Shafts Profit Percent (USD): 100.00%\n",
      "Stick Profit Percent (USD): nan%\n",
      "Strings Profit Percent (USD): -172.00%\n",
      "T-Shirt Profit Percent (USD): nan%\n",
      "Membership Fee Profit Percent (USD): nan%\n",
      "Order Refund Profit Percent (USD): nan%\n",
      "Player Fine Profit Percent (USD): nan%\n",
      "Reimbursement Profit Percent (USD): 100.00%\n",
      "Shoulders Sale Profit Percent (USD): nan%\n",
      "Bank Interest Profit Percent (USD): nan%\n",
      "Lacrosse Clinic Profit Percent (USD): nan%\n"
     ]
    }
   ],
   "source": [
    "print(\"Ball Profit Percent (USD): {:.2f}%\".format(ball_profit_percent_usd * 100))\n",
    "print(\"Elbows Profit Percent (USD): {:.2f}%\".format(elbows_profit_percent_usd * 100))\n",
    "print(\"Equipment Profit Percent (USD): {:.2f}%\".format(equipment_profit_percent_usd * 100))\n",
    "print(\"Field Profit Percent (USD): {:.2f}%\".format(field_profit_percent_usd * 100))\n",
    "print(\"Gloves Profit Percent (USD): {:.2f}%\".format(gloves_profit_percent_usd * 100))\n",
    "print(\"Head Profit Percent (USD): {:.2f}%\".format(head_profit_percent_usd * 100))\n",
    "print(\"Helmet Profit Percent (USD): {:.2f}%\".format(helmet_profit_percent_usd * 100))\n",
    "print(\"Loan Profit Percent (USD): {:.2f}%\".format(loan_profit_percent_usd * 100))\n",
    "print(\"Shafts Profit Percent (USD): {:.2f}%\".format(shafts_profit_percent_usd * 100))\n",
    "print(\"Stick Profit Percent (USD): {:.2f}%\".format(stick_profit_percent_usd * 100))\n",
    "print(\"Strings Profit Percent (USD): {:.2f}%\".format(strings_profit_percent_usd * 100))\n",
    "print(\"T-Shirt Profit Percent (USD): {:.2f}%\".format(t_shirt_profit_percent_usd * 100))\n",
    "print(\"Membership Fee Profit Percent (USD): {:.2f}%\".format(membership_profit_percent_usd * 100))\n",
    "print(\"Order Refund Profit Percent (USD): {:.2f}%\".format(order_refund_profit_percent_usd * 100))\n",
    "print(\"Player Fine Profit Percent (USD): {:.2f}%\".format(player_fine_profit_percent_usd * 100))\n",
    "print(\"Reimbursement Profit Percent (USD): {:.2f}%\".format(reimbursement_profit_percent_usd * 100))\n",
    "print(\"Shoulders Sale Profit Percent (USD): {:.2f}%\".format(shoulders_sale_profit_percent_usd * 100))\n",
    "print(\"Bank Interest Profit Percent (USD): {:.2f}%\".format(bank_interest_profit_percent_usd * 100))\n",
    "print(\"Lacrosse Clinic Profit Percent (USD): {:.2f}%\".format(lacrosse_clinic_profit_percent_usd * 100))\n"
   ]
  },
  {
   "cell_type": "code",
   "execution_count": 684,
   "metadata": {},
   "outputs": [],
   "source": [
    "ball_profit_percent_rub = ball_total_rub / ball_revenue_rub\n",
    "elbows_profit_percent_rub = elbows_total_rub / elbows_revenue_rub\n",
    "equipment_profit_percent_rub = equipment_total_rub / equipment_revenue_rub\n",
    "field_profit_percent_rub = field_total_rub / field_revenue_rub\n",
    "gloves_profit_percent_rub = gloves_total_rub / gloves_revenue_rub\n",
    "head_profit_percent_rub = head_total_rub / head_revenue_rub\n",
    "helmet_profit_percent_rub = helmet_total_rub / helmet_revenue_rub\n",
    "loan_profit_percent_rub = loan_total_rub / loan_revenue_rub\n",
    "shafts_profit_percent_rub = shafts_total_rub / shafts_revenue_rub\n",
    "stick_profit_percent_rub = stick_total_rub / stick_revenue_rub\n",
    "strings_profit_percent_rub = strings_total_rub / strings_revenue_rub\n",
    "t_shirt_profit_percent_rub = t_shirt_total_rub / t_shirt_revenue_rub\n",
    "membership_profit_percent_rub = membership_total_rub / membership_fee_revenue_rub\n",
    "order_refund_profit_percent_rub = order_refund_total_rub / order_refund_revenue_rub\n",
    "player_fine_profit_percent_rub = player_fine_total_rub / player_fine_revenue_rub\n",
    "reimbursement_profit_percent_rub = reimbursement_total_rub / reimbursement_revenue_rub\n",
    "shoulders_sale_profit_percent_rub = shoulders_sale_total_rub / shoulders_sale_revenue_rub\n",
    "bank_interest_profit_percent_rub = bank_interest_rub / bank_interest_revenue_rub\n",
    "lacrosse_clinic_profit_percent_rub = lacrosse_clinic_rub / lacrosse_clinic_revenue_rub"
   ]
  },
  {
   "cell_type": "code",
   "execution_count": 685,
   "metadata": {},
   "outputs": [
    {
     "name": "stdout",
     "output_type": "stream",
     "text": [
      "Ball Profit Percent (rub): 63.33%\n",
      "Elbows Profit Percent (rub): 13.46%\n",
      "Equipment Profit Percent (rub): -93.30%\n",
      "Field Profit Percent (rub): 1.80%\n",
      "Gloves Profit Percent (rub): 28.82%\n",
      "Head Profit Percent (rub): 40.77%\n",
      "Helmet Profit Percent (rub): 37.52%\n",
      "Loan Profit Percent (rub): 6.10%\n",
      "Shafts Profit Percent (rub): -67.80%\n",
      "Stick Profit Percent (rub): 43.14%\n",
      "Strings Profit Percent (rub): 54.76%\n",
      "T-Shirt Profit Percent (rub): 0.44%\n",
      "Membership Fee Profit Percent (rub): 39.94%\n",
      "Order Refund Profit Percent (rub): 100.00%\n",
      "Player Fine Profit Percent (rub): 100.00%\n",
      "Reimbursement Profit Percent (rub): 100.00%\n",
      "Shoulders Sale Profit Percent (rub): 100.00%\n",
      "Bank Interest Profit Percent (rub): 100.00%\n",
      "Lacrosse Clinic Profit Percent (rub): 100.00%\n"
     ]
    }
   ],
   "source": [
    "print(\"Ball Profit Percent (rub): {:.2f}%\".format(ball_profit_percent_rub * 100))\n",
    "print(\"Elbows Profit Percent (rub): {:.2f}%\".format(elbows_profit_percent_rub * 100))\n",
    "print(\"Equipment Profit Percent (rub): {:.2f}%\".format(equipment_profit_percent_rub * 100))\n",
    "print(\"Field Profit Percent (rub): {:.2f}%\".format(field_profit_percent_rub * 100))\n",
    "print(\"Gloves Profit Percent (rub): {:.2f}%\".format(gloves_profit_percent_rub * 100))\n",
    "print(\"Head Profit Percent (rub): {:.2f}%\".format(head_profit_percent_rub * 100))\n",
    "print(\"Helmet Profit Percent (rub): {:.2f}%\".format(helmet_profit_percent_rub * 100))\n",
    "print(\"Loan Profit Percent (rub): {:.2f}%\".format(loan_profit_percent_rub * 100))\n",
    "print(\"Shafts Profit Percent (rub): {:.2f}%\".format(shafts_profit_percent_rub * 100))\n",
    "print(\"Stick Profit Percent (rub): {:.2f}%\".format(stick_profit_percent_rub * 100))\n",
    "print(\"Strings Profit Percent (rub): {:.2f}%\".format(strings_profit_percent_rub * 100))\n",
    "print(\"T-Shirt Profit Percent (rub): {:.2f}%\".format(t_shirt_profit_percent_rub * 100))\n",
    "print(\"Membership Fee Profit Percent (rub): {:.2f}%\".format(membership_profit_percent_rub * 100))\n",
    "print(\"Order Refund Profit Percent (rub): {:.2f}%\".format(order_refund_profit_percent_rub * 100))\n",
    "print(\"Player Fine Profit Percent (rub): {:.2f}%\".format(player_fine_profit_percent_rub * 100))\n",
    "print(\"Reimbursement Profit Percent (rub): {:.2f}%\".format(reimbursement_profit_percent_rub * 100))\n",
    "print(\"Shoulders Sale Profit Percent (rub): {:.2f}%\".format(shoulders_sale_profit_percent_rub * 100))\n",
    "print(\"Bank Interest Profit Percent (rub): {:.2f}%\".format(bank_interest_profit_percent_rub * 100))\n",
    "print(\"Lacrosse Clinic Profit Percent (rub): {:.2f}%\".format(lacrosse_clinic_profit_percent_rub * 100))"
   ]
  },
  {
   "cell_type": "code",
   "execution_count": null,
   "metadata": {},
   "outputs": [],
   "source": []
  },
  {
   "cell_type": "markdown",
   "metadata": {},
   "source": [
    "calculate margin for each operation type \n",
    "\n",
    "(elbow revenue/gross overall revenue x 100)\n",
    "\n",
    "percentage of total costs and total revenue\n",
    "(total cost/total elbow costs)\n",
    "\n"
   ]
  },
  {
   "cell_type": "code",
   "execution_count": null,
   "metadata": {},
   "outputs": [],
   "source": []
  },
  {
   "cell_type": "code",
   "execution_count": null,
   "metadata": {},
   "outputs": [],
   "source": []
  },
  {
   "cell_type": "code",
   "execution_count": null,
   "metadata": {},
   "outputs": [],
   "source": []
  },
  {
   "cell_type": "code",
   "execution_count": null,
   "metadata": {},
   "outputs": [],
   "source": []
  },
  {
   "cell_type": "code",
   "execution_count": null,
   "metadata": {},
   "outputs": [],
   "source": []
  },
  {
   "cell_type": "code",
   "execution_count": null,
   "metadata": {},
   "outputs": [],
   "source": []
  },
  {
   "cell_type": "markdown",
   "metadata": {},
   "source": [
    "attendance exploratory analysis\n"
   ]
  }
 ],
 "metadata": {
  "kernelspec": {
   "display_name": "base",
   "language": "python",
   "name": "python3"
  },
  "language_info": {
   "codemirror_mode": {
    "name": "ipython",
    "version": 3
   },
   "file_extension": ".py",
   "mimetype": "text/x-python",
   "name": "python",
   "nbconvert_exporter": "python",
   "pygments_lexer": "ipython3",
   "version": "3.9.13"
  }
 },
 "nbformat": 4,
 "nbformat_minor": 2
}

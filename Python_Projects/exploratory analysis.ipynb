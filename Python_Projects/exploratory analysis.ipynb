{
 "cells": [
  {
   "cell_type": "code",
   "execution_count": 183,
   "metadata": {},
   "outputs": [],
   "source": [
    "import streamlit as st\n",
    "import pandas as pd\n",
    "import matplotlib.pyplot as plt\n",
    "import numpy as np\n",
    "import seaborn as sns\n",
    "import plotly.express as px"
   ]
  },
  {
   "cell_type": "code",
   "execution_count": 184,
   "metadata": {},
   "outputs": [],
   "source": [
    "df_fin = pd.read_csv(\"D:\\Python\\WebApp\\MLC_Finances_Eng_Final_UTF8.csv\")\n",
    "df_att = pd.read_csv(\"D:\\Python\\WebApp\\MLC_Attendance_Eng_FInal_UTF8.csv\")\n",
    "\n",
    "### use condensed to get summary statistics, split using the credit/debit column\n",
    "df_fin2 = pd.read_csv(\"D:\\Python\\WebApp\\MLC_Finances_Eng_Condensed_UTF8_V2.csv\")"
   ]
  },
  {
   "cell_type": "code",
   "execution_count": 185,
   "metadata": {},
   "outputs": [
    {
     "name": "stdout",
     "output_type": "stream",
     "text": [
      "14982\n",
      "16668\n"
     ]
    }
   ],
   "source": [
    "print(df_fin.size)\n",
    "print(df_att.size)\n"
   ]
  },
  {
   "cell_type": "code",
   "execution_count": 186,
   "metadata": {},
   "outputs": [
    {
     "data": {
      "text/html": [
       "<div>\n",
       "<style scoped>\n",
       "    .dataframe tbody tr th:only-of-type {\n",
       "        vertical-align: middle;\n",
       "    }\n",
       "\n",
       "    .dataframe tbody tr th {\n",
       "        vertical-align: top;\n",
       "    }\n",
       "\n",
       "    .dataframe thead th {\n",
       "        text-align: right;\n",
       "    }\n",
       "</style>\n",
       "<table border=\"1\" class=\"dataframe\">\n",
       "  <thead>\n",
       "    <tr style=\"text-align: right;\">\n",
       "      <th></th>\n",
       "      <th>Sum</th>\n",
       "      <th>Arkhipov</th>\n",
       "      <th>Arkhipov USD</th>\n",
       "      <th>Ventsel</th>\n",
       "    </tr>\n",
       "  </thead>\n",
       "  <tbody>\n",
       "    <tr>\n",
       "      <th>count</th>\n",
       "      <td>1362.000000</td>\n",
       "      <td>1119.000000</td>\n",
       "      <td>64.000000</td>\n",
       "      <td>322.000000</td>\n",
       "    </tr>\n",
       "    <tr>\n",
       "      <th>mean</th>\n",
       "      <td>0.000000</td>\n",
       "      <td>0.000000</td>\n",
       "      <td>0.000000</td>\n",
       "      <td>0.000000</td>\n",
       "    </tr>\n",
       "    <tr>\n",
       "      <th>std</th>\n",
       "      <td>4709.803635</td>\n",
       "      <td>4751.131381</td>\n",
       "      <td>112.048176</td>\n",
       "      <td>3927.837722</td>\n",
       "    </tr>\n",
       "    <tr>\n",
       "      <th>min</th>\n",
       "      <td>-28800.000000</td>\n",
       "      <td>-28800.000000</td>\n",
       "      <td>-523.000000</td>\n",
       "      <td>-15000.000000</td>\n",
       "    </tr>\n",
       "    <tr>\n",
       "      <th>25%</th>\n",
       "      <td>-2000.000000</td>\n",
       "      <td>-2082.000000</td>\n",
       "      <td>-2.000000</td>\n",
       "      <td>-1300.000000</td>\n",
       "    </tr>\n",
       "    <tr>\n",
       "      <th>50%</th>\n",
       "      <td>200.000000</td>\n",
       "      <td>200.000000</td>\n",
       "      <td>-2.000000</td>\n",
       "      <td>0.000000</td>\n",
       "    </tr>\n",
       "    <tr>\n",
       "      <th>75%</th>\n",
       "      <td>2300.000000</td>\n",
       "      <td>2500.000000</td>\n",
       "      <td>40.000000</td>\n",
       "      <td>1287.500000</td>\n",
       "    </tr>\n",
       "    <tr>\n",
       "      <th>max</th>\n",
       "      <td>30300.000000</td>\n",
       "      <td>30300.000000</td>\n",
       "      <td>250.000000</td>\n",
       "      <td>19250.000000</td>\n",
       "    </tr>\n",
       "  </tbody>\n",
       "</table>\n",
       "</div>"
      ],
      "text/plain": [
       "                Sum      Arkhipov  Arkhipov USD       Ventsel\n",
       "count   1362.000000   1119.000000     64.000000    322.000000\n",
       "mean       0.000000      0.000000      0.000000      0.000000\n",
       "std     4709.803635   4751.131381    112.048176   3927.837722\n",
       "min   -28800.000000 -28800.000000   -523.000000 -15000.000000\n",
       "25%    -2000.000000  -2082.000000     -2.000000  -1300.000000\n",
       "50%      200.000000    200.000000     -2.000000      0.000000\n",
       "75%     2300.000000   2500.000000     40.000000   1287.500000\n",
       "max    30300.000000  30300.000000    250.000000  19250.000000"
      ]
     },
     "execution_count": 186,
     "metadata": {},
     "output_type": "execute_result"
    }
   ],
   "source": [
    "df_fin.describe()"
   ]
  },
  {
   "cell_type": "code",
   "execution_count": 187,
   "metadata": {},
   "outputs": [
    {
     "data": {
      "text/html": [
       "<div>\n",
       "<style scoped>\n",
       "    .dataframe tbody tr th:only-of-type {\n",
       "        vertical-align: middle;\n",
       "    }\n",
       "\n",
       "    .dataframe tbody tr th {\n",
       "        vertical-align: top;\n",
       "    }\n",
       "\n",
       "    .dataframe thead th {\n",
       "        text-align: right;\n",
       "    }\n",
       "</style>\n",
       "<table border=\"1\" class=\"dataframe\">\n",
       "  <thead>\n",
       "    <tr style=\"text-align: right;\">\n",
       "      <th></th>\n",
       "      <th>Date_Start</th>\n",
       "      <th>Date_End</th>\n",
       "      <th>Year</th>\n",
       "      <th>Attendance</th>\n",
       "    </tr>\n",
       "  </thead>\n",
       "  <tbody>\n",
       "    <tr>\n",
       "      <th>count</th>\n",
       "      <td>926.000000</td>\n",
       "      <td>926.00000</td>\n",
       "      <td>926.000000</td>\n",
       "      <td>926.000000</td>\n",
       "    </tr>\n",
       "    <tr>\n",
       "      <th>mean</th>\n",
       "      <td>15.757019</td>\n",
       "      <td>15.75486</td>\n",
       "      <td>2017.514039</td>\n",
       "      <td>7.568035</td>\n",
       "    </tr>\n",
       "    <tr>\n",
       "      <th>std</th>\n",
       "      <td>8.732315</td>\n",
       "      <td>8.72346</td>\n",
       "      <td>2.352989</td>\n",
       "      <td>5.050364</td>\n",
       "    </tr>\n",
       "    <tr>\n",
       "      <th>min</th>\n",
       "      <td>1.000000</td>\n",
       "      <td>1.00000</td>\n",
       "      <td>2013.000000</td>\n",
       "      <td>0.000000</td>\n",
       "    </tr>\n",
       "    <tr>\n",
       "      <th>25%</th>\n",
       "      <td>8.000000</td>\n",
       "      <td>8.00000</td>\n",
       "      <td>2016.000000</td>\n",
       "      <td>4.000000</td>\n",
       "    </tr>\n",
       "    <tr>\n",
       "      <th>50%</th>\n",
       "      <td>16.000000</td>\n",
       "      <td>16.00000</td>\n",
       "      <td>2017.000000</td>\n",
       "      <td>7.000000</td>\n",
       "    </tr>\n",
       "    <tr>\n",
       "      <th>75%</th>\n",
       "      <td>23.000000</td>\n",
       "      <td>23.00000</td>\n",
       "      <td>2020.000000</td>\n",
       "      <td>10.000000</td>\n",
       "    </tr>\n",
       "    <tr>\n",
       "      <th>max</th>\n",
       "      <td>31.000000</td>\n",
       "      <td>31.00000</td>\n",
       "      <td>2022.000000</td>\n",
       "      <td>31.000000</td>\n",
       "    </tr>\n",
       "  </tbody>\n",
       "</table>\n",
       "</div>"
      ],
      "text/plain": [
       "       Date_Start   Date_End         Year  Attendance\n",
       "count  926.000000  926.00000   926.000000  926.000000\n",
       "mean    15.757019   15.75486  2017.514039    7.568035\n",
       "std      8.732315    8.72346     2.352989    5.050364\n",
       "min      1.000000    1.00000  2013.000000    0.000000\n",
       "25%      8.000000    8.00000  2016.000000    4.000000\n",
       "50%     16.000000   16.00000  2017.000000    7.000000\n",
       "75%     23.000000   23.00000  2020.000000   10.000000\n",
       "max     31.000000   31.00000  2022.000000   31.000000"
      ]
     },
     "execution_count": 187,
     "metadata": {},
     "output_type": "execute_result"
    }
   ],
   "source": [
    "df_att.describe()"
   ]
  },
  {
   "cell_type": "code",
   "execution_count": 188,
   "metadata": {},
   "outputs": [
    {
     "name": "stdout",
     "output_type": "stream",
     "text": [
      "<class 'pandas.core.frame.DataFrame'>\n",
      "RangeIndex: 1362 entries, 0 to 1361\n",
      "Data columns (total 11 columns):\n",
      " #   Column          Non-Null Count  Dtype  \n",
      "---  ------          --------------  -----  \n",
      " 0   Operation       1362 non-null   object \n",
      " 1   Classification  1362 non-null   object \n",
      " 2   Sum             1362 non-null   int64  \n",
      " 3   Category        1362 non-null   object \n",
      " 4   Date            1362 non-null   object \n",
      " 5   Owner           1362 non-null   object \n",
      " 6   Commentary Eng  1269 non-null   object \n",
      " 7   Commentary      1268 non-null   object \n",
      " 8   Arkhipov        1119 non-null   float64\n",
      " 9   Arkhipov USD    64 non-null     float64\n",
      " 10  Ventsel         322 non-null    float64\n",
      "dtypes: float64(3), int64(1), object(7)\n",
      "memory usage: 117.2+ KB\n"
     ]
    }
   ],
   "source": [
    "df_fin.info()"
   ]
  },
  {
   "cell_type": "code",
   "execution_count": 189,
   "metadata": {},
   "outputs": [],
   "source": [
    "df_fin['Date'] = pd.to_datetime(df_fin['Date'], format='%d/%m/%Y', errors='coerce')\n"
   ]
  },
  {
   "cell_type": "code",
   "execution_count": 190,
   "metadata": {},
   "outputs": [
    {
     "name": "stdout",
     "output_type": "stream",
     "text": [
      "<class 'pandas.core.frame.DataFrame'>\n",
      "RangeIndex: 1362 entries, 0 to 1361\n",
      "Data columns (total 11 columns):\n",
      " #   Column          Non-Null Count  Dtype         \n",
      "---  ------          --------------  -----         \n",
      " 0   Operation       1362 non-null   object        \n",
      " 1   Classification  1362 non-null   object        \n",
      " 2   Sum             1362 non-null   int64         \n",
      " 3   Category        1362 non-null   object        \n",
      " 4   Date            1359 non-null   datetime64[ns]\n",
      " 5   Owner           1362 non-null   object        \n",
      " 6   Commentary Eng  1269 non-null   object        \n",
      " 7   Commentary      1268 non-null   object        \n",
      " 8   Arkhipov        1119 non-null   float64       \n",
      " 9   Arkhipov USD    64 non-null     float64       \n",
      " 10  Ventsel         322 non-null    float64       \n",
      "dtypes: datetime64[ns](1), float64(3), int64(1), object(6)\n",
      "memory usage: 117.2+ KB\n"
     ]
    }
   ],
   "source": [
    "df_fin.info()"
   ]
  },
  {
   "cell_type": "code",
   "execution_count": 191,
   "metadata": {},
   "outputs": [
    {
     "name": "stdout",
     "output_type": "stream",
     "text": [
      "<class 'pandas.core.frame.DataFrame'>\n",
      "RangeIndex: 926 entries, 0 to 925\n",
      "Data columns (total 18 columns):\n",
      " #   Column           Non-Null Count  Dtype \n",
      "---  ------           --------------  ----- \n",
      " 0   Name             926 non-null    object\n",
      " 1   Status           926 non-null    object\n",
      " 2   Type             926 non-null    object\n",
      " 3   Creator          926 non-null    object\n",
      " 4   Date             926 non-null    object\n",
      " 5   Day_Start        926 non-null    object\n",
      " 6   Day_End          926 non-null    object\n",
      " 7   Month_Start      926 non-null    object\n",
      " 8   Month_Finish     926 non-null    object\n",
      " 9   Date_Start       926 non-null    int64 \n",
      " 10  Date_End         926 non-null    int64 \n",
      " 11  Year             926 non-null    int64 \n",
      " 12  Time_Start       926 non-null    object\n",
      " 13  Duration         926 non-null    object\n",
      " 14  Location         926 non-null    object\n",
      " 15  Going            926 non-null    object\n",
      " 16  Attendance       926 non-null    int64 \n",
      " 17  Date_Date_Excel  926 non-null    object\n",
      "dtypes: int64(4), object(14)\n",
      "memory usage: 130.3+ KB\n"
     ]
    }
   ],
   "source": [
    "df_att.info()"
   ]
  },
  {
   "cell_type": "code",
   "execution_count": 192,
   "metadata": {},
   "outputs": [
    {
     "data": {
      "text/html": [
       "<div>\n",
       "<style scoped>\n",
       "    .dataframe tbody tr th:only-of-type {\n",
       "        vertical-align: middle;\n",
       "    }\n",
       "\n",
       "    .dataframe tbody tr th {\n",
       "        vertical-align: top;\n",
       "    }\n",
       "\n",
       "    .dataframe thead th {\n",
       "        text-align: right;\n",
       "    }\n",
       "</style>\n",
       "<table border=\"1\" class=\"dataframe\">\n",
       "  <thead>\n",
       "    <tr style=\"text-align: right;\">\n",
       "      <th></th>\n",
       "      <th>Name</th>\n",
       "      <th>Status</th>\n",
       "      <th>Type</th>\n",
       "      <th>Creator</th>\n",
       "      <th>Date</th>\n",
       "      <th>Day_Start</th>\n",
       "      <th>Day_End</th>\n",
       "      <th>Month_Start</th>\n",
       "      <th>Month_Finish</th>\n",
       "      <th>Date_Start</th>\n",
       "      <th>Date_End</th>\n",
       "      <th>Year</th>\n",
       "      <th>Time_Start</th>\n",
       "      <th>Duration</th>\n",
       "      <th>Location</th>\n",
       "      <th>Going</th>\n",
       "      <th>Attendance</th>\n",
       "      <th>Date_Date_Excel</th>\n",
       "    </tr>\n",
       "  </thead>\n",
       "  <tbody>\n",
       "    <tr>\n",
       "      <th>0</th>\n",
       "      <td>Saturday Practice</td>\n",
       "      <td>Completed</td>\n",
       "      <td>Team Practice</td>\n",
       "      <td>Eugene Arkhipov</td>\n",
       "      <td>SATURDAY, NOVEMBER 2, 2013 AT 4 PM UTC+03</td>\n",
       "      <td>SATURDAY</td>\n",
       "      <td>SATURDAY</td>\n",
       "      <td>NOVEMBER</td>\n",
       "      <td>November</td>\n",
       "      <td>2</td>\n",
       "      <td>2</td>\n",
       "      <td>2013</td>\n",
       "      <td>4:00 PM</td>\n",
       "      <td>Duration: 3 hr</td>\n",
       "      <td>ул. Флотская, 11а, москва</td>\n",
       "      <td>No Data</td>\n",
       "      <td>7</td>\n",
       "      <td>Saturday, November 2, 2013</td>\n",
       "    </tr>\n",
       "    <tr>\n",
       "      <th>1</th>\n",
       "      <td>Sunday Practice</td>\n",
       "      <td>Completed</td>\n",
       "      <td>Team Practice</td>\n",
       "      <td>Eugene Arkhipov</td>\n",
       "      <td>SUNDAY, NOVEMBER 3, 2013 AT 11:45 AM UTC+03</td>\n",
       "      <td>SUNDAY</td>\n",
       "      <td>SUNDAY</td>\n",
       "      <td>NOVEMBER</td>\n",
       "      <td>November</td>\n",
       "      <td>3</td>\n",
       "      <td>3</td>\n",
       "      <td>2013</td>\n",
       "      <td>11:45 AM</td>\n",
       "      <td>Duration: 3 hr</td>\n",
       "      <td>ул. Флотская, 11а, москва</td>\n",
       "      <td>No Data</td>\n",
       "      <td>5</td>\n",
       "      <td>Sunday, November 3, 2013</td>\n",
       "    </tr>\n",
       "    <tr>\n",
       "      <th>2</th>\n",
       "      <td>Monday Practice</td>\n",
       "      <td>Completed</td>\n",
       "      <td>Team Practice</td>\n",
       "      <td>Eugene Arkhipov</td>\n",
       "      <td>MONDAY, NOVEMBER 4, 2013 AT 12 PM UTC+03</td>\n",
       "      <td>MONDAY</td>\n",
       "      <td>MONDAY</td>\n",
       "      <td>NOVEMBER</td>\n",
       "      <td>November</td>\n",
       "      <td>4</td>\n",
       "      <td>4</td>\n",
       "      <td>2013</td>\n",
       "      <td>12:00 PM</td>\n",
       "      <td>Duration: 3 hr</td>\n",
       "      <td>ул. Флотская, 11а, москва</td>\n",
       "      <td>No Data</td>\n",
       "      <td>3</td>\n",
       "      <td>Monday, November 4, 2013</td>\n",
       "    </tr>\n",
       "    <tr>\n",
       "      <th>3</th>\n",
       "      <td>Saturday Practice</td>\n",
       "      <td>Completed</td>\n",
       "      <td>Team Practice</td>\n",
       "      <td>Eugene Arkhipov</td>\n",
       "      <td>SATURDAY, NOVEMBER 9, 2013 AT 4 PM UTC+03</td>\n",
       "      <td>SATURDAY</td>\n",
       "      <td>SATURDAY</td>\n",
       "      <td>NOVEMBER</td>\n",
       "      <td>November</td>\n",
       "      <td>9</td>\n",
       "      <td>9</td>\n",
       "      <td>2013</td>\n",
       "      <td>4:00 PM</td>\n",
       "      <td>Duration: 3 hr</td>\n",
       "      <td>ул. Флотская, 11а, москва</td>\n",
       "      <td>No Data</td>\n",
       "      <td>11</td>\n",
       "      <td>Saturday, November 9, 2013</td>\n",
       "    </tr>\n",
       "    <tr>\n",
       "      <th>4</th>\n",
       "      <td>Sunday Practice</td>\n",
       "      <td>Completed</td>\n",
       "      <td>Team Practice</td>\n",
       "      <td>Eugene Arkhipov</td>\n",
       "      <td>SUNDAY, NOVEMBER 10, 2013 AT 11:45 AM UTC+03</td>\n",
       "      <td>SUNDAY</td>\n",
       "      <td>SUNDAY</td>\n",
       "      <td>NOVEMBER</td>\n",
       "      <td>November</td>\n",
       "      <td>10</td>\n",
       "      <td>10</td>\n",
       "      <td>2013</td>\n",
       "      <td>11:45 AM</td>\n",
       "      <td>Duration: 3 hr</td>\n",
       "      <td>ул. Флотская, 11а, москва</td>\n",
       "      <td>No Data</td>\n",
       "      <td>11</td>\n",
       "      <td>Sunday, November 10, 2013</td>\n",
       "    </tr>\n",
       "  </tbody>\n",
       "</table>\n",
       "</div>"
      ],
      "text/plain": [
       "                Name     Status           Type          Creator  \\\n",
       "0  Saturday Practice  Completed  Team Practice  Eugene Arkhipov   \n",
       "1    Sunday Practice  Completed  Team Practice  Eugene Arkhipov   \n",
       "2    Monday Practice  Completed  Team Practice  Eugene Arkhipov   \n",
       "3  Saturday Practice  Completed  Team Practice  Eugene Arkhipov   \n",
       "4    Sunday Practice  Completed  Team Practice  Eugene Arkhipov   \n",
       "\n",
       "                                           Date Day_Start   Day_End  \\\n",
       "0     SATURDAY, NOVEMBER 2, 2013 AT 4 PM UTC+03  SATURDAY  SATURDAY   \n",
       "1   SUNDAY, NOVEMBER 3, 2013 AT 11:45 AM UTC+03    SUNDAY    SUNDAY   \n",
       "2      MONDAY, NOVEMBER 4, 2013 AT 12 PM UTC+03    MONDAY    MONDAY   \n",
       "3     SATURDAY, NOVEMBER 9, 2013 AT 4 PM UTC+03  SATURDAY  SATURDAY   \n",
       "4  SUNDAY, NOVEMBER 10, 2013 AT 11:45 AM UTC+03    SUNDAY    SUNDAY   \n",
       "\n",
       "  Month_Start Month_Finish  Date_Start  Date_End  Year Time_Start  \\\n",
       "0    NOVEMBER     November           2         2  2013    4:00 PM   \n",
       "1    NOVEMBER     November           3         3  2013   11:45 AM   \n",
       "2    NOVEMBER     November           4         4  2013   12:00 PM   \n",
       "3    NOVEMBER     November           9         9  2013    4:00 PM   \n",
       "4    NOVEMBER     November          10        10  2013   11:45 AM   \n",
       "\n",
       "         Duration                   Location    Going  Attendance  \\\n",
       "0  Duration: 3 hr  ул. Флотская, 11а, москва  No Data           7   \n",
       "1  Duration: 3 hr  ул. Флотская, 11а, москва  No Data           5   \n",
       "2  Duration: 3 hr  ул. Флотская, 11а, москва  No Data           3   \n",
       "3  Duration: 3 hr  ул. Флотская, 11а, москва  No Data          11   \n",
       "4  Duration: 3 hr  ул. Флотская, 11а, москва  No Data          11   \n",
       "\n",
       "              Date_Date_Excel  \n",
       "0  Saturday, November 2, 2013  \n",
       "1    Sunday, November 3, 2013  \n",
       "2    Monday, November 4, 2013  \n",
       "3  Saturday, November 9, 2013  \n",
       "4   Sunday, November 10, 2013  "
      ]
     },
     "execution_count": 192,
     "metadata": {},
     "output_type": "execute_result"
    }
   ],
   "source": [
    "df_att.head()"
   ]
  },
  {
   "cell_type": "code",
   "execution_count": 193,
   "metadata": {},
   "outputs": [],
   "source": [
    "#from IPython.display import display\n",
    "\n",
    "# Display the entire DataFrame\n",
    "#with pd.option_context('display.max_rows', None, 'display.max_columns', None):\n",
    "#    display(df_fin)\n"
   ]
  },
  {
   "cell_type": "code",
   "execution_count": 194,
   "metadata": {},
   "outputs": [
    {
     "data": {
      "text/html": [
       "<div>\n",
       "<style scoped>\n",
       "    .dataframe tbody tr th:only-of-type {\n",
       "        vertical-align: middle;\n",
       "    }\n",
       "\n",
       "    .dataframe tbody tr th {\n",
       "        vertical-align: top;\n",
       "    }\n",
       "\n",
       "    .dataframe thead th {\n",
       "        text-align: right;\n",
       "    }\n",
       "</style>\n",
       "<table border=\"1\" class=\"dataframe\">\n",
       "  <thead>\n",
       "    <tr style=\"text-align: right;\">\n",
       "      <th></th>\n",
       "      <th>Operation</th>\n",
       "      <th>Classification</th>\n",
       "      <th>Sum</th>\n",
       "      <th>Category</th>\n",
       "      <th>Date</th>\n",
       "      <th>Owner</th>\n",
       "      <th>Commentary Eng</th>\n",
       "      <th>Commentary</th>\n",
       "      <th>Arkhipov</th>\n",
       "      <th>Arkhipov USD</th>\n",
       "      <th>Ventsel</th>\n",
       "    </tr>\n",
       "  </thead>\n",
       "  <tbody>\n",
       "    <tr>\n",
       "      <th>0</th>\n",
       "      <td>Head Purchase</td>\n",
       "      <td>Debit</td>\n",
       "      <td>-10000</td>\n",
       "      <td>Equipment</td>\n",
       "      <td>2015-08-01</td>\n",
       "      <td>Arkhipov</td>\n",
       "      <td>Denis for Heads</td>\n",
       "      <td>Дену за Headы</td>\n",
       "      <td>-10000.0</td>\n",
       "      <td>NaN</td>\n",
       "      <td>0.0</td>\n",
       "    </tr>\n",
       "    <tr>\n",
       "      <th>1</th>\n",
       "      <td>Membership Fee</td>\n",
       "      <td>Credit</td>\n",
       "      <td>29000</td>\n",
       "      <td>Membership Fee</td>\n",
       "      <td>2015-08-01</td>\n",
       "      <td>Arkhipov</td>\n",
       "      <td>Balance Remainder Arkhipov</td>\n",
       "      <td>Остаток у Arkhipovа</td>\n",
       "      <td>29000.0</td>\n",
       "      <td>NaN</td>\n",
       "      <td>0.0</td>\n",
       "    </tr>\n",
       "    <tr>\n",
       "      <th>2</th>\n",
       "      <td>Stick Sale</td>\n",
       "      <td>Credit</td>\n",
       "      <td>3000</td>\n",
       "      <td>Equipment</td>\n",
       "      <td>2015-08-01</td>\n",
       "      <td>Ventsel</td>\n",
       "      <td>NaN</td>\n",
       "      <td>NaN</td>\n",
       "      <td>0.0</td>\n",
       "      <td>NaN</td>\n",
       "      <td>3000.0</td>\n",
       "    </tr>\n",
       "    <tr>\n",
       "      <th>3</th>\n",
       "      <td>Stick Sale</td>\n",
       "      <td>Credit</td>\n",
       "      <td>3000</td>\n",
       "      <td>Equipment</td>\n",
       "      <td>2015-08-01</td>\n",
       "      <td>Ventsel</td>\n",
       "      <td>NaN</td>\n",
       "      <td>NaN</td>\n",
       "      <td>0.0</td>\n",
       "      <td>NaN</td>\n",
       "      <td>3000.0</td>\n",
       "    </tr>\n",
       "    <tr>\n",
       "      <th>4</th>\n",
       "      <td>Stick Sale</td>\n",
       "      <td>Credit</td>\n",
       "      <td>3000</td>\n",
       "      <td>Equipment</td>\n",
       "      <td>2015-08-01</td>\n",
       "      <td>Ventsel</td>\n",
       "      <td>NaN</td>\n",
       "      <td>NaN</td>\n",
       "      <td>0.0</td>\n",
       "      <td>NaN</td>\n",
       "      <td>3000.0</td>\n",
       "    </tr>\n",
       "  </tbody>\n",
       "</table>\n",
       "</div>"
      ],
      "text/plain": [
       "        Operation Classification    Sum        Category       Date     Owner  \\\n",
       "0   Head Purchase          Debit -10000       Equipment 2015-08-01  Arkhipov   \n",
       "1  Membership Fee         Credit  29000  Membership Fee 2015-08-01  Arkhipov   \n",
       "2      Stick Sale         Credit   3000       Equipment 2015-08-01   Ventsel   \n",
       "3      Stick Sale         Credit   3000       Equipment 2015-08-01   Ventsel   \n",
       "4      Stick Sale         Credit   3000       Equipment 2015-08-01   Ventsel   \n",
       "\n",
       "               Commentary Eng           Commentary  Arkhipov  Arkhipov USD  \\\n",
       "0             Denis for Heads        Дену за Headы  -10000.0           NaN   \n",
       "1  Balance Remainder Arkhipov  Остаток у Arkhipovа   29000.0           NaN   \n",
       "2                         NaN                  NaN       0.0           NaN   \n",
       "3                         NaN                  NaN       0.0           NaN   \n",
       "4                         NaN                  NaN       0.0           NaN   \n",
       "\n",
       "   Ventsel  \n",
       "0      0.0  \n",
       "1      0.0  \n",
       "2   3000.0  \n",
       "3   3000.0  \n",
       "4   3000.0  "
      ]
     },
     "execution_count": 194,
     "metadata": {},
     "output_type": "execute_result"
    }
   ],
   "source": [
    "df_fin.head()"
   ]
  },
  {
   "cell_type": "markdown",
   "metadata": {},
   "source": [
    "Financial Exploratory analysis General"
   ]
  },
  {
   "cell_type": "markdown",
   "metadata": {},
   "source": [
    "split main database into 2 seperate databases based on currency"
   ]
  },
  {
   "cell_type": "code",
   "execution_count": 195,
   "metadata": {},
   "outputs": [],
   "source": [
    "# Create separate DataFrames for Credit/Debit and Credit USD/Debit USD transactions\n",
    "df_fin_usd = df_fin[df_fin['Classification'].str.contains('USD')]\n",
    "df_fin_rub = df_fin[~df_fin['Classification'].str.contains('USD')]\n",
    "\n",
    "\n"
   ]
  },
  {
   "cell_type": "code",
   "execution_count": 196,
   "metadata": {},
   "outputs": [
    {
     "name": "stdout",
     "output_type": "stream",
     "text": [
      "<class 'pandas.core.frame.DataFrame'>\n",
      "Int64Index: 1298 entries, 0 to 1361\n",
      "Data columns (total 11 columns):\n",
      " #   Column          Non-Null Count  Dtype         \n",
      "---  ------          --------------  -----         \n",
      " 0   Operation       1298 non-null   object        \n",
      " 1   Classification  1298 non-null   object        \n",
      " 2   Sum             1298 non-null   int64         \n",
      " 3   Category        1298 non-null   object        \n",
      " 4   Date            1295 non-null   datetime64[ns]\n",
      " 5   Owner           1298 non-null   object        \n",
      " 6   Commentary Eng  1205 non-null   object        \n",
      " 7   Commentary      1204 non-null   object        \n",
      " 8   Arkhipov        1119 non-null   float64       \n",
      " 9   Arkhipov USD    0 non-null      float64       \n",
      " 10  Ventsel         322 non-null    float64       \n",
      "dtypes: datetime64[ns](1), float64(3), int64(1), object(6)\n",
      "memory usage: 121.7+ KB\n"
     ]
    }
   ],
   "source": [
    "df_fin_rub.info()"
   ]
  },
  {
   "cell_type": "code",
   "execution_count": 197,
   "metadata": {},
   "outputs": [
    {
     "name": "stdout",
     "output_type": "stream",
     "text": [
      "<class 'pandas.core.frame.DataFrame'>\n",
      "Int64Index: 64 entries, 592 to 1355\n",
      "Data columns (total 11 columns):\n",
      " #   Column          Non-Null Count  Dtype         \n",
      "---  ------          --------------  -----         \n",
      " 0   Operation       64 non-null     object        \n",
      " 1   Classification  64 non-null     object        \n",
      " 2   Sum             64 non-null     int64         \n",
      " 3   Category        64 non-null     object        \n",
      " 4   Date            64 non-null     datetime64[ns]\n",
      " 5   Owner           64 non-null     object        \n",
      " 6   Commentary Eng  64 non-null     object        \n",
      " 7   Commentary      64 non-null     object        \n",
      " 8   Arkhipov        0 non-null      float64       \n",
      " 9   Arkhipov USD    64 non-null     float64       \n",
      " 10  Ventsel         0 non-null      float64       \n",
      "dtypes: datetime64[ns](1), float64(3), int64(1), object(6)\n",
      "memory usage: 6.0+ KB\n"
     ]
    }
   ],
   "source": [
    "df_fin_usd.info()"
   ]
  },
  {
   "cell_type": "code",
   "execution_count": 198,
   "metadata": {},
   "outputs": [
    {
     "data": {
      "text/html": [
       "<div>\n",
       "<style scoped>\n",
       "    .dataframe tbody tr th:only-of-type {\n",
       "        vertical-align: middle;\n",
       "    }\n",
       "\n",
       "    .dataframe tbody tr th {\n",
       "        vertical-align: top;\n",
       "    }\n",
       "\n",
       "    .dataframe thead th {\n",
       "        text-align: right;\n",
       "    }\n",
       "</style>\n",
       "<table border=\"1\" class=\"dataframe\">\n",
       "  <thead>\n",
       "    <tr style=\"text-align: right;\">\n",
       "      <th></th>\n",
       "      <th>Operation</th>\n",
       "      <th>Classification</th>\n",
       "      <th>Sum</th>\n",
       "      <th>Category</th>\n",
       "      <th>Date</th>\n",
       "      <th>Owner</th>\n",
       "      <th>Commentary Eng</th>\n",
       "      <th>Commentary</th>\n",
       "      <th>Arkhipov</th>\n",
       "      <th>Arkhipov USD</th>\n",
       "      <th>Ventsel</th>\n",
       "    </tr>\n",
       "  </thead>\n",
       "  <tbody>\n",
       "    <tr>\n",
       "      <th>592</th>\n",
       "      <td>Savings</td>\n",
       "      <td>Credit USD</td>\n",
       "      <td>250</td>\n",
       "      <td>Equipment</td>\n",
       "      <td>2018-06-26</td>\n",
       "      <td>Arkhipov USD</td>\n",
       "      <td>money set aside for FIL fee/equipment purchase</td>\n",
       "      <td>деньги отложенны за FIL Fee/equipment purchase</td>\n",
       "      <td>NaN</td>\n",
       "      <td>250.0</td>\n",
       "      <td>NaN</td>\n",
       "    </tr>\n",
       "    <tr>\n",
       "      <th>660</th>\n",
       "      <td>Elbows Purchase</td>\n",
       "      <td>Debit USD</td>\n",
       "      <td>-250</td>\n",
       "      <td>Equipment</td>\n",
       "      <td>2019-06-14</td>\n",
       "      <td>Arkhipov USD</td>\n",
       "      <td>elbow pads (270 usd total)</td>\n",
       "      <td>elbow pads (270 USD total)</td>\n",
       "      <td>NaN</td>\n",
       "      <td>-250.0</td>\n",
       "      <td>NaN</td>\n",
       "    </tr>\n",
       "    <tr>\n",
       "      <th>1059</th>\n",
       "      <td>Gloves Sale</td>\n",
       "      <td>Credit USD</td>\n",
       "      <td>40</td>\n",
       "      <td>Equipment</td>\n",
       "      <td>2021-05-06</td>\n",
       "      <td>Arkhipov USD</td>\n",
       "      <td>Oleg, brine king gloves</td>\n",
       "      <td>Oleg, brine king gloves</td>\n",
       "      <td>NaN</td>\n",
       "      <td>40.0</td>\n",
       "      <td>NaN</td>\n",
       "    </tr>\n",
       "    <tr>\n",
       "      <th>1060</th>\n",
       "      <td>Shafts Sale</td>\n",
       "      <td>Credit USD</td>\n",
       "      <td>50</td>\n",
       "      <td>Equipment</td>\n",
       "      <td>2021-05-06</td>\n",
       "      <td>Arkhipov USD</td>\n",
       "      <td>Oleg, brine triumph shaft</td>\n",
       "      <td>Oleg, brine triumph shaft</td>\n",
       "      <td>NaN</td>\n",
       "      <td>50.0</td>\n",
       "      <td>NaN</td>\n",
       "    </tr>\n",
       "    <tr>\n",
       "      <th>1061</th>\n",
       "      <td>Strings Sale</td>\n",
       "      <td>Credit USD</td>\n",
       "      <td>20</td>\n",
       "      <td>Equipment</td>\n",
       "      <td>2021-05-06</td>\n",
       "      <td>Arkhipov USD</td>\n",
       "      <td>20 usd money mesh, Misha p</td>\n",
       "      <td>20 usd money mesh, Misha p</td>\n",
       "      <td>NaN</td>\n",
       "      <td>20.0</td>\n",
       "      <td>NaN</td>\n",
       "    </tr>\n",
       "  </tbody>\n",
       "</table>\n",
       "</div>"
      ],
      "text/plain": [
       "            Operation Classification  Sum   Category       Date         Owner  \\\n",
       "592           Savings     Credit USD  250  Equipment 2018-06-26  Arkhipov USD   \n",
       "660   Elbows Purchase      Debit USD -250  Equipment 2019-06-14  Arkhipov USD   \n",
       "1059      Gloves Sale     Credit USD   40  Equipment 2021-05-06  Arkhipov USD   \n",
       "1060      Shafts Sale     Credit USD   50  Equipment 2021-05-06  Arkhipov USD   \n",
       "1061     Strings Sale     Credit USD   20  Equipment 2021-05-06  Arkhipov USD   \n",
       "\n",
       "                                      Commentary Eng  \\\n",
       "592   money set aside for FIL fee/equipment purchase   \n",
       "660                       elbow pads (270 usd total)   \n",
       "1059                         Oleg, brine king gloves   \n",
       "1060                       Oleg, brine triumph shaft   \n",
       "1061                      20 usd money mesh, Misha p   \n",
       "\n",
       "                                          Commentary  Arkhipov  Arkhipov USD  \\\n",
       "592   деньги отложенны за FIL Fee/equipment purchase       NaN         250.0   \n",
       "660                       elbow pads (270 USD total)       NaN        -250.0   \n",
       "1059                         Oleg, brine king gloves       NaN          40.0   \n",
       "1060                       Oleg, brine triumph shaft       NaN          50.0   \n",
       "1061                      20 usd money mesh, Misha p       NaN          20.0   \n",
       "\n",
       "      Ventsel  \n",
       "592       NaN  \n",
       "660       NaN  \n",
       "1059      NaN  \n",
       "1060      NaN  \n",
       "1061      NaN  "
      ]
     },
     "execution_count": 198,
     "metadata": {},
     "output_type": "execute_result"
    }
   ],
   "source": [
    "# Display the two separate DataFrames\n",
    "df_fin_usd.head()"
   ]
  },
  {
   "cell_type": "code",
   "execution_count": 199,
   "metadata": {},
   "outputs": [
    {
     "data": {
      "text/html": [
       "<div>\n",
       "<style scoped>\n",
       "    .dataframe tbody tr th:only-of-type {\n",
       "        vertical-align: middle;\n",
       "    }\n",
       "\n",
       "    .dataframe tbody tr th {\n",
       "        vertical-align: top;\n",
       "    }\n",
       "\n",
       "    .dataframe thead th {\n",
       "        text-align: right;\n",
       "    }\n",
       "</style>\n",
       "<table border=\"1\" class=\"dataframe\">\n",
       "  <thead>\n",
       "    <tr style=\"text-align: right;\">\n",
       "      <th></th>\n",
       "      <th>Operation</th>\n",
       "      <th>Classification</th>\n",
       "      <th>Sum</th>\n",
       "      <th>Category</th>\n",
       "      <th>Date</th>\n",
       "      <th>Owner</th>\n",
       "      <th>Commentary Eng</th>\n",
       "      <th>Commentary</th>\n",
       "      <th>Arkhipov</th>\n",
       "      <th>Arkhipov USD</th>\n",
       "      <th>Ventsel</th>\n",
       "    </tr>\n",
       "  </thead>\n",
       "  <tbody>\n",
       "    <tr>\n",
       "      <th>0</th>\n",
       "      <td>Head Purchase</td>\n",
       "      <td>Debit</td>\n",
       "      <td>-10000</td>\n",
       "      <td>Equipment</td>\n",
       "      <td>2015-08-01</td>\n",
       "      <td>Arkhipov</td>\n",
       "      <td>Denis for Heads</td>\n",
       "      <td>Дену за Headы</td>\n",
       "      <td>-10000.0</td>\n",
       "      <td>NaN</td>\n",
       "      <td>0.0</td>\n",
       "    </tr>\n",
       "    <tr>\n",
       "      <th>1</th>\n",
       "      <td>Membership Fee</td>\n",
       "      <td>Credit</td>\n",
       "      <td>29000</td>\n",
       "      <td>Membership Fee</td>\n",
       "      <td>2015-08-01</td>\n",
       "      <td>Arkhipov</td>\n",
       "      <td>Balance Remainder Arkhipov</td>\n",
       "      <td>Остаток у Arkhipovа</td>\n",
       "      <td>29000.0</td>\n",
       "      <td>NaN</td>\n",
       "      <td>0.0</td>\n",
       "    </tr>\n",
       "    <tr>\n",
       "      <th>2</th>\n",
       "      <td>Stick Sale</td>\n",
       "      <td>Credit</td>\n",
       "      <td>3000</td>\n",
       "      <td>Equipment</td>\n",
       "      <td>2015-08-01</td>\n",
       "      <td>Ventsel</td>\n",
       "      <td>NaN</td>\n",
       "      <td>NaN</td>\n",
       "      <td>0.0</td>\n",
       "      <td>NaN</td>\n",
       "      <td>3000.0</td>\n",
       "    </tr>\n",
       "    <tr>\n",
       "      <th>3</th>\n",
       "      <td>Stick Sale</td>\n",
       "      <td>Credit</td>\n",
       "      <td>3000</td>\n",
       "      <td>Equipment</td>\n",
       "      <td>2015-08-01</td>\n",
       "      <td>Ventsel</td>\n",
       "      <td>NaN</td>\n",
       "      <td>NaN</td>\n",
       "      <td>0.0</td>\n",
       "      <td>NaN</td>\n",
       "      <td>3000.0</td>\n",
       "    </tr>\n",
       "    <tr>\n",
       "      <th>4</th>\n",
       "      <td>Stick Sale</td>\n",
       "      <td>Credit</td>\n",
       "      <td>3000</td>\n",
       "      <td>Equipment</td>\n",
       "      <td>2015-08-01</td>\n",
       "      <td>Ventsel</td>\n",
       "      <td>NaN</td>\n",
       "      <td>NaN</td>\n",
       "      <td>0.0</td>\n",
       "      <td>NaN</td>\n",
       "      <td>3000.0</td>\n",
       "    </tr>\n",
       "  </tbody>\n",
       "</table>\n",
       "</div>"
      ],
      "text/plain": [
       "        Operation Classification    Sum        Category       Date     Owner  \\\n",
       "0   Head Purchase          Debit -10000       Equipment 2015-08-01  Arkhipov   \n",
       "1  Membership Fee         Credit  29000  Membership Fee 2015-08-01  Arkhipov   \n",
       "2      Stick Sale         Credit   3000       Equipment 2015-08-01   Ventsel   \n",
       "3      Stick Sale         Credit   3000       Equipment 2015-08-01   Ventsel   \n",
       "4      Stick Sale         Credit   3000       Equipment 2015-08-01   Ventsel   \n",
       "\n",
       "               Commentary Eng           Commentary  Arkhipov  Arkhipov USD  \\\n",
       "0             Denis for Heads        Дену за Headы  -10000.0           NaN   \n",
       "1  Balance Remainder Arkhipov  Остаток у Arkhipovа   29000.0           NaN   \n",
       "2                         NaN                  NaN       0.0           NaN   \n",
       "3                         NaN                  NaN       0.0           NaN   \n",
       "4                         NaN                  NaN       0.0           NaN   \n",
       "\n",
       "   Ventsel  \n",
       "0      0.0  \n",
       "1      0.0  \n",
       "2   3000.0  \n",
       "3   3000.0  \n",
       "4   3000.0  "
      ]
     },
     "execution_count": 199,
     "metadata": {},
     "output_type": "execute_result"
    }
   ],
   "source": [
    "df_fin_rub.head()"
   ]
  },
  {
   "cell_type": "markdown",
   "metadata": {},
   "source": [
    "Calculate the total sum spent on each category:"
   ]
  },
  {
   "cell_type": "code",
   "execution_count": 200,
   "metadata": {},
   "outputs": [
    {
     "name": "stdout",
     "output_type": "stream",
     "text": [
      "Category\n",
      "Equipment    1046\n",
      "Payout      -1046\n",
      "Name: Sum, dtype: int64\n"
     ]
    }
   ],
   "source": [
    "category_sums_usd = df_fin_usd.groupby('Category')['Sum'].sum()\n",
    "print(category_sums_usd)"
   ]
  },
  {
   "cell_type": "code",
   "execution_count": 201,
   "metadata": {},
   "outputs": [
    {
     "name": "stdout",
     "output_type": "stream",
     "text": [
      "Category\n",
      "Accounting Services             -12430\n",
      "Digital Services                -33936\n",
      "Equipment                       126939\n",
      "Event                             5800\n",
      "Field                            36489\n",
      "Fine                              1000\n",
      "Interest Payment                  1290\n",
      "Internal Transfer                    0\n",
      "International Membership Fee    -90659\n",
      "Legal Services                  -40850\n",
      "Loan                               650\n",
      "Logistical Debits               -26151\n",
      "Logistical Fees                  -5000\n",
      "Marketing                        -4900\n",
      "Membership Fee                  147400\n",
      "Misc                             -7742\n",
      "Payout                          -97900\n",
      "Name: Sum, dtype: int64\n"
     ]
    }
   ],
   "source": [
    "category_sums_rub = df_fin_rub.groupby('Category')['Sum'].sum()\n",
    "print(category_sums_rub)"
   ]
  },
  {
   "cell_type": "markdown",
   "metadata": {},
   "source": [
    "Calculate the number of transactions for each category:"
   ]
  },
  {
   "cell_type": "code",
   "execution_count": 202,
   "metadata": {},
   "outputs": [
    {
     "name": "stdout",
     "output_type": "stream",
     "text": [
      "Equipment                       559\n",
      "Field                           538\n",
      "Membership Fee                   97\n",
      "Logistical Debits                30\n",
      "Digital Services                 19\n",
      "Internal Transfer                10\n",
      "Legal Services                    9\n",
      "International Membership Fee      7\n",
      "Loan                              6\n",
      "Payout                            6\n",
      "Marketing                         4\n",
      "Accounting Services               4\n",
      "Misc                              4\n",
      "Event                             2\n",
      "Logistical Fees                   1\n",
      "Fine                              1\n",
      "Interest Payment                  1\n",
      "Name: Category, dtype: int64\n"
     ]
    }
   ],
   "source": [
    "category_transaction_counts_rub = df_fin_rub['Category'].value_counts()\n",
    "print(category_transaction_counts_rub)"
   ]
  },
  {
   "cell_type": "code",
   "execution_count": 251,
   "metadata": {},
   "outputs": [
    {
     "data": {
      "application/vnd.plotly.v1+json": {
       "config": {
        "plotlyServerURL": "https://plot.ly"
       },
       "data": [
        {
         "hovertemplate": "Category=Accounting Services<br>Date=%{x}<br>Sum=%{y}<extra></extra>",
         "legendgroup": "Accounting Services",
         "line": {
          "color": "#000001",
          "dash": "solid"
         },
         "marker": {
          "symbol": "circle"
         },
         "mode": "lines",
         "name": "Accounting Services",
         "orientation": "v",
         "showlegend": true,
         "type": "scatter",
         "x": [
          "2016-04-04T00:00:00",
          "2017-08-01T00:00:00",
          "2017-10-15T00:00:00",
          "2020-07-16T00:00:00"
         ],
         "xaxis": "x",
         "y": [
          -430,
          -8000,
          -3000,
          -1000
         ],
         "yaxis": "y"
        },
        {
         "hovertemplate": "Category=Digital Services<br>Date=%{x}<br>Sum=%{y}<extra></extra>",
         "legendgroup": "Digital Services",
         "line": {
          "color": "#000002",
          "dash": "solid"
         },
         "marker": {
          "symbol": "circle"
         },
         "mode": "lines",
         "name": "Digital Services",
         "orientation": "v",
         "showlegend": true,
         "type": "scatter",
         "x": [
          "2015-09-02T00:00:00",
          "2015-09-15T00:00:00",
          "2015-10-25T00:00:00",
          "2016-05-07T00:00:00",
          "2016-07-03T00:00:00",
          "2016-12-10T00:00:00",
          "2017-06-06T00:00:00",
          "2018-05-08T00:00:00",
          "2019-02-21T00:00:00",
          "2020-01-25T00:00:00",
          "2020-02-05T00:00:00",
          "2020-12-29T00:00:00",
          "2021-02-05T00:00:00",
          "2021-02-25T00:00:00",
          "2021-05-08T00:00:00",
          "2021-11-29T00:00:00",
          "2022-01-28T00:00:00"
         ],
         "xaxis": "x",
         "y": [
          -500,
          -1000,
          -1500,
          -1714,
          -900,
          -2882,
          -2860,
          -5720,
          -1440,
          -316,
          -2084,
          -2399,
          -2080,
          -1908,
          -2362,
          -2360,
          -1911
         ],
         "yaxis": "y"
        },
        {
         "hovertemplate": "Category=Equipment<br>Date=%{x}<br>Sum=%{y}<extra></extra>",
         "legendgroup": "Equipment",
         "line": {
          "color": "#000003",
          "dash": "solid"
         },
         "marker": {
          "symbol": "circle"
         },
         "mode": "lines",
         "name": "Equipment",
         "orientation": "v",
         "showlegend": true,
         "type": "scatter",
         "x": [
          "2015-08-01T00:00:00",
          "2015-08-02T00:00:00",
          "2015-08-05T00:00:00",
          "2015-08-10T00:00:00",
          "2015-08-17T00:00:00",
          "2015-08-22T00:00:00",
          "2015-08-25T00:00:00",
          "2015-08-27T00:00:00",
          "2015-09-01T00:00:00",
          "2015-09-02T00:00:00",
          "2015-09-10T00:00:00",
          "2015-10-05T00:00:00",
          "2015-10-15T00:00:00",
          "2015-10-20T00:00:00",
          "2015-11-05T00:00:00",
          "2015-11-15T00:00:00",
          "2015-11-20T00:00:00",
          "2015-12-01T00:00:00",
          "2016-01-15T00:00:00",
          "2016-01-25T00:00:00",
          "2016-01-26T00:00:00",
          "2016-02-01T00:00:00",
          "2016-02-02T00:00:00",
          "2016-02-17T00:00:00",
          "2016-03-20T00:00:00",
          "2016-04-01T00:00:00",
          "2016-04-04T00:00:00",
          "2016-04-10T00:00:00",
          "2016-04-15T00:00:00",
          "2016-04-20T00:00:00",
          "2016-04-25T00:00:00",
          "2016-04-26T00:00:00",
          "2016-05-03T00:00:00",
          "2016-05-07T00:00:00",
          "2016-05-15T00:00:00",
          "2016-05-20T00:00:00",
          "2016-05-27T00:00:00",
          "2016-06-02T00:00:00",
          "2016-06-28T00:00:00",
          "2016-07-03T00:00:00",
          "2016-08-10T00:00:00",
          "2016-08-15T00:00:00",
          "2016-08-20T00:00:00",
          "2016-09-03T00:00:00",
          "2016-09-10T00:00:00",
          "2016-09-17T00:00:00",
          "2016-09-25T00:00:00",
          "2016-09-27T00:00:00",
          "2016-10-07T00:00:00",
          "2016-11-06T00:00:00",
          "2016-11-15T00:00:00",
          "2016-12-02T00:00:00",
          "2016-12-05T00:00:00",
          "2016-12-07T00:00:00",
          "2016-12-17T00:00:00",
          "2017-03-13T00:00:00",
          "2017-03-20T00:00:00",
          "2017-04-03T00:00:00",
          "2017-04-10T00:00:00",
          "2017-04-15T00:00:00",
          "2017-04-20T00:00:00",
          "2017-04-25T00:00:00",
          "2017-04-27T00:00:00",
          "2017-04-28T00:00:00",
          "2017-05-01T00:00:00",
          "2017-06-01T00:00:00",
          "2017-07-05T00:00:00",
          "2017-08-05T00:00:00",
          "2017-08-10T00:00:00",
          "2017-09-10T00:00:00",
          "2017-09-12T00:00:00",
          "2017-10-20T00:00:00",
          "2017-11-26T00:00:00",
          "2017-11-27T00:00:00",
          "2017-12-09T00:00:00",
          "2017-12-13T00:00:00",
          "2017-12-18T00:00:00",
          "2018-01-14T00:00:00",
          "2018-01-21T00:00:00",
          "2018-01-28T00:00:00",
          "2018-02-13T00:00:00",
          "2018-02-25T00:00:00",
          "2018-03-11T00:00:00",
          "2018-03-13T00:00:00",
          "2018-04-07T00:00:00",
          "2018-04-17T00:00:00",
          "2018-04-25T00:00:00",
          "2018-04-26T00:00:00",
          "2018-05-01T00:00:00",
          "2018-05-02T00:00:00",
          "2018-05-15T00:00:00",
          "2018-05-27T00:00:00",
          "2018-05-29T00:00:00",
          "2018-06-06T00:00:00",
          "2018-06-12T00:00:00",
          "2018-06-21T00:00:00",
          "2018-06-26T00:00:00",
          "2018-08-06T00:00:00",
          "2018-09-19T00:00:00",
          "2018-09-21T00:00:00",
          "2018-10-29T00:00:00",
          "2019-01-14T00:00:00",
          "2019-02-18T00:00:00",
          "2019-03-15T00:00:00",
          "2019-03-28T00:00:00",
          "2019-04-01T00:00:00",
          "2019-04-06T00:00:00",
          "2019-04-13T00:00:00",
          "2019-04-14T00:00:00",
          "2019-04-25T00:00:00",
          "2019-05-05T00:00:00",
          "2019-05-16T00:00:00",
          "2019-06-02T00:00:00",
          "2019-06-09T00:00:00",
          "2019-06-14T00:00:00",
          "2019-06-16T00:00:00",
          "2019-06-17T00:00:00",
          "2019-06-21T00:00:00",
          "2019-06-23T00:00:00",
          "2019-07-02T00:00:00",
          "2019-07-05T00:00:00",
          "2019-07-14T00:00:00",
          "2019-11-30T00:00:00",
          "2019-12-21T00:00:00",
          "2019-12-29T00:00:00",
          "2020-01-03T00:00:00",
          "2020-01-12T00:00:00",
          "2020-02-28T00:00:00",
          "2020-03-25T00:00:00",
          "2020-06-18T00:00:00",
          "2020-06-24T00:00:00",
          "2020-07-01T00:00:00",
          "2020-07-17T00:00:00",
          "2020-07-23T00:00:00",
          "2020-07-26T00:00:00",
          "2020-07-29T00:00:00",
          "2020-08-02T00:00:00",
          "2020-08-23T00:00:00",
          "2020-08-24T00:00:00",
          "2020-08-31T00:00:00",
          "2020-09-09T00:00:00",
          "2020-09-18T00:00:00",
          "2020-09-27T00:00:00",
          "2020-10-04T00:00:00",
          "2020-10-05T00:00:00",
          "2020-10-11T00:00:00",
          "2020-10-18T00:00:00",
          "2020-10-21T00:00:00",
          "2020-10-25T00:00:00",
          "2020-10-30T00:00:00",
          "2020-10-31T00:00:00",
          "2020-11-06T00:00:00",
          "2020-11-07T00:00:00",
          "2020-11-09T00:00:00",
          "2020-11-10T00:00:00",
          "2020-11-11T00:00:00",
          "2020-11-13T00:00:00",
          "2020-11-15T00:00:00",
          "2020-11-19T00:00:00",
          "2020-11-28T00:00:00",
          "2020-12-06T00:00:00",
          "2020-12-27T00:00:00",
          "2021-01-13T00:00:00",
          "2021-01-22T00:00:00",
          "2021-02-13T00:00:00",
          "2021-02-22T00:00:00",
          "2021-03-07T00:00:00",
          "2021-04-18T00:00:00",
          "2021-04-19T00:00:00",
          "2021-05-07T00:00:00",
          "2021-06-25T00:00:00",
          "2021-06-26T00:00:00",
          "2021-07-02T00:00:00",
          "2021-07-06T00:00:00",
          "2021-07-21T00:00:00",
          "2021-07-29T00:00:00",
          "2021-07-31T00:00:00",
          "2021-08-05T00:00:00",
          "2021-08-07T00:00:00",
          "2021-08-10T00:00:00",
          "2021-08-15T00:00:00",
          "2021-09-09T00:00:00",
          "2021-10-01T00:00:00",
          "2021-10-03T00:00:00",
          "2021-10-08T00:00:00",
          "2021-10-10T00:00:00",
          "2021-12-13T00:00:00",
          "2021-12-20T00:00:00",
          "2021-12-22T00:00:00",
          "2022-01-29T00:00:00",
          "2022-03-22T00:00:00"
         ],
         "xaxis": "x",
         "y": [
          5900,
          -8602,
          7300,
          -8100,
          1500,
          3500,
          -4870,
          -1750,
          -1100,
          -3360,
          2500,
          -6889,
          3000,
          -1239,
          -5500,
          2600,
          -4650,
          -1900,
          1700,
          4850,
          -7875,
          2000,
          -1450,
          -700,
          4800,
          700,
          1800,
          3000,
          -13945,
          3250,
          -1295,
          8100,
          1000,
          -4950,
          4800,
          1800,
          1650,
          -5180,
          -7900,
          -400,
          300,
          400,
          -2700,
          2000,
          1800,
          3500,
          -5000,
          22550,
          -3000,
          300,
          1300,
          3000,
          -3200,
          -1345,
          -650,
          -11250,
          -4120,
          -3236,
          1700,
          -12598,
          5200,
          3167,
          15300,
          -4500,
          600,
          100,
          5200,
          1700,
          2000,
          2500,
          -500,
          5300,
          4000,
          -5399,
          4000,
          -12146,
          19250,
          6200,
          -1200,
          1400,
          2000,
          -3378,
          3000,
          -13500,
          3500,
          5715,
          6000,
          3700,
          -2000,
          2000,
          5000,
          22500,
          3900,
          5500,
          -19350,
          1500,
          2400,
          4000,
          -1000,
          -2000,
          -2000,
          3844,
          -3000,
          9600,
          6200,
          400,
          5130,
          400,
          2000,
          -10100,
          2000,
          200,
          -2100,
          3300,
          -1300,
          -7500,
          -900,
          1450,
          3151,
          2500,
          1000,
          300,
          6000,
          2200,
          2200,
          2200,
          2700,
          4300,
          2000,
          10800,
          2400,
          4860,
          -21900,
          2000,
          1200,
          2000,
          4700,
          3200,
          14577,
          100,
          2640,
          -5000,
          5000,
          2000,
          3000,
          -500,
          2000,
          7900,
          200,
          7800,
          8200,
          -11600,
          -2300,
          -3400,
          -2900,
          -3300,
          -2900,
          -3000,
          300,
          5500,
          3000,
          3500,
          -2400,
          500,
          2500,
          300,
          7200,
          -14500,
          -4300,
          250,
          2000,
          2500,
          4500,
          4220,
          3500,
          200,
          1000,
          4000,
          5900,
          -26488,
          900,
          -6000,
          600,
          300,
          8200,
          2600,
          -1000,
          -2600,
          900,
          400,
          10000
         ],
         "yaxis": "y"
        },
        {
         "hovertemplate": "Category=Event<br>Date=%{x}<br>Sum=%{y}<extra></extra>",
         "legendgroup": "Event",
         "line": {
          "color": "#000004",
          "dash": "solid"
         },
         "marker": {
          "symbol": "circle"
         },
         "mode": "lines",
         "name": "Event",
         "orientation": "v",
         "showlegend": true,
         "type": "scatter",
         "x": [
          "2015-09-02T00:00:00",
          "2016-09-25T00:00:00"
         ],
         "xaxis": "x",
         "y": [
          3800,
          2000
         ],
         "yaxis": "y"
        },
        {
         "hovertemplate": "Category=Field<br>Date=%{x}<br>Sum=%{y}<extra></extra>",
         "legendgroup": "Field",
         "line": {
          "color": "#000005",
          "dash": "solid"
         },
         "marker": {
          "symbol": "circle"
         },
         "mode": "lines",
         "name": "Field",
         "orientation": "v",
         "showlegend": true,
         "type": "scatter",
         "x": [
          "2015-10-25T00:00:00",
          "2015-10-30T00:00:00",
          "2015-11-01T00:00:00",
          "2015-11-05T00:00:00",
          "2015-11-20T00:00:00",
          "2015-12-02T00:00:00",
          "2015-12-09T00:00:00",
          "2016-01-18T00:00:00",
          "2016-01-20T00:00:00",
          "2016-01-25T00:00:00",
          "2016-02-01T00:00:00",
          "2016-02-02T00:00:00",
          "2016-02-15T00:00:00",
          "2016-02-16T00:00:00",
          "2016-02-17T00:00:00",
          "2016-02-28T00:00:00",
          "2016-03-06T00:00:00",
          "2016-03-13T00:00:00",
          "2016-03-21T00:00:00",
          "2016-03-28T00:00:00",
          "2016-04-04T00:00:00",
          "2016-07-10T00:00:00",
          "2016-09-25T00:00:00",
          "2016-09-27T00:00:00",
          "2016-10-07T00:00:00",
          "2016-10-14T00:00:00",
          "2016-10-21T00:00:00",
          "2016-10-28T00:00:00",
          "2016-11-05T00:00:00",
          "2016-11-12T00:00:00",
          "2016-11-17T00:00:00",
          "2016-11-19T00:00:00",
          "2016-11-26T00:00:00",
          "2016-12-02T00:00:00",
          "2016-12-09T00:00:00",
          "2016-12-16T00:00:00",
          "2016-12-23T00:00:00",
          "2017-02-26T00:00:00",
          "2017-03-05T00:00:00",
          "2017-03-12T00:00:00",
          "2017-03-19T00:00:00",
          "2017-04-10T00:00:00",
          "2017-04-18T00:00:00",
          "2017-04-25T00:00:00",
          "2017-07-15T00:00:00",
          "2017-09-10T00:00:00",
          "2017-09-17T00:00:00",
          "2017-09-20T00:00:00",
          "2017-09-24T00:00:00",
          "2017-09-25T00:00:00",
          "2017-10-05T00:00:00",
          "2017-10-08T00:00:00",
          "2017-10-10T00:00:00",
          "2017-10-15T00:00:00",
          "2017-10-22T00:00:00",
          "2017-11-09T00:00:00",
          "2017-11-12T00:00:00",
          "2017-11-14T00:00:00",
          "2017-11-19T00:00:00",
          "2017-11-24T00:00:00",
          "2017-11-26T00:00:00",
          "2017-11-27T00:00:00",
          "2017-11-29T00:00:00",
          "2017-12-03T00:00:00",
          "2017-12-04T00:00:00",
          "2017-12-15T00:00:00",
          "2017-12-17T00:00:00",
          "2017-12-24T00:00:00",
          "2018-01-12T00:00:00",
          "2018-01-14T00:00:00",
          "2018-01-16T00:00:00",
          "2018-01-19T00:00:00",
          "2018-01-21T00:00:00",
          "2018-01-22T00:00:00",
          "2018-01-24T00:00:00",
          "2018-01-25T00:00:00",
          "2018-01-26T00:00:00",
          "2018-01-27T00:00:00",
          "2018-01-30T00:00:00",
          "2018-02-04T00:00:00",
          "2018-02-05T00:00:00",
          "2018-02-09T00:00:00",
          "2018-02-12T00:00:00",
          "2018-02-17T00:00:00",
          "2018-02-18T00:00:00",
          "2018-02-25T00:00:00",
          "2018-03-02T00:00:00",
          "2018-03-04T00:00:00",
          "2018-03-11T00:00:00",
          "2018-03-18T00:00:00",
          "2018-03-25T00:00:00",
          "2018-03-31T00:00:00",
          "2018-04-01T00:00:00",
          "2018-04-07T00:00:00",
          "2018-07-27T00:00:00",
          "2018-08-03T00:00:00",
          "2018-09-07T00:00:00",
          "2018-09-18T00:00:00",
          "2018-10-29T00:00:00",
          "2018-11-02T00:00:00",
          "2018-11-04T00:00:00",
          "2019-02-03T00:00:00",
          "2019-02-23T00:00:00",
          "2019-02-24T00:00:00",
          "2019-03-10T00:00:00",
          "2019-03-11T00:00:00",
          "2019-03-17T00:00:00",
          "2019-03-18T00:00:00",
          "2019-03-24T00:00:00",
          "2019-03-25T00:00:00",
          "2019-04-01T00:00:00",
          "2019-04-14T00:00:00",
          "2019-04-15T00:00:00",
          "2019-04-20T00:00:00",
          "2019-04-28T00:00:00",
          "2019-05-03T00:00:00",
          "2019-05-05T00:00:00",
          "2019-05-14T00:00:00",
          "2019-05-19T00:00:00",
          "2019-06-02T00:00:00",
          "2019-06-06T00:00:00",
          "2019-06-16T00:00:00",
          "2019-07-05T00:00:00",
          "2019-07-07T00:00:00",
          "2019-07-10T00:00:00",
          "2019-07-14T00:00:00",
          "2019-07-31T00:00:00",
          "2019-08-04T00:00:00",
          "2019-09-02T00:00:00",
          "2019-09-09T00:00:00",
          "2019-09-18T00:00:00",
          "2019-09-22T00:00:00",
          "2019-09-26T00:00:00",
          "2019-09-29T00:00:00",
          "2019-10-09T00:00:00",
          "2019-10-13T00:00:00",
          "2019-10-17T00:00:00",
          "2019-10-20T00:00:00",
          "2019-10-23T00:00:00",
          "2019-10-27T00:00:00",
          "2019-10-31T00:00:00",
          "2019-11-02T00:00:00",
          "2019-11-08T00:00:00",
          "2019-11-09T00:00:00",
          "2019-11-15T00:00:00",
          "2019-11-16T00:00:00",
          "2019-11-22T00:00:00",
          "2019-11-23T00:00:00",
          "2019-11-30T00:00:00",
          "2019-12-06T00:00:00",
          "2019-12-07T00:00:00",
          "2019-12-14T00:00:00",
          "2019-12-21T00:00:00",
          "2019-12-28T00:00:00",
          "2020-01-02T00:00:00",
          "2020-01-08T00:00:00",
          "2020-01-18T00:00:00",
          "2020-01-23T00:00:00",
          "2020-01-25T00:00:00",
          "2020-02-09T00:00:00",
          "2020-02-15T00:00:00",
          "2020-02-23T00:00:00",
          "2020-02-28T00:00:00",
          "2020-02-29T00:00:00",
          "2020-03-07T00:00:00",
          "2020-03-14T00:00:00",
          "2020-03-22T00:00:00",
          "2020-06-25T00:00:00",
          "2020-06-27T00:00:00",
          "2020-07-04T00:00:00",
          "2020-07-11T00:00:00",
          "2020-08-02T00:00:00",
          "2020-08-09T00:00:00",
          "2020-08-16T00:00:00",
          "2020-08-23T00:00:00",
          "2020-08-30T00:00:00",
          "2020-09-12T00:00:00",
          "2020-09-13T00:00:00",
          "2020-09-20T00:00:00",
          "2020-09-26T00:00:00",
          "2020-09-27T00:00:00",
          "2020-10-04T00:00:00",
          "2020-10-10T00:00:00",
          "2020-10-11T00:00:00",
          "2020-10-17T00:00:00",
          "2020-10-18T00:00:00",
          "2020-10-24T00:00:00",
          "2020-10-25T00:00:00",
          "2020-10-30T00:00:00",
          "2020-10-31T00:00:00",
          "2020-11-01T00:00:00",
          "2020-11-07T00:00:00",
          "2020-11-08T00:00:00",
          "2020-11-14T00:00:00",
          "2020-11-15T00:00:00",
          "2020-11-21T00:00:00",
          "2020-11-22T00:00:00",
          "2020-11-28T00:00:00",
          "2020-11-29T00:00:00",
          "2020-12-05T00:00:00",
          "2020-12-06T00:00:00",
          "2020-12-12T00:00:00",
          "2020-12-19T00:00:00",
          "2020-12-20T00:00:00",
          "2020-12-26T00:00:00",
          "2021-01-16T00:00:00",
          "2021-01-17T00:00:00",
          "2021-01-23T00:00:00",
          "2021-01-30T00:00:00",
          "2021-01-31T00:00:00",
          "2021-02-06T00:00:00",
          "2021-02-07T00:00:00",
          "2021-02-13T00:00:00",
          "2021-02-14T00:00:00",
          "2021-02-20T00:00:00",
          "2021-02-21T00:00:00",
          "2021-02-28T00:00:00",
          "2021-03-06T00:00:00",
          "2021-03-07T00:00:00",
          "2021-03-13T00:00:00",
          "2021-03-14T00:00:00",
          "2021-03-20T00:00:00",
          "2021-03-21T00:00:00",
          "2021-03-27T00:00:00",
          "2021-03-28T00:00:00",
          "2021-04-03T00:00:00",
          "2021-04-04T00:00:00",
          "2021-04-10T00:00:00",
          "2021-04-11T00:00:00",
          "2021-04-17T00:00:00",
          "2021-04-18T00:00:00",
          "2021-04-25T00:00:00",
          "2021-05-08T00:00:00",
          "2021-05-09T00:00:00",
          "2021-05-15T00:00:00",
          "2021-05-16T00:00:00",
          "2021-05-22T00:00:00",
          "2021-05-23T00:00:00",
          "2021-05-29T00:00:00",
          "2021-05-30T00:00:00",
          "2021-05-31T00:00:00",
          "2021-06-05T00:00:00",
          "2021-06-06T00:00:00",
          "2021-06-12T00:00:00",
          "2021-06-13T00:00:00",
          "2021-06-19T00:00:00",
          "2021-06-20T00:00:00",
          "2021-07-03T00:00:00",
          "2021-07-04T00:00:00",
          "2021-07-08T00:00:00",
          "2021-07-10T00:00:00",
          "2021-07-11T00:00:00",
          "2021-07-17T00:00:00",
          "2021-07-18T00:00:00",
          "2021-07-24T00:00:00",
          "2021-07-25T00:00:00",
          "2021-07-31T00:00:00",
          "2021-08-01T00:00:00",
          "2021-08-07T00:00:00",
          "2021-08-29T00:00:00",
          "2021-09-01T00:00:00",
          "2021-09-04T00:00:00",
          "2021-09-05T00:00:00",
          "2021-09-07T00:00:00",
          "2021-09-11T00:00:00",
          "2021-09-12T00:00:00",
          "2021-09-18T00:00:00",
          "2021-09-19T00:00:00",
          "2021-09-25T00:00:00",
          "2021-09-26T00:00:00",
          "2021-10-01T00:00:00",
          "2021-10-02T00:00:00",
          "2021-10-03T00:00:00",
          "2021-10-09T00:00:00",
          "2021-10-10T00:00:00",
          "2021-10-16T00:00:00",
          "2021-10-17T00:00:00",
          "2021-10-23T00:00:00",
          "2021-10-24T00:00:00",
          "2021-10-30T00:00:00",
          "2021-11-13T00:00:00",
          "2021-11-14T00:00:00",
          "2021-11-20T00:00:00",
          "2021-11-21T00:00:00",
          "2021-11-27T00:00:00",
          "2021-11-28T00:00:00",
          "2021-12-04T00:00:00",
          "2021-12-05T00:00:00",
          "2021-12-11T00:00:00",
          "2021-12-12T00:00:00",
          "2021-12-18T00:00:00",
          "2021-12-26T00:00:00",
          "2022-01-22T00:00:00",
          "2022-01-23T00:00:00",
          "2022-01-29T00:00:00",
          "2022-01-30T00:00:00",
          "2022-02-06T00:00:00",
          "2022-02-12T00:00:00",
          "2022-02-19T00:00:00",
          "2022-02-20T00:00:00",
          "2022-02-26T00:00:00",
          "2022-02-27T00:00:00",
          "2022-03-12T00:00:00",
          "2022-03-19T00:00:00",
          "2022-03-26T00:00:00",
          "2022-04-10T00:00:00",
          "2022-04-16T00:00:00",
          "2022-04-23T00:00:00",
          "2022-04-30T00:00:00",
          "2022-05-07T00:00:00"
         ],
         "xaxis": "x",
         "y": [
          -13500,
          700,
          3850,
          200,
          3544,
          1700,
          -4000,
          -1930,
          3600,
          -4000,
          -4000,
          510,
          4000,
          510,
          -450,
          500,
          -1200,
          -800,
          -3000,
          400,
          4400,
          -5300,
          -10000,
          1000,
          -1100,
          0,
          -2500,
          -1400,
          -300,
          -2300,
          800,
          -2250,
          -800,
          2400,
          -600,
          3500,
          0,
          -3750,
          2800,
          1500,
          10,
          500,
          1000,
          1000,
          -7080,
          3500,
          2000,
          -5500,
          6500,
          4400,
          0,
          500,
          1000,
          1000,
          5500,
          0,
          3500,
          -6000,
          2000,
          27700,
          1250,
          -14000,
          -2100,
          2000,
          2600,
          -4500,
          1500,
          -2750,
          -4500,
          500,
          1000,
          -6000,
          5500,
          2000,
          4000,
          500,
          -6000,
          -7200,
          1000,
          -4500,
          250,
          -6000,
          3750,
          -6000,
          3000,
          -1500,
          250,
          3500,
          -2000,
          -2000,
          500,
          500,
          2950,
          -1000,
          8000,
          -5400,
          -20000,
          12750,
          1500,
          -5250,
          5375,
          5400,
          -4500,
          3900,
          -5400,
          4500,
          -5400,
          -500,
          -5400,
          4500,
          -5150,
          4250,
          -4500,
          3250,
          2500,
          -6000,
          5000,
          -5250,
          5650,
          4750,
          -3500,
          2000,
          -5250,
          3800,
          -5250,
          5400,
          -5250,
          4900,
          -21000,
          24000,
          -5250,
          3300,
          -5250,
          4700,
          -5250,
          5350,
          -5250,
          4950,
          -12750,
          6850,
          -4500,
          4500,
          -5250,
          8000,
          -4500,
          5500,
          -4500,
          4750,
          12500,
          -4500,
          5500,
          1250,
          -250,
          -250,
          1500,
          -750,
          2500,
          -5250,
          7500,
          -500,
          0,
          500,
          -7500,
          7750,
          1750,
          1000,
          0,
          -7500,
          6500,
          -250,
          -1000,
          -1250,
          0,
          750,
          250,
          2250,
          1000,
          -250,
          -500,
          -600,
          -750,
          -250,
          1000,
          1000,
          -8500,
          7250,
          1000,
          0,
          -6000,
          4250,
          0,
          -250,
          500,
          4000,
          750,
          -250,
          250,
          -3250,
          4000,
          1000,
          500,
          1000,
          1000,
          -1500,
          750,
          0,
          -250,
          -6000,
          -2750,
          250,
          1000,
          500,
          -750,
          0,
          1250,
          0,
          -1150,
          0,
          750,
          -4250,
          5250,
          -250,
          -1250,
          -2500,
          0,
          2800,
          2750,
          -750,
          -1750,
          0,
          -750,
          -4500,
          -1200,
          12850,
          -250,
          500,
          0,
          -1000,
          -2250,
          -1000,
          2500,
          -500,
          -1250,
          -1250,
          9750,
          -250,
          -500,
          -2750,
          -250,
          0,
          -750,
          -1000,
          -7000,
          6250,
          3800,
          750,
          -2000,
          250,
          -1500,
          -1000,
          -2750,
          -6000,
          9500,
          -750,
          -1800,
          1250,
          900,
          250,
          300,
          1050,
          750,
          -600,
          2250,
          900,
          1650,
          0,
          -450,
          -850,
          2650,
          -900,
          300,
          750,
          -300,
          -650,
          -300,
          -150,
          900,
          -450,
          600,
          -1650,
          -1200,
          -1800,
          300,
          -1650,
          900,
          -850,
          3450,
          1650,
          1500,
          -900,
          -6000,
          8700,
          300,
          5400,
          -600,
          0,
          0,
          0,
          0,
          30300
         ],
         "yaxis": "y"
        },
        {
         "hovertemplate": "Category=Fine<br>Date=%{x}<br>Sum=%{y}<extra></extra>",
         "legendgroup": "Fine",
         "line": {
          "color": "#000006",
          "dash": "solid"
         },
         "marker": {
          "symbol": "circle"
         },
         "mode": "lines",
         "name": "Fine",
         "orientation": "v",
         "showlegend": true,
         "type": "scatter",
         "x": [
          "2018-03-11T00:00:00"
         ],
         "xaxis": "x",
         "y": [
          1000
         ],
         "yaxis": "y"
        },
        {
         "hovertemplate": "Category=Interest Payment<br>Date=%{x}<br>Sum=%{y}<extra></extra>",
         "legendgroup": "Interest Payment",
         "line": {
          "color": "#000007",
          "dash": "solid"
         },
         "marker": {
          "symbol": "circle"
         },
         "mode": "lines",
         "name": "Interest Payment",
         "orientation": "v",
         "showlegend": true,
         "type": "scatter",
         "x": [
          "2021-05-24T00:00:00"
         ],
         "xaxis": "x",
         "y": [
          1290
         ],
         "yaxis": "y"
        },
        {
         "hovertemplate": "Category=Internal Transfer<br>Date=%{x}<br>Sum=%{y}<extra></extra>",
         "legendgroup": "Internal Transfer",
         "line": {
          "color": "#000008",
          "dash": "solid"
         },
         "marker": {
          "symbol": "circle"
         },
         "mode": "lines",
         "name": "Internal Transfer",
         "orientation": "v",
         "showlegend": true,
         "type": "scatter",
         "x": [
          "2015-09-02T00:00:00",
          "2017-03-20T00:00:00",
          "2018-02-25T00:00:00",
          "2018-03-10T00:00:00",
          "2019-12-21T00:00:00"
         ],
         "xaxis": "x",
         "y": [
          0,
          0,
          0,
          0,
          0
         ],
         "yaxis": "y"
        },
        {
         "hovertemplate": "Category=International Membership Fee<br>Date=%{x}<br>Sum=%{y}<extra></extra>",
         "legendgroup": "International Membership Fee",
         "line": {
          "color": "#000009",
          "dash": "solid"
         },
         "marker": {
          "symbol": "circle"
         },
         "mode": "lines",
         "name": "International Membership Fee",
         "orientation": "v",
         "showlegend": true,
         "type": "scatter",
         "x": [
          "2017-07-11T00:00:00",
          "2017-10-01T00:00:00",
          "2018-06-25T00:00:00",
          "2018-08-06T00:00:00",
          "2020-02-19T00:00:00",
          "2020-07-11T00:00:00",
          "2021-11-03T00:00:00"
         ],
         "xaxis": "x",
         "y": [
          -3412,
          -14742,
          -7330,
          -16475,
          -16000,
          -16000,
          -16700
         ],
         "yaxis": "y"
        },
        {
         "hovertemplate": "Category=Legal Services<br>Date=%{x}<br>Sum=%{y}<extra></extra>",
         "legendgroup": "Legal Services",
         "line": {
          "color": "#000010",
          "dash": "solid"
         },
         "marker": {
          "symbol": "circle"
         },
         "mode": "lines",
         "name": "Legal Services",
         "orientation": "v",
         "showlegend": true,
         "type": "scatter",
         "x": [
          "2015-08-10T00:00:00",
          "2015-09-02T00:00:00",
          "2015-10-25T00:00:00",
          "2016-10-20T00:00:00",
          "2017-03-14T00:00:00",
          "2017-11-23T00:00:00",
          "2018-03-13T00:00:00"
         ],
         "xaxis": "x",
         "y": [
          -6420,
          -15000,
          -200,
          -12000,
          -1000,
          -3850,
          -2380
         ],
         "yaxis": "y"
        },
        {
         "hovertemplate": "Category=Loan<br>Date=%{x}<br>Sum=%{y}<extra></extra>",
         "legendgroup": "Loan",
         "line": {
          "color": "#000001",
          "dash": "solid"
         },
         "marker": {
          "symbol": "circle"
         },
         "mode": "lines",
         "name": "Loan",
         "orientation": "v",
         "showlegend": true,
         "type": "scatter",
         "x": [
          "2019-07-07T00:00:00",
          "2019-10-16T00:00:00",
          "2020-07-23T00:00:00",
          "2020-09-04T00:00:00",
          "2020-10-15T00:00:00",
          "2020-10-30T00:00:00"
         ],
         "xaxis": "x",
         "y": [
          -5000,
          5250,
          -5000,
          -5000,
          5200,
          5200
         ],
         "yaxis": "y"
        },
        {
         "hovertemplate": "Category=Logistical Debits<br>Date=%{x}<br>Sum=%{y}<extra></extra>",
         "legendgroup": "Logistical Debits",
         "line": {
          "color": "#000002",
          "dash": "solid"
         },
         "marker": {
          "symbol": "circle"
         },
         "mode": "lines",
         "name": "Logistical Debits",
         "orientation": "v",
         "showlegend": true,
         "type": "scatter",
         "x": [
          "2015-08-25T00:00:00",
          "2015-09-25T00:00:00",
          "2015-11-03T00:00:00",
          "2016-04-29T00:00:00",
          "2016-07-03T00:00:00",
          "2017-04-03T00:00:00",
          "2017-08-07T00:00:00",
          "2018-06-02T00:00:00",
          "2019-04-20T00:00:00",
          "2019-04-28T00:00:00",
          "2019-05-05T00:00:00",
          "2019-07-09T00:00:00",
          "2019-09-22T00:00:00",
          "2019-11-02T00:00:00",
          "2019-12-21T00:00:00",
          "2019-12-28T00:00:00",
          "2020-06-14T00:00:00",
          "2020-09-20T00:00:00",
          "2020-10-17T00:00:00",
          "2020-10-18T00:00:00",
          "2020-12-12T00:00:00",
          "2020-12-20T00:00:00",
          "2021-05-30T00:00:00",
          "2021-06-12T00:00:00",
          "2021-06-19T00:00:00",
          "2021-08-07T00:00:00",
          "2021-08-29T00:00:00",
          "2021-09-01T00:00:00",
          "2021-09-04T00:00:00",
          "2021-09-05T00:00:00"
         ],
         "xaxis": "x",
         "y": [
          -8450,
          -1170,
          -2000,
          -6780,
          -300,
          -315,
          -115,
          -400,
          -288,
          -225,
          -212,
          -295,
          -426,
          -302,
          -330,
          -284,
          -287,
          -447,
          -279,
          -260,
          -362,
          -256,
          -486,
          -283,
          -277,
          -160,
          -246,
          -257,
          -324,
          -335
         ],
         "yaxis": "y"
        },
        {
         "hovertemplate": "Category=Logistical Fees<br>Date=%{x}<br>Sum=%{y}<extra></extra>",
         "legendgroup": "Logistical Fees",
         "line": {
          "color": "#000003",
          "dash": "solid"
         },
         "marker": {
          "symbol": "circle"
         },
         "mode": "lines",
         "name": "Logistical Fees",
         "orientation": "v",
         "showlegend": true,
         "type": "scatter",
         "x": [
          "2017-12-18T00:00:00"
         ],
         "xaxis": "x",
         "y": [
          -5000
         ],
         "yaxis": "y"
        },
        {
         "hovertemplate": "Category=Marketing<br>Date=%{x}<br>Sum=%{y}<extra></extra>",
         "legendgroup": "Marketing",
         "line": {
          "color": "#000004",
          "dash": "solid"
         },
         "marker": {
          "symbol": "circle"
         },
         "mode": "lines",
         "name": "Marketing",
         "orientation": "v",
         "showlegend": true,
         "type": "scatter",
         "x": [
          "2015-10-15T00:00:00",
          "2015-10-30T00:00:00",
          "2017-04-20T00:00:00",
          "2020-08-12T00:00:00"
         ],
         "xaxis": "x",
         "y": [
          -1500,
          -1500,
          -900,
          -1000
         ],
         "yaxis": "y"
        },
        {
         "hovertemplate": "Category=Membership Fee<br>Date=%{x}<br>Sum=%{y}<extra></extra>",
         "legendgroup": "Membership Fee",
         "line": {
          "color": "#000005",
          "dash": "solid"
         },
         "marker": {
          "symbol": "circle"
         },
         "mode": "lines",
         "name": "Membership Fee",
         "orientation": "v",
         "showlegend": true,
         "type": "scatter",
         "x": [
          "2015-08-01T00:00:00",
          "2015-08-05T00:00:00",
          "2015-08-17T00:00:00",
          "2015-08-25T00:00:00",
          "2015-09-01T00:00:00",
          "2015-09-03T00:00:00",
          "2015-09-10T00:00:00",
          "2015-09-20T00:00:00",
          "2015-10-01T00:00:00",
          "2015-10-10T00:00:00",
          "2015-10-20T00:00:00",
          "2015-10-25T00:00:00",
          "2015-10-30T00:00:00",
          "2015-11-01T00:00:00",
          "2015-11-02T00:00:00",
          "2015-11-05T00:00:00",
          "2015-11-15T00:00:00",
          "2016-04-10T00:00:00",
          "2016-04-20T00:00:00",
          "2016-04-25T00:00:00",
          "2016-04-26T00:00:00",
          "2016-04-28T00:00:00",
          "2016-05-01T00:00:00",
          "2016-05-05T00:00:00",
          "2016-05-15T00:00:00",
          "2016-05-22T00:00:00",
          "2016-06-01T00:00:00",
          "2016-06-20T00:00:00",
          "2016-07-01T00:00:00",
          "2016-07-04T00:00:00",
          "2016-07-28T00:00:00",
          "2016-08-05T00:00:00",
          "2016-08-25T00:00:00",
          "2016-09-01T00:00:00",
          "2016-09-03T00:00:00",
          "2016-09-10T00:00:00",
          "2016-09-17T00:00:00",
          "2016-09-27T00:00:00",
          "2016-09-29T00:00:00",
          "2016-11-16T00:00:00",
          "2016-12-02T00:00:00",
          "2017-07-01T00:00:00",
          "2017-07-10T00:00:00",
          "2017-07-16T00:00:00",
          "2017-08-01T00:00:00",
          "2017-08-05T00:00:00",
          "2017-08-10T00:00:00",
          "2017-09-01T00:00:00",
          "2017-09-10T00:00:00",
          "2017-09-12T00:00:00",
          "2017-09-18T00:00:00",
          "2017-10-20T00:00:00"
         ],
         "xaxis": "x",
         "y": [
          36250,
          1000,
          6250,
          500,
          8250,
          500,
          1750,
          500,
          3500,
          3000,
          750,
          6000,
          1000,
          500,
          5250,
          1500,
          1500,
          3250,
          2000,
          2250,
          500,
          1250,
          1450,
          1500,
          1000,
          1250,
          500,
          7000,
          2000,
          1500,
          2000,
          1500,
          1000,
          1000,
          500,
          2000,
          1500,
          500,
          250,
          1500,
          1200,
          1000,
          5250,
          1000,
          500,
          3000,
          1250,
          10000,
          2500,
          4500,
          1000,
          1000
         ],
         "yaxis": "y"
        },
        {
         "hovertemplate": "Category=Misc<br>Date=%{x}<br>Sum=%{y}<extra></extra>",
         "legendgroup": "Misc",
         "line": {
          "color": "#000006",
          "dash": "solid"
         },
         "marker": {
          "symbol": "circle"
         },
         "mode": "lines",
         "name": "Misc",
         "orientation": "v",
         "showlegend": true,
         "type": "scatter",
         "x": [
          "2016-07-15T00:00:00",
          "2016-12-04T00:00:00",
          "2017-04-26T00:00:00",
          "2017-07-16T00:00:00"
         ],
         "xaxis": "x",
         "y": [
          -80,
          -1962,
          -1200,
          -4500
         ],
         "yaxis": "y"
        },
        {
         "hovertemplate": "Category=Payout<br>Date=%{x}<br>Sum=%{y}<extra></extra>",
         "legendgroup": "Payout",
         "line": {
          "color": "#000007",
          "dash": "solid"
         },
         "marker": {
          "symbol": "circle"
         },
         "mode": "lines",
         "name": "Payout",
         "orientation": "v",
         "showlegend": true,
         "type": "scatter",
         "x": [
          "2022-03-13T00:00:00",
          "2022-05-03T00:00:00",
          "2022-05-07T00:00:00"
         ],
         "xaxis": "x",
         "y": [
          -10000,
          -57600,
          -30300
         ],
         "yaxis": "y"
        }
       ],
       "layout": {
        "legend": {
         "title": {
          "text": "Category"
         },
         "tracegroupgap": 0
        },
        "template": {
         "data": {
          "candlestick": [
           {
            "decreasing": {
             "line": {
              "color": "#000033"
             }
            },
            "increasing": {
             "line": {
              "color": "#000032"
             }
            },
            "type": "candlestick"
           }
          ],
          "contour": [
           {
            "colorscale": [
             [
              0,
              "#000011"
             ],
             [
              0.1111111111111111,
              "#000012"
             ],
             [
              0.2222222222222222,
              "#000013"
             ],
             [
              0.3333333333333333,
              "#000014"
             ],
             [
              0.4444444444444444,
              "#000015"
             ],
             [
              0.5555555555555556,
              "#000016"
             ],
             [
              0.6666666666666666,
              "#000017"
             ],
             [
              0.7777777777777778,
              "#000018"
             ],
             [
              0.8888888888888888,
              "#000019"
             ],
             [
              1,
              "#000020"
             ]
            ],
            "type": "contour"
           }
          ],
          "contourcarpet": [
           {
            "colorscale": [
             [
              0,
              "#000011"
             ],
             [
              0.1111111111111111,
              "#000012"
             ],
             [
              0.2222222222222222,
              "#000013"
             ],
             [
              0.3333333333333333,
              "#000014"
             ],
             [
              0.4444444444444444,
              "#000015"
             ],
             [
              0.5555555555555556,
              "#000016"
             ],
             [
              0.6666666666666666,
              "#000017"
             ],
             [
              0.7777777777777778,
              "#000018"
             ],
             [
              0.8888888888888888,
              "#000019"
             ],
             [
              1,
              "#000020"
             ]
            ],
            "type": "contourcarpet"
           }
          ],
          "heatmap": [
           {
            "colorscale": [
             [
              0,
              "#000011"
             ],
             [
              0.1111111111111111,
              "#000012"
             ],
             [
              0.2222222222222222,
              "#000013"
             ],
             [
              0.3333333333333333,
              "#000014"
             ],
             [
              0.4444444444444444,
              "#000015"
             ],
             [
              0.5555555555555556,
              "#000016"
             ],
             [
              0.6666666666666666,
              "#000017"
             ],
             [
              0.7777777777777778,
              "#000018"
             ],
             [
              0.8888888888888888,
              "#000019"
             ],
             [
              1,
              "#000020"
             ]
            ],
            "type": "heatmap"
           }
          ],
          "histogram2d": [
           {
            "colorscale": [
             [
              0,
              "#000011"
             ],
             [
              0.1111111111111111,
              "#000012"
             ],
             [
              0.2222222222222222,
              "#000013"
             ],
             [
              0.3333333333333333,
              "#000014"
             ],
             [
              0.4444444444444444,
              "#000015"
             ],
             [
              0.5555555555555556,
              "#000016"
             ],
             [
              0.6666666666666666,
              "#000017"
             ],
             [
              0.7777777777777778,
              "#000018"
             ],
             [
              0.8888888888888888,
              "#000019"
             ],
             [
              1,
              "#000020"
             ]
            ],
            "type": "histogram2d"
           }
          ],
          "icicle": [
           {
            "textfont": {
             "color": "white"
            },
            "type": "icicle"
           }
          ],
          "sankey": [
           {
            "textfont": {
             "color": "#000036"
            },
            "type": "sankey"
           }
          ],
          "scatter": [
           {
            "marker": {
             "line": {
              "width": 0
             }
            },
            "type": "scatter"
           }
          ],
          "table": [
           {
            "cells": {
             "fill": {
              "color": "#000038"
             },
             "font": {
              "color": "#000037"
             },
             "line": {
              "color": "#000039"
             }
            },
            "header": {
             "fill": {
              "color": "#000040"
             },
             "font": {
              "color": "#000036"
             },
             "line": {
              "color": "#000039"
             }
            },
            "type": "table"
           }
          ],
          "waterfall": [
           {
            "connector": {
             "line": {
              "color": "#000036",
              "width": 2
             }
            },
            "decreasing": {
             "marker": {
              "color": "#000033"
             }
            },
            "increasing": {
             "marker": {
              "color": "#000032"
             }
            },
            "totals": {
             "marker": {
              "color": "#000034"
             }
            },
            "type": "waterfall"
           }
          ]
         },
         "layout": {
          "coloraxis": {
           "colorscale": [
            [
             0,
             "#000011"
            ],
            [
             0.1111111111111111,
             "#000012"
            ],
            [
             0.2222222222222222,
             "#000013"
            ],
            [
             0.3333333333333333,
             "#000014"
            ],
            [
             0.4444444444444444,
             "#000015"
            ],
            [
             0.5555555555555556,
             "#000016"
            ],
            [
             0.6666666666666666,
             "#000017"
            ],
            [
             0.7777777777777778,
             "#000018"
            ],
            [
             0.8888888888888888,
             "#000019"
            ],
            [
             1,
             "#000020"
            ]
           ]
          },
          "colorscale": {
           "diverging": [
            [
             0,
             "#000021"
            ],
            [
             0.1,
             "#000022"
            ],
            [
             0.2,
             "#000023"
            ],
            [
             0.3,
             "#000024"
            ],
            [
             0.4,
             "#000025"
            ],
            [
             0.5,
             "#000026"
            ],
            [
             0.6,
             "#000027"
            ],
            [
             0.7,
             "#000028"
            ],
            [
             0.8,
             "#000029"
            ],
            [
             0.9,
             "#000030"
            ],
            [
             1,
             "#000031"
            ]
           ],
           "sequential": [
            [
             0,
             "#000011"
            ],
            [
             0.1111111111111111,
             "#000012"
            ],
            [
             0.2222222222222222,
             "#000013"
            ],
            [
             0.3333333333333333,
             "#000014"
            ],
            [
             0.4444444444444444,
             "#000015"
            ],
            [
             0.5555555555555556,
             "#000016"
            ],
            [
             0.6666666666666666,
             "#000017"
            ],
            [
             0.7777777777777778,
             "#000018"
            ],
            [
             0.8888888888888888,
             "#000019"
            ],
            [
             1,
             "#000020"
            ]
           ],
           "sequentialminus": [
            [
             0,
             "#000011"
            ],
            [
             0.1111111111111111,
             "#000012"
            ],
            [
             0.2222222222222222,
             "#000013"
            ],
            [
             0.3333333333333333,
             "#000014"
            ],
            [
             0.4444444444444444,
             "#000015"
            ],
            [
             0.5555555555555556,
             "#000016"
            ],
            [
             0.6666666666666666,
             "#000017"
            ],
            [
             0.7777777777777778,
             "#000018"
            ],
            [
             0.8888888888888888,
             "#000019"
            ],
            [
             1,
             "#000020"
            ]
           ]
          },
          "colorway": [
           "#000001",
           "#000002",
           "#000003",
           "#000004",
           "#000005",
           "#000006",
           "#000007",
           "#000008",
           "#000009",
           "#000010"
          ]
         }
        },
        "title": {
         "text": "Sum of Transactions Over Time (RUB)"
        },
        "xaxis": {
         "anchor": "y",
         "domain": [
          0,
          1
         ],
         "title": {
          "text": "Date"
         }
        },
        "yaxis": {
         "anchor": "x",
         "domain": [
          0,
          1
         ],
         "title": {
          "text": "Sum"
         }
        }
       }
      }
     },
     "metadata": {},
     "output_type": "display_data"
    },
    {
     "data": {
      "application/vnd.plotly.v1+json": {
       "config": {
        "plotlyServerURL": "https://plot.ly"
       },
       "data": [
        {
         "hovertemplate": "Category=Accounting Services<br>Date=%{x}<br>Count=%{y}<extra></extra>",
         "legendgroup": "Accounting Services",
         "line": {
          "color": "#000001",
          "dash": "solid"
         },
         "marker": {
          "symbol": "circle"
         },
         "mode": "lines",
         "name": "Accounting Services",
         "orientation": "v",
         "showlegend": true,
         "type": "scatter",
         "x": [
          "2016-04-04T00:00:00",
          "2017-08-01T00:00:00",
          "2017-10-15T00:00:00",
          "2020-07-16T00:00:00"
         ],
         "xaxis": "x",
         "y": [
          1,
          1,
          1,
          1
         ],
         "yaxis": "y"
        },
        {
         "hovertemplate": "Category=Digital Services<br>Date=%{x}<br>Count=%{y}<extra></extra>",
         "legendgroup": "Digital Services",
         "line": {
          "color": "#000002",
          "dash": "solid"
         },
         "marker": {
          "symbol": "circle"
         },
         "mode": "lines",
         "name": "Digital Services",
         "orientation": "v",
         "showlegend": true,
         "type": "scatter",
         "x": [
          "2015-09-02T00:00:00",
          "2015-09-15T00:00:00",
          "2015-10-25T00:00:00",
          "2016-05-07T00:00:00",
          "2016-07-03T00:00:00",
          "2016-12-10T00:00:00",
          "2017-06-06T00:00:00",
          "2018-05-08T00:00:00",
          "2019-02-21T00:00:00",
          "2020-01-25T00:00:00",
          "2020-02-05T00:00:00",
          "2020-12-29T00:00:00",
          "2021-02-05T00:00:00",
          "2021-02-25T00:00:00",
          "2021-05-08T00:00:00",
          "2021-11-29T00:00:00",
          "2022-01-28T00:00:00"
         ],
         "xaxis": "x",
         "y": [
          1,
          1,
          1,
          1,
          1,
          1,
          1,
          1,
          1,
          2,
          1,
          2,
          1,
          1,
          1,
          1,
          1
         ],
         "yaxis": "y"
        },
        {
         "hovertemplate": "Category=Equipment<br>Date=%{x}<br>Count=%{y}<extra></extra>",
         "legendgroup": "Equipment",
         "line": {
          "color": "#000003",
          "dash": "solid"
         },
         "marker": {
          "symbol": "circle"
         },
         "mode": "lines",
         "name": "Equipment",
         "orientation": "v",
         "showlegend": true,
         "type": "scatter",
         "x": [
          "2015-08-01T00:00:00",
          "2015-08-02T00:00:00",
          "2015-08-05T00:00:00",
          "2015-08-10T00:00:00",
          "2015-08-17T00:00:00",
          "2015-08-22T00:00:00",
          "2015-08-25T00:00:00",
          "2015-08-27T00:00:00",
          "2015-09-01T00:00:00",
          "2015-09-02T00:00:00",
          "2015-09-10T00:00:00",
          "2015-10-05T00:00:00",
          "2015-10-15T00:00:00",
          "2015-10-20T00:00:00",
          "2015-11-05T00:00:00",
          "2015-11-15T00:00:00",
          "2015-11-20T00:00:00",
          "2015-12-01T00:00:00",
          "2016-01-15T00:00:00",
          "2016-01-25T00:00:00",
          "2016-01-26T00:00:00",
          "2016-02-01T00:00:00",
          "2016-02-02T00:00:00",
          "2016-02-17T00:00:00",
          "2016-03-20T00:00:00",
          "2016-04-01T00:00:00",
          "2016-04-04T00:00:00",
          "2016-04-10T00:00:00",
          "2016-04-15T00:00:00",
          "2016-04-20T00:00:00",
          "2016-04-25T00:00:00",
          "2016-04-26T00:00:00",
          "2016-05-03T00:00:00",
          "2016-05-07T00:00:00",
          "2016-05-15T00:00:00",
          "2016-05-20T00:00:00",
          "2016-05-27T00:00:00",
          "2016-06-02T00:00:00",
          "2016-06-28T00:00:00",
          "2016-07-03T00:00:00",
          "2016-08-10T00:00:00",
          "2016-08-15T00:00:00",
          "2016-08-20T00:00:00",
          "2016-09-03T00:00:00",
          "2016-09-10T00:00:00",
          "2016-09-17T00:00:00",
          "2016-09-25T00:00:00",
          "2016-09-27T00:00:00",
          "2016-10-07T00:00:00",
          "2016-11-06T00:00:00",
          "2016-11-15T00:00:00",
          "2016-12-02T00:00:00",
          "2016-12-05T00:00:00",
          "2016-12-07T00:00:00",
          "2016-12-17T00:00:00",
          "2017-03-13T00:00:00",
          "2017-03-20T00:00:00",
          "2017-04-03T00:00:00",
          "2017-04-10T00:00:00",
          "2017-04-15T00:00:00",
          "2017-04-20T00:00:00",
          "2017-04-25T00:00:00",
          "2017-04-27T00:00:00",
          "2017-04-28T00:00:00",
          "2017-05-01T00:00:00",
          "2017-06-01T00:00:00",
          "2017-07-05T00:00:00",
          "2017-08-05T00:00:00",
          "2017-08-10T00:00:00",
          "2017-09-10T00:00:00",
          "2017-09-12T00:00:00",
          "2017-10-20T00:00:00",
          "2017-11-26T00:00:00",
          "2017-11-27T00:00:00",
          "2017-12-09T00:00:00",
          "2017-12-13T00:00:00",
          "2017-12-18T00:00:00",
          "2018-01-14T00:00:00",
          "2018-01-21T00:00:00",
          "2018-01-28T00:00:00",
          "2018-02-13T00:00:00",
          "2018-02-25T00:00:00",
          "2018-03-11T00:00:00",
          "2018-03-13T00:00:00",
          "2018-04-07T00:00:00",
          "2018-04-17T00:00:00",
          "2018-04-25T00:00:00",
          "2018-04-26T00:00:00",
          "2018-05-01T00:00:00",
          "2018-05-02T00:00:00",
          "2018-05-15T00:00:00",
          "2018-05-27T00:00:00",
          "2018-05-29T00:00:00",
          "2018-06-06T00:00:00",
          "2018-06-12T00:00:00",
          "2018-06-21T00:00:00",
          "2018-06-26T00:00:00",
          "2018-08-06T00:00:00",
          "2018-09-19T00:00:00",
          "2018-09-21T00:00:00",
          "2018-10-29T00:00:00",
          "2019-01-14T00:00:00",
          "2019-02-18T00:00:00",
          "2019-03-15T00:00:00",
          "2019-03-28T00:00:00",
          "2019-04-01T00:00:00",
          "2019-04-06T00:00:00",
          "2019-04-13T00:00:00",
          "2019-04-14T00:00:00",
          "2019-04-25T00:00:00",
          "2019-05-05T00:00:00",
          "2019-05-16T00:00:00",
          "2019-06-02T00:00:00",
          "2019-06-09T00:00:00",
          "2019-06-14T00:00:00",
          "2019-06-16T00:00:00",
          "2019-06-17T00:00:00",
          "2019-06-21T00:00:00",
          "2019-06-23T00:00:00",
          "2019-07-02T00:00:00",
          "2019-07-05T00:00:00",
          "2019-07-14T00:00:00",
          "2019-11-30T00:00:00",
          "2019-12-21T00:00:00",
          "2019-12-29T00:00:00",
          "2020-01-03T00:00:00",
          "2020-01-12T00:00:00",
          "2020-02-28T00:00:00",
          "2020-03-25T00:00:00",
          "2020-06-18T00:00:00",
          "2020-06-24T00:00:00",
          "2020-07-01T00:00:00",
          "2020-07-17T00:00:00",
          "2020-07-23T00:00:00",
          "2020-07-26T00:00:00",
          "2020-07-29T00:00:00",
          "2020-08-02T00:00:00",
          "2020-08-23T00:00:00",
          "2020-08-24T00:00:00",
          "2020-08-31T00:00:00",
          "2020-09-09T00:00:00",
          "2020-09-18T00:00:00",
          "2020-09-27T00:00:00",
          "2020-10-04T00:00:00",
          "2020-10-05T00:00:00",
          "2020-10-11T00:00:00",
          "2020-10-18T00:00:00",
          "2020-10-21T00:00:00",
          "2020-10-25T00:00:00",
          "2020-10-30T00:00:00",
          "2020-10-31T00:00:00",
          "2020-11-06T00:00:00",
          "2020-11-07T00:00:00",
          "2020-11-09T00:00:00",
          "2020-11-10T00:00:00",
          "2020-11-11T00:00:00",
          "2020-11-13T00:00:00",
          "2020-11-15T00:00:00",
          "2020-11-19T00:00:00",
          "2020-11-28T00:00:00",
          "2020-12-06T00:00:00",
          "2020-12-27T00:00:00",
          "2021-01-13T00:00:00",
          "2021-01-22T00:00:00",
          "2021-02-13T00:00:00",
          "2021-02-22T00:00:00",
          "2021-03-07T00:00:00",
          "2021-04-18T00:00:00",
          "2021-04-19T00:00:00",
          "2021-05-07T00:00:00",
          "2021-06-25T00:00:00",
          "2021-06-26T00:00:00",
          "2021-07-02T00:00:00",
          "2021-07-06T00:00:00",
          "2021-07-21T00:00:00",
          "2021-07-29T00:00:00",
          "2021-07-31T00:00:00",
          "2021-08-05T00:00:00",
          "2021-08-07T00:00:00",
          "2021-08-10T00:00:00",
          "2021-08-15T00:00:00",
          "2021-09-09T00:00:00",
          "2021-10-01T00:00:00",
          "2021-10-03T00:00:00",
          "2021-10-08T00:00:00",
          "2021-10-10T00:00:00",
          "2021-12-13T00:00:00",
          "2021-12-20T00:00:00",
          "2021-12-22T00:00:00",
          "2022-01-29T00:00:00",
          "2022-03-22T00:00:00"
         ],
         "xaxis": "x",
         "y": [
          6,
          4,
          3,
          8,
          1,
          1,
          3,
          1,
          3,
          4,
          1,
          4,
          3,
          6,
          4,
          2,
          5,
          1,
          1,
          5,
          6,
          1,
          3,
          3,
          5,
          2,
          1,
          1,
          10,
          3,
          4,
          5,
          1,
          6,
          2,
          2,
          2,
          2,
          2,
          1,
          1,
          2,
          1,
          1,
          2,
          1,
          1,
          4,
          1,
          1,
          1,
          2,
          1,
          1,
          1,
          1,
          3,
          2,
          2,
          5,
          1,
          3,
          3,
          30,
          3,
          1,
          4,
          2,
          1,
          1,
          1,
          3,
          2,
          4,
          2,
          10,
          20,
          1,
          1,
          1,
          1,
          1,
          1,
          1,
          1,
          1,
          1,
          3,
          1,
          1,
          2,
          8,
          4,
          2,
          10,
          1,
          3,
          1,
          1,
          1,
          1,
          1,
          1,
          6,
          4,
          1,
          1,
          4,
          1,
          1,
          1,
          1,
          1,
          1,
          1,
          6,
          1,
          1,
          1,
          1,
          1,
          1,
          1,
          2,
          2,
          2,
          1,
          2,
          1,
          5,
          3,
          5,
          28,
          1,
          6,
          1,
          2,
          7,
          2,
          1,
          1,
          1,
          1,
          1,
          1,
          1,
          1,
          8,
          1,
          7,
          8,
          6,
          1,
          2,
          2,
          2,
          2,
          1,
          2,
          3,
          2,
          2,
          1,
          1,
          1,
          1,
          3,
          25,
          1,
          1,
          1,
          1,
          2,
          3,
          3,
          1,
          1,
          1,
          5,
          16,
          1,
          2,
          1,
          1,
          5,
          2,
          1,
          1,
          2,
          1,
          7
         ],
         "yaxis": "y"
        },
        {
         "hovertemplate": "Category=Event<br>Date=%{x}<br>Count=%{y}<extra></extra>",
         "legendgroup": "Event",
         "line": {
          "color": "#000004",
          "dash": "solid"
         },
         "marker": {
          "symbol": "circle"
         },
         "mode": "lines",
         "name": "Event",
         "orientation": "v",
         "showlegend": true,
         "type": "scatter",
         "x": [
          "2015-09-02T00:00:00",
          "2016-09-25T00:00:00"
         ],
         "xaxis": "x",
         "y": [
          1,
          1
         ],
         "yaxis": "y"
        },
        {
         "hovertemplate": "Category=Field<br>Date=%{x}<br>Count=%{y}<extra></extra>",
         "legendgroup": "Field",
         "line": {
          "color": "#000005",
          "dash": "solid"
         },
         "marker": {
          "symbol": "circle"
         },
         "mode": "lines",
         "name": "Field",
         "orientation": "v",
         "showlegend": true,
         "type": "scatter",
         "x": [
          "2015-10-25T00:00:00",
          "2015-10-30T00:00:00",
          "2015-11-01T00:00:00",
          "2015-11-05T00:00:00",
          "2015-11-20T00:00:00",
          "2015-12-02T00:00:00",
          "2015-12-09T00:00:00",
          "2016-01-18T00:00:00",
          "2016-01-20T00:00:00",
          "2016-01-25T00:00:00",
          "2016-02-01T00:00:00",
          "2016-02-02T00:00:00",
          "2016-02-15T00:00:00",
          "2016-02-16T00:00:00",
          "2016-02-17T00:00:00",
          "2016-02-28T00:00:00",
          "2016-03-06T00:00:00",
          "2016-03-13T00:00:00",
          "2016-03-21T00:00:00",
          "2016-03-28T00:00:00",
          "2016-04-04T00:00:00",
          "2016-07-10T00:00:00",
          "2016-09-25T00:00:00",
          "2016-09-27T00:00:00",
          "2016-10-07T00:00:00",
          "2016-10-14T00:00:00",
          "2016-10-21T00:00:00",
          "2016-10-28T00:00:00",
          "2016-11-05T00:00:00",
          "2016-11-12T00:00:00",
          "2016-11-17T00:00:00",
          "2016-11-19T00:00:00",
          "2016-11-26T00:00:00",
          "2016-12-02T00:00:00",
          "2016-12-09T00:00:00",
          "2016-12-16T00:00:00",
          "2016-12-23T00:00:00",
          "2017-02-26T00:00:00",
          "2017-03-05T00:00:00",
          "2017-03-12T00:00:00",
          "2017-03-19T00:00:00",
          "2017-04-10T00:00:00",
          "2017-04-18T00:00:00",
          "2017-04-25T00:00:00",
          "2017-07-15T00:00:00",
          "2017-09-10T00:00:00",
          "2017-09-17T00:00:00",
          "2017-09-20T00:00:00",
          "2017-09-24T00:00:00",
          "2017-09-25T00:00:00",
          "2017-10-05T00:00:00",
          "2017-10-08T00:00:00",
          "2017-10-10T00:00:00",
          "2017-10-15T00:00:00",
          "2017-10-22T00:00:00",
          "2017-11-09T00:00:00",
          "2017-11-12T00:00:00",
          "2017-11-14T00:00:00",
          "2017-11-19T00:00:00",
          "2017-11-24T00:00:00",
          "2017-11-26T00:00:00",
          "2017-11-27T00:00:00",
          "2017-11-29T00:00:00",
          "2017-12-03T00:00:00",
          "2017-12-04T00:00:00",
          "2017-12-15T00:00:00",
          "2017-12-17T00:00:00",
          "2017-12-24T00:00:00",
          "2018-01-12T00:00:00",
          "2018-01-14T00:00:00",
          "2018-01-16T00:00:00",
          "2018-01-19T00:00:00",
          "2018-01-21T00:00:00",
          "2018-01-22T00:00:00",
          "2018-01-24T00:00:00",
          "2018-01-25T00:00:00",
          "2018-01-26T00:00:00",
          "2018-01-27T00:00:00",
          "2018-01-30T00:00:00",
          "2018-02-04T00:00:00",
          "2018-02-05T00:00:00",
          "2018-02-09T00:00:00",
          "2018-02-12T00:00:00",
          "2018-02-17T00:00:00",
          "2018-02-18T00:00:00",
          "2018-02-25T00:00:00",
          "2018-03-02T00:00:00",
          "2018-03-04T00:00:00",
          "2018-03-11T00:00:00",
          "2018-03-18T00:00:00",
          "2018-03-25T00:00:00",
          "2018-03-31T00:00:00",
          "2018-04-01T00:00:00",
          "2018-04-07T00:00:00",
          "2018-07-27T00:00:00",
          "2018-08-03T00:00:00",
          "2018-09-07T00:00:00",
          "2018-09-18T00:00:00",
          "2018-10-29T00:00:00",
          "2018-11-02T00:00:00",
          "2018-11-04T00:00:00",
          "2019-02-03T00:00:00",
          "2019-02-23T00:00:00",
          "2019-02-24T00:00:00",
          "2019-03-10T00:00:00",
          "2019-03-11T00:00:00",
          "2019-03-17T00:00:00",
          "2019-03-18T00:00:00",
          "2019-03-24T00:00:00",
          "2019-03-25T00:00:00",
          "2019-04-01T00:00:00",
          "2019-04-14T00:00:00",
          "2019-04-15T00:00:00",
          "2019-04-20T00:00:00",
          "2019-04-28T00:00:00",
          "2019-05-03T00:00:00",
          "2019-05-05T00:00:00",
          "2019-05-14T00:00:00",
          "2019-05-19T00:00:00",
          "2019-06-02T00:00:00",
          "2019-06-06T00:00:00",
          "2019-06-16T00:00:00",
          "2019-07-05T00:00:00",
          "2019-07-07T00:00:00",
          "2019-07-10T00:00:00",
          "2019-07-14T00:00:00",
          "2019-07-31T00:00:00",
          "2019-08-04T00:00:00",
          "2019-09-02T00:00:00",
          "2019-09-09T00:00:00",
          "2019-09-18T00:00:00",
          "2019-09-22T00:00:00",
          "2019-09-26T00:00:00",
          "2019-09-29T00:00:00",
          "2019-10-09T00:00:00",
          "2019-10-13T00:00:00",
          "2019-10-17T00:00:00",
          "2019-10-20T00:00:00",
          "2019-10-23T00:00:00",
          "2019-10-27T00:00:00",
          "2019-10-31T00:00:00",
          "2019-11-02T00:00:00",
          "2019-11-08T00:00:00",
          "2019-11-09T00:00:00",
          "2019-11-15T00:00:00",
          "2019-11-16T00:00:00",
          "2019-11-22T00:00:00",
          "2019-11-23T00:00:00",
          "2019-11-30T00:00:00",
          "2019-12-06T00:00:00",
          "2019-12-07T00:00:00",
          "2019-12-14T00:00:00",
          "2019-12-21T00:00:00",
          "2019-12-28T00:00:00",
          "2020-01-02T00:00:00",
          "2020-01-08T00:00:00",
          "2020-01-18T00:00:00",
          "2020-01-23T00:00:00",
          "2020-01-25T00:00:00",
          "2020-02-09T00:00:00",
          "2020-02-15T00:00:00",
          "2020-02-23T00:00:00",
          "2020-02-28T00:00:00",
          "2020-02-29T00:00:00",
          "2020-03-07T00:00:00",
          "2020-03-14T00:00:00",
          "2020-03-22T00:00:00",
          "2020-06-25T00:00:00",
          "2020-06-27T00:00:00",
          "2020-07-04T00:00:00",
          "2020-07-11T00:00:00",
          "2020-08-02T00:00:00",
          "2020-08-09T00:00:00",
          "2020-08-16T00:00:00",
          "2020-08-23T00:00:00",
          "2020-08-30T00:00:00",
          "2020-09-12T00:00:00",
          "2020-09-13T00:00:00",
          "2020-09-20T00:00:00",
          "2020-09-26T00:00:00",
          "2020-09-27T00:00:00",
          "2020-10-04T00:00:00",
          "2020-10-10T00:00:00",
          "2020-10-11T00:00:00",
          "2020-10-17T00:00:00",
          "2020-10-18T00:00:00",
          "2020-10-24T00:00:00",
          "2020-10-25T00:00:00",
          "2020-10-30T00:00:00",
          "2020-10-31T00:00:00",
          "2020-11-01T00:00:00",
          "2020-11-07T00:00:00",
          "2020-11-08T00:00:00",
          "2020-11-14T00:00:00",
          "2020-11-15T00:00:00",
          "2020-11-21T00:00:00",
          "2020-11-22T00:00:00",
          "2020-11-28T00:00:00",
          "2020-11-29T00:00:00",
          "2020-12-05T00:00:00",
          "2020-12-06T00:00:00",
          "2020-12-12T00:00:00",
          "2020-12-19T00:00:00",
          "2020-12-20T00:00:00",
          "2020-12-26T00:00:00",
          "2021-01-16T00:00:00",
          "2021-01-17T00:00:00",
          "2021-01-23T00:00:00",
          "2021-01-30T00:00:00",
          "2021-01-31T00:00:00",
          "2021-02-06T00:00:00",
          "2021-02-07T00:00:00",
          "2021-02-13T00:00:00",
          "2021-02-14T00:00:00",
          "2021-02-20T00:00:00",
          "2021-02-21T00:00:00",
          "2021-02-28T00:00:00",
          "2021-03-06T00:00:00",
          "2021-03-07T00:00:00",
          "2021-03-13T00:00:00",
          "2021-03-14T00:00:00",
          "2021-03-20T00:00:00",
          "2021-03-21T00:00:00",
          "2021-03-27T00:00:00",
          "2021-03-28T00:00:00",
          "2021-04-03T00:00:00",
          "2021-04-04T00:00:00",
          "2021-04-10T00:00:00",
          "2021-04-11T00:00:00",
          "2021-04-17T00:00:00",
          "2021-04-18T00:00:00",
          "2021-04-25T00:00:00",
          "2021-05-08T00:00:00",
          "2021-05-09T00:00:00",
          "2021-05-15T00:00:00",
          "2021-05-16T00:00:00",
          "2021-05-22T00:00:00",
          "2021-05-23T00:00:00",
          "2021-05-29T00:00:00",
          "2021-05-30T00:00:00",
          "2021-05-31T00:00:00",
          "2021-06-05T00:00:00",
          "2021-06-06T00:00:00",
          "2021-06-12T00:00:00",
          "2021-06-13T00:00:00",
          "2021-06-19T00:00:00",
          "2021-06-20T00:00:00",
          "2021-07-03T00:00:00",
          "2021-07-04T00:00:00",
          "2021-07-08T00:00:00",
          "2021-07-10T00:00:00",
          "2021-07-11T00:00:00",
          "2021-07-17T00:00:00",
          "2021-07-18T00:00:00",
          "2021-07-24T00:00:00",
          "2021-07-25T00:00:00",
          "2021-07-31T00:00:00",
          "2021-08-01T00:00:00",
          "2021-08-07T00:00:00",
          "2021-08-29T00:00:00",
          "2021-09-01T00:00:00",
          "2021-09-04T00:00:00",
          "2021-09-05T00:00:00",
          "2021-09-07T00:00:00",
          "2021-09-11T00:00:00",
          "2021-09-12T00:00:00",
          "2021-09-18T00:00:00",
          "2021-09-19T00:00:00",
          "2021-09-25T00:00:00",
          "2021-09-26T00:00:00",
          "2021-10-01T00:00:00",
          "2021-10-02T00:00:00",
          "2021-10-03T00:00:00",
          "2021-10-09T00:00:00",
          "2021-10-10T00:00:00",
          "2021-10-16T00:00:00",
          "2021-10-17T00:00:00",
          "2021-10-23T00:00:00",
          "2021-10-24T00:00:00",
          "2021-10-30T00:00:00",
          "2021-11-13T00:00:00",
          "2021-11-14T00:00:00",
          "2021-11-20T00:00:00",
          "2021-11-21T00:00:00",
          "2021-11-27T00:00:00",
          "2021-11-28T00:00:00",
          "2021-12-04T00:00:00",
          "2021-12-05T00:00:00",
          "2021-12-11T00:00:00",
          "2021-12-12T00:00:00",
          "2021-12-18T00:00:00",
          "2021-12-26T00:00:00",
          "2022-01-22T00:00:00",
          "2022-01-23T00:00:00",
          "2022-01-29T00:00:00",
          "2022-01-30T00:00:00",
          "2022-02-06T00:00:00",
          "2022-02-12T00:00:00",
          "2022-02-19T00:00:00",
          "2022-02-20T00:00:00",
          "2022-02-26T00:00:00",
          "2022-02-27T00:00:00",
          "2022-03-12T00:00:00",
          "2022-03-19T00:00:00",
          "2022-03-26T00:00:00",
          "2022-04-10T00:00:00",
          "2022-04-16T00:00:00",
          "2022-04-23T00:00:00",
          "2022-04-30T00:00:00",
          "2022-05-07T00:00:00"
         ],
         "xaxis": "x",
         "y": [
          2,
          2,
          1,
          1,
          1,
          2,
          2,
          1,
          1,
          1,
          1,
          1,
          1,
          1,
          2,
          1,
          2,
          2,
          2,
          2,
          1,
          1,
          1,
          1,
          2,
          2,
          2,
          2,
          2,
          2,
          1,
          2,
          2,
          4,
          2,
          1,
          2,
          1,
          4,
          2,
          2,
          1,
          1,
          1,
          1,
          3,
          1,
          1,
          1,
          3,
          3,
          1,
          1,
          1,
          3,
          3,
          1,
          1,
          1,
          2,
          2,
          1,
          2,
          1,
          1,
          1,
          1,
          3,
          1,
          1,
          1,
          1,
          1,
          1,
          1,
          1,
          1,
          1,
          1,
          1,
          1,
          1,
          3,
          1,
          1,
          2,
          1,
          4,
          4,
          2,
          2,
          1,
          2,
          2,
          1,
          1,
          1,
          1,
          1,
          1,
          1,
          3,
          1,
          1,
          1,
          1,
          1,
          2,
          1,
          1,
          3,
          1,
          1,
          1,
          1,
          1,
          1,
          1,
          1,
          1,
          1,
          2,
          1,
          1,
          1,
          1,
          1,
          1,
          1,
          1,
          1,
          1,
          1,
          1,
          1,
          1,
          1,
          1,
          2,
          1,
          1,
          1,
          1,
          1,
          1,
          1,
          1,
          1,
          1,
          1,
          1,
          2,
          2,
          2,
          2,
          3,
          2,
          1,
          1,
          2,
          2,
          2,
          1,
          1,
          2,
          2,
          2,
          1,
          1,
          2,
          2,
          2,
          2,
          2,
          2,
          2,
          2,
          2,
          2,
          2,
          2,
          2,
          2,
          3,
          3,
          1,
          2,
          2,
          1,
          1,
          2,
          2,
          2,
          2,
          2,
          2,
          2,
          3,
          1,
          2,
          2,
          4,
          2,
          2,
          2,
          2,
          2,
          1,
          2,
          2,
          2,
          2,
          2,
          2,
          2,
          2,
          4,
          2,
          2,
          3,
          1,
          2,
          3,
          2,
          2,
          2,
          2,
          2,
          2,
          2,
          2,
          1,
          2,
          5,
          2,
          3,
          2,
          2,
          2,
          2,
          1,
          2,
          2,
          2,
          4,
          2,
          2,
          2,
          2,
          2,
          2,
          2,
          3,
          2,
          2,
          2,
          2,
          2,
          2,
          2,
          2,
          1,
          4,
          2,
          2,
          2,
          2,
          2,
          2,
          2,
          2,
          2,
          2,
          2,
          2,
          2,
          2,
          2,
          3,
          2,
          2,
          2,
          2,
          2,
          2,
          2,
          2,
          2,
          2,
          2,
          2,
          2,
          2,
          2,
          2,
          2,
          2,
          4,
          2,
          2,
          1,
          2,
          2,
          1,
          2,
          2,
          2,
          2,
          2,
          1
         ],
         "yaxis": "y"
        },
        {
         "hovertemplate": "Category=Fine<br>Date=%{x}<br>Count=%{y}<extra></extra>",
         "legendgroup": "Fine",
         "line": {
          "color": "#000006",
          "dash": "solid"
         },
         "marker": {
          "symbol": "circle"
         },
         "mode": "lines",
         "name": "Fine",
         "orientation": "v",
         "showlegend": true,
         "type": "scatter",
         "x": [
          "2018-03-11T00:00:00"
         ],
         "xaxis": "x",
         "y": [
          1
         ],
         "yaxis": "y"
        },
        {
         "hovertemplate": "Category=Interest Payment<br>Date=%{x}<br>Count=%{y}<extra></extra>",
         "legendgroup": "Interest Payment",
         "line": {
          "color": "#000007",
          "dash": "solid"
         },
         "marker": {
          "symbol": "circle"
         },
         "mode": "lines",
         "name": "Interest Payment",
         "orientation": "v",
         "showlegend": true,
         "type": "scatter",
         "x": [
          "2021-05-24T00:00:00"
         ],
         "xaxis": "x",
         "y": [
          1
         ],
         "yaxis": "y"
        },
        {
         "hovertemplate": "Category=Internal Transfer<br>Date=%{x}<br>Count=%{y}<extra></extra>",
         "legendgroup": "Internal Transfer",
         "line": {
          "color": "#000008",
          "dash": "solid"
         },
         "marker": {
          "symbol": "circle"
         },
         "mode": "lines",
         "name": "Internal Transfer",
         "orientation": "v",
         "showlegend": true,
         "type": "scatter",
         "x": [
          "2015-09-02T00:00:00",
          "2017-03-20T00:00:00",
          "2018-02-25T00:00:00",
          "2018-03-10T00:00:00",
          "2019-12-21T00:00:00"
         ],
         "xaxis": "x",
         "y": [
          2,
          2,
          2,
          2,
          2
         ],
         "yaxis": "y"
        },
        {
         "hovertemplate": "Category=International Membership Fee<br>Date=%{x}<br>Count=%{y}<extra></extra>",
         "legendgroup": "International Membership Fee",
         "line": {
          "color": "#000009",
          "dash": "solid"
         },
         "marker": {
          "symbol": "circle"
         },
         "mode": "lines",
         "name": "International Membership Fee",
         "orientation": "v",
         "showlegend": true,
         "type": "scatter",
         "x": [
          "2017-07-11T00:00:00",
          "2017-10-01T00:00:00",
          "2018-06-25T00:00:00",
          "2018-08-06T00:00:00",
          "2020-02-19T00:00:00",
          "2020-07-11T00:00:00",
          "2021-11-03T00:00:00"
         ],
         "xaxis": "x",
         "y": [
          1,
          1,
          1,
          1,
          1,
          1,
          1
         ],
         "yaxis": "y"
        },
        {
         "hovertemplate": "Category=Legal Services<br>Date=%{x}<br>Count=%{y}<extra></extra>",
         "legendgroup": "Legal Services",
         "line": {
          "color": "#000010",
          "dash": "solid"
         },
         "marker": {
          "symbol": "circle"
         },
         "mode": "lines",
         "name": "Legal Services",
         "orientation": "v",
         "showlegend": true,
         "type": "scatter",
         "x": [
          "2015-08-10T00:00:00",
          "2015-09-02T00:00:00",
          "2015-10-25T00:00:00",
          "2016-10-20T00:00:00",
          "2017-03-14T00:00:00",
          "2017-11-23T00:00:00",
          "2018-03-13T00:00:00"
         ],
         "xaxis": "x",
         "y": [
          2,
          1,
          1,
          1,
          1,
          1,
          2
         ],
         "yaxis": "y"
        },
        {
         "hovertemplate": "Category=Loan<br>Date=%{x}<br>Count=%{y}<extra></extra>",
         "legendgroup": "Loan",
         "line": {
          "color": "#000001",
          "dash": "solid"
         },
         "marker": {
          "symbol": "circle"
         },
         "mode": "lines",
         "name": "Loan",
         "orientation": "v",
         "showlegend": true,
         "type": "scatter",
         "x": [
          "2019-07-07T00:00:00",
          "2019-10-16T00:00:00",
          "2020-07-23T00:00:00",
          "2020-09-04T00:00:00",
          "2020-10-15T00:00:00",
          "2020-10-30T00:00:00"
         ],
         "xaxis": "x",
         "y": [
          1,
          1,
          1,
          1,
          1,
          1
         ],
         "yaxis": "y"
        },
        {
         "hovertemplate": "Category=Logistical Debits<br>Date=%{x}<br>Count=%{y}<extra></extra>",
         "legendgroup": "Logistical Debits",
         "line": {
          "color": "#000002",
          "dash": "solid"
         },
         "marker": {
          "symbol": "circle"
         },
         "mode": "lines",
         "name": "Logistical Debits",
         "orientation": "v",
         "showlegend": true,
         "type": "scatter",
         "x": [
          "2015-08-25T00:00:00",
          "2015-09-25T00:00:00",
          "2015-11-03T00:00:00",
          "2016-04-29T00:00:00",
          "2016-07-03T00:00:00",
          "2017-04-03T00:00:00",
          "2017-08-07T00:00:00",
          "2018-06-02T00:00:00",
          "2019-04-20T00:00:00",
          "2019-04-28T00:00:00",
          "2019-05-05T00:00:00",
          "2019-07-09T00:00:00",
          "2019-09-22T00:00:00",
          "2019-11-02T00:00:00",
          "2019-12-21T00:00:00",
          "2019-12-28T00:00:00",
          "2020-06-14T00:00:00",
          "2020-09-20T00:00:00",
          "2020-10-17T00:00:00",
          "2020-10-18T00:00:00",
          "2020-12-12T00:00:00",
          "2020-12-20T00:00:00",
          "2021-05-30T00:00:00",
          "2021-06-12T00:00:00",
          "2021-06-19T00:00:00",
          "2021-08-07T00:00:00",
          "2021-08-29T00:00:00",
          "2021-09-01T00:00:00",
          "2021-09-04T00:00:00",
          "2021-09-05T00:00:00"
         ],
         "xaxis": "x",
         "y": [
          1,
          1,
          1,
          1,
          1,
          1,
          1,
          1,
          1,
          1,
          1,
          1,
          1,
          1,
          1,
          1,
          1,
          1,
          1,
          1,
          1,
          1,
          1,
          1,
          1,
          1,
          1,
          1,
          1,
          1
         ],
         "yaxis": "y"
        },
        {
         "hovertemplate": "Category=Logistical Fees<br>Date=%{x}<br>Count=%{y}<extra></extra>",
         "legendgroup": "Logistical Fees",
         "line": {
          "color": "#000003",
          "dash": "solid"
         },
         "marker": {
          "symbol": "circle"
         },
         "mode": "lines",
         "name": "Logistical Fees",
         "orientation": "v",
         "showlegend": true,
         "type": "scatter",
         "x": [
          "2017-12-18T00:00:00"
         ],
         "xaxis": "x",
         "y": [
          1
         ],
         "yaxis": "y"
        },
        {
         "hovertemplate": "Category=Marketing<br>Date=%{x}<br>Count=%{y}<extra></extra>",
         "legendgroup": "Marketing",
         "line": {
          "color": "#000004",
          "dash": "solid"
         },
         "marker": {
          "symbol": "circle"
         },
         "mode": "lines",
         "name": "Marketing",
         "orientation": "v",
         "showlegend": true,
         "type": "scatter",
         "x": [
          "2015-10-15T00:00:00",
          "2015-10-30T00:00:00",
          "2017-04-20T00:00:00",
          "2020-08-12T00:00:00"
         ],
         "xaxis": "x",
         "y": [
          1,
          1,
          1,
          1
         ],
         "yaxis": "y"
        },
        {
         "hovertemplate": "Category=Membership Fee<br>Date=%{x}<br>Count=%{y}<extra></extra>",
         "legendgroup": "Membership Fee",
         "line": {
          "color": "#000005",
          "dash": "solid"
         },
         "marker": {
          "symbol": "circle"
         },
         "mode": "lines",
         "name": "Membership Fee",
         "orientation": "v",
         "showlegend": true,
         "type": "scatter",
         "x": [
          "2015-08-01T00:00:00",
          "2015-08-05T00:00:00",
          "2015-08-17T00:00:00",
          "2015-08-25T00:00:00",
          "2015-09-01T00:00:00",
          "2015-09-03T00:00:00",
          "2015-09-10T00:00:00",
          "2015-09-20T00:00:00",
          "2015-10-01T00:00:00",
          "2015-10-10T00:00:00",
          "2015-10-20T00:00:00",
          "2015-10-25T00:00:00",
          "2015-10-30T00:00:00",
          "2015-11-01T00:00:00",
          "2015-11-02T00:00:00",
          "2015-11-05T00:00:00",
          "2015-11-15T00:00:00",
          "2016-04-10T00:00:00",
          "2016-04-20T00:00:00",
          "2016-04-25T00:00:00",
          "2016-04-26T00:00:00",
          "2016-04-28T00:00:00",
          "2016-05-01T00:00:00",
          "2016-05-05T00:00:00",
          "2016-05-15T00:00:00",
          "2016-05-22T00:00:00",
          "2016-06-01T00:00:00",
          "2016-06-20T00:00:00",
          "2016-07-01T00:00:00",
          "2016-07-04T00:00:00",
          "2016-07-28T00:00:00",
          "2016-08-05T00:00:00",
          "2016-08-25T00:00:00",
          "2016-09-01T00:00:00",
          "2016-09-03T00:00:00",
          "2016-09-10T00:00:00",
          "2016-09-17T00:00:00",
          "2016-09-27T00:00:00",
          "2016-09-29T00:00:00",
          "2016-11-16T00:00:00",
          "2016-12-02T00:00:00",
          "2017-07-01T00:00:00",
          "2017-07-10T00:00:00",
          "2017-07-16T00:00:00",
          "2017-08-01T00:00:00",
          "2017-08-05T00:00:00",
          "2017-08-10T00:00:00",
          "2017-09-01T00:00:00",
          "2017-09-10T00:00:00",
          "2017-09-12T00:00:00",
          "2017-09-18T00:00:00",
          "2017-10-20T00:00:00"
         ],
         "xaxis": "x",
         "y": [
          2,
          1,
          6,
          1,
          14,
          1,
          4,
          2,
          3,
          3,
          1,
          1,
          1,
          1,
          2,
          1,
          1,
          2,
          2,
          3,
          1,
          2,
          1,
          3,
          1,
          2,
          1,
          2,
          1,
          1,
          1,
          1,
          1,
          1,
          1,
          2,
          2,
          1,
          1,
          1,
          2,
          1,
          2,
          1,
          1,
          2,
          2,
          1,
          1,
          3,
          1,
          1
         ],
         "yaxis": "y"
        },
        {
         "hovertemplate": "Category=Misc<br>Date=%{x}<br>Count=%{y}<extra></extra>",
         "legendgroup": "Misc",
         "line": {
          "color": "#000006",
          "dash": "solid"
         },
         "marker": {
          "symbol": "circle"
         },
         "mode": "lines",
         "name": "Misc",
         "orientation": "v",
         "showlegend": true,
         "type": "scatter",
         "x": [
          "2016-07-15T00:00:00",
          "2016-12-04T00:00:00",
          "2017-04-26T00:00:00",
          "2017-07-16T00:00:00"
         ],
         "xaxis": "x",
         "y": [
          1,
          1,
          1,
          1
         ],
         "yaxis": "y"
        },
        {
         "hovertemplate": "Category=Payout<br>Date=%{x}<br>Count=%{y}<extra></extra>",
         "legendgroup": "Payout",
         "line": {
          "color": "#000007",
          "dash": "solid"
         },
         "marker": {
          "symbol": "circle"
         },
         "mode": "lines",
         "name": "Payout",
         "orientation": "v",
         "showlegend": true,
         "type": "scatter",
         "x": [
          "2022-03-13T00:00:00",
          "2022-05-03T00:00:00",
          "2022-05-07T00:00:00"
         ],
         "xaxis": "x",
         "y": [
          1,
          3,
          2
         ],
         "yaxis": "y"
        }
       ],
       "layout": {
        "legend": {
         "title": {
          "text": "Category"
         },
         "tracegroupgap": 0
        },
        "template": {
         "data": {
          "candlestick": [
           {
            "decreasing": {
             "line": {
              "color": "#000033"
             }
            },
            "increasing": {
             "line": {
              "color": "#000032"
             }
            },
            "type": "candlestick"
           }
          ],
          "contour": [
           {
            "colorscale": [
             [
              0,
              "#000011"
             ],
             [
              0.1111111111111111,
              "#000012"
             ],
             [
              0.2222222222222222,
              "#000013"
             ],
             [
              0.3333333333333333,
              "#000014"
             ],
             [
              0.4444444444444444,
              "#000015"
             ],
             [
              0.5555555555555556,
              "#000016"
             ],
             [
              0.6666666666666666,
              "#000017"
             ],
             [
              0.7777777777777778,
              "#000018"
             ],
             [
              0.8888888888888888,
              "#000019"
             ],
             [
              1,
              "#000020"
             ]
            ],
            "type": "contour"
           }
          ],
          "contourcarpet": [
           {
            "colorscale": [
             [
              0,
              "#000011"
             ],
             [
              0.1111111111111111,
              "#000012"
             ],
             [
              0.2222222222222222,
              "#000013"
             ],
             [
              0.3333333333333333,
              "#000014"
             ],
             [
              0.4444444444444444,
              "#000015"
             ],
             [
              0.5555555555555556,
              "#000016"
             ],
             [
              0.6666666666666666,
              "#000017"
             ],
             [
              0.7777777777777778,
              "#000018"
             ],
             [
              0.8888888888888888,
              "#000019"
             ],
             [
              1,
              "#000020"
             ]
            ],
            "type": "contourcarpet"
           }
          ],
          "heatmap": [
           {
            "colorscale": [
             [
              0,
              "#000011"
             ],
             [
              0.1111111111111111,
              "#000012"
             ],
             [
              0.2222222222222222,
              "#000013"
             ],
             [
              0.3333333333333333,
              "#000014"
             ],
             [
              0.4444444444444444,
              "#000015"
             ],
             [
              0.5555555555555556,
              "#000016"
             ],
             [
              0.6666666666666666,
              "#000017"
             ],
             [
              0.7777777777777778,
              "#000018"
             ],
             [
              0.8888888888888888,
              "#000019"
             ],
             [
              1,
              "#000020"
             ]
            ],
            "type": "heatmap"
           }
          ],
          "histogram2d": [
           {
            "colorscale": [
             [
              0,
              "#000011"
             ],
             [
              0.1111111111111111,
              "#000012"
             ],
             [
              0.2222222222222222,
              "#000013"
             ],
             [
              0.3333333333333333,
              "#000014"
             ],
             [
              0.4444444444444444,
              "#000015"
             ],
             [
              0.5555555555555556,
              "#000016"
             ],
             [
              0.6666666666666666,
              "#000017"
             ],
             [
              0.7777777777777778,
              "#000018"
             ],
             [
              0.8888888888888888,
              "#000019"
             ],
             [
              1,
              "#000020"
             ]
            ],
            "type": "histogram2d"
           }
          ],
          "icicle": [
           {
            "textfont": {
             "color": "white"
            },
            "type": "icicle"
           }
          ],
          "sankey": [
           {
            "textfont": {
             "color": "#000036"
            },
            "type": "sankey"
           }
          ],
          "scatter": [
           {
            "marker": {
             "line": {
              "width": 0
             }
            },
            "type": "scatter"
           }
          ],
          "table": [
           {
            "cells": {
             "fill": {
              "color": "#000038"
             },
             "font": {
              "color": "#000037"
             },
             "line": {
              "color": "#000039"
             }
            },
            "header": {
             "fill": {
              "color": "#000040"
             },
             "font": {
              "color": "#000036"
             },
             "line": {
              "color": "#000039"
             }
            },
            "type": "table"
           }
          ],
          "waterfall": [
           {
            "connector": {
             "line": {
              "color": "#000036",
              "width": 2
             }
            },
            "decreasing": {
             "marker": {
              "color": "#000033"
             }
            },
            "increasing": {
             "marker": {
              "color": "#000032"
             }
            },
            "totals": {
             "marker": {
              "color": "#000034"
             }
            },
            "type": "waterfall"
           }
          ]
         },
         "layout": {
          "coloraxis": {
           "colorscale": [
            [
             0,
             "#000011"
            ],
            [
             0.1111111111111111,
             "#000012"
            ],
            [
             0.2222222222222222,
             "#000013"
            ],
            [
             0.3333333333333333,
             "#000014"
            ],
            [
             0.4444444444444444,
             "#000015"
            ],
            [
             0.5555555555555556,
             "#000016"
            ],
            [
             0.6666666666666666,
             "#000017"
            ],
            [
             0.7777777777777778,
             "#000018"
            ],
            [
             0.8888888888888888,
             "#000019"
            ],
            [
             1,
             "#000020"
            ]
           ]
          },
          "colorscale": {
           "diverging": [
            [
             0,
             "#000021"
            ],
            [
             0.1,
             "#000022"
            ],
            [
             0.2,
             "#000023"
            ],
            [
             0.3,
             "#000024"
            ],
            [
             0.4,
             "#000025"
            ],
            [
             0.5,
             "#000026"
            ],
            [
             0.6,
             "#000027"
            ],
            [
             0.7,
             "#000028"
            ],
            [
             0.8,
             "#000029"
            ],
            [
             0.9,
             "#000030"
            ],
            [
             1,
             "#000031"
            ]
           ],
           "sequential": [
            [
             0,
             "#000011"
            ],
            [
             0.1111111111111111,
             "#000012"
            ],
            [
             0.2222222222222222,
             "#000013"
            ],
            [
             0.3333333333333333,
             "#000014"
            ],
            [
             0.4444444444444444,
             "#000015"
            ],
            [
             0.5555555555555556,
             "#000016"
            ],
            [
             0.6666666666666666,
             "#000017"
            ],
            [
             0.7777777777777778,
             "#000018"
            ],
            [
             0.8888888888888888,
             "#000019"
            ],
            [
             1,
             "#000020"
            ]
           ],
           "sequentialminus": [
            [
             0,
             "#000011"
            ],
            [
             0.1111111111111111,
             "#000012"
            ],
            [
             0.2222222222222222,
             "#000013"
            ],
            [
             0.3333333333333333,
             "#000014"
            ],
            [
             0.4444444444444444,
             "#000015"
            ],
            [
             0.5555555555555556,
             "#000016"
            ],
            [
             0.6666666666666666,
             "#000017"
            ],
            [
             0.7777777777777778,
             "#000018"
            ],
            [
             0.8888888888888888,
             "#000019"
            ],
            [
             1,
             "#000020"
            ]
           ]
          },
          "colorway": [
           "#000001",
           "#000002",
           "#000003",
           "#000004",
           "#000005",
           "#000006",
           "#000007",
           "#000008",
           "#000009",
           "#000010"
          ]
         }
        },
        "title": {
         "text": "Number of Transactions Over Time (RUB)"
        },
        "xaxis": {
         "anchor": "y",
         "domain": [
          0,
          1
         ],
         "title": {
          "text": "Date"
         }
        },
        "yaxis": {
         "anchor": "x",
         "domain": [
          0,
          1
         ],
         "title": {
          "text": "Count"
         }
        }
       }
      }
     },
     "metadata": {},
     "output_type": "display_data"
    }
   ],
   "source": [
    "# Group the DataFrame by 'Category' and 'Date' and calculate the sum of 'Sum' and the count of transactions\n",
    "category_sum_over_time = df_fin_rub.groupby(['Category', 'Date'])['Sum'].sum().reset_index()\n",
    "category_count_over_time = df_fin_rub.groupby(['Category', 'Date']).size().reset_index(name='Count')\n",
    "\n",
    "# Create a line graph for the sum of transactions over time for each category\n",
    "fig_sum_over_time = px.line(category_sum_over_time, x='Date', y='Sum', color='Category',\n",
    "                            title='Sum of Transactions Over Time (RUB)')\n",
    "\n",
    "# Create a line graph for the number of transactions over time for each category\n",
    "fig_count_over_time = px.line(category_count_over_time, x='Date', y='Count', color='Category',\n",
    "                              title='Number of Transactions Over Time (RUB)')\n",
    "\n",
    "# Show the interactive graphs\n",
    "fig_sum_over_time.show()\n",
    "fig_count_over_time.show()\n"
   ]
  },
  {
   "cell_type": "markdown",
   "metadata": {},
   "source": [
    "###########################add graph (transactions/time)"
   ]
  },
  {
   "cell_type": "code",
   "execution_count": 203,
   "metadata": {},
   "outputs": [
    {
     "name": "stdout",
     "output_type": "stream",
     "text": [
      "Equipment    62\n",
      "Payout        2\n",
      "Name: Category, dtype: int64\n"
     ]
    }
   ],
   "source": [
    "category_transaction_counts_usd = df_fin_usd['Category'].value_counts()\n",
    "print(category_transaction_counts_usd)"
   ]
  },
  {
   "cell_type": "markdown",
   "metadata": {},
   "source": [
    "\"category\" analysis:"
   ]
  },
  {
   "cell_type": "code",
   "execution_count": 204,
   "metadata": {},
   "outputs": [
    {
     "name": "stdout",
     "output_type": "stream",
     "text": [
      "Category                      Classification\n",
      "Accounting Services           Debit               4\n",
      "Digital Services              Debit              19\n",
      "Equipment                     Credit            330\n",
      "                              Debit             229\n",
      "Event                         Credit              2\n",
      "Field                         Credit            292\n",
      "                              Debit             246\n",
      "Fine                          Credit              1\n",
      "Interest Payment              Credit              1\n",
      "Internal Transfer             Credit              5\n",
      "                              Debit               5\n",
      "International Membership Fee  Debit               7\n",
      "Legal Services                Debit               9\n",
      "Loan                          Credit              3\n",
      "                              Debit               3\n",
      "Logistical Debits             Debit              30\n",
      "Logistical Fees               Debit               1\n",
      "Marketing                     Debit               4\n",
      "Membership Fee                Credit             97\n",
      "Misc                          Debit               4\n",
      "Payout                        Debit               6\n",
      "Name: Operation, dtype: int64\n"
     ]
    }
   ],
   "source": [
    "category_classification_counts_rub = df_fin_rub.groupby(['Category', 'Classification'])['Operation'].count()\n",
    "print(category_classification_counts_rub)"
   ]
  },
  {
   "cell_type": "code",
   "execution_count": 205,
   "metadata": {},
   "outputs": [
    {
     "name": "stdout",
     "output_type": "stream",
     "text": [
      "Category   Classification\n",
      "Equipment  Credit USD        30\n",
      "           Debit USD         32\n",
      "Payout     Debit USD          2\n",
      "Name: Operation, dtype: int64\n"
     ]
    }
   ],
   "source": [
    "category_classification_counts_usd = df_fin_usd.groupby(['Category', 'Classification'])['Operation'].count()\n",
    "print(category_classification_counts_usd)"
   ]
  },
  {
   "cell_type": "markdown",
   "metadata": {},
   "source": [
    "category totals"
   ]
  },
  {
   "cell_type": "code",
   "execution_count": 206,
   "metadata": {},
   "outputs": [
    {
     "name": "stdout",
     "output_type": "stream",
     "text": [
      "                        Category  Total Sum  Number of Transactions  \\\n",
      "0            Accounting Services     -12430                       4   \n",
      "1               Digital Services     -33936                      19   \n",
      "2                      Equipment     126939                     559   \n",
      "3                          Event       5800                       2   \n",
      "4                          Field      36489                     538   \n",
      "5                           Fine       1000                       1   \n",
      "6               Interest Payment       1290                       1   \n",
      "7              Internal Transfer          0                      10   \n",
      "8   International Membership Fee     -90659                       7   \n",
      "9                 Legal Services     -40850                       9   \n",
      "10                          Loan        650                       6   \n",
      "11             Logistical Debits     -26151                      30   \n",
      "12               Logistical Fees      -5000                       1   \n",
      "13                     Marketing      -4900                       4   \n",
      "14                Membership Fee     147400                      97   \n",
      "15                          Misc      -7742                       4   \n",
      "16                        Payout     -97900                       6   \n",
      "\n",
      "    Profit/Loss per Transaction  \n",
      "0                  -3107.500000  \n",
      "1                  -1786.105263  \n",
      "2                    227.082290  \n",
      "3                   2900.000000  \n",
      "4                     67.823420  \n",
      "5                   1000.000000  \n",
      "6                   1290.000000  \n",
      "7                      0.000000  \n",
      "8                 -12951.285714  \n",
      "9                  -4538.888889  \n",
      "10                   108.333333  \n",
      "11                  -871.700000  \n",
      "12                 -5000.000000  \n",
      "13                 -1225.000000  \n",
      "14                  1519.587629  \n",
      "15                 -1935.500000  \n",
      "16                -16316.666667  \n"
     ]
    }
   ],
   "source": [
    "category_summary_rub = df_fin_rub.groupby('Category').agg({'Sum': ['sum', 'count']})\n",
    "category_summary_rub.columns = ['Total Sum', 'Number of Transactions']\n",
    "category_summary_rub = category_summary_rub.reset_index()\n",
    "\n",
    "category_summary_rub['Profit/Loss per Transaction'] = category_summary_rub['Total Sum'] / category_summary_rub['Number of Transactions']\n",
    "\n",
    "\n",
    "print(category_summary_rub)"
   ]
  },
  {
   "cell_type": "code",
   "execution_count": 207,
   "metadata": {},
   "outputs": [
    {
     "data": {
      "application/vnd.plotly.v1+json": {
       "config": {
        "plotlyServerURL": "https://plot.ly"
       },
       "data": [
        {
         "alignmentgroup": "True",
         "hovertemplate": "Category=%{x}<br>Total Sum=%{y}<extra></extra>",
         "legendgroup": "",
         "marker": {
          "color": "#000001",
          "pattern": {
           "shape": ""
          }
         },
         "name": "",
         "offsetgroup": "",
         "orientation": "v",
         "showlegend": false,
         "textposition": "auto",
         "type": "bar",
         "x": [
          "Membership Fee",
          "Equipment",
          "Field",
          "Event",
          "Interest Payment",
          "Fine",
          "Loan",
          "Internal Transfer",
          "Marketing",
          "Logistical Fees"
         ],
         "xaxis": "x",
         "y": [
          147400,
          126939,
          36489,
          5800,
          1290,
          1000,
          650,
          0,
          -4900,
          -5000
         ],
         "yaxis": "y"
        }
       ],
       "layout": {
        "barmode": "relative",
        "legend": {
         "tracegroupgap": 0
        },
        "template": {
         "data": {
          "candlestick": [
           {
            "decreasing": {
             "line": {
              "color": "#000033"
             }
            },
            "increasing": {
             "line": {
              "color": "#000032"
             }
            },
            "type": "candlestick"
           }
          ],
          "contour": [
           {
            "colorscale": [
             [
              0,
              "#000011"
             ],
             [
              0.1111111111111111,
              "#000012"
             ],
             [
              0.2222222222222222,
              "#000013"
             ],
             [
              0.3333333333333333,
              "#000014"
             ],
             [
              0.4444444444444444,
              "#000015"
             ],
             [
              0.5555555555555556,
              "#000016"
             ],
             [
              0.6666666666666666,
              "#000017"
             ],
             [
              0.7777777777777778,
              "#000018"
             ],
             [
              0.8888888888888888,
              "#000019"
             ],
             [
              1,
              "#000020"
             ]
            ],
            "type": "contour"
           }
          ],
          "contourcarpet": [
           {
            "colorscale": [
             [
              0,
              "#000011"
             ],
             [
              0.1111111111111111,
              "#000012"
             ],
             [
              0.2222222222222222,
              "#000013"
             ],
             [
              0.3333333333333333,
              "#000014"
             ],
             [
              0.4444444444444444,
              "#000015"
             ],
             [
              0.5555555555555556,
              "#000016"
             ],
             [
              0.6666666666666666,
              "#000017"
             ],
             [
              0.7777777777777778,
              "#000018"
             ],
             [
              0.8888888888888888,
              "#000019"
             ],
             [
              1,
              "#000020"
             ]
            ],
            "type": "contourcarpet"
           }
          ],
          "heatmap": [
           {
            "colorscale": [
             [
              0,
              "#000011"
             ],
             [
              0.1111111111111111,
              "#000012"
             ],
             [
              0.2222222222222222,
              "#000013"
             ],
             [
              0.3333333333333333,
              "#000014"
             ],
             [
              0.4444444444444444,
              "#000015"
             ],
             [
              0.5555555555555556,
              "#000016"
             ],
             [
              0.6666666666666666,
              "#000017"
             ],
             [
              0.7777777777777778,
              "#000018"
             ],
             [
              0.8888888888888888,
              "#000019"
             ],
             [
              1,
              "#000020"
             ]
            ],
            "type": "heatmap"
           }
          ],
          "histogram2d": [
           {
            "colorscale": [
             [
              0,
              "#000011"
             ],
             [
              0.1111111111111111,
              "#000012"
             ],
             [
              0.2222222222222222,
              "#000013"
             ],
             [
              0.3333333333333333,
              "#000014"
             ],
             [
              0.4444444444444444,
              "#000015"
             ],
             [
              0.5555555555555556,
              "#000016"
             ],
             [
              0.6666666666666666,
              "#000017"
             ],
             [
              0.7777777777777778,
              "#000018"
             ],
             [
              0.8888888888888888,
              "#000019"
             ],
             [
              1,
              "#000020"
             ]
            ],
            "type": "histogram2d"
           }
          ],
          "icicle": [
           {
            "textfont": {
             "color": "white"
            },
            "type": "icicle"
           }
          ],
          "sankey": [
           {
            "textfont": {
             "color": "#000036"
            },
            "type": "sankey"
           }
          ],
          "scatter": [
           {
            "marker": {
             "line": {
              "width": 0
             }
            },
            "type": "scatter"
           }
          ],
          "table": [
           {
            "cells": {
             "fill": {
              "color": "#000038"
             },
             "font": {
              "color": "#000037"
             },
             "line": {
              "color": "#000039"
             }
            },
            "header": {
             "fill": {
              "color": "#000040"
             },
             "font": {
              "color": "#000036"
             },
             "line": {
              "color": "#000039"
             }
            },
            "type": "table"
           }
          ],
          "waterfall": [
           {
            "connector": {
             "line": {
              "color": "#000036",
              "width": 2
             }
            },
            "decreasing": {
             "marker": {
              "color": "#000033"
             }
            },
            "increasing": {
             "marker": {
              "color": "#000032"
             }
            },
            "totals": {
             "marker": {
              "color": "#000034"
             }
            },
            "type": "waterfall"
           }
          ]
         },
         "layout": {
          "coloraxis": {
           "colorscale": [
            [
             0,
             "#000011"
            ],
            [
             0.1111111111111111,
             "#000012"
            ],
            [
             0.2222222222222222,
             "#000013"
            ],
            [
             0.3333333333333333,
             "#000014"
            ],
            [
             0.4444444444444444,
             "#000015"
            ],
            [
             0.5555555555555556,
             "#000016"
            ],
            [
             0.6666666666666666,
             "#000017"
            ],
            [
             0.7777777777777778,
             "#000018"
            ],
            [
             0.8888888888888888,
             "#000019"
            ],
            [
             1,
             "#000020"
            ]
           ]
          },
          "colorscale": {
           "diverging": [
            [
             0,
             "#000021"
            ],
            [
             0.1,
             "#000022"
            ],
            [
             0.2,
             "#000023"
            ],
            [
             0.3,
             "#000024"
            ],
            [
             0.4,
             "#000025"
            ],
            [
             0.5,
             "#000026"
            ],
            [
             0.6,
             "#000027"
            ],
            [
             0.7,
             "#000028"
            ],
            [
             0.8,
             "#000029"
            ],
            [
             0.9,
             "#000030"
            ],
            [
             1,
             "#000031"
            ]
           ],
           "sequential": [
            [
             0,
             "#000011"
            ],
            [
             0.1111111111111111,
             "#000012"
            ],
            [
             0.2222222222222222,
             "#000013"
            ],
            [
             0.3333333333333333,
             "#000014"
            ],
            [
             0.4444444444444444,
             "#000015"
            ],
            [
             0.5555555555555556,
             "#000016"
            ],
            [
             0.6666666666666666,
             "#000017"
            ],
            [
             0.7777777777777778,
             "#000018"
            ],
            [
             0.8888888888888888,
             "#000019"
            ],
            [
             1,
             "#000020"
            ]
           ],
           "sequentialminus": [
            [
             0,
             "#000011"
            ],
            [
             0.1111111111111111,
             "#000012"
            ],
            [
             0.2222222222222222,
             "#000013"
            ],
            [
             0.3333333333333333,
             "#000014"
            ],
            [
             0.4444444444444444,
             "#000015"
            ],
            [
             0.5555555555555556,
             "#000016"
            ],
            [
             0.6666666666666666,
             "#000017"
            ],
            [
             0.7777777777777778,
             "#000018"
            ],
            [
             0.8888888888888888,
             "#000019"
            ],
            [
             1,
             "#000020"
            ]
           ]
          },
          "colorway": [
           "#000001",
           "#000002",
           "#000003",
           "#000004",
           "#000005",
           "#000006",
           "#000007",
           "#000008",
           "#000009",
           "#000010"
          ]
         }
        },
        "title": {
         "text": "Top 10 Categories by Total Sum (RUB)"
        },
        "xaxis": {
         "anchor": "y",
         "domain": [
          0,
          1
         ],
         "title": {
          "text": "Category"
         }
        },
        "yaxis": {
         "anchor": "x",
         "domain": [
          0,
          1
         ],
         "title": {
          "text": "Total Sum"
         }
        }
       }
      }
     },
     "metadata": {},
     "output_type": "display_data"
    },
    {
     "data": {
      "application/vnd.plotly.v1+json": {
       "config": {
        "plotlyServerURL": "https://plot.ly"
       },
       "data": [
        {
         "alignmentgroup": "True",
         "hovertemplate": "Category=%{x}<br>Number of Transactions=%{y}<extra></extra>",
         "legendgroup": "",
         "marker": {
          "color": "#000001",
          "pattern": {
           "shape": ""
          }
         },
         "name": "",
         "offsetgroup": "",
         "orientation": "v",
         "showlegend": false,
         "textposition": "auto",
         "type": "bar",
         "x": [
          "Equipment",
          "Field",
          "Membership Fee",
          "Logistical Debits",
          "Digital Services",
          "Internal Transfer",
          "Legal Services",
          "International Membership Fee",
          "Loan",
          "Payout"
         ],
         "xaxis": "x",
         "y": [
          559,
          538,
          97,
          30,
          19,
          10,
          9,
          7,
          6,
          6
         ],
         "yaxis": "y"
        }
       ],
       "layout": {
        "barmode": "relative",
        "legend": {
         "tracegroupgap": 0
        },
        "template": {
         "data": {
          "candlestick": [
           {
            "decreasing": {
             "line": {
              "color": "#000033"
             }
            },
            "increasing": {
             "line": {
              "color": "#000032"
             }
            },
            "type": "candlestick"
           }
          ],
          "contour": [
           {
            "colorscale": [
             [
              0,
              "#000011"
             ],
             [
              0.1111111111111111,
              "#000012"
             ],
             [
              0.2222222222222222,
              "#000013"
             ],
             [
              0.3333333333333333,
              "#000014"
             ],
             [
              0.4444444444444444,
              "#000015"
             ],
             [
              0.5555555555555556,
              "#000016"
             ],
             [
              0.6666666666666666,
              "#000017"
             ],
             [
              0.7777777777777778,
              "#000018"
             ],
             [
              0.8888888888888888,
              "#000019"
             ],
             [
              1,
              "#000020"
             ]
            ],
            "type": "contour"
           }
          ],
          "contourcarpet": [
           {
            "colorscale": [
             [
              0,
              "#000011"
             ],
             [
              0.1111111111111111,
              "#000012"
             ],
             [
              0.2222222222222222,
              "#000013"
             ],
             [
              0.3333333333333333,
              "#000014"
             ],
             [
              0.4444444444444444,
              "#000015"
             ],
             [
              0.5555555555555556,
              "#000016"
             ],
             [
              0.6666666666666666,
              "#000017"
             ],
             [
              0.7777777777777778,
              "#000018"
             ],
             [
              0.8888888888888888,
              "#000019"
             ],
             [
              1,
              "#000020"
             ]
            ],
            "type": "contourcarpet"
           }
          ],
          "heatmap": [
           {
            "colorscale": [
             [
              0,
              "#000011"
             ],
             [
              0.1111111111111111,
              "#000012"
             ],
             [
              0.2222222222222222,
              "#000013"
             ],
             [
              0.3333333333333333,
              "#000014"
             ],
             [
              0.4444444444444444,
              "#000015"
             ],
             [
              0.5555555555555556,
              "#000016"
             ],
             [
              0.6666666666666666,
              "#000017"
             ],
             [
              0.7777777777777778,
              "#000018"
             ],
             [
              0.8888888888888888,
              "#000019"
             ],
             [
              1,
              "#000020"
             ]
            ],
            "type": "heatmap"
           }
          ],
          "histogram2d": [
           {
            "colorscale": [
             [
              0,
              "#000011"
             ],
             [
              0.1111111111111111,
              "#000012"
             ],
             [
              0.2222222222222222,
              "#000013"
             ],
             [
              0.3333333333333333,
              "#000014"
             ],
             [
              0.4444444444444444,
              "#000015"
             ],
             [
              0.5555555555555556,
              "#000016"
             ],
             [
              0.6666666666666666,
              "#000017"
             ],
             [
              0.7777777777777778,
              "#000018"
             ],
             [
              0.8888888888888888,
              "#000019"
             ],
             [
              1,
              "#000020"
             ]
            ],
            "type": "histogram2d"
           }
          ],
          "icicle": [
           {
            "textfont": {
             "color": "white"
            },
            "type": "icicle"
           }
          ],
          "sankey": [
           {
            "textfont": {
             "color": "#000036"
            },
            "type": "sankey"
           }
          ],
          "scatter": [
           {
            "marker": {
             "line": {
              "width": 0
             }
            },
            "type": "scatter"
           }
          ],
          "table": [
           {
            "cells": {
             "fill": {
              "color": "#000038"
             },
             "font": {
              "color": "#000037"
             },
             "line": {
              "color": "#000039"
             }
            },
            "header": {
             "fill": {
              "color": "#000040"
             },
             "font": {
              "color": "#000036"
             },
             "line": {
              "color": "#000039"
             }
            },
            "type": "table"
           }
          ],
          "waterfall": [
           {
            "connector": {
             "line": {
              "color": "#000036",
              "width": 2
             }
            },
            "decreasing": {
             "marker": {
              "color": "#000033"
             }
            },
            "increasing": {
             "marker": {
              "color": "#000032"
             }
            },
            "totals": {
             "marker": {
              "color": "#000034"
             }
            },
            "type": "waterfall"
           }
          ]
         },
         "layout": {
          "coloraxis": {
           "colorscale": [
            [
             0,
             "#000011"
            ],
            [
             0.1111111111111111,
             "#000012"
            ],
            [
             0.2222222222222222,
             "#000013"
            ],
            [
             0.3333333333333333,
             "#000014"
            ],
            [
             0.4444444444444444,
             "#000015"
            ],
            [
             0.5555555555555556,
             "#000016"
            ],
            [
             0.6666666666666666,
             "#000017"
            ],
            [
             0.7777777777777778,
             "#000018"
            ],
            [
             0.8888888888888888,
             "#000019"
            ],
            [
             1,
             "#000020"
            ]
           ]
          },
          "colorscale": {
           "diverging": [
            [
             0,
             "#000021"
            ],
            [
             0.1,
             "#000022"
            ],
            [
             0.2,
             "#000023"
            ],
            [
             0.3,
             "#000024"
            ],
            [
             0.4,
             "#000025"
            ],
            [
             0.5,
             "#000026"
            ],
            [
             0.6,
             "#000027"
            ],
            [
             0.7,
             "#000028"
            ],
            [
             0.8,
             "#000029"
            ],
            [
             0.9,
             "#000030"
            ],
            [
             1,
             "#000031"
            ]
           ],
           "sequential": [
            [
             0,
             "#000011"
            ],
            [
             0.1111111111111111,
             "#000012"
            ],
            [
             0.2222222222222222,
             "#000013"
            ],
            [
             0.3333333333333333,
             "#000014"
            ],
            [
             0.4444444444444444,
             "#000015"
            ],
            [
             0.5555555555555556,
             "#000016"
            ],
            [
             0.6666666666666666,
             "#000017"
            ],
            [
             0.7777777777777778,
             "#000018"
            ],
            [
             0.8888888888888888,
             "#000019"
            ],
            [
             1,
             "#000020"
            ]
           ],
           "sequentialminus": [
            [
             0,
             "#000011"
            ],
            [
             0.1111111111111111,
             "#000012"
            ],
            [
             0.2222222222222222,
             "#000013"
            ],
            [
             0.3333333333333333,
             "#000014"
            ],
            [
             0.4444444444444444,
             "#000015"
            ],
            [
             0.5555555555555556,
             "#000016"
            ],
            [
             0.6666666666666666,
             "#000017"
            ],
            [
             0.7777777777777778,
             "#000018"
            ],
            [
             0.8888888888888888,
             "#000019"
            ],
            [
             1,
             "#000020"
            ]
           ]
          },
          "colorway": [
           "#000001",
           "#000002",
           "#000003",
           "#000004",
           "#000005",
           "#000006",
           "#000007",
           "#000008",
           "#000009",
           "#000010"
          ]
         }
        },
        "title": {
         "text": "Top 10 Categories by Number of Transactions"
        },
        "xaxis": {
         "anchor": "y",
         "domain": [
          0,
          1
         ],
         "title": {
          "text": "Category"
         }
        },
        "yaxis": {
         "anchor": "x",
         "domain": [
          0,
          1
         ],
         "title": {
          "text": "Number of Transactions"
         }
        }
       }
      }
     },
     "metadata": {},
     "output_type": "display_data"
    },
    {
     "data": {
      "application/vnd.plotly.v1+json": {
       "config": {
        "plotlyServerURL": "https://plot.ly"
       },
       "data": [
        {
         "alignmentgroup": "True",
         "hovertemplate": "Category=%{x}<br>Profit/Loss per Transaction=%{y}<extra></extra>",
         "legendgroup": "",
         "marker": {
          "color": "#000001",
          "pattern": {
           "shape": ""
          }
         },
         "name": "",
         "offsetgroup": "",
         "orientation": "v",
         "showlegend": false,
         "textposition": "auto",
         "type": "bar",
         "x": [
          "Event",
          "Membership Fee",
          "Interest Payment",
          "Fine",
          "Equipment",
          "Loan",
          "Field",
          "Internal Transfer",
          "Logistical Debits",
          "Marketing"
         ],
         "xaxis": "x",
         "y": [
          2900,
          1519.5876288659795,
          1290,
          1000,
          227.08228980322005,
          108.33333333333333,
          67.82342007434944,
          0,
          -871.7,
          -1225
         ],
         "yaxis": "y"
        }
       ],
       "layout": {
        "barmode": "relative",
        "legend": {
         "tracegroupgap": 0
        },
        "template": {
         "data": {
          "candlestick": [
           {
            "decreasing": {
             "line": {
              "color": "#000033"
             }
            },
            "increasing": {
             "line": {
              "color": "#000032"
             }
            },
            "type": "candlestick"
           }
          ],
          "contour": [
           {
            "colorscale": [
             [
              0,
              "#000011"
             ],
             [
              0.1111111111111111,
              "#000012"
             ],
             [
              0.2222222222222222,
              "#000013"
             ],
             [
              0.3333333333333333,
              "#000014"
             ],
             [
              0.4444444444444444,
              "#000015"
             ],
             [
              0.5555555555555556,
              "#000016"
             ],
             [
              0.6666666666666666,
              "#000017"
             ],
             [
              0.7777777777777778,
              "#000018"
             ],
             [
              0.8888888888888888,
              "#000019"
             ],
             [
              1,
              "#000020"
             ]
            ],
            "type": "contour"
           }
          ],
          "contourcarpet": [
           {
            "colorscale": [
             [
              0,
              "#000011"
             ],
             [
              0.1111111111111111,
              "#000012"
             ],
             [
              0.2222222222222222,
              "#000013"
             ],
             [
              0.3333333333333333,
              "#000014"
             ],
             [
              0.4444444444444444,
              "#000015"
             ],
             [
              0.5555555555555556,
              "#000016"
             ],
             [
              0.6666666666666666,
              "#000017"
             ],
             [
              0.7777777777777778,
              "#000018"
             ],
             [
              0.8888888888888888,
              "#000019"
             ],
             [
              1,
              "#000020"
             ]
            ],
            "type": "contourcarpet"
           }
          ],
          "heatmap": [
           {
            "colorscale": [
             [
              0,
              "#000011"
             ],
             [
              0.1111111111111111,
              "#000012"
             ],
             [
              0.2222222222222222,
              "#000013"
             ],
             [
              0.3333333333333333,
              "#000014"
             ],
             [
              0.4444444444444444,
              "#000015"
             ],
             [
              0.5555555555555556,
              "#000016"
             ],
             [
              0.6666666666666666,
              "#000017"
             ],
             [
              0.7777777777777778,
              "#000018"
             ],
             [
              0.8888888888888888,
              "#000019"
             ],
             [
              1,
              "#000020"
             ]
            ],
            "type": "heatmap"
           }
          ],
          "histogram2d": [
           {
            "colorscale": [
             [
              0,
              "#000011"
             ],
             [
              0.1111111111111111,
              "#000012"
             ],
             [
              0.2222222222222222,
              "#000013"
             ],
             [
              0.3333333333333333,
              "#000014"
             ],
             [
              0.4444444444444444,
              "#000015"
             ],
             [
              0.5555555555555556,
              "#000016"
             ],
             [
              0.6666666666666666,
              "#000017"
             ],
             [
              0.7777777777777778,
              "#000018"
             ],
             [
              0.8888888888888888,
              "#000019"
             ],
             [
              1,
              "#000020"
             ]
            ],
            "type": "histogram2d"
           }
          ],
          "icicle": [
           {
            "textfont": {
             "color": "white"
            },
            "type": "icicle"
           }
          ],
          "sankey": [
           {
            "textfont": {
             "color": "#000036"
            },
            "type": "sankey"
           }
          ],
          "scatter": [
           {
            "marker": {
             "line": {
              "width": 0
             }
            },
            "type": "scatter"
           }
          ],
          "table": [
           {
            "cells": {
             "fill": {
              "color": "#000038"
             },
             "font": {
              "color": "#000037"
             },
             "line": {
              "color": "#000039"
             }
            },
            "header": {
             "fill": {
              "color": "#000040"
             },
             "font": {
              "color": "#000036"
             },
             "line": {
              "color": "#000039"
             }
            },
            "type": "table"
           }
          ],
          "waterfall": [
           {
            "connector": {
             "line": {
              "color": "#000036",
              "width": 2
             }
            },
            "decreasing": {
             "marker": {
              "color": "#000033"
             }
            },
            "increasing": {
             "marker": {
              "color": "#000032"
             }
            },
            "totals": {
             "marker": {
              "color": "#000034"
             }
            },
            "type": "waterfall"
           }
          ]
         },
         "layout": {
          "coloraxis": {
           "colorscale": [
            [
             0,
             "#000011"
            ],
            [
             0.1111111111111111,
             "#000012"
            ],
            [
             0.2222222222222222,
             "#000013"
            ],
            [
             0.3333333333333333,
             "#000014"
            ],
            [
             0.4444444444444444,
             "#000015"
            ],
            [
             0.5555555555555556,
             "#000016"
            ],
            [
             0.6666666666666666,
             "#000017"
            ],
            [
             0.7777777777777778,
             "#000018"
            ],
            [
             0.8888888888888888,
             "#000019"
            ],
            [
             1,
             "#000020"
            ]
           ]
          },
          "colorscale": {
           "diverging": [
            [
             0,
             "#000021"
            ],
            [
             0.1,
             "#000022"
            ],
            [
             0.2,
             "#000023"
            ],
            [
             0.3,
             "#000024"
            ],
            [
             0.4,
             "#000025"
            ],
            [
             0.5,
             "#000026"
            ],
            [
             0.6,
             "#000027"
            ],
            [
             0.7,
             "#000028"
            ],
            [
             0.8,
             "#000029"
            ],
            [
             0.9,
             "#000030"
            ],
            [
             1,
             "#000031"
            ]
           ],
           "sequential": [
            [
             0,
             "#000011"
            ],
            [
             0.1111111111111111,
             "#000012"
            ],
            [
             0.2222222222222222,
             "#000013"
            ],
            [
             0.3333333333333333,
             "#000014"
            ],
            [
             0.4444444444444444,
             "#000015"
            ],
            [
             0.5555555555555556,
             "#000016"
            ],
            [
             0.6666666666666666,
             "#000017"
            ],
            [
             0.7777777777777778,
             "#000018"
            ],
            [
             0.8888888888888888,
             "#000019"
            ],
            [
             1,
             "#000020"
            ]
           ],
           "sequentialminus": [
            [
             0,
             "#000011"
            ],
            [
             0.1111111111111111,
             "#000012"
            ],
            [
             0.2222222222222222,
             "#000013"
            ],
            [
             0.3333333333333333,
             "#000014"
            ],
            [
             0.4444444444444444,
             "#000015"
            ],
            [
             0.5555555555555556,
             "#000016"
            ],
            [
             0.6666666666666666,
             "#000017"
            ],
            [
             0.7777777777777778,
             "#000018"
            ],
            [
             0.8888888888888888,
             "#000019"
            ],
            [
             1,
             "#000020"
            ]
           ]
          },
          "colorway": [
           "#000001",
           "#000002",
           "#000003",
           "#000004",
           "#000005",
           "#000006",
           "#000007",
           "#000008",
           "#000009",
           "#000010"
          ]
         }
        },
        "title": {
         "text": "Top 10 Categories by Profit/Loss per Transaction (RUB)"
        },
        "xaxis": {
         "anchor": "y",
         "domain": [
          0,
          1
         ],
         "title": {
          "text": "Category"
         }
        },
        "yaxis": {
         "anchor": "x",
         "domain": [
          0,
          1
         ],
         "title": {
          "text": "Profit/Loss per Transaction"
         }
        }
       }
      }
     },
     "metadata": {},
     "output_type": "display_data"
    }
   ],
   "source": [
    "# Sort the DataFrame by 'Total Sum' in descending order and select the top 10 rows\n",
    "top_10_total_sum_rub = category_summary_rub.sort_values(by='Total Sum', ascending=False).head(10)\n",
    "\n",
    "# Create a horizontal bar graph for 'Total Sum'\n",
    "fig_total_sum_rub = px.bar(top_10_total_sum_rub, x='Category', y='Total Sum',\n",
    "                      title='Top 10 Categories by Total Sum (RUB)')\n",
    "\n",
    "# Create a horizontal bar graph for 'Number of Transactions'\n",
    "top_10_transactions_rub = category_summary_rub.sort_values(by='Number of Transactions', ascending=False).head(10)\n",
    "fig_transactions_rub = px.bar(top_10_transactions_rub, x='Category', y='Number of Transactions',\n",
    "                          title='Top 10 Categories by Number of Transactions')\n",
    "\n",
    "# Create a horizontal bar graph for 'Profit/Loss per Transaction'\n",
    "top_10_profit_loss_rub = category_summary_rub.sort_values(by='Profit/Loss per Transaction', ascending=False).head(10)\n",
    "fig_profit_loss_rub = px.bar(top_10_profit_loss_rub, x='Category', y='Profit/Loss per Transaction',\n",
    "                        title='Top 10 Categories by Profit/Loss per Transaction (RUB)')\n",
    "\n",
    "# Show the interactive graphs\n",
    "fig_total_sum_rub.show()\n",
    "fig_transactions_rub.show()\n",
    "fig_profit_loss_rub.show()\n"
   ]
  },
  {
   "cell_type": "code",
   "execution_count": 208,
   "metadata": {},
   "outputs": [
    {
     "name": "stdout",
     "output_type": "stream",
     "text": [
      "    Category  Total Sum  Number of Transactions  Profit/Loss per Transaction\n",
      "0  Equipment       1046                      62                    16.870968\n",
      "1     Payout      -1046                       2                  -523.000000\n"
     ]
    }
   ],
   "source": [
    "category_summary_usd = df_fin_usd.groupby('Category').agg({'Sum': ['sum', 'count']})\n",
    "category_summary_usd.columns = ['Total Sum', 'Number of Transactions']\n",
    "category_summary_usd = category_summary_usd.reset_index()\n",
    "\n",
    "category_summary_usd['Profit/Loss per Transaction'] = category_summary_usd['Total Sum'] / category_summary_usd['Number of Transactions']\n",
    "\n",
    "print(category_summary_usd)"
   ]
  },
  {
   "cell_type": "code",
   "execution_count": 209,
   "metadata": {},
   "outputs": [
    {
     "data": {
      "application/vnd.plotly.v1+json": {
       "config": {
        "plotlyServerURL": "https://plot.ly"
       },
       "data": [
        {
         "alignmentgroup": "True",
         "hovertemplate": "Category=%{x}<br>Total Sum=%{y}<extra></extra>",
         "legendgroup": "",
         "marker": {
          "color": "#000001",
          "pattern": {
           "shape": ""
          }
         },
         "name": "",
         "offsetgroup": "",
         "orientation": "v",
         "showlegend": false,
         "textposition": "auto",
         "type": "bar",
         "x": [
          "Equipment",
          "Payout"
         ],
         "xaxis": "x",
         "y": [
          1046,
          -1046
         ],
         "yaxis": "y"
        }
       ],
       "layout": {
        "barmode": "relative",
        "legend": {
         "tracegroupgap": 0
        },
        "template": {
         "data": {
          "candlestick": [
           {
            "decreasing": {
             "line": {
              "color": "#000033"
             }
            },
            "increasing": {
             "line": {
              "color": "#000032"
             }
            },
            "type": "candlestick"
           }
          ],
          "contour": [
           {
            "colorscale": [
             [
              0,
              "#000011"
             ],
             [
              0.1111111111111111,
              "#000012"
             ],
             [
              0.2222222222222222,
              "#000013"
             ],
             [
              0.3333333333333333,
              "#000014"
             ],
             [
              0.4444444444444444,
              "#000015"
             ],
             [
              0.5555555555555556,
              "#000016"
             ],
             [
              0.6666666666666666,
              "#000017"
             ],
             [
              0.7777777777777778,
              "#000018"
             ],
             [
              0.8888888888888888,
              "#000019"
             ],
             [
              1,
              "#000020"
             ]
            ],
            "type": "contour"
           }
          ],
          "contourcarpet": [
           {
            "colorscale": [
             [
              0,
              "#000011"
             ],
             [
              0.1111111111111111,
              "#000012"
             ],
             [
              0.2222222222222222,
              "#000013"
             ],
             [
              0.3333333333333333,
              "#000014"
             ],
             [
              0.4444444444444444,
              "#000015"
             ],
             [
              0.5555555555555556,
              "#000016"
             ],
             [
              0.6666666666666666,
              "#000017"
             ],
             [
              0.7777777777777778,
              "#000018"
             ],
             [
              0.8888888888888888,
              "#000019"
             ],
             [
              1,
              "#000020"
             ]
            ],
            "type": "contourcarpet"
           }
          ],
          "heatmap": [
           {
            "colorscale": [
             [
              0,
              "#000011"
             ],
             [
              0.1111111111111111,
              "#000012"
             ],
             [
              0.2222222222222222,
              "#000013"
             ],
             [
              0.3333333333333333,
              "#000014"
             ],
             [
              0.4444444444444444,
              "#000015"
             ],
             [
              0.5555555555555556,
              "#000016"
             ],
             [
              0.6666666666666666,
              "#000017"
             ],
             [
              0.7777777777777778,
              "#000018"
             ],
             [
              0.8888888888888888,
              "#000019"
             ],
             [
              1,
              "#000020"
             ]
            ],
            "type": "heatmap"
           }
          ],
          "histogram2d": [
           {
            "colorscale": [
             [
              0,
              "#000011"
             ],
             [
              0.1111111111111111,
              "#000012"
             ],
             [
              0.2222222222222222,
              "#000013"
             ],
             [
              0.3333333333333333,
              "#000014"
             ],
             [
              0.4444444444444444,
              "#000015"
             ],
             [
              0.5555555555555556,
              "#000016"
             ],
             [
              0.6666666666666666,
              "#000017"
             ],
             [
              0.7777777777777778,
              "#000018"
             ],
             [
              0.8888888888888888,
              "#000019"
             ],
             [
              1,
              "#000020"
             ]
            ],
            "type": "histogram2d"
           }
          ],
          "icicle": [
           {
            "textfont": {
             "color": "white"
            },
            "type": "icicle"
           }
          ],
          "sankey": [
           {
            "textfont": {
             "color": "#000036"
            },
            "type": "sankey"
           }
          ],
          "scatter": [
           {
            "marker": {
             "line": {
              "width": 0
             }
            },
            "type": "scatter"
           }
          ],
          "table": [
           {
            "cells": {
             "fill": {
              "color": "#000038"
             },
             "font": {
              "color": "#000037"
             },
             "line": {
              "color": "#000039"
             }
            },
            "header": {
             "fill": {
              "color": "#000040"
             },
             "font": {
              "color": "#000036"
             },
             "line": {
              "color": "#000039"
             }
            },
            "type": "table"
           }
          ],
          "waterfall": [
           {
            "connector": {
             "line": {
              "color": "#000036",
              "width": 2
             }
            },
            "decreasing": {
             "marker": {
              "color": "#000033"
             }
            },
            "increasing": {
             "marker": {
              "color": "#000032"
             }
            },
            "totals": {
             "marker": {
              "color": "#000034"
             }
            },
            "type": "waterfall"
           }
          ]
         },
         "layout": {
          "coloraxis": {
           "colorscale": [
            [
             0,
             "#000011"
            ],
            [
             0.1111111111111111,
             "#000012"
            ],
            [
             0.2222222222222222,
             "#000013"
            ],
            [
             0.3333333333333333,
             "#000014"
            ],
            [
             0.4444444444444444,
             "#000015"
            ],
            [
             0.5555555555555556,
             "#000016"
            ],
            [
             0.6666666666666666,
             "#000017"
            ],
            [
             0.7777777777777778,
             "#000018"
            ],
            [
             0.8888888888888888,
             "#000019"
            ],
            [
             1,
             "#000020"
            ]
           ]
          },
          "colorscale": {
           "diverging": [
            [
             0,
             "#000021"
            ],
            [
             0.1,
             "#000022"
            ],
            [
             0.2,
             "#000023"
            ],
            [
             0.3,
             "#000024"
            ],
            [
             0.4,
             "#000025"
            ],
            [
             0.5,
             "#000026"
            ],
            [
             0.6,
             "#000027"
            ],
            [
             0.7,
             "#000028"
            ],
            [
             0.8,
             "#000029"
            ],
            [
             0.9,
             "#000030"
            ],
            [
             1,
             "#000031"
            ]
           ],
           "sequential": [
            [
             0,
             "#000011"
            ],
            [
             0.1111111111111111,
             "#000012"
            ],
            [
             0.2222222222222222,
             "#000013"
            ],
            [
             0.3333333333333333,
             "#000014"
            ],
            [
             0.4444444444444444,
             "#000015"
            ],
            [
             0.5555555555555556,
             "#000016"
            ],
            [
             0.6666666666666666,
             "#000017"
            ],
            [
             0.7777777777777778,
             "#000018"
            ],
            [
             0.8888888888888888,
             "#000019"
            ],
            [
             1,
             "#000020"
            ]
           ],
           "sequentialminus": [
            [
             0,
             "#000011"
            ],
            [
             0.1111111111111111,
             "#000012"
            ],
            [
             0.2222222222222222,
             "#000013"
            ],
            [
             0.3333333333333333,
             "#000014"
            ],
            [
             0.4444444444444444,
             "#000015"
            ],
            [
             0.5555555555555556,
             "#000016"
            ],
            [
             0.6666666666666666,
             "#000017"
            ],
            [
             0.7777777777777778,
             "#000018"
            ],
            [
             0.8888888888888888,
             "#000019"
            ],
            [
             1,
             "#000020"
            ]
           ]
          },
          "colorway": [
           "#000001",
           "#000002",
           "#000003",
           "#000004",
           "#000005",
           "#000006",
           "#000007",
           "#000008",
           "#000009",
           "#000010"
          ]
         }
        },
        "title": {
         "text": "Top 10 Categories by Total Sum (usd)"
        },
        "xaxis": {
         "anchor": "y",
         "domain": [
          0,
          1
         ],
         "title": {
          "text": "Category"
         }
        },
        "yaxis": {
         "anchor": "x",
         "domain": [
          0,
          1
         ],
         "title": {
          "text": "Total Sum"
         }
        }
       }
      }
     },
     "metadata": {},
     "output_type": "display_data"
    },
    {
     "data": {
      "application/vnd.plotly.v1+json": {
       "config": {
        "plotlyServerURL": "https://plot.ly"
       },
       "data": [
        {
         "alignmentgroup": "True",
         "hovertemplate": "Category=%{x}<br>Number of Transactions=%{y}<extra></extra>",
         "legendgroup": "",
         "marker": {
          "color": "#000001",
          "pattern": {
           "shape": ""
          }
         },
         "name": "",
         "offsetgroup": "",
         "orientation": "v",
         "showlegend": false,
         "textposition": "auto",
         "type": "bar",
         "x": [
          "Equipment",
          "Payout"
         ],
         "xaxis": "x",
         "y": [
          62,
          2
         ],
         "yaxis": "y"
        }
       ],
       "layout": {
        "barmode": "relative",
        "legend": {
         "tracegroupgap": 0
        },
        "template": {
         "data": {
          "candlestick": [
           {
            "decreasing": {
             "line": {
              "color": "#000033"
             }
            },
            "increasing": {
             "line": {
              "color": "#000032"
             }
            },
            "type": "candlestick"
           }
          ],
          "contour": [
           {
            "colorscale": [
             [
              0,
              "#000011"
             ],
             [
              0.1111111111111111,
              "#000012"
             ],
             [
              0.2222222222222222,
              "#000013"
             ],
             [
              0.3333333333333333,
              "#000014"
             ],
             [
              0.4444444444444444,
              "#000015"
             ],
             [
              0.5555555555555556,
              "#000016"
             ],
             [
              0.6666666666666666,
              "#000017"
             ],
             [
              0.7777777777777778,
              "#000018"
             ],
             [
              0.8888888888888888,
              "#000019"
             ],
             [
              1,
              "#000020"
             ]
            ],
            "type": "contour"
           }
          ],
          "contourcarpet": [
           {
            "colorscale": [
             [
              0,
              "#000011"
             ],
             [
              0.1111111111111111,
              "#000012"
             ],
             [
              0.2222222222222222,
              "#000013"
             ],
             [
              0.3333333333333333,
              "#000014"
             ],
             [
              0.4444444444444444,
              "#000015"
             ],
             [
              0.5555555555555556,
              "#000016"
             ],
             [
              0.6666666666666666,
              "#000017"
             ],
             [
              0.7777777777777778,
              "#000018"
             ],
             [
              0.8888888888888888,
              "#000019"
             ],
             [
              1,
              "#000020"
             ]
            ],
            "type": "contourcarpet"
           }
          ],
          "heatmap": [
           {
            "colorscale": [
             [
              0,
              "#000011"
             ],
             [
              0.1111111111111111,
              "#000012"
             ],
             [
              0.2222222222222222,
              "#000013"
             ],
             [
              0.3333333333333333,
              "#000014"
             ],
             [
              0.4444444444444444,
              "#000015"
             ],
             [
              0.5555555555555556,
              "#000016"
             ],
             [
              0.6666666666666666,
              "#000017"
             ],
             [
              0.7777777777777778,
              "#000018"
             ],
             [
              0.8888888888888888,
              "#000019"
             ],
             [
              1,
              "#000020"
             ]
            ],
            "type": "heatmap"
           }
          ],
          "histogram2d": [
           {
            "colorscale": [
             [
              0,
              "#000011"
             ],
             [
              0.1111111111111111,
              "#000012"
             ],
             [
              0.2222222222222222,
              "#000013"
             ],
             [
              0.3333333333333333,
              "#000014"
             ],
             [
              0.4444444444444444,
              "#000015"
             ],
             [
              0.5555555555555556,
              "#000016"
             ],
             [
              0.6666666666666666,
              "#000017"
             ],
             [
              0.7777777777777778,
              "#000018"
             ],
             [
              0.8888888888888888,
              "#000019"
             ],
             [
              1,
              "#000020"
             ]
            ],
            "type": "histogram2d"
           }
          ],
          "icicle": [
           {
            "textfont": {
             "color": "white"
            },
            "type": "icicle"
           }
          ],
          "sankey": [
           {
            "textfont": {
             "color": "#000036"
            },
            "type": "sankey"
           }
          ],
          "scatter": [
           {
            "marker": {
             "line": {
              "width": 0
             }
            },
            "type": "scatter"
           }
          ],
          "table": [
           {
            "cells": {
             "fill": {
              "color": "#000038"
             },
             "font": {
              "color": "#000037"
             },
             "line": {
              "color": "#000039"
             }
            },
            "header": {
             "fill": {
              "color": "#000040"
             },
             "font": {
              "color": "#000036"
             },
             "line": {
              "color": "#000039"
             }
            },
            "type": "table"
           }
          ],
          "waterfall": [
           {
            "connector": {
             "line": {
              "color": "#000036",
              "width": 2
             }
            },
            "decreasing": {
             "marker": {
              "color": "#000033"
             }
            },
            "increasing": {
             "marker": {
              "color": "#000032"
             }
            },
            "totals": {
             "marker": {
              "color": "#000034"
             }
            },
            "type": "waterfall"
           }
          ]
         },
         "layout": {
          "coloraxis": {
           "colorscale": [
            [
             0,
             "#000011"
            ],
            [
             0.1111111111111111,
             "#000012"
            ],
            [
             0.2222222222222222,
             "#000013"
            ],
            [
             0.3333333333333333,
             "#000014"
            ],
            [
             0.4444444444444444,
             "#000015"
            ],
            [
             0.5555555555555556,
             "#000016"
            ],
            [
             0.6666666666666666,
             "#000017"
            ],
            [
             0.7777777777777778,
             "#000018"
            ],
            [
             0.8888888888888888,
             "#000019"
            ],
            [
             1,
             "#000020"
            ]
           ]
          },
          "colorscale": {
           "diverging": [
            [
             0,
             "#000021"
            ],
            [
             0.1,
             "#000022"
            ],
            [
             0.2,
             "#000023"
            ],
            [
             0.3,
             "#000024"
            ],
            [
             0.4,
             "#000025"
            ],
            [
             0.5,
             "#000026"
            ],
            [
             0.6,
             "#000027"
            ],
            [
             0.7,
             "#000028"
            ],
            [
             0.8,
             "#000029"
            ],
            [
             0.9,
             "#000030"
            ],
            [
             1,
             "#000031"
            ]
           ],
           "sequential": [
            [
             0,
             "#000011"
            ],
            [
             0.1111111111111111,
             "#000012"
            ],
            [
             0.2222222222222222,
             "#000013"
            ],
            [
             0.3333333333333333,
             "#000014"
            ],
            [
             0.4444444444444444,
             "#000015"
            ],
            [
             0.5555555555555556,
             "#000016"
            ],
            [
             0.6666666666666666,
             "#000017"
            ],
            [
             0.7777777777777778,
             "#000018"
            ],
            [
             0.8888888888888888,
             "#000019"
            ],
            [
             1,
             "#000020"
            ]
           ],
           "sequentialminus": [
            [
             0,
             "#000011"
            ],
            [
             0.1111111111111111,
             "#000012"
            ],
            [
             0.2222222222222222,
             "#000013"
            ],
            [
             0.3333333333333333,
             "#000014"
            ],
            [
             0.4444444444444444,
             "#000015"
            ],
            [
             0.5555555555555556,
             "#000016"
            ],
            [
             0.6666666666666666,
             "#000017"
            ],
            [
             0.7777777777777778,
             "#000018"
            ],
            [
             0.8888888888888888,
             "#000019"
            ],
            [
             1,
             "#000020"
            ]
           ]
          },
          "colorway": [
           "#000001",
           "#000002",
           "#000003",
           "#000004",
           "#000005",
           "#000006",
           "#000007",
           "#000008",
           "#000009",
           "#000010"
          ]
         }
        },
        "title": {
         "text": "Top 10 Categories by Number of Transactions"
        },
        "xaxis": {
         "anchor": "y",
         "domain": [
          0,
          1
         ],
         "title": {
          "text": "Category"
         }
        },
        "yaxis": {
         "anchor": "x",
         "domain": [
          0,
          1
         ],
         "title": {
          "text": "Number of Transactions"
         }
        }
       }
      }
     },
     "metadata": {},
     "output_type": "display_data"
    },
    {
     "data": {
      "application/vnd.plotly.v1+json": {
       "config": {
        "plotlyServerURL": "https://plot.ly"
       },
       "data": [
        {
         "alignmentgroup": "True",
         "hovertemplate": "Category=%{x}<br>Profit/Loss per Transaction=%{y}<extra></extra>",
         "legendgroup": "",
         "marker": {
          "color": "#000001",
          "pattern": {
           "shape": ""
          }
         },
         "name": "",
         "offsetgroup": "",
         "orientation": "v",
         "showlegend": false,
         "textposition": "auto",
         "type": "bar",
         "x": [
          "Equipment",
          "Payout"
         ],
         "xaxis": "x",
         "y": [
          16.870967741935484,
          -523
         ],
         "yaxis": "y"
        }
       ],
       "layout": {
        "barmode": "relative",
        "legend": {
         "tracegroupgap": 0
        },
        "template": {
         "data": {
          "candlestick": [
           {
            "decreasing": {
             "line": {
              "color": "#000033"
             }
            },
            "increasing": {
             "line": {
              "color": "#000032"
             }
            },
            "type": "candlestick"
           }
          ],
          "contour": [
           {
            "colorscale": [
             [
              0,
              "#000011"
             ],
             [
              0.1111111111111111,
              "#000012"
             ],
             [
              0.2222222222222222,
              "#000013"
             ],
             [
              0.3333333333333333,
              "#000014"
             ],
             [
              0.4444444444444444,
              "#000015"
             ],
             [
              0.5555555555555556,
              "#000016"
             ],
             [
              0.6666666666666666,
              "#000017"
             ],
             [
              0.7777777777777778,
              "#000018"
             ],
             [
              0.8888888888888888,
              "#000019"
             ],
             [
              1,
              "#000020"
             ]
            ],
            "type": "contour"
           }
          ],
          "contourcarpet": [
           {
            "colorscale": [
             [
              0,
              "#000011"
             ],
             [
              0.1111111111111111,
              "#000012"
             ],
             [
              0.2222222222222222,
              "#000013"
             ],
             [
              0.3333333333333333,
              "#000014"
             ],
             [
              0.4444444444444444,
              "#000015"
             ],
             [
              0.5555555555555556,
              "#000016"
             ],
             [
              0.6666666666666666,
              "#000017"
             ],
             [
              0.7777777777777778,
              "#000018"
             ],
             [
              0.8888888888888888,
              "#000019"
             ],
             [
              1,
              "#000020"
             ]
            ],
            "type": "contourcarpet"
           }
          ],
          "heatmap": [
           {
            "colorscale": [
             [
              0,
              "#000011"
             ],
             [
              0.1111111111111111,
              "#000012"
             ],
             [
              0.2222222222222222,
              "#000013"
             ],
             [
              0.3333333333333333,
              "#000014"
             ],
             [
              0.4444444444444444,
              "#000015"
             ],
             [
              0.5555555555555556,
              "#000016"
             ],
             [
              0.6666666666666666,
              "#000017"
             ],
             [
              0.7777777777777778,
              "#000018"
             ],
             [
              0.8888888888888888,
              "#000019"
             ],
             [
              1,
              "#000020"
             ]
            ],
            "type": "heatmap"
           }
          ],
          "histogram2d": [
           {
            "colorscale": [
             [
              0,
              "#000011"
             ],
             [
              0.1111111111111111,
              "#000012"
             ],
             [
              0.2222222222222222,
              "#000013"
             ],
             [
              0.3333333333333333,
              "#000014"
             ],
             [
              0.4444444444444444,
              "#000015"
             ],
             [
              0.5555555555555556,
              "#000016"
             ],
             [
              0.6666666666666666,
              "#000017"
             ],
             [
              0.7777777777777778,
              "#000018"
             ],
             [
              0.8888888888888888,
              "#000019"
             ],
             [
              1,
              "#000020"
             ]
            ],
            "type": "histogram2d"
           }
          ],
          "icicle": [
           {
            "textfont": {
             "color": "white"
            },
            "type": "icicle"
           }
          ],
          "sankey": [
           {
            "textfont": {
             "color": "#000036"
            },
            "type": "sankey"
           }
          ],
          "scatter": [
           {
            "marker": {
             "line": {
              "width": 0
             }
            },
            "type": "scatter"
           }
          ],
          "table": [
           {
            "cells": {
             "fill": {
              "color": "#000038"
             },
             "font": {
              "color": "#000037"
             },
             "line": {
              "color": "#000039"
             }
            },
            "header": {
             "fill": {
              "color": "#000040"
             },
             "font": {
              "color": "#000036"
             },
             "line": {
              "color": "#000039"
             }
            },
            "type": "table"
           }
          ],
          "waterfall": [
           {
            "connector": {
             "line": {
              "color": "#000036",
              "width": 2
             }
            },
            "decreasing": {
             "marker": {
              "color": "#000033"
             }
            },
            "increasing": {
             "marker": {
              "color": "#000032"
             }
            },
            "totals": {
             "marker": {
              "color": "#000034"
             }
            },
            "type": "waterfall"
           }
          ]
         },
         "layout": {
          "coloraxis": {
           "colorscale": [
            [
             0,
             "#000011"
            ],
            [
             0.1111111111111111,
             "#000012"
            ],
            [
             0.2222222222222222,
             "#000013"
            ],
            [
             0.3333333333333333,
             "#000014"
            ],
            [
             0.4444444444444444,
             "#000015"
            ],
            [
             0.5555555555555556,
             "#000016"
            ],
            [
             0.6666666666666666,
             "#000017"
            ],
            [
             0.7777777777777778,
             "#000018"
            ],
            [
             0.8888888888888888,
             "#000019"
            ],
            [
             1,
             "#000020"
            ]
           ]
          },
          "colorscale": {
           "diverging": [
            [
             0,
             "#000021"
            ],
            [
             0.1,
             "#000022"
            ],
            [
             0.2,
             "#000023"
            ],
            [
             0.3,
             "#000024"
            ],
            [
             0.4,
             "#000025"
            ],
            [
             0.5,
             "#000026"
            ],
            [
             0.6,
             "#000027"
            ],
            [
             0.7,
             "#000028"
            ],
            [
             0.8,
             "#000029"
            ],
            [
             0.9,
             "#000030"
            ],
            [
             1,
             "#000031"
            ]
           ],
           "sequential": [
            [
             0,
             "#000011"
            ],
            [
             0.1111111111111111,
             "#000012"
            ],
            [
             0.2222222222222222,
             "#000013"
            ],
            [
             0.3333333333333333,
             "#000014"
            ],
            [
             0.4444444444444444,
             "#000015"
            ],
            [
             0.5555555555555556,
             "#000016"
            ],
            [
             0.6666666666666666,
             "#000017"
            ],
            [
             0.7777777777777778,
             "#000018"
            ],
            [
             0.8888888888888888,
             "#000019"
            ],
            [
             1,
             "#000020"
            ]
           ],
           "sequentialminus": [
            [
             0,
             "#000011"
            ],
            [
             0.1111111111111111,
             "#000012"
            ],
            [
             0.2222222222222222,
             "#000013"
            ],
            [
             0.3333333333333333,
             "#000014"
            ],
            [
             0.4444444444444444,
             "#000015"
            ],
            [
             0.5555555555555556,
             "#000016"
            ],
            [
             0.6666666666666666,
             "#000017"
            ],
            [
             0.7777777777777778,
             "#000018"
            ],
            [
             0.8888888888888888,
             "#000019"
            ],
            [
             1,
             "#000020"
            ]
           ]
          },
          "colorway": [
           "#000001",
           "#000002",
           "#000003",
           "#000004",
           "#000005",
           "#000006",
           "#000007",
           "#000008",
           "#000009",
           "#000010"
          ]
         }
        },
        "title": {
         "text": "Top 10 Categories by Profit/Loss per Transaction (usd)"
        },
        "xaxis": {
         "anchor": "y",
         "domain": [
          0,
          1
         ],
         "title": {
          "text": "Category"
         }
        },
        "yaxis": {
         "anchor": "x",
         "domain": [
          0,
          1
         ],
         "title": {
          "text": "Profit/Loss per Transaction"
         }
        }
       }
      }
     },
     "metadata": {},
     "output_type": "display_data"
    }
   ],
   "source": [
    "# Sort the DataFrame by 'Total Sum' in descending order and select the top 10 rows\n",
    "top_10_total_sum_usd = category_summary_usd.sort_values(by='Total Sum', ascending=False).head(10)\n",
    "\n",
    "# Create a horizontal bar graph for 'Total Sum'\n",
    "fig_total_sum_usd = px.bar(top_10_total_sum_usd, x='Category', y='Total Sum',\n",
    "                      title='Top 10 Categories by Total Sum (usd)')\n",
    "\n",
    "# Create a horizontal bar graph for 'Number of Transactions'\n",
    "top_10_transactions_usd = category_summary_usd.sort_values(by='Number of Transactions', ascending=False).head(10)\n",
    "fig_transactions_usd = px.bar(top_10_transactions_usd, x='Category', y='Number of Transactions',\n",
    "                          title='Top 10 Categories by Number of Transactions')\n",
    "\n",
    "# Create a horizontal bar graph for 'Profit/Loss per Transaction'\n",
    "top_10_profit_loss_usd = category_summary_usd.sort_values(by='Profit/Loss per Transaction', ascending=False).head(10)\n",
    "fig_profit_loss_usd = px.bar(top_10_profit_loss_usd, x='Category', y='Profit/Loss per Transaction',\n",
    "                        title='Top 10 Categories by Profit/Loss per Transaction (usd)')\n",
    "\n",
    "# Show the interactive graphs\n",
    "fig_total_sum_usd.show()\n",
    "fig_transactions_usd.show()\n",
    "fig_profit_loss_usd.show()"
   ]
  },
  {
   "cell_type": "markdown",
   "metadata": {},
   "source": [
    "group by operation"
   ]
  },
  {
   "cell_type": "code",
   "execution_count": 210,
   "metadata": {},
   "outputs": [
    {
     "name": "stdout",
     "output_type": "stream",
     "text": [
      "             Operation  Total Sum  Number of Transactions  \\\n",
      "0        Ball Purchase      -4800                      32   \n",
      "1       Ball Purchases      -2700                       1   \n",
      "2            Ball Sale      20450                      96   \n",
      "3               Credit       1290                       1   \n",
      "4      Elbows Purchase     -42708                      23   \n",
      "5          Elbows Sale      49350                      27   \n",
      "6   Equipment Purchase     -68002                      26   \n",
      "7       Equipment Sale      35180                      25   \n",
      "8           Field Fees    1430805                     288   \n",
      "9         Field Rental   -1405060                     244   \n",
      "10     Gloves Purchase     -38900                      26   \n",
      "11         Gloves Sale      54650                      24   \n",
      "12       Head Purchase     -36488                      17   \n",
      "13           Head Sale      61600                      21   \n",
      "14     Helmet Purchase     -47296                      23   \n",
      "15         Helmet Sale      75700                      22   \n",
      "16     Lacrosse Clinic       5800                       2   \n",
      "17                Loan        250                       2   \n",
      "18       Loan Issuance     -10000                       2   \n",
      "19      Loan Repayment      10400                       2   \n",
      "20  Materials Purchase      -2400                       2   \n",
      "21      Membership Fee     150944                      98   \n",
      "22  Membership Fee EFL     -43442                       4   \n",
      "23  Membership Fee FIL     -47217                       3   \n",
      "24        Order Refund      14577                       2   \n",
      "25             Payment    -128859                      70   \n",
      "26              Payout     -97900                       6   \n",
      "27         Player Fine       1000                       1   \n",
      "28       Reimbursement      12950                       3   \n",
      "29     Shafts Purchase     -49400                      19   \n",
      "30         Shafts Sale      29440                      12   \n",
      "31      Shoulders Sale       1000                       1   \n",
      "32          Stick Sale     141050                      64   \n",
      "33     Sticks Purchase     -80196                      52   \n",
      "34    Strings Purchase      -7239                       3   \n",
      "35        Strings Sale      16000                      26   \n",
      "36        T-Shirt Sale      38471                      10   \n",
      "37   T-Shirts Purchase     -38300                       8   \n",
      "38   Transfer to Artur          0                      10   \n",
      "\n",
      "    Profit/Loss per Transaction  \n",
      "0                   -150.000000  \n",
      "1                  -2700.000000  \n",
      "2                    213.020833  \n",
      "3                   1290.000000  \n",
      "4                  -1856.869565  \n",
      "5                   1827.777778  \n",
      "6                  -2615.461538  \n",
      "7                   1407.200000  \n",
      "8                   4968.072917  \n",
      "9                  -5758.442623  \n",
      "10                 -1496.153846  \n",
      "11                  2277.083333  \n",
      "12                 -2146.352941  \n",
      "13                  2933.333333  \n",
      "14                 -2056.347826  \n",
      "15                  3440.909091  \n",
      "16                  2900.000000  \n",
      "17                   125.000000  \n",
      "18                 -5000.000000  \n",
      "19                  5200.000000  \n",
      "20                 -1200.000000  \n",
      "21                  1540.244898  \n",
      "22                -10860.500000  \n",
      "23                -15739.000000  \n",
      "24                  7288.500000  \n",
      "25                 -1840.842857  \n",
      "26                -16316.666667  \n",
      "27                  1000.000000  \n",
      "28                  4316.666667  \n",
      "29                 -2600.000000  \n",
      "30                  2453.333333  \n",
      "31                  1000.000000  \n",
      "32                  2203.906250  \n",
      "33                 -1542.230769  \n",
      "34                 -2413.000000  \n",
      "35                   615.384615  \n",
      "36                  3847.100000  \n",
      "37                 -4787.500000  \n",
      "38                     0.000000  \n"
     ]
    }
   ],
   "source": [
    "operation_summary_rub = df_fin_rub.groupby('Operation').agg({'Sum': ['sum', 'count']})\n",
    "operation_summary_rub.columns = ['Total Sum', 'Number of Transactions']\n",
    "operation_summary_rub = operation_summary_rub.reset_index()\n",
    "\n",
    "# Calculate the Total Sum per Transaction\n",
    "operation_summary_rub['Profit/Loss per Transaction'] = operation_summary_rub['Total Sum'] / operation_summary_rub['Number of Transactions']\n",
    "\n",
    "print(operation_summary_rub)"
   ]
  },
  {
   "cell_type": "code",
   "execution_count": 211,
   "metadata": {},
   "outputs": [
    {
     "name": "stdout",
     "output_type": "stream",
     "text": [
      "           Operation  Total Sum  Number of Transactions  \\\n",
      "0     Ball Purchases       -181                       1   \n",
      "1    Elbows Purchase       -250                       1   \n",
      "2        Elbows Sale         80                       2   \n",
      "3     Equipment Sale          5                       1   \n",
      "4        Gloves Sale        195                       6   \n",
      "5          Head Sale        310                       7   \n",
      "6        Helmet Sale        240                       5   \n",
      "7             Payout      -1046                       2   \n",
      "8      Reimbursement        181                       1   \n",
      "9            Savings        250                       1   \n",
      "10       Shafts Sale        259                       5   \n",
      "11  Strings Purchase        -68                      30   \n",
      "12      Strings Sale         25                       2   \n",
      "\n",
      "    Profit/Loss per Transaction  \n",
      "0                   -181.000000  \n",
      "1                   -250.000000  \n",
      "2                     40.000000  \n",
      "3                      5.000000  \n",
      "4                     32.500000  \n",
      "5                     44.285714  \n",
      "6                     48.000000  \n",
      "7                   -523.000000  \n",
      "8                    181.000000  \n",
      "9                    250.000000  \n",
      "10                    51.800000  \n",
      "11                    -2.266667  \n",
      "12                    12.500000  \n"
     ]
    }
   ],
   "source": [
    "operation_summary_usd = df_fin_usd.groupby('Operation').agg({'Sum': ['sum', 'count']})\n",
    "operation_summary_usd.columns = ['Total Sum', 'Number of Transactions']\n",
    "operation_summary_usd = operation_summary_usd.reset_index()\n",
    "\n",
    "# Calculate the Total Sum per Transaction\n",
    "operation_summary_usd['Profit/Loss per Transaction'] = operation_summary_usd['Total Sum'] / operation_summary_usd['Number of Transactions']\n",
    "\n",
    "print(operation_summary_usd)"
   ]
  },
  {
   "cell_type": "markdown",
   "metadata": {},
   "source": [
    "\"operation\" analysis"
   ]
  },
  {
   "cell_type": "markdown",
   "metadata": {},
   "source": [
    "identify totals for operation variables "
   ]
  },
  {
   "cell_type": "code",
   "execution_count": 212,
   "metadata": {},
   "outputs": [],
   "source": [
    "# Create variables for each pair/group of usd operations\n",
    "ball_total_usd = df_fin_usd.loc[df_fin_usd['Operation'].isin(['Ball Purchase', 'Ball Sale', 'Ball Purchases']), 'Sum'].sum()\n",
    "elbows_total_usd = df_fin_usd.loc[df_fin_usd['Operation'].isin(['Elbows Purchase', 'Elbows Sale']), 'Sum'].sum()\n",
    "equipment_total_usd = df_fin_usd.loc[df_fin_usd['Operation'].isin(['Equipment Purchase', 'Equipment Sale']), 'Sum'].sum()\n",
    "field_total_usd = df_fin_usd.loc[df_fin_usd['Operation'].isin(['Field Fees', 'Field Rental']), 'Sum'].sum()\n",
    "gloves_total_usd = df_fin_usd.loc[df_fin_usd['Operation'].isin(['Gloves Purchase', 'Gloves Sale']), 'Sum'].sum()\n",
    "head_total_usd = df_fin_usd.loc[df_fin_usd['Operation'].isin(['Head Purchase', 'Head Sale']), 'Sum'].sum()\n",
    "helmet_total_usd = df_fin_usd.loc[df_fin_usd['Operation'].isin(['Helmet Purchase', 'Helmet Sale']), 'Sum'].sum()\n",
    "loan_total_usd = df_fin_usd.loc[df_fin_usd['Operation'].isin(['Loan Issuance', 'Loan Repayment', 'Loan']), 'Sum'].sum()\n",
    "membership_total_usd = df_fin_usd.loc[df_fin_usd['Operation'].isin(['Membership Fee', 'Membership Fee EFL', 'Membership Fee FIL']), 'Sum'].sum()\n",
    "shafts_total_usd = df_fin_usd.loc[df_fin_usd['Operation'].isin(['Shafts Purchase', 'Shafts Sale']), 'Sum'].sum()\n",
    "stick_total_usd = df_fin_usd.loc[df_fin_usd['Operation'].isin(['Stick Sale', 'Sticks Purchase']), 'Sum'].sum()\n",
    "strings_total_usd = df_fin_usd.loc[df_fin_usd['Operation'].isin(['Strings Purchase', 'Strings Sale']), 'Sum'].sum()\n",
    "t_shirt_total_usd = df_fin_usd.loc[df_fin_usd['Operation'].isin(['T-Shirt Sale', 'T-Shirts Purchase']), 'Sum'].sum()"
   ]
  },
  {
   "cell_type": "code",
   "execution_count": 213,
   "metadata": {},
   "outputs": [],
   "source": [
    "# Create variables for each pair/group of rub operations\n",
    "ball_total_rub = df_fin_rub.loc[df_fin_rub['Operation'].isin(['Ball Purchase', 'Ball Sale', 'Ball Purchases']), 'Sum'].sum()\n",
    "elbows_total_rub = df_fin_rub.loc[df_fin_rub['Operation'].isin(['Elbows Purchase', 'Elbows Sale']), 'Sum'].sum()\n",
    "equipment_total_rub = df_fin_rub.loc[df_fin_rub['Operation'].isin(['Equipment Purchase', 'Equipment Sale']), 'Sum'].sum()\n",
    "field_total_rub = df_fin_rub.loc[df_fin_rub['Operation'].isin(['Field Fees', 'Field Rental']), 'Sum'].sum()\n",
    "gloves_total_rub = df_fin_rub.loc[df_fin_rub['Operation'].isin(['Gloves Purchase', 'Gloves Sale']), 'Sum'].sum()\n",
    "head_total_rub = df_fin_rub.loc[df_fin_rub['Operation'].isin(['Head Purchase', 'Head Sale']), 'Sum'].sum()\n",
    "helmet_total_rub = df_fin_rub.loc[df_fin_rub['Operation'].isin(['Helmet Purchase', 'Helmet Sale']), 'Sum'].sum()\n",
    "loan_total_rub = df_fin_rub.loc[df_fin_rub['Operation'].isin(['Loan Issuance', 'Loan Repayment', 'Loan']), 'Sum'].sum()\n",
    "membership_total_rub = df_fin_rub.loc[df_fin_rub['Operation'].isin(['Membership Fee', 'Membership Fee EFL', 'Membership Fee FIL']), 'Sum'].sum()\n",
    "shafts_total_rub = df_fin_rub.loc[df_fin_rub['Operation'].isin(['Shafts Purchase', 'Shafts Sale']), 'Sum'].sum()\n",
    "stick_total_rub = df_fin_rub.loc[df_fin_rub['Operation'].isin(['Stick Sale', 'Sticks Purchase']), 'Sum'].sum()\n",
    "strings_total_rub = df_fin_rub.loc[df_fin_rub['Operation'].isin(['Strings Purchase', 'Strings Sale']), 'Sum'].sum()\n",
    "t_shirt_total_rub = df_fin_rub.loc[df_fin_rub['Operation'].isin(['T-Shirt Sale', 'T-Shirts Purchase']), 'Sum'].sum()"
   ]
  },
  {
   "cell_type": "code",
   "execution_count": 214,
   "metadata": {},
   "outputs": [],
   "source": [
    "# Create variables for usd operations without partners\n",
    "bank_interest_usd = df_fin_usd.loc[df_fin_usd['Operation'] == 'Credit', 'Sum'].sum()\n",
    "materials_purchase_usd = df_fin_usd.loc[df_fin_usd['Operation'] == 'Materials Purchase', 'Sum'].sum()\n",
    "lacrosse_clinic_usd = df_fin_usd.loc[df_fin_usd['Operation'] == 'Lacrosse Clinic', 'Sum'].sum()"
   ]
  },
  {
   "cell_type": "code",
   "execution_count": 215,
   "metadata": {},
   "outputs": [],
   "source": [
    "# Create variables for rub operations without partners\n",
    "bank_interest_rub = df_fin_rub.loc[df_fin_rub['Operation'] == 'Credit', 'Sum'].sum()\n",
    "materials_purchase_rub = df_fin_rub.loc[df_fin_rub['Operation'] == 'Materials Purchase', 'Sum'].sum()\n",
    "lacrosse_clinic_rub = df_fin_rub.loc[df_fin_rub['Operation'] == 'Lacrosse Clinic', 'Sum'].sum()"
   ]
  },
  {
   "cell_type": "code",
   "execution_count": 216,
   "metadata": {},
   "outputs": [],
   "source": [
    "# Add addditonal totals for usd\n",
    "order_refund_total_usd = df_fin_usd.loc[df_fin_usd['Operation'] == 'Order Refund', 'Sum'].sum()\n",
    "payment_total_usd = df_fin_usd.loc[df_fin_usd['Operation'] == 'Payment', 'Sum'].sum()\n",
    "payout_total_usd = df_fin_usd.loc[df_fin_usd['Operation'] == 'Payout', 'Sum'].sum()\n",
    "player_fine_total_usd = df_fin_usd.loc[df_fin_usd['Operation'] == 'Player Fine', 'Sum'].sum()\n",
    "reimbursement_total_usd = df_fin_usd.loc[df_fin_usd['Operation'] == 'Reimbursement', 'Sum'].sum()\n",
    "shoulders_sale_total_usd = df_fin_usd.loc[df_fin_usd['Operation'] == 'Shoulders Sale', 'Sum'].sum()\n",
    "transfer_to_artur_total_usd = df_fin_usd.loc[df_fin_usd['Operation'] == 'Transfer to Artur', 'Sum'].sum()"
   ]
  },
  {
   "cell_type": "code",
   "execution_count": 217,
   "metadata": {},
   "outputs": [],
   "source": [
    "# Add addditonal totals for rub\n",
    "order_refund_total_rub = df_fin_rub.loc[df_fin_rub['Operation'] == 'Order Refund', 'Sum'].sum()\n",
    "payment_total_rub = df_fin_rub.loc[df_fin_rub['Operation'] == 'Payment', 'Sum'].sum()\n",
    "payout_total_rub = df_fin_rub.loc[df_fin_rub['Operation'] == 'Payout', 'Sum'].sum()\n",
    "player_fine_total_rub = df_fin_rub.loc[df_fin_rub['Operation'] == 'Player Fine', 'Sum'].sum()\n",
    "reimbursement_total_rub = df_fin_rub.loc[df_fin_rub['Operation'] == 'Reimbursement', 'Sum'].sum()\n",
    "shoulders_sale_total_rub = df_fin_rub.loc[df_fin_rub['Operation'] == 'Shoulders Sale', 'Sum'].sum()\n",
    "transfer_to_artur_total_rub = df_fin_rub.loc[df_fin_rub['Operation'] == 'Transfer to Artur', 'Sum'].sum()"
   ]
  },
  {
   "cell_type": "markdown",
   "metadata": {},
   "source": [
    "totals:"
   ]
  },
  {
   "cell_type": "markdown",
   "metadata": {},
   "source": [
    "ball_total_usd\n",
    "elbows_total_usd\n",
    "equipment_total_usd\n",
    "field_total_usd\n",
    "gloves_total_usd\n",
    "head_total_usd\n",
    "helmet_total_usd\n",
    "loan_total_usd\n",
    "shafts_total_usd\n",
    "stick_total_usd\n",
    "strings_total_usd\n",
    "t_shirt_total_usd\n",
    "membership_total_usd\n",
    "order_refund_total_usd\n",
    "payment_total_usd\n",
    "payout_total_usd\n",
    "player_fine_total_usd\n",
    "reimbursement_total_usd\n",
    "shoulders_sale_total_usd\n",
    "transfer_to_artur_total_usd\n",
    "bank_interest_usd\n",
    "materials_purchase_usd\n",
    "lacrosse_clinic_usd"
   ]
  },
  {
   "cell_type": "code",
   "execution_count": 218,
   "metadata": {},
   "outputs": [
    {
     "name": "stdout",
     "output_type": "stream",
     "text": [
      "Ball Total USD: -181\n",
      "Elbows Total USD: -170\n",
      "Equipment Total USD: 5\n",
      "Field Total USD: 0\n",
      "Gloves Total USD: 195\n",
      "Head Total USD: 310\n",
      "Helmet Total USD: 240\n",
      "Loan Total USD: 0\n",
      "Shafts Total USD: 259\n",
      "Stick Total USD: 0\n",
      "Strings Total USD: -43\n",
      "T-Shirt Total USD: 0\n",
      "Membership Fee Total USD: 0\n",
      "Order Refund Total USD: 0\n",
      "Payment Total USD: 0\n",
      "Payout Total USD: -1046\n",
      "Player Fine Total USD: 0\n",
      "Reimbursement Total USD: 181\n",
      "Shoulders Sale Total USD: 0\n",
      "Transfer to Artur Total USD: 0\n",
      "Bank Interest USD: 0\n",
      "Materials Purchase USD: 0\n",
      "Lacrosse Clinic USD: 0\n"
     ]
    }
   ],
   "source": [
    "# Display the total sums for each usd operation\n",
    "print(\"Ball Total USD:\", ball_total_usd)\n",
    "print(\"Elbows Total USD:\", elbows_total_usd)\n",
    "print(\"Equipment Total USD:\", equipment_total_usd)\n",
    "print(\"Field Total USD:\", field_total_usd)\n",
    "print(\"Gloves Total USD:\", gloves_total_usd)\n",
    "print(\"Head Total USD:\", head_total_usd)\n",
    "print(\"Helmet Total USD:\", helmet_total_usd)\n",
    "print(\"Loan Total USD:\", loan_total_usd)\n",
    "print(\"Shafts Total USD:\", shafts_total_usd)\n",
    "print(\"Stick Total USD:\", stick_total_usd)\n",
    "print(\"Strings Total USD:\", strings_total_usd)\n",
    "print(\"T-Shirt Total USD:\", t_shirt_total_usd)\n",
    "print(\"Membership Fee Total USD:\", membership_total_usd)\n",
    "print(\"Order Refund Total USD:\", order_refund_total_usd)\n",
    "print(\"Payment Total USD:\", payment_total_usd)\n",
    "print(\"Payout Total USD:\", payout_total_usd)\n",
    "print(\"Player Fine Total USD:\", player_fine_total_usd)\n",
    "print(\"Reimbursement Total USD:\", reimbursement_total_usd)\n",
    "print(\"Shoulders Sale Total USD:\", shoulders_sale_total_usd)\n",
    "print(\"Transfer to Artur Total USD:\", transfer_to_artur_total_usd)\n",
    "print(\"Bank Interest USD:\", bank_interest_usd)\n",
    "print(\"Materials Purchase USD:\", materials_purchase_usd)\n",
    "print(\"Lacrosse Clinic USD:\", lacrosse_clinic_usd)\n"
   ]
  },
  {
   "cell_type": "code",
   "execution_count": 219,
   "metadata": {},
   "outputs": [
    {
     "name": "stdout",
     "output_type": "stream",
     "text": [
      "Ball Total RUB: 12950\n",
      "Elbows Total RUB: 6642\n",
      "Equipment Total RUB: -32822\n",
      "Field Total RUB: 25745\n",
      "Gloves Total RUB: 15750\n",
      "Head Total RUB: 25112\n",
      "Helmet Total RUB: 28404\n",
      "Loan Total RUB: 650\n",
      "Shafts Total RUB: -19960\n",
      "Stick Total RUB: 60854\n",
      "Strings Total RUB: 8761\n",
      "T-Shirt Total RUB: 171\n",
      "Membership Fee Total RUB: 60285\n",
      "Order Refund Total RUB: 14577\n",
      "Payment Total RUB: -128859\n",
      "Payout Total RUB: -97900\n",
      "Player Fine Total RUB: 1000\n",
      "Reimbursement Total RUB: 12950\n",
      "Shoulders Sale Total RUB: 1000\n",
      "Transfer to Artur Total RUB: 0\n",
      "Bank Interest RUB: 1290\n",
      "Materials Purchase RUB: -2400\n",
      "Lacrosse Clinic RUB: 5800\n"
     ]
    }
   ],
   "source": [
    "# Display the total sums for each rub operation\n",
    "print(\"Ball Total RUB:\", ball_total_rub)\n",
    "print(\"Elbows Total RUB:\", elbows_total_rub)\n",
    "print(\"Equipment Total RUB:\", equipment_total_rub)\n",
    "print(\"Field Total RUB:\", field_total_rub)\n",
    "print(\"Gloves Total RUB:\", gloves_total_rub)\n",
    "print(\"Head Total RUB:\", head_total_rub)\n",
    "print(\"Helmet Total RUB:\", helmet_total_rub)\n",
    "print(\"Loan Total RUB:\", loan_total_rub)\n",
    "print(\"Shafts Total RUB:\", shafts_total_rub)\n",
    "print(\"Stick Total RUB:\", stick_total_rub)\n",
    "print(\"Strings Total RUB:\", strings_total_rub)\n",
    "print(\"T-Shirt Total RUB:\", t_shirt_total_rub)\n",
    "print(\"Membership Fee Total RUB:\", membership_total_rub)\n",
    "print(\"Order Refund Total RUB:\", order_refund_total_rub)\n",
    "print(\"Payment Total RUB:\", payment_total_rub)\n",
    "print(\"Payout Total RUB:\", payout_total_rub)\n",
    "print(\"Player Fine Total RUB:\", player_fine_total_rub)\n",
    "print(\"Reimbursement Total RUB:\", reimbursement_total_rub)\n",
    "print(\"Shoulders Sale Total RUB:\", shoulders_sale_total_rub)\n",
    "print(\"Transfer to Artur Total RUB:\", transfer_to_artur_total_rub)\n",
    "print(\"Bank Interest RUB:\", bank_interest_rub)\n",
    "print(\"Materials Purchase RUB:\", materials_purchase_rub)\n",
    "print(\"Lacrosse Clinic RUB:\", lacrosse_clinic_rub)\n"
   ]
  },
  {
   "cell_type": "code",
   "execution_count": 220,
   "metadata": {},
   "outputs": [
    {
     "data": {
      "application/vnd.plotly.v1+json": {
       "config": {
        "plotlyServerURL": "https://plot.ly"
       },
       "data": [
        {
         "alignmentgroup": "True",
         "hovertemplate": "Operation=%{x}<br>Total Sum (RUB)=%{y}<extra></extra>",
         "legendgroup": "",
         "marker": {
          "color": "#000001",
          "pattern": {
           "shape": ""
          }
         },
         "name": "",
         "offsetgroup": "",
         "orientation": "v",
         "showlegend": false,
         "textposition": "auto",
         "type": "bar",
         "x": [
          "Stick",
          "Membership",
          "Helmet",
          "Field",
          "Head",
          "Gloves",
          "Ball",
          "Strings",
          "Elbows",
          "Loan",
          "T-Shirt",
          "Shafts",
          "Equipment"
         ],
         "xaxis": "x",
         "y": [
          60854,
          60285,
          28404,
          25745,
          25112,
          15750,
          12950,
          8761,
          6642,
          650,
          171,
          -19960,
          -32822
         ],
         "yaxis": "y"
        }
       ],
       "layout": {
        "barmode": "relative",
        "legend": {
         "tracegroupgap": 0
        },
        "template": {
         "data": {
          "candlestick": [
           {
            "decreasing": {
             "line": {
              "color": "#000033"
             }
            },
            "increasing": {
             "line": {
              "color": "#000032"
             }
            },
            "type": "candlestick"
           }
          ],
          "contour": [
           {
            "colorscale": [
             [
              0,
              "#000011"
             ],
             [
              0.1111111111111111,
              "#000012"
             ],
             [
              0.2222222222222222,
              "#000013"
             ],
             [
              0.3333333333333333,
              "#000014"
             ],
             [
              0.4444444444444444,
              "#000015"
             ],
             [
              0.5555555555555556,
              "#000016"
             ],
             [
              0.6666666666666666,
              "#000017"
             ],
             [
              0.7777777777777778,
              "#000018"
             ],
             [
              0.8888888888888888,
              "#000019"
             ],
             [
              1,
              "#000020"
             ]
            ],
            "type": "contour"
           }
          ],
          "contourcarpet": [
           {
            "colorscale": [
             [
              0,
              "#000011"
             ],
             [
              0.1111111111111111,
              "#000012"
             ],
             [
              0.2222222222222222,
              "#000013"
             ],
             [
              0.3333333333333333,
              "#000014"
             ],
             [
              0.4444444444444444,
              "#000015"
             ],
             [
              0.5555555555555556,
              "#000016"
             ],
             [
              0.6666666666666666,
              "#000017"
             ],
             [
              0.7777777777777778,
              "#000018"
             ],
             [
              0.8888888888888888,
              "#000019"
             ],
             [
              1,
              "#000020"
             ]
            ],
            "type": "contourcarpet"
           }
          ],
          "heatmap": [
           {
            "colorscale": [
             [
              0,
              "#000011"
             ],
             [
              0.1111111111111111,
              "#000012"
             ],
             [
              0.2222222222222222,
              "#000013"
             ],
             [
              0.3333333333333333,
              "#000014"
             ],
             [
              0.4444444444444444,
              "#000015"
             ],
             [
              0.5555555555555556,
              "#000016"
             ],
             [
              0.6666666666666666,
              "#000017"
             ],
             [
              0.7777777777777778,
              "#000018"
             ],
             [
              0.8888888888888888,
              "#000019"
             ],
             [
              1,
              "#000020"
             ]
            ],
            "type": "heatmap"
           }
          ],
          "histogram2d": [
           {
            "colorscale": [
             [
              0,
              "#000011"
             ],
             [
              0.1111111111111111,
              "#000012"
             ],
             [
              0.2222222222222222,
              "#000013"
             ],
             [
              0.3333333333333333,
              "#000014"
             ],
             [
              0.4444444444444444,
              "#000015"
             ],
             [
              0.5555555555555556,
              "#000016"
             ],
             [
              0.6666666666666666,
              "#000017"
             ],
             [
              0.7777777777777778,
              "#000018"
             ],
             [
              0.8888888888888888,
              "#000019"
             ],
             [
              1,
              "#000020"
             ]
            ],
            "type": "histogram2d"
           }
          ],
          "icicle": [
           {
            "textfont": {
             "color": "white"
            },
            "type": "icicle"
           }
          ],
          "sankey": [
           {
            "textfont": {
             "color": "#000036"
            },
            "type": "sankey"
           }
          ],
          "scatter": [
           {
            "marker": {
             "line": {
              "width": 0
             }
            },
            "type": "scatter"
           }
          ],
          "table": [
           {
            "cells": {
             "fill": {
              "color": "#000038"
             },
             "font": {
              "color": "#000037"
             },
             "line": {
              "color": "#000039"
             }
            },
            "header": {
             "fill": {
              "color": "#000040"
             },
             "font": {
              "color": "#000036"
             },
             "line": {
              "color": "#000039"
             }
            },
            "type": "table"
           }
          ],
          "waterfall": [
           {
            "connector": {
             "line": {
              "color": "#000036",
              "width": 2
             }
            },
            "decreasing": {
             "marker": {
              "color": "#000033"
             }
            },
            "increasing": {
             "marker": {
              "color": "#000032"
             }
            },
            "totals": {
             "marker": {
              "color": "#000034"
             }
            },
            "type": "waterfall"
           }
          ]
         },
         "layout": {
          "coloraxis": {
           "colorscale": [
            [
             0,
             "#000011"
            ],
            [
             0.1111111111111111,
             "#000012"
            ],
            [
             0.2222222222222222,
             "#000013"
            ],
            [
             0.3333333333333333,
             "#000014"
            ],
            [
             0.4444444444444444,
             "#000015"
            ],
            [
             0.5555555555555556,
             "#000016"
            ],
            [
             0.6666666666666666,
             "#000017"
            ],
            [
             0.7777777777777778,
             "#000018"
            ],
            [
             0.8888888888888888,
             "#000019"
            ],
            [
             1,
             "#000020"
            ]
           ]
          },
          "colorscale": {
           "diverging": [
            [
             0,
             "#000021"
            ],
            [
             0.1,
             "#000022"
            ],
            [
             0.2,
             "#000023"
            ],
            [
             0.3,
             "#000024"
            ],
            [
             0.4,
             "#000025"
            ],
            [
             0.5,
             "#000026"
            ],
            [
             0.6,
             "#000027"
            ],
            [
             0.7,
             "#000028"
            ],
            [
             0.8,
             "#000029"
            ],
            [
             0.9,
             "#000030"
            ],
            [
             1,
             "#000031"
            ]
           ],
           "sequential": [
            [
             0,
             "#000011"
            ],
            [
             0.1111111111111111,
             "#000012"
            ],
            [
             0.2222222222222222,
             "#000013"
            ],
            [
             0.3333333333333333,
             "#000014"
            ],
            [
             0.4444444444444444,
             "#000015"
            ],
            [
             0.5555555555555556,
             "#000016"
            ],
            [
             0.6666666666666666,
             "#000017"
            ],
            [
             0.7777777777777778,
             "#000018"
            ],
            [
             0.8888888888888888,
             "#000019"
            ],
            [
             1,
             "#000020"
            ]
           ],
           "sequentialminus": [
            [
             0,
             "#000011"
            ],
            [
             0.1111111111111111,
             "#000012"
            ],
            [
             0.2222222222222222,
             "#000013"
            ],
            [
             0.3333333333333333,
             "#000014"
            ],
            [
             0.4444444444444444,
             "#000015"
            ],
            [
             0.5555555555555556,
             "#000016"
            ],
            [
             0.6666666666666666,
             "#000017"
            ],
            [
             0.7777777777777778,
             "#000018"
            ],
            [
             0.8888888888888888,
             "#000019"
            ],
            [
             1,
             "#000020"
            ]
           ]
          },
          "colorway": [
           "#000001",
           "#000002",
           "#000003",
           "#000004",
           "#000005",
           "#000006",
           "#000007",
           "#000008",
           "#000009",
           "#000010"
          ]
         }
        },
        "title": {
         "text": "Top 25 Profit for Rub Operations"
        },
        "xaxis": {
         "anchor": "y",
         "domain": [
          0,
          1
         ],
         "title": {
          "text": "Operation"
         }
        },
        "yaxis": {
         "anchor": "x",
         "domain": [
          0,
          1
         ],
         "title": {
          "text": "Total Sum (RUB)"
         }
        }
       }
      }
     },
     "metadata": {},
     "output_type": "display_data"
    }
   ],
   "source": [
    "# Calculate the total sums for each operation\n",
    "total_sums = [\n",
    "    (\"Ball\", ball_total_rub),\n",
    "    (\"Elbows\", elbows_total_rub),\n",
    "    (\"Equipment\", equipment_total_rub),\n",
    "    (\"Field\", field_total_rub),\n",
    "    (\"Gloves\", gloves_total_rub),\n",
    "    (\"Head\", head_total_rub),\n",
    "    (\"Helmet\", helmet_total_rub),\n",
    "    (\"Loan\", loan_total_rub),\n",
    "    (\"Membership\", membership_total_rub),\n",
    "    (\"Shafts\", shafts_total_rub),\n",
    "    (\"Stick\", stick_total_rub),\n",
    "    (\"Strings\", strings_total_rub),\n",
    "    (\"T-Shirt\", t_shirt_total_rub),\n",
    "]\n",
    "\n",
    "# Create a DataFrame\n",
    "df_total_sums_rub = pd.DataFrame(total_sums, columns=[\"Operation\", \"Total Sum\"])\n",
    "\n",
    "# Sort the DataFrame by Total Sum in descending order\n",
    "df_total_sums_rub  = df_total_sums_rub .sort_values(by=\"Total Sum\", ascending=False)\n",
    "\n",
    "# Select the top 25 rows\n",
    "top_25_total_sums = df_total_sums_rub .head(25)\n",
    "\n",
    "# Create a bar graph\n",
    "fig = px.bar(\n",
    "    top_25_total_sums,\n",
    "    x=\"Operation\",\n",
    "    y=\"Total Sum\",\n",
    "    labels={\"Total Sum\": \"Total Sum (RUB)\"},\n",
    "    title=\"Top 25 Profit for Rub Operations\",\n",
    ")\n",
    "\n",
    "# Show the graph\n",
    "fig.show()\n"
   ]
  },
  {
   "cell_type": "code",
   "execution_count": 221,
   "metadata": {},
   "outputs": [
    {
     "data": {
      "application/vnd.plotly.v1+json": {
       "config": {
        "plotlyServerURL": "https://plot.ly"
       },
       "data": [
        {
         "alignmentgroup": "True",
         "hovertemplate": "Operation=%{x}<br>Sum=%{y}<extra></extra>",
         "legendgroup": "",
         "marker": {
          "color": "#000001",
          "pattern": {
           "shape": ""
          }
         },
         "name": "",
         "offsetgroup": "",
         "orientation": "v",
         "showlegend": false,
         "textposition": "auto",
         "type": "bar",
         "x": [
          "Field Fees",
          "Membership Fee",
          "Stick Sale",
          "Helmet Sale",
          "Head Sale",
          "Gloves Sale",
          "Elbows Sale",
          "T-Shirt Sale",
          "Equipment Sale",
          "Shafts Sale"
         ],
         "xaxis": "x",
         "y": [
          1430805,
          150944,
          141050,
          75700,
          61600,
          54650,
          49350,
          38471,
          35180,
          29440
         ],
         "yaxis": "y"
        }
       ],
       "layout": {
        "barmode": "relative",
        "legend": {
         "tracegroupgap": 0
        },
        "template": {
         "data": {
          "candlestick": [
           {
            "decreasing": {
             "line": {
              "color": "#000033"
             }
            },
            "increasing": {
             "line": {
              "color": "#000032"
             }
            },
            "type": "candlestick"
           }
          ],
          "contour": [
           {
            "colorscale": [
             [
              0,
              "#000011"
             ],
             [
              0.1111111111111111,
              "#000012"
             ],
             [
              0.2222222222222222,
              "#000013"
             ],
             [
              0.3333333333333333,
              "#000014"
             ],
             [
              0.4444444444444444,
              "#000015"
             ],
             [
              0.5555555555555556,
              "#000016"
             ],
             [
              0.6666666666666666,
              "#000017"
             ],
             [
              0.7777777777777778,
              "#000018"
             ],
             [
              0.8888888888888888,
              "#000019"
             ],
             [
              1,
              "#000020"
             ]
            ],
            "type": "contour"
           }
          ],
          "contourcarpet": [
           {
            "colorscale": [
             [
              0,
              "#000011"
             ],
             [
              0.1111111111111111,
              "#000012"
             ],
             [
              0.2222222222222222,
              "#000013"
             ],
             [
              0.3333333333333333,
              "#000014"
             ],
             [
              0.4444444444444444,
              "#000015"
             ],
             [
              0.5555555555555556,
              "#000016"
             ],
             [
              0.6666666666666666,
              "#000017"
             ],
             [
              0.7777777777777778,
              "#000018"
             ],
             [
              0.8888888888888888,
              "#000019"
             ],
             [
              1,
              "#000020"
             ]
            ],
            "type": "contourcarpet"
           }
          ],
          "heatmap": [
           {
            "colorscale": [
             [
              0,
              "#000011"
             ],
             [
              0.1111111111111111,
              "#000012"
             ],
             [
              0.2222222222222222,
              "#000013"
             ],
             [
              0.3333333333333333,
              "#000014"
             ],
             [
              0.4444444444444444,
              "#000015"
             ],
             [
              0.5555555555555556,
              "#000016"
             ],
             [
              0.6666666666666666,
              "#000017"
             ],
             [
              0.7777777777777778,
              "#000018"
             ],
             [
              0.8888888888888888,
              "#000019"
             ],
             [
              1,
              "#000020"
             ]
            ],
            "type": "heatmap"
           }
          ],
          "histogram2d": [
           {
            "colorscale": [
             [
              0,
              "#000011"
             ],
             [
              0.1111111111111111,
              "#000012"
             ],
             [
              0.2222222222222222,
              "#000013"
             ],
             [
              0.3333333333333333,
              "#000014"
             ],
             [
              0.4444444444444444,
              "#000015"
             ],
             [
              0.5555555555555556,
              "#000016"
             ],
             [
              0.6666666666666666,
              "#000017"
             ],
             [
              0.7777777777777778,
              "#000018"
             ],
             [
              0.8888888888888888,
              "#000019"
             ],
             [
              1,
              "#000020"
             ]
            ],
            "type": "histogram2d"
           }
          ],
          "icicle": [
           {
            "textfont": {
             "color": "white"
            },
            "type": "icicle"
           }
          ],
          "sankey": [
           {
            "textfont": {
             "color": "#000036"
            },
            "type": "sankey"
           }
          ],
          "scatter": [
           {
            "marker": {
             "line": {
              "width": 0
             }
            },
            "type": "scatter"
           }
          ],
          "table": [
           {
            "cells": {
             "fill": {
              "color": "#000038"
             },
             "font": {
              "color": "#000037"
             },
             "line": {
              "color": "#000039"
             }
            },
            "header": {
             "fill": {
              "color": "#000040"
             },
             "font": {
              "color": "#000036"
             },
             "line": {
              "color": "#000039"
             }
            },
            "type": "table"
           }
          ],
          "waterfall": [
           {
            "connector": {
             "line": {
              "color": "#000036",
              "width": 2
             }
            },
            "decreasing": {
             "marker": {
              "color": "#000033"
             }
            },
            "increasing": {
             "marker": {
              "color": "#000032"
             }
            },
            "totals": {
             "marker": {
              "color": "#000034"
             }
            },
            "type": "waterfall"
           }
          ]
         },
         "layout": {
          "coloraxis": {
           "colorscale": [
            [
             0,
             "#000011"
            ],
            [
             0.1111111111111111,
             "#000012"
            ],
            [
             0.2222222222222222,
             "#000013"
            ],
            [
             0.3333333333333333,
             "#000014"
            ],
            [
             0.4444444444444444,
             "#000015"
            ],
            [
             0.5555555555555556,
             "#000016"
            ],
            [
             0.6666666666666666,
             "#000017"
            ],
            [
             0.7777777777777778,
             "#000018"
            ],
            [
             0.8888888888888888,
             "#000019"
            ],
            [
             1,
             "#000020"
            ]
           ]
          },
          "colorscale": {
           "diverging": [
            [
             0,
             "#000021"
            ],
            [
             0.1,
             "#000022"
            ],
            [
             0.2,
             "#000023"
            ],
            [
             0.3,
             "#000024"
            ],
            [
             0.4,
             "#000025"
            ],
            [
             0.5,
             "#000026"
            ],
            [
             0.6,
             "#000027"
            ],
            [
             0.7,
             "#000028"
            ],
            [
             0.8,
             "#000029"
            ],
            [
             0.9,
             "#000030"
            ],
            [
             1,
             "#000031"
            ]
           ],
           "sequential": [
            [
             0,
             "#000011"
            ],
            [
             0.1111111111111111,
             "#000012"
            ],
            [
             0.2222222222222222,
             "#000013"
            ],
            [
             0.3333333333333333,
             "#000014"
            ],
            [
             0.4444444444444444,
             "#000015"
            ],
            [
             0.5555555555555556,
             "#000016"
            ],
            [
             0.6666666666666666,
             "#000017"
            ],
            [
             0.7777777777777778,
             "#000018"
            ],
            [
             0.8888888888888888,
             "#000019"
            ],
            [
             1,
             "#000020"
            ]
           ],
           "sequentialminus": [
            [
             0,
             "#000011"
            ],
            [
             0.1111111111111111,
             "#000012"
            ],
            [
             0.2222222222222222,
             "#000013"
            ],
            [
             0.3333333333333333,
             "#000014"
            ],
            [
             0.4444444444444444,
             "#000015"
            ],
            [
             0.5555555555555556,
             "#000016"
            ],
            [
             0.6666666666666666,
             "#000017"
            ],
            [
             0.7777777777777778,
             "#000018"
            ],
            [
             0.8888888888888888,
             "#000019"
            ],
            [
             1,
             "#000020"
            ]
           ]
          },
          "colorway": [
           "#000001",
           "#000002",
           "#000003",
           "#000004",
           "#000005",
           "#000006",
           "#000007",
           "#000008",
           "#000009",
           "#000010"
          ]
         }
        },
        "title": {
         "text": "Top 10 Operations by Total Sum (RUB)"
        },
        "xaxis": {
         "anchor": "y",
         "domain": [
          0,
          1
         ],
         "title": {
          "text": "Operation"
         }
        },
        "yaxis": {
         "anchor": "x",
         "domain": [
          0,
          1
         ],
         "title": {
          "text": "Sum"
         }
        }
       }
      }
     },
     "metadata": {},
     "output_type": "display_data"
    }
   ],
   "source": [
    "# Group the data by 'Operation' and sum the 'Sum' values for each group\n",
    "operation_summary_rub = df_fin_rub.groupby('Operation')['Sum'].sum().reset_index()\n",
    "\n",
    "# Sort the data in descending order by the 'Sum' column and get the top 10 rows\n",
    "top_10_operations = operation_summary_rub.sort_values(by='Sum', ascending=False).head(10)\n",
    "\n",
    "# Create a bar graph using Plotly Express\n",
    "fig = px.bar(top_10_operations, x='Operation', y='Sum', title='Top 10 Operations by Total Sum (RUB)')\n",
    "\n",
    "# Show the graph\n",
    "fig.show()\n"
   ]
  },
  {
   "cell_type": "code",
   "execution_count": 222,
   "metadata": {},
   "outputs": [
    {
     "data": {
      "image/png": "[encoded data removed]",
      "text/plain": [
       "<Figure size 1200x600 with 1 Axes>"
      ]
     },
     "metadata": {},
     "output_type": "display_data"
    }
   ],
   "source": [
    "# Group the rub data by Date and the revenue variable and sum the \"Sum\" column\n",
    "revenue_data_rub = df_fin_rub.groupby(['Date', 'Operation'])['Sum'].sum().unstack()\n",
    "\n",
    "# Plot the data for each revenue variable\n",
    "plt.figure(figsize=(12, 6))\n",
    "for operation in revenue_data_rub.columns:\n",
    "    plt.plot(revenue_data_rub.index, revenue_data_rub[operation], label=operation)\n",
    "\n",
    "plt.xlabel('Date')\n",
    "plt.ylabel('Total Sales (rub)')\n",
    "plt.title('Total Sales Over Time (rub)')\n",
    "plt.legend(loc='upper right', fontsize='small')\n",
    "plt.grid(True)\n",
    "plt.show()"
   ]
  },
  {
   "cell_type": "code",
   "execution_count": 223,
   "metadata": {},
   "outputs": [
    {
     "data": {
      "image/png": "[encoded data removed]",
      "text/plain": [
       "<Figure size 1200x600 with 1 Axes>"
      ]
     },
     "metadata": {},
     "output_type": "display_data"
    }
   ],
   "source": [
    "# Filter the data for a specific operation, e.g., \"Ball Sale\"\n",
    "revenue_data_rub = df_fin_rub[df_fin_rub['Operation'] == 'Ball Sale']\n",
    "\n",
    "# Plot the revenue data\n",
    "plt.figure(figsize=(12, 6))\n",
    "plt.plot(revenue_data_rub['Date'], revenue_data_rub['Sum'], label='Ball Sale (RUB)')\n",
    "\n",
    "plt.xlabel('Date')\n",
    "plt.ylabel('Revenue (RUB)')\n",
    "plt.title('Revenue Over Time for \"Ball Sale\" (RUB)')\n",
    "plt.legend(loc='upper right')\n",
    "plt.grid(True)\n",
    "plt.show()\n"
   ]
  },
  {
   "cell_type": "code",
   "execution_count": 224,
   "metadata": {},
   "outputs": [
    {
     "data": {
      "image/png": "[encoded data removed]",
      "text/plain": [
       "<Figure size 1200x600 with 1 Axes>"
      ]
     },
     "metadata": {},
     "output_type": "display_data"
    }
   ],
   "source": [
    "# Get the unique revenue operation types\n",
    "revenue_operation_types = df_fin_rub[df_fin_rub['Sum'] > 0]['Operation'].unique()\n",
    "\n",
    "# Plot line graphs for each revenue operation type\n",
    "plt.figure(figsize=(12, 6))\n",
    "for operation_type in revenue_operation_types:\n",
    "    revenue_data_rub = df_fin_rub[df_fin_rub['Operation'] == operation_type]\n",
    "    plt.plot(revenue_data_rub['Date'], revenue_data_rub['Sum'], label=f'{operation_type} (RUB)')\n",
    "\n",
    "plt.xlabel('Date')\n",
    "plt.ylabel('Revenue (RUB)')\n",
    "plt.title('Revenue Over Time for Different Operation Types (RUB)')\n",
    "plt.legend(loc='upper right', bbox_to_anchor=(1.25, 1))\n",
    "plt.grid(True)\n",
    "plt.show()\n"
   ]
  },
  {
   "cell_type": "code",
   "execution_count": 225,
   "metadata": {},
   "outputs": [
    {
     "data": {
      "application/vnd.plotly.v1+json": {
       "config": {
        "plotlyServerURL": "https://plot.ly"
       },
       "data": [
        {
         "hovertemplate": "Operation=Membership Fee<br>Date=%{x}<br>Revenue (RUB)=%{y}<extra></extra>",
         "legendgroup": "Membership Fee",
         "line": {
          "color": "#000001",
          "dash": "solid"
         },
         "marker": {
          "symbol": "circle"
         },
         "mode": "lines",
         "name": "Membership Fee",
         "orientation": "v",
         "showlegend": true,
         "type": "scatter",
         "x": [
          "2015-08-01T00:00:00",
          "2015-08-01T00:00:00",
          "2015-08-05T00:00:00",
          "2015-08-17T00:00:00",
          "2015-08-17T00:00:00",
          "2015-08-17T00:00:00",
          "2015-08-17T00:00:00",
          "2015-08-17T00:00:00",
          "2015-08-17T00:00:00",
          "2015-08-25T00:00:00",
          "2015-09-01T00:00:00",
          "2015-09-01T00:00:00",
          "2015-09-01T00:00:00",
          "2015-09-01T00:00:00",
          "2015-09-01T00:00:00",
          "2015-09-01T00:00:00",
          "2015-09-01T00:00:00",
          "2015-09-01T00:00:00",
          "2015-09-01T00:00:00",
          "2015-09-01T00:00:00",
          "2015-09-01T00:00:00",
          "2015-09-01T00:00:00",
          "2015-09-01T00:00:00",
          "2015-09-01T00:00:00",
          "2015-09-03T00:00:00",
          "2015-09-10T00:00:00",
          "2015-09-10T00:00:00",
          "2015-09-10T00:00:00",
          "2015-09-10T00:00:00",
          "2015-09-20T00:00:00",
          "2015-09-20T00:00:00",
          "2015-10-01T00:00:00",
          "2015-10-01T00:00:00",
          "2015-10-01T00:00:00",
          "2015-10-10T00:00:00",
          "2015-10-10T00:00:00",
          "2015-10-10T00:00:00",
          "2015-10-20T00:00:00",
          "2015-10-25T00:00:00",
          "2015-10-30T00:00:00",
          "2015-11-01T00:00:00",
          "2015-11-02T00:00:00",
          "2015-11-02T00:00:00",
          "2015-11-05T00:00:00",
          "2015-11-15T00:00:00",
          "2015-11-20T00:00:00",
          "2016-04-10T00:00:00",
          "2016-04-10T00:00:00",
          "2016-04-20T00:00:00",
          "2016-04-20T00:00:00",
          "2016-04-25T00:00:00",
          "2016-04-25T00:00:00",
          "2016-04-25T00:00:00",
          "2016-04-26T00:00:00",
          "2016-04-28T00:00:00",
          "2016-04-28T00:00:00",
          "2016-05-01T00:00:00",
          "2016-05-05T00:00:00",
          "2016-05-05T00:00:00",
          "2016-05-05T00:00:00",
          "2016-05-15T00:00:00",
          "2016-05-22T00:00:00",
          "2016-05-22T00:00:00",
          "2016-06-01T00:00:00",
          "2016-06-20T00:00:00",
          "2016-06-20T00:00:00",
          "2016-07-01T00:00:00",
          "2016-07-04T00:00:00",
          "2016-07-28T00:00:00",
          "2016-08-05T00:00:00",
          "2016-08-25T00:00:00",
          "2016-09-01T00:00:00",
          "2016-09-03T00:00:00",
          "2016-09-10T00:00:00",
          "2016-09-10T00:00:00",
          "2016-09-17T00:00:00",
          "2016-09-17T00:00:00",
          "2016-09-27T00:00:00",
          "2016-09-29T00:00:00",
          "2016-11-16T00:00:00",
          "2016-12-02T00:00:00",
          "2016-12-02T00:00:00",
          "2017-07-01T00:00:00",
          "2017-07-10T00:00:00",
          "2017-07-10T00:00:00",
          "2017-07-16T00:00:00",
          "2017-08-01T00:00:00",
          "2017-08-05T00:00:00",
          "2017-08-05T00:00:00",
          "2017-08-10T00:00:00",
          "2017-08-10T00:00:00",
          "2017-09-01T00:00:00",
          "2017-09-10T00:00:00",
          "2017-09-12T00:00:00",
          "2017-09-12T00:00:00",
          "2017-09-12T00:00:00",
          "2017-09-18T00:00:00",
          "2017-10-20T00:00:00"
         ],
         "xaxis": "x",
         "y": [
          29000,
          7250,
          1000,
          250,
          1000,
          3000,
          500,
          1000,
          500,
          500,
          500,
          500,
          500,
          250,
          500,
          500,
          250,
          250,
          500,
          500,
          1000,
          1500,
          1000,
          500,
          500,
          500,
          250,
          500,
          500,
          250,
          250,
          500,
          500,
          2500,
          1500,
          1000,
          500,
          750,
          6000,
          1000,
          500,
          2250,
          3000,
          1500,
          1500,
          3544,
          1500,
          1750,
          1000,
          1000,
          500,
          500,
          1250,
          500,
          1000,
          250,
          1450,
          500,
          500,
          500,
          1000,
          1000,
          250,
          500,
          3500,
          3500,
          2000,
          1500,
          2000,
          1500,
          1000,
          1000,
          500,
          1000,
          1000,
          500,
          1000,
          500,
          250,
          1500,
          400,
          800,
          1000,
          4250,
          1000,
          1000,
          500,
          1500,
          1500,
          250,
          1000,
          10000,
          2500,
          2000,
          2000,
          500,
          1000,
          1000
         ],
         "yaxis": "y"
        },
        {
         "hovertemplate": "Operation=Stick Sale<br>Date=%{x}<br>Revenue (RUB)=%{y}<extra></extra>",
         "legendgroup": "Stick Sale",
         "line": {
          "color": "#000002",
          "dash": "solid"
         },
         "marker": {
          "symbol": "circle"
         },
         "mode": "lines",
         "name": "Stick Sale",
         "orientation": "v",
         "showlegend": true,
         "type": "scatter",
         "x": [
          "2015-08-01T00:00:00",
          "2015-08-01T00:00:00",
          "2015-08-01T00:00:00",
          "2015-08-01T00:00:00",
          "2015-08-05T00:00:00",
          "2015-09-10T00:00:00",
          "2016-01-25T00:00:00",
          "2016-01-25T00:00:00",
          "2016-03-20T00:00:00",
          "2016-03-20T00:00:00",
          "2016-03-20T00:00:00",
          "2016-04-01T00:00:00",
          "2016-04-20T00:00:00",
          "2016-04-26T00:00:00",
          "2016-05-15T00:00:00",
          "2016-05-20T00:00:00",
          "2016-05-27T00:00:00",
          "2016-09-03T00:00:00",
          "2016-09-10T00:00:00",
          "2016-09-27T00:00:00",
          "2016-09-27T00:00:00",
          "2017-04-15T00:00:00",
          "2017-04-20T00:00:00",
          "2017-04-27T00:00:00",
          "2017-07-05T00:00:00",
          "2017-08-05T00:00:00",
          "2017-09-10T00:00:00",
          "2017-11-27T00:00:00",
          "2017-12-18T00:00:00",
          "2017-12-18T00:00:00",
          "2017-12-18T00:00:00",
          "2017-12-18T00:00:00",
          "2017-12-18T00:00:00",
          "2017-12-18T00:00:00",
          "2017-12-18T00:00:00",
          "2017-12-18T00:00:00",
          "2017-12-18T00:00:00",
          "2017-12-18T00:00:00",
          "2018-04-26T00:00:00",
          "2018-04-26T00:00:00",
          "2018-05-02T00:00:00",
          "2018-05-27T00:00:00",
          "2018-05-29T00:00:00",
          "2019-03-15T00:00:00",
          "2019-03-28T00:00:00",
          "2019-12-21T00:00:00",
          "2019-12-29T00:00:00",
          "2020-01-03T00:00:00",
          "2020-06-18T00:00:00",
          "2020-06-18T00:00:00",
          "2020-06-18T00:00:00",
          "2020-07-01T00:00:00",
          "2020-07-17T00:00:00",
          "2020-07-17T00:00:00",
          "2020-07-17T00:00:00",
          "2020-07-17T00:00:00",
          "2020-07-17T00:00:00",
          "2020-07-17T00:00:00",
          "2020-07-17T00:00:00",
          "2020-07-17T00:00:00",
          "2020-07-17T00:00:00",
          "2021-06-26T00:00:00",
          "2021-07-06T00:00:00",
          "2021-08-07T00:00:00"
         ],
         "xaxis": "x",
         "y": [
          3000,
          3000,
          3000,
          3000,
          3000,
          2500,
          2200,
          2200,
          1500,
          1500,
          1500,
          2000,
          3450,
          1500,
          1300,
          1600,
          1450,
          2000,
          200,
          1500,
          1500,
          2500,
          5200,
          5000,
          2000,
          1500,
          2500,
          1500,
          1725,
          1725,
          1725,
          1725,
          1725,
          1725,
          1725,
          1725,
          1725,
          1725,
          1500,
          2000,
          2000,
          4000,
          2500,
          2000,
          2000,
          2000,
          2000,
          2000,
          3400,
          3400,
          3400,
          2000,
          2000,
          2000,
          2000,
          2000,
          2000,
          2000,
          2000,
          2000,
          2000,
          2500,
          4000,
          2000
         ],
         "yaxis": "y"
        },
        {
         "hovertemplate": "Operation=Helmet Sale<br>Date=%{x}<br>Revenue (RUB)=%{y}<extra></extra>",
         "legendgroup": "Helmet Sale",
         "line": {
          "color": "#000003",
          "dash": "solid"
         },
         "marker": {
          "symbol": "circle"
         },
         "mode": "lines",
         "name": "Helmet Sale",
         "orientation": "v",
         "showlegend": true,
         "type": "scatter",
         "x": [
          "2015-08-01T00:00:00",
          "2015-08-05T00:00:00",
          "2015-10-15T00:00:00",
          "2015-10-20T00:00:00",
          "2015-11-15T00:00:00",
          "2016-02-02T00:00:00",
          "2016-04-26T00:00:00",
          "2016-05-15T00:00:00",
          "2016-09-17T00:00:00",
          "2017-04-15T00:00:00",
          "2017-04-27T00:00:00",
          "2017-10-20T00:00:00",
          "2017-10-20T00:00:00",
          "2018-05-27T00:00:00",
          "2018-05-27T00:00:00",
          "2018-05-27T00:00:00",
          "2018-08-06T00:00:00",
          "2019-03-15T00:00:00",
          "2019-11-30T00:00:00",
          "2020-08-02T00:00:00",
          "2020-09-27T00:00:00",
          "2020-10-30T00:00:00"
         ],
         "xaxis": "x",
         "y": [
          3900,
          4000,
          5000,
          3000,
          3000,
          1000,
          2300,
          3500,
          3500,
          3000,
          3700,
          1800,
          1500,
          3000,
          3000,
          3000,
          4000,
          5000,
          6000,
          4500,
          5000,
          3000
         ],
         "yaxis": "y"
        },
        {
         "hovertemplate": "Operation=Strings Sale<br>Date=%{x}<br>Revenue (RUB)=%{y}<extra></extra>",
         "legendgroup": "Strings Sale",
         "line": {
          "color": "#000004",
          "dash": "solid"
         },
         "marker": {
          "symbol": "circle"
         },
         "mode": "lines",
         "name": "Strings Sale",
         "orientation": "v",
         "showlegend": true,
         "type": "scatter",
         "x": [
          "2015-08-05T00:00:00",
          "2016-08-10T00:00:00",
          "2016-12-02T00:00:00",
          "2017-04-10T00:00:00",
          "2019-03-28T00:00:00",
          "2019-04-13T00:00:00",
          "2019-04-13T00:00:00",
          "2019-04-13T00:00:00",
          "2019-04-13T00:00:00",
          "2019-07-02T00:00:00",
          "2019-07-14T00:00:00",
          "2020-07-17T00:00:00",
          "2020-10-21T00:00:00",
          "2020-11-28T00:00:00",
          "2020-12-06T00:00:00",
          "2020-12-27T00:00:00",
          "2021-01-22T00:00:00",
          "2021-07-02T00:00:00",
          "2021-07-21T00:00:00",
          "2021-07-31T00:00:00",
          "2021-08-07T00:00:00",
          "2021-08-15T00:00:00",
          "2021-10-01T00:00:00",
          "2021-10-10T00:00:00",
          "2021-12-22T00:00:00",
          "2022-03-22T00:00:00"
         ],
         "xaxis": "x",
         "y": [
          300,
          300,
          300,
          300,
          1000,
          100,
          100,
          100,
          100,
          2500,
          300,
          500,
          900,
          500,
          500,
          500,
          500,
          1000,
          1300,
          1000,
          500,
          900,
          600,
          600,
          300,
          1000
         ],
         "yaxis": "y"
        },
        {
         "hovertemplate": "Operation=Head Sale<br>Date=%{x}<br>Revenue (RUB)=%{y}<extra></extra>",
         "legendgroup": "Head Sale",
         "line": {
          "color": "#000005",
          "dash": "solid"
         },
         "marker": {
          "symbol": "circle"
         },
         "mode": "lines",
         "name": "Head Sale",
         "orientation": "v",
         "showlegend": true,
         "type": "scatter",
         "x": [
          "2015-08-17T00:00:00",
          "2016-04-04T00:00:00",
          "2016-04-26T00:00:00",
          "2016-12-02T00:00:00",
          "2018-05-15T00:00:00",
          "2018-05-27T00:00:00",
          "2018-05-27T00:00:00",
          "2018-05-27T00:00:00",
          "2019-03-28T00:00:00",
          "2020-10-21T00:00:00",
          "2020-10-21T00:00:00",
          "2020-10-30T00:00:00",
          "2020-11-28T00:00:00",
          "2020-12-27T00:00:00",
          "2021-03-07T00:00:00",
          "2021-07-02T00:00:00",
          "2021-08-05T00:00:00",
          "2021-08-07T00:00:00",
          "2021-10-08T00:00:00",
          "2022-03-22T00:00:00",
          "2022-03-22T00:00:00"
         ],
         "xaxis": "x",
         "y": [
          1500,
          1800,
          1000,
          2700,
          3000,
          2000,
          2000,
          3000,
          3000,
          3000,
          3500,
          2000,
          3500,
          3000,
          4000,
          3500,
          4000,
          3000,
          4100,
          4000,
          4000
         ],
         "yaxis": "y"
        },
        {
         "hovertemplate": "Operation=Gloves Sale<br>Date=%{x}<br>Revenue (RUB)=%{y}<extra></extra>",
         "legendgroup": "Gloves Sale",
         "line": {
          "color": "#000006",
          "dash": "solid"
         },
         "marker": {
          "symbol": "circle"
         },
         "mode": "lines",
         "name": "Gloves Sale",
         "orientation": "v",
         "showlegend": true,
         "type": "scatter",
         "x": [
          "2015-08-22T00:00:00",
          "2015-09-01T00:00:00",
          "2015-11-20T00:00:00",
          "2016-04-10T00:00:00",
          "2016-04-25T00:00:00",
          "2016-11-15T00:00:00",
          "2017-04-10T00:00:00",
          "2017-07-05T00:00:00",
          "2017-12-09T00:00:00",
          "2018-03-11T00:00:00",
          "2018-04-07T00:00:00",
          "2018-05-29T00:00:00",
          "2018-06-06T00:00:00",
          "2018-06-21T00:00:00",
          "2019-03-15T00:00:00",
          "2020-02-28T00:00:00",
          "2020-06-24T00:00:00",
          "2020-07-01T00:00:00",
          "2020-10-04T00:00:00",
          "2020-10-05T00:00:00",
          "2020-10-21T00:00:00",
          "2020-10-31T00:00:00",
          "2020-10-31T00:00:00",
          "2020-12-06T00:00:00"
         ],
         "xaxis": "x",
         "y": [
          3500,
          1250,
          2500,
          3000,
          900,
          1300,
          1400,
          1500,
          2000,
          3000,
          3500,
          1000,
          3500,
          1500,
          2000,
          3000,
          2000,
          1500,
          2000,
          3000,
          1800,
          3500,
          3500,
          2500
         ],
         "yaxis": "y"
        },
        {
         "hovertemplate": "Operation=Elbows Sale<br>Date=%{x}<br>Revenue (RUB)=%{y}<extra></extra>",
         "legendgroup": "Elbows Sale",
         "line": {
          "color": "#000007",
          "dash": "solid"
         },
         "marker": {
          "symbol": "circle"
         },
         "mode": "lines",
         "name": "Elbows Sale",
         "orientation": "v",
         "showlegend": true,
         "type": "scatter",
         "x": [
          "2015-09-01T00:00:00",
          "2016-01-15T00:00:00",
          "2016-02-01T00:00:00",
          "2016-04-25T00:00:00",
          "2016-04-26T00:00:00",
          "2016-04-26T00:00:00",
          "2016-06-02T00:00:00",
          "2017-04-15T00:00:00",
          "2017-07-05T00:00:00",
          "2017-08-10T00:00:00",
          "2017-10-20T00:00:00",
          "2017-11-26T00:00:00",
          "2017-11-26T00:00:00",
          "2017-12-09T00:00:00",
          "2018-02-13T00:00:00",
          "2018-06-06T00:00:00",
          "2018-06-26T00:00:00",
          "2019-04-14T00:00:00",
          "2019-05-05T00:00:00",
          "2019-06-21T00:00:00",
          "2020-02-28T00:00:00",
          "2020-03-25T00:00:00",
          "2020-07-01T00:00:00",
          "2020-07-23T00:00:00",
          "2020-10-21T00:00:00",
          "2021-02-13T00:00:00",
          "2021-10-10T00:00:00"
         ],
         "xaxis": "x",
         "y": [
          1250,
          1700,
          2000,
          2350,
          2000,
          1300,
          2000,
          1500,
          1500,
          2000,
          2000,
          2000,
          2000,
          2000,
          2000,
          2000,
          2000,
          2000,
          2000,
          1450,
          1300,
          2000,
          1000,
          2000,
          1500,
          2500,
          2000
         ],
         "yaxis": "y"
        },
        {
         "hovertemplate": "Operation=Transfer to Artur<br>Date=%{x}<br>Revenue (RUB)=%{y}<extra></extra>",
         "legendgroup": "Transfer to Artur",
         "line": {
          "color": "#000008",
          "dash": "solid"
         },
         "marker": {
          "symbol": "circle"
         },
         "mode": "lines",
         "name": "Transfer to Artur",
         "orientation": "v",
         "showlegend": true,
         "type": "scatter",
         "x": [
          "2015-09-02T00:00:00",
          "2017-03-20T00:00:00",
          "2018-02-25T00:00:00",
          "2018-03-10T00:00:00",
          "2019-12-21T00:00:00"
         ],
         "xaxis": "x",
         "y": [
          15000,
          2000,
          10000,
          6000,
          400
         ],
         "yaxis": "y"
        },
        {
         "hovertemplate": "Operation=Lacrosse Clinic<br>Date=%{x}<br>Revenue (RUB)=%{y}<extra></extra>",
         "legendgroup": "Lacrosse Clinic",
         "line": {
          "color": "#000009",
          "dash": "solid"
         },
         "marker": {
          "symbol": "circle"
         },
         "mode": "lines",
         "name": "Lacrosse Clinic",
         "orientation": "v",
         "showlegend": true,
         "type": "scatter",
         "x": [
          "2015-09-02T00:00:00",
          "2016-09-25T00:00:00"
         ],
         "xaxis": "x",
         "y": [
          3800,
          2000
         ],
         "yaxis": "y"
        },
        {
         "hovertemplate": "Operation=Field Fees<br>Date=%{x}<br>Revenue (RUB)=%{y}<extra></extra>",
         "legendgroup": "Field Fees",
         "line": {
          "color": "#000010",
          "dash": "solid"
         },
         "marker": {
          "symbol": "circle"
         },
         "mode": "lines",
         "name": "Field Fees",
         "orientation": "v",
         "showlegend": true,
         "type": "scatter",
         "x": [
          "2015-10-30T00:00:00",
          "2015-11-01T00:00:00",
          "2015-11-05T00:00:00",
          "2015-12-02T00:00:00",
          "2015-12-09T00:00:00",
          "2016-01-20T00:00:00",
          "2016-02-02T00:00:00",
          "2016-02-15T00:00:00",
          "2016-02-16T00:00:00",
          "2016-02-17T00:00:00",
          "2016-02-28T00:00:00",
          "2016-03-06T00:00:00",
          "2016-03-13T00:00:00",
          "2016-03-21T00:00:00",
          "2016-03-28T00:00:00",
          "2016-04-04T00:00:00",
          "2016-09-27T00:00:00",
          "2016-10-07T00:00:00",
          "2016-10-14T00:00:00",
          "2016-10-21T00:00:00",
          "2016-10-28T00:00:00",
          "2016-11-05T00:00:00",
          "2016-11-12T00:00:00",
          "2016-11-17T00:00:00",
          "2016-11-19T00:00:00",
          "2016-11-26T00:00:00",
          "2016-12-02T00:00:00",
          "2016-12-02T00:00:00",
          "2016-12-02T00:00:00",
          "2016-12-09T00:00:00",
          "2016-12-16T00:00:00",
          "2016-12-23T00:00:00",
          "2017-03-05T00:00:00",
          "2017-03-05T00:00:00",
          "2017-03-05T00:00:00",
          "2017-03-12T00:00:00",
          "2017-03-19T00:00:00",
          "2017-04-10T00:00:00",
          "2017-04-18T00:00:00",
          "2017-04-25T00:00:00",
          "2017-09-10T00:00:00",
          "2017-09-10T00:00:00",
          "2017-09-17T00:00:00",
          "2017-09-24T00:00:00",
          "2017-09-25T00:00:00",
          "2017-10-05T00:00:00",
          "2017-10-05T00:00:00",
          "2017-10-08T00:00:00",
          "2017-10-10T00:00:00",
          "2017-10-15T00:00:00",
          "2017-10-22T00:00:00",
          "2017-10-22T00:00:00",
          "2017-11-09T00:00:00",
          "2017-11-09T00:00:00",
          "2017-11-12T00:00:00",
          "2017-11-19T00:00:00",
          "2017-11-24T00:00:00",
          "2017-11-24T00:00:00",
          "2017-11-26T00:00:00",
          "2017-11-26T00:00:00",
          "2017-11-29T00:00:00",
          "2017-12-03T00:00:00",
          "2017-12-04T00:00:00",
          "2017-12-17T00:00:00",
          "2017-12-24T00:00:00",
          "2017-12-24T00:00:00",
          "2018-01-14T00:00:00",
          "2018-01-16T00:00:00",
          "2018-01-21T00:00:00",
          "2018-01-22T00:00:00",
          "2018-01-24T00:00:00",
          "2018-01-25T00:00:00",
          "2018-01-30T00:00:00",
          "2018-02-05T00:00:00",
          "2018-02-12T00:00:00",
          "2018-02-12T00:00:00",
          "2018-02-12T00:00:00",
          "2018-02-18T00:00:00",
          "2018-02-25T00:00:00",
          "2018-03-02T00:00:00",
          "2018-03-04T00:00:00",
          "2018-03-04T00:00:00",
          "2018-03-04T00:00:00",
          "2018-03-11T00:00:00",
          "2018-03-11T00:00:00",
          "2018-03-11T00:00:00",
          "2018-03-18T00:00:00",
          "2018-03-25T00:00:00",
          "2018-03-31T00:00:00",
          "2018-04-01T00:00:00",
          "2018-04-07T00:00:00",
          "2018-07-27T00:00:00",
          "2018-09-18T00:00:00",
          "2018-10-29T00:00:00",
          "2018-11-04T00:00:00",
          "2019-02-03T00:00:00",
          "2019-02-03T00:00:00",
          "2019-02-24T00:00:00",
          "2019-03-11T00:00:00",
          "2019-03-18T00:00:00",
          "2019-03-25T00:00:00",
          "2019-04-01T00:00:00",
          "2019-04-14T00:00:00",
          "2019-04-20T00:00:00",
          "2019-04-28T00:00:00",
          "2019-05-05T00:00:00",
          "2019-05-19T00:00:00",
          "2019-06-02T00:00:00",
          "2019-06-16T00:00:00",
          "2019-07-07T00:00:00",
          "2019-07-14T00:00:00",
          "2019-08-04T00:00:00",
          "2019-09-09T00:00:00",
          "2019-09-22T00:00:00",
          "2019-09-29T00:00:00",
          "2019-10-13T00:00:00",
          "2019-10-20T00:00:00",
          "2019-10-27T00:00:00",
          "2019-11-02T00:00:00",
          "2019-11-09T00:00:00",
          "2019-11-16T00:00:00",
          "2019-11-23T00:00:00",
          "2019-11-30T00:00:00",
          "2019-12-07T00:00:00",
          "2019-12-14T00:00:00",
          "2019-12-21T00:00:00",
          "2019-12-28T00:00:00",
          "2020-01-02T00:00:00",
          "2020-01-08T00:00:00",
          "2020-01-18T00:00:00",
          null,
          "2020-01-25T00:00:00",
          "2020-02-09T00:00:00",
          "2020-02-15T00:00:00",
          "2020-02-23T00:00:00",
          "2020-02-29T00:00:00",
          "2020-03-07T00:00:00",
          "2020-03-14T00:00:00",
          "2020-03-22T00:00:00",
          "2020-06-27T00:00:00",
          "2020-07-04T00:00:00",
          "2020-07-11T00:00:00",
          "2020-08-02T00:00:00",
          "2020-08-09T00:00:00",
          "2020-08-16T00:00:00",
          "2020-08-23T00:00:00",
          "2020-08-30T00:00:00",
          "2020-09-12T00:00:00",
          "2020-09-13T00:00:00",
          "2020-09-20T00:00:00",
          "2020-09-26T00:00:00",
          "2020-09-27T00:00:00",
          "2020-10-04T00:00:00",
          "2020-10-10T00:00:00",
          "2020-10-11T00:00:00",
          "2020-10-11T00:00:00",
          "2020-10-17T00:00:00",
          "2020-10-18T00:00:00",
          "2020-10-24T00:00:00",
          "2020-10-25T00:00:00",
          "2020-10-31T00:00:00",
          "2020-11-01T00:00:00",
          "2020-11-07T00:00:00",
          "2020-11-08T00:00:00",
          "2020-11-14T00:00:00",
          "2020-11-15T00:00:00",
          "2020-11-21T00:00:00",
          "2020-11-22T00:00:00",
          "2020-11-28T00:00:00",
          "2020-11-29T00:00:00",
          "2020-12-05T00:00:00",
          "2020-12-06T00:00:00",
          "2020-12-12T00:00:00",
          "2020-12-12T00:00:00",
          "2020-12-19T00:00:00",
          "2020-12-20T00:00:00",
          "2020-12-26T00:00:00",
          "2021-01-16T00:00:00",
          "2021-01-17T00:00:00",
          "2021-01-30T00:00:00",
          "2021-01-31T00:00:00",
          "2021-02-06T00:00:00",
          "2021-02-07T00:00:00",
          "2021-02-13T00:00:00",
          "2021-02-14T00:00:00",
          "2021-02-20T00:00:00",
          "2021-02-21T00:00:00",
          "2021-02-28T00:00:00",
          "2021-02-28T00:00:00",
          "2021-03-06T00:00:00",
          "2021-03-07T00:00:00",
          "2021-03-13T00:00:00",
          "2021-03-14T00:00:00",
          "2021-03-20T00:00:00",
          "2021-03-21T00:00:00",
          "2021-03-21T00:00:00",
          "2021-03-27T00:00:00",
          "2021-03-28T00:00:00",
          "2021-04-03T00:00:00",
          "2021-04-04T00:00:00",
          "2021-04-10T00:00:00",
          "2021-04-11T00:00:00",
          "2021-04-17T00:00:00",
          "2021-04-18T00:00:00",
          "2021-05-08T00:00:00",
          "2021-05-09T00:00:00",
          "2021-05-09T00:00:00",
          "2021-05-09T00:00:00",
          "2021-05-15T00:00:00",
          "2021-05-16T00:00:00",
          "2021-05-16T00:00:00",
          "2021-05-22T00:00:00",
          "2021-05-23T00:00:00",
          "2021-05-29T00:00:00",
          "2021-05-30T00:00:00",
          "2021-05-31T00:00:00",
          "2021-06-05T00:00:00",
          "2021-06-06T00:00:00",
          "2021-06-12T00:00:00",
          "2021-06-13T00:00:00",
          "2021-06-13T00:00:00",
          "2021-06-13T00:00:00",
          "2021-06-19T00:00:00",
          "2021-06-20T00:00:00",
          "2021-07-03T00:00:00",
          "2021-07-04T00:00:00",
          "2021-07-10T00:00:00",
          "2021-07-11T00:00:00",
          "2021-07-17T00:00:00",
          "2021-07-18T00:00:00",
          "2021-07-18T00:00:00",
          "2021-07-24T00:00:00",
          "2021-07-25T00:00:00",
          "2021-07-31T00:00:00",
          "2021-08-01T00:00:00",
          "2021-08-07T00:00:00",
          "2021-08-29T00:00:00",
          "2021-09-01T00:00:00",
          "2021-09-05T00:00:00",
          "2021-09-05T00:00:00",
          "2021-09-07T00:00:00",
          "2021-09-11T00:00:00",
          "2021-09-12T00:00:00",
          "2021-09-18T00:00:00",
          "2021-09-19T00:00:00",
          "2021-09-25T00:00:00",
          "2021-09-26T00:00:00",
          "2021-10-01T00:00:00",
          "2021-10-02T00:00:00",
          "2021-10-03T00:00:00",
          "2021-10-09T00:00:00",
          "2021-10-10T00:00:00",
          "2021-10-16T00:00:00",
          "2021-10-17T00:00:00",
          "2021-10-23T00:00:00",
          "2021-10-24T00:00:00",
          "2021-10-24T00:00:00",
          "2021-10-30T00:00:00",
          "2021-11-13T00:00:00",
          "2021-11-14T00:00:00",
          "2021-11-20T00:00:00",
          "2021-11-21T00:00:00",
          "2021-11-27T00:00:00",
          "2021-11-28T00:00:00",
          "2021-12-04T00:00:00",
          "2021-12-05T00:00:00",
          "2021-12-11T00:00:00",
          "2021-12-12T00:00:00",
          "2021-12-18T00:00:00",
          "2021-12-26T00:00:00",
          "2022-01-22T00:00:00",
          "2022-01-23T00:00:00",
          "2022-01-29T00:00:00",
          "2022-01-30T00:00:00",
          "2022-02-06T00:00:00",
          "2022-02-12T00:00:00",
          "2022-02-12T00:00:00",
          "2022-02-19T00:00:00",
          "2022-02-20T00:00:00",
          "2022-02-27T00:00:00",
          "2022-03-12T00:00:00",
          "2022-03-19T00:00:00",
          "2022-03-26T00:00:00",
          "2022-04-10T00:00:00",
          "2022-04-16T00:00:00",
          "2022-04-23T00:00:00",
          "2022-04-30T00:00:00",
          "2022-05-07T00:00:00"
         ],
         "xaxis": "x",
         "y": [
          8700,
          3850,
          200,
          6700,
          4000,
          3600,
          510,
          4000,
          510,
          4550,
          500,
          2800,
          4200,
          1000,
          4400,
          4400,
          1000,
          3900,
          5000,
          2400,
          3600,
          4700,
          2300,
          800,
          2750,
          4200,
          1200,
          4000,
          2200,
          4400,
          3500,
          7500,
          3800,
          3600,
          400,
          4000,
          3760,
          500,
          1000,
          1000,
          500,
          8000,
          2000,
          6500,
          13000,
          8200,
          1000,
          500,
          1000,
          1000,
          1000,
          18000,
          1000,
          500,
          3500,
          2000,
          11700,
          16000,
          250,
          1000,
          3900,
          2000,
          2600,
          1500,
          1500,
          1750,
          500,
          1000,
          5500,
          2000,
          4000,
          500,
          1000,
          250,
          750,
          2000,
          1000,
          3000,
          4500,
          250,
          4000,
          1000,
          3000,
          500,
          3000,
          500,
          4000,
          6500,
          500,
          8200,
          4250,
          8000,
          12750,
          1500,
          5375,
          5650,
          5150,
          3900,
          4500,
          4000,
          4500,
          5650,
          4250,
          3250,
          2500,
          5000,
          5650,
          4750,
          5500,
          3800,
          5400,
          4900,
          24000,
          3300,
          4700,
          5350,
          4950,
          6850,
          4500,
          8000,
          5500,
          4750,
          12500,
          5500,
          6750,
          4250,
          4250,
          9000,
          4000,
          7750,
          5750,
          7500,
          7000,
          7500,
          8000,
          7750,
          6250,
          6250,
          5250,
          6500,
          7250,
          6500,
          3250,
          4500,
          5250,
          4750,
          6750,
          8500,
          4250,
          4000,
          5400,
          5250,
          7250,
          8000,
          8000,
          500,
          5000,
          7250,
          7000,
          7500,
          4250,
          6000,
          5750,
          5000,
          10000,
          5250,
          5750,
          4750,
          7250,
          4000,
          7000,
          5000,
          6250,
          5250,
          7000,
          3000,
          6750,
          6000,
          4250,
          3250,
          3250,
          7000,
          5000,
          5250,
          3000,
          7250,
          3000,
          19600,
          3250,
          6000,
          5250,
          6250,
          5250,
          5750,
          2750,
          500,
          3500,
          4500,
          25300,
          7250,
          5250,
          2750,
          6000,
          3750,
          4800,
          11750,
          12500,
          600,
          5750,
          4000,
          1000,
          6000,
          3500,
          3750,
          3500,
          2500,
          5500,
          1750,
          4750,
          3750,
          9500,
          1000,
          5750,
          4000,
          3250,
          4250,
          5250,
          3500,
          3500,
          3250,
          3000,
          7800,
          5250,
          4000,
          4750,
          4500,
          2000,
          3250,
          5000,
          4500,
          3750,
          4200,
          6200,
          6900,
          5200,
          6300,
          6000,
          2250,
          5400,
          7200,
          6900,
          6600,
          6000,
          4500,
          10400,
          4200,
          3400,
          5100,
          6300,
          5700,
          5700,
          4300,
          5700,
          4800,
          6900,
          4500,
          6600,
          3300,
          4800,
          4200,
          6300,
          3300,
          6900,
          4100,
          8400,
          6900,
          5700,
          7500,
          2400,
          14700,
          6300,
          5400,
          5400,
          6000,
          6000,
          4000,
          4000,
          30300
         ],
         "yaxis": "y"
        },
        {
         "hovertemplate": "Operation=Ball Sale<br>Date=%{x}<br>Revenue (RUB)=%{y}<extra></extra>",
         "legendgroup": "Ball Sale",
         "line": {
          "color": "#000001",
          "dash": "solid"
         },
         "marker": {
          "symbol": "circle"
         },
         "mode": "lines",
         "name": "Ball Sale",
         "orientation": "v",
         "showlegend": true,
         "type": "scatter",
         "x": [
          "2016-01-25T00:00:00",
          "2016-01-25T00:00:00",
          "2016-01-25T00:00:00",
          "2016-03-20T00:00:00",
          "2016-03-20T00:00:00",
          "2016-04-20T00:00:00",
          "2016-05-20T00:00:00",
          "2016-05-27T00:00:00",
          "2016-08-15T00:00:00",
          "2016-08-15T00:00:00",
          "2016-09-10T00:00:00",
          "2017-04-25T00:00:00",
          "2017-04-25T00:00:00",
          "2017-05-01T00:00:00",
          "2017-05-01T00:00:00",
          "2017-05-01T00:00:00",
          "2017-07-05T00:00:00",
          "2017-08-05T00:00:00",
          "2017-11-27T00:00:00",
          "2017-12-18T00:00:00",
          "2017-12-18T00:00:00",
          "2017-12-18T00:00:00",
          "2017-12-18T00:00:00",
          "2017-12-18T00:00:00",
          "2017-12-18T00:00:00",
          "2017-12-18T00:00:00",
          "2017-12-18T00:00:00",
          "2017-12-18T00:00:00",
          "2017-12-18T00:00:00",
          "2018-04-26T00:00:00",
          "2018-05-29T00:00:00",
          "2018-05-29T00:00:00",
          "2018-06-26T00:00:00",
          "2018-06-26T00:00:00",
          "2019-03-15T00:00:00",
          "2019-03-15T00:00:00",
          "2019-03-15T00:00:00",
          "2019-12-21T00:00:00",
          "2019-12-29T00:00:00",
          "2020-01-03T00:00:00",
          "2020-06-18T00:00:00",
          "2020-06-18T00:00:00",
          "2020-06-24T00:00:00",
          "2020-06-24T00:00:00",
          "2020-07-01T00:00:00",
          "2020-07-26T00:00:00",
          "2020-07-26T00:00:00",
          "2020-07-26T00:00:00",
          "2020-07-26T00:00:00",
          "2020-07-26T00:00:00",
          "2020-07-26T00:00:00",
          "2020-08-02T00:00:00",
          "2020-08-23T00:00:00",
          "2020-08-23T00:00:00",
          "2020-08-23T00:00:00",
          "2020-08-23T00:00:00",
          "2020-08-23T00:00:00",
          "2020-08-23T00:00:00",
          "2020-10-25T00:00:00",
          "2020-10-30T00:00:00",
          "2020-10-30T00:00:00",
          "2020-10-30T00:00:00",
          "2020-10-31T00:00:00",
          "2020-10-31T00:00:00",
          "2020-10-31T00:00:00",
          "2020-10-31T00:00:00",
          "2020-10-31T00:00:00",
          "2020-10-31T00:00:00",
          "2020-11-19T00:00:00",
          "2020-11-19T00:00:00",
          "2021-04-18T00:00:00",
          "2021-04-18T00:00:00",
          "2021-04-18T00:00:00",
          "2021-04-18T00:00:00",
          "2021-04-18T00:00:00",
          "2021-04-18T00:00:00",
          "2021-04-18T00:00:00",
          "2021-04-18T00:00:00",
          "2021-04-18T00:00:00",
          "2021-04-18T00:00:00",
          "2021-04-18T00:00:00",
          "2021-04-18T00:00:00",
          "2021-04-18T00:00:00",
          "2021-04-18T00:00:00",
          "2021-04-18T00:00:00",
          "2021-04-18T00:00:00",
          "2021-07-06T00:00:00",
          "2021-08-07T00:00:00",
          "2021-08-07T00:00:00",
          "2021-10-03T00:00:00",
          "2021-10-08T00:00:00",
          "2021-10-08T00:00:00",
          "2022-03-22T00:00:00",
          "2022-03-22T00:00:00",
          "2022-03-22T00:00:00",
          "2022-03-22T00:00:00"
         ],
         "xaxis": "x",
         "y": [
          150,
          150,
          150,
          150,
          150,
          200,
          200,
          200,
          200,
          200,
          1600,
          150,
          150,
          200,
          200,
          200,
          200,
          200,
          200,
          200,
          200,
          200,
          200,
          200,
          200,
          200,
          200,
          200,
          200,
          200,
          200,
          200,
          200,
          200,
          200,
          200,
          200,
          200,
          200,
          200,
          300,
          300,
          200,
          200,
          200,
          200,
          200,
          200,
          200,
          200,
          200,
          200,
          200,
          200,
          200,
          200,
          200,
          200,
          200,
          200,
          200,
          200,
          200,
          200,
          200,
          200,
          200,
          200,
          150,
          150,
          200,
          200,
          200,
          200,
          200,
          200,
          200,
          200,
          200,
          200,
          200,
          200,
          200,
          200,
          100,
          100,
          200,
          200,
          200,
          300,
          200,
          200,
          250,
          250,
          250,
          250
         ],
         "yaxis": "y"
        },
        {
         "hovertemplate": "Operation=Shoulders Sale<br>Date=%{x}<br>Revenue (RUB)=%{y}<extra></extra>",
         "legendgroup": "Shoulders Sale",
         "line": {
          "color": "#000002",
          "dash": "solid"
         },
         "marker": {
          "symbol": "circle"
         },
         "mode": "lines",
         "name": "Shoulders Sale",
         "orientation": "v",
         "showlegend": true,
         "type": "scatter",
         "x": [
          "2016-05-03T00:00:00"
         ],
         "xaxis": "x",
         "y": [
          1000
         ],
         "yaxis": "y"
        },
        {
         "hovertemplate": "Operation=Equipment Sale<br>Date=%{x}<br>Revenue (RUB)=%{y}<extra></extra>",
         "legendgroup": "Equipment Sale",
         "line": {
          "color": "#000003",
          "dash": "solid"
         },
         "marker": {
          "symbol": "circle"
         },
         "mode": "lines",
         "name": "Equipment Sale",
         "orientation": "v",
         "showlegend": true,
         "type": "scatter",
         "x": [
          "2016-09-27T00:00:00",
          "2016-09-27T00:00:00",
          "2016-11-06T00:00:00",
          "2017-06-01T00:00:00",
          "2018-01-28T00:00:00",
          "2019-03-28T00:00:00",
          "2019-04-01T00:00:00",
          "2019-05-16T00:00:00",
          "2019-06-09T00:00:00",
          "2020-07-01T00:00:00",
          "2020-07-17T00:00:00",
          "2020-07-29T00:00:00",
          "2020-08-23T00:00:00",
          "2020-08-31T00:00:00",
          "2020-10-30T00:00:00",
          "2021-02-22T00:00:00",
          "2021-03-07T00:00:00",
          "2021-05-07T00:00:00",
          "2021-06-25T00:00:00",
          "2021-07-06T00:00:00",
          "2021-07-21T00:00:00",
          "2021-07-29T00:00:00",
          "2021-10-08T00:00:00",
          "2021-12-22T00:00:00",
          "2022-01-29T00:00:00"
         ],
         "xaxis": "x",
         "y": [
          300,
          19250,
          300,
          100,
          1400,
          200,
          400,
          200,
          3300,
          160,
          500,
          2000,
          2000,
          100,
          200,
          300,
          200,
          250,
          2000,
          20,
          200,
          200,
          600,
          600,
          400
         ],
         "yaxis": "y"
        },
        {
         "hovertemplate": "Operation=T-Shirt Sale<br>Date=%{x}<br>Revenue (RUB)=%{y}<extra></extra>",
         "legendgroup": "T-Shirt Sale",
         "line": {
          "color": "#000004",
          "dash": "solid"
         },
         "marker": {
          "symbol": "circle"
         },
         "mode": "lines",
         "name": "T-Shirt Sale",
         "orientation": "v",
         "showlegend": true,
         "type": "scatter",
         "x": [
          "2017-04-03T00:00:00",
          "2017-04-25T00:00:00",
          "2017-04-27T00:00:00",
          "2018-01-14T00:00:00",
          "2018-04-17T00:00:00",
          "2019-01-14T00:00:00",
          "2019-04-06T00:00:00",
          "2019-06-23T00:00:00",
          "2019-07-05T00:00:00",
          "2020-01-12T00:00:00"
         ],
         "xaxis": "x",
         "y": [
          1264,
          2867,
          6600,
          6200,
          5715,
          3844,
          5130,
          3151,
          1000,
          2700
         ],
         "yaxis": "y"
        },
        {
         "hovertemplate": "Operation=Player Fine<br>Date=%{x}<br>Revenue (RUB)=%{y}<extra></extra>",
         "legendgroup": "Player Fine",
         "line": {
          "color": "#000005",
          "dash": "solid"
         },
         "marker": {
          "symbol": "circle"
         },
         "mode": "lines",
         "name": "Player Fine",
         "orientation": "v",
         "showlegend": true,
         "type": "scatter",
         "x": [
          "2018-03-11T00:00:00"
         ],
         "xaxis": "x",
         "y": [
          1000
         ],
         "yaxis": "y"
        },
        {
         "hovertemplate": "Operation=Shafts Sale<br>Date=%{x}<br>Revenue (RUB)=%{y}<extra></extra>",
         "legendgroup": "Shafts Sale",
         "line": {
          "color": "#000006",
          "dash": "solid"
         },
         "marker": {
          "symbol": "circle"
         },
         "mode": "lines",
         "name": "Shafts Sale",
         "orientation": "v",
         "showlegend": true,
         "type": "scatter",
         "x": [
          "2018-04-25T00:00:00",
          "2018-05-15T00:00:00",
          "2018-05-27T00:00:00",
          "2020-09-09T00:00:00",
          "2020-10-18T00:00:00",
          "2020-10-21T00:00:00",
          "2020-10-21T00:00:00",
          "2020-10-30T00:00:00",
          "2020-11-28T00:00:00",
          "2021-03-07T00:00:00",
          "2021-07-21T00:00:00",
          "2021-10-08T00:00:00"
         ],
         "xaxis": "x",
         "y": [
          6000,
          2000,
          2500,
          2640,
          2000,
          2500,
          200,
          2000,
          1500,
          3000,
          2000,
          3100
         ],
         "yaxis": "y"
        },
        {
         "hovertemplate": "Operation=Loan<br>Date=%{x}<br>Revenue (RUB)=%{y}<extra></extra>",
         "legendgroup": "Loan",
         "line": {
          "color": "#000007",
          "dash": "solid"
         },
         "marker": {
          "symbol": "circle"
         },
         "mode": "lines",
         "name": "Loan",
         "orientation": "v",
         "showlegend": true,
         "type": "scatter",
         "x": [
          "2019-10-16T00:00:00"
         ],
         "xaxis": "x",
         "y": [
          5250
         ],
         "yaxis": "y"
        },
        {
         "hovertemplate": "Operation=Order Refund<br>Date=%{x}<br>Revenue (RUB)=%{y}<extra></extra>",
         "legendgroup": "Order Refund",
         "line": {
          "color": "#000008",
          "dash": "solid"
         },
         "marker": {
          "symbol": "circle"
         },
         "mode": "lines",
         "name": "Order Refund",
         "orientation": "v",
         "showlegend": true,
         "type": "scatter",
         "x": [
          "2020-08-24T00:00:00",
          "2020-08-24T00:00:00"
         ],
         "xaxis": "x",
         "y": [
          11000,
          3577
         ],
         "yaxis": "y"
        },
        {
         "hovertemplate": "Operation=Loan Repayment<br>Date=%{x}<br>Revenue (RUB)=%{y}<extra></extra>",
         "legendgroup": "Loan Repayment",
         "line": {
          "color": "#000009",
          "dash": "solid"
         },
         "marker": {
          "symbol": "circle"
         },
         "mode": "lines",
         "name": "Loan Repayment",
         "orientation": "v",
         "showlegend": true,
         "type": "scatter",
         "x": [
          "2020-10-15T00:00:00",
          "2020-10-30T00:00:00"
         ],
         "xaxis": "x",
         "y": [
          5200,
          5200
         ],
         "yaxis": "y"
        },
        {
         "hovertemplate": "Operation=Reimbursement<br>Date=%{x}<br>Revenue (RUB)=%{y}<extra></extra>",
         "legendgroup": "Reimbursement",
         "line": {
          "color": "#000010",
          "dash": "solid"
         },
         "marker": {
          "symbol": "circle"
         },
         "mode": "lines",
         "name": "Reimbursement",
         "orientation": "v",
         "showlegend": true,
         "type": "scatter",
         "x": [
          "2021-05-09T00:00:00",
          "2021-07-08T00:00:00",
          "2021-09-05T00:00:00"
         ],
         "xaxis": "x",
         "y": [
          4000,
          4000,
          4950
         ],
         "yaxis": "y"
        },
        {
         "hovertemplate": "Operation=Credit<br>Date=%{x}<br>Revenue (RUB)=%{y}<extra></extra>",
         "legendgroup": "Credit",
         "line": {
          "color": "#000001",
          "dash": "solid"
         },
         "marker": {
          "symbol": "circle"
         },
         "mode": "lines",
         "name": "Credit",
         "orientation": "v",
         "showlegend": true,
         "type": "scatter",
         "x": [
          "2021-05-24T00:00:00"
         ],
         "xaxis": "x",
         "y": [
          1290
         ],
         "yaxis": "y"
        }
       ],
       "layout": {
        "height": 600,
        "legend": {
         "title": {
          "text": "Operation Type"
         },
         "tracegroupgap": 0
        },
        "template": {
         "data": {
          "candlestick": [
           {
            "decreasing": {
             "line": {
              "color": "#000033"
             }
            },
            "increasing": {
             "line": {
              "color": "#000032"
             }
            },
            "type": "candlestick"
           }
          ],
          "contour": [
           {
            "colorscale": [
             [
              0,
              "#000011"
             ],
             [
              0.1111111111111111,
              "#000012"
             ],
             [
              0.2222222222222222,
              "#000013"
             ],
             [
              0.3333333333333333,
              "#000014"
             ],
             [
              0.4444444444444444,
              "#000015"
             ],
             [
              0.5555555555555556,
              "#000016"
             ],
             [
              0.6666666666666666,
              "#000017"
             ],
             [
              0.7777777777777778,
              "#000018"
             ],
             [
              0.8888888888888888,
              "#000019"
             ],
             [
              1,
              "#000020"
             ]
            ],
            "type": "contour"
           }
          ],
          "contourcarpet": [
           {
            "colorscale": [
             [
              0,
              "#000011"
             ],
             [
              0.1111111111111111,
              "#000012"
             ],
             [
              0.2222222222222222,
              "#000013"
             ],
             [
              0.3333333333333333,
              "#000014"
             ],
             [
              0.4444444444444444,
              "#000015"
             ],
             [
              0.5555555555555556,
              "#000016"
             ],
             [
              0.6666666666666666,
              "#000017"
             ],
             [
              0.7777777777777778,
              "#000018"
             ],
             [
              0.8888888888888888,
              "#000019"
             ],
             [
              1,
              "#000020"
             ]
            ],
            "type": "contourcarpet"
           }
          ],
          "heatmap": [
           {
            "colorscale": [
             [
              0,
              "#000011"
             ],
             [
              0.1111111111111111,
              "#000012"
             ],
             [
              0.2222222222222222,
              "#000013"
             ],
             [
              0.3333333333333333,
              "#000014"
             ],
             [
              0.4444444444444444,
              "#000015"
             ],
             [
              0.5555555555555556,
              "#000016"
             ],
             [
              0.6666666666666666,
              "#000017"
             ],
             [
              0.7777777777777778,
              "#000018"
             ],
             [
              0.8888888888888888,
              "#000019"
             ],
             [
              1,
              "#000020"
             ]
            ],
            "type": "heatmap"
           }
          ],
          "histogram2d": [
           {
            "colorscale": [
             [
              0,
              "#000011"
             ],
             [
              0.1111111111111111,
              "#000012"
             ],
             [
              0.2222222222222222,
              "#000013"
             ],
             [
              0.3333333333333333,
              "#000014"
             ],
             [
              0.4444444444444444,
              "#000015"
             ],
             [
              0.5555555555555556,
              "#000016"
             ],
             [
              0.6666666666666666,
              "#000017"
             ],
             [
              0.7777777777777778,
              "#000018"
             ],
             [
              0.8888888888888888,
              "#000019"
             ],
             [
              1,
              "#000020"
             ]
            ],
            "type": "histogram2d"
           }
          ],
          "icicle": [
           {
            "textfont": {
             "color": "white"
            },
            "type": "icicle"
           }
          ],
          "sankey": [
           {
            "textfont": {
             "color": "#000036"
            },
            "type": "sankey"
           }
          ],
          "scatter": [
           {
            "marker": {
             "line": {
              "width": 0
             }
            },
            "type": "scatter"
           }
          ],
          "table": [
           {
            "cells": {
             "fill": {
              "color": "#000038"
             },
             "font": {
              "color": "#000037"
             },
             "line": {
              "color": "#000039"
             }
            },
            "header": {
             "fill": {
              "color": "#000040"
             },
             "font": {
              "color": "#000036"
             },
             "line": {
              "color": "#000039"
             }
            },
            "type": "table"
           }
          ],
          "waterfall": [
           {
            "connector": {
             "line": {
              "color": "#000036",
              "width": 2
             }
            },
            "decreasing": {
             "marker": {
              "color": "#000033"
             }
            },
            "increasing": {
             "marker": {
              "color": "#000032"
             }
            },
            "totals": {
             "marker": {
              "color": "#000034"
             }
            },
            "type": "waterfall"
           }
          ]
         },
         "layout": {
          "coloraxis": {
           "colorscale": [
            [
             0,
             "#000011"
            ],
            [
             0.1111111111111111,
             "#000012"
            ],
            [
             0.2222222222222222,
             "#000013"
            ],
            [
             0.3333333333333333,
             "#000014"
            ],
            [
             0.4444444444444444,
             "#000015"
            ],
            [
             0.5555555555555556,
             "#000016"
            ],
            [
             0.6666666666666666,
             "#000017"
            ],
            [
             0.7777777777777778,
             "#000018"
            ],
            [
             0.8888888888888888,
             "#000019"
            ],
            [
             1,
             "#000020"
            ]
           ]
          },
          "colorscale": {
           "diverging": [
            [
             0,
             "#000021"
            ],
            [
             0.1,
             "#000022"
            ],
            [
             0.2,
             "#000023"
            ],
            [
             0.3,
             "#000024"
            ],
            [
             0.4,
             "#000025"
            ],
            [
             0.5,
             "#000026"
            ],
            [
             0.6,
             "#000027"
            ],
            [
             0.7,
             "#000028"
            ],
            [
             0.8,
             "#000029"
            ],
            [
             0.9,
             "#000030"
            ],
            [
             1,
             "#000031"
            ]
           ],
           "sequential": [
            [
             0,
             "#000011"
            ],
            [
             0.1111111111111111,
             "#000012"
            ],
            [
             0.2222222222222222,
             "#000013"
            ],
            [
             0.3333333333333333,
             "#000014"
            ],
            [
             0.4444444444444444,
             "#000015"
            ],
            [
             0.5555555555555556,
             "#000016"
            ],
            [
             0.6666666666666666,
             "#000017"
            ],
            [
             0.7777777777777778,
             "#000018"
            ],
            [
             0.8888888888888888,
             "#000019"
            ],
            [
             1,
             "#000020"
            ]
           ],
           "sequentialminus": [
            [
             0,
             "#000011"
            ],
            [
             0.1111111111111111,
             "#000012"
            ],
            [
             0.2222222222222222,
             "#000013"
            ],
            [
             0.3333333333333333,
             "#000014"
            ],
            [
             0.4444444444444444,
             "#000015"
            ],
            [
             0.5555555555555556,
             "#000016"
            ],
            [
             0.6666666666666666,
             "#000017"
            ],
            [
             0.7777777777777778,
             "#000018"
            ],
            [
             0.8888888888888888,
             "#000019"
            ],
            [
             1,
             "#000020"
            ]
           ]
          },
          "colorway": [
           "#000001",
           "#000002",
           "#000003",
           "#000004",
           "#000005",
           "#000006",
           "#000007",
           "#000008",
           "#000009",
           "#000010"
          ]
         }
        },
        "title": {
         "text": "Revenue Over Time for Different Operation Types (RUB)"
        },
        "width": 1000,
        "xaxis": {
         "anchor": "y",
         "domain": [
          0,
          1
         ],
         "title": {
          "text": "Date"
         }
        },
        "yaxis": {
         "anchor": "x",
         "domain": [
          0,
          1
         ],
         "title": {
          "text": "Revenue (RUB)"
         }
        }
       }
      }
     },
     "metadata": {},
     "output_type": "display_data"
    }
   ],
   "source": [
    "import plotly.express as px\n",
    "\n",
    "# Get the unique revenue operation types\n",
    "revenue_operation_types = df_fin_rub[df_fin_rub['Sum'] > 0]['Operation'].unique()\n",
    "\n",
    "# Create an interactive line graph for each revenue operation type\n",
    "fig = px.line(df_fin_rub[df_fin_rub['Sum'] > 0], x='Date', y='Sum', color='Operation',\n",
    "              labels={'Sum': 'Revenue (RUB)'}, title='Revenue Over Time for Different Operation Types (RUB)',\n",
    "              category_orders={\"Operation\": revenue_operation_types})\n",
    "fig.update_layout(\n",
    "    legend_title_text='Operation Type',\n",
    "    height=600,  # Change the height to your desired value\n",
    "    width=1000  # Change the width to your desired value\n",
    ")\n",
    "\n",
    "\n",
    "# Show the interactive graph\n",
    "fig.show()\n"
   ]
  },
  {
   "cell_type": "code",
   "execution_count": 226,
   "metadata": {},
   "outputs": [
    {
     "data": {
      "application/vnd.plotly.v1+json": {
       "config": {
        "plotlyServerURL": "https://plot.ly"
       },
       "data": [
        {
         "alignmentgroup": "True",
         "hovertemplate": "Sum=%{x}<br>Operation=%{y}<extra></extra>",
         "legendgroup": "",
         "marker": {
          "color": "#000001",
          "pattern": {
           "shape": ""
          }
         },
         "name": "",
         "offsetgroup": "",
         "orientation": "h",
         "showlegend": false,
         "textposition": "auto",
         "type": "bar",
         "x": [
          -49400,
          -68002,
          -80196,
          -128859,
          -1405060
         ],
         "xaxis": "x",
         "y": [
          "Shafts Purchase",
          "Equipment Purchase",
          "Sticks Purchase",
          "Payment",
          "Field Rental"
         ],
         "yaxis": "y"
        }
       ],
       "layout": {
        "barmode": "relative",
        "legend": {
         "tracegroupgap": 0
        },
        "template": {
         "data": {
          "candlestick": [
           {
            "decreasing": {
             "line": {
              "color": "#000033"
             }
            },
            "increasing": {
             "line": {
              "color": "#000032"
             }
            },
            "type": "candlestick"
           }
          ],
          "contour": [
           {
            "colorscale": [
             [
              0,
              "#000011"
             ],
             [
              0.1111111111111111,
              "#000012"
             ],
             [
              0.2222222222222222,
              "#000013"
             ],
             [
              0.3333333333333333,
              "#000014"
             ],
             [
              0.4444444444444444,
              "#000015"
             ],
             [
              0.5555555555555556,
              "#000016"
             ],
             [
              0.6666666666666666,
              "#000017"
             ],
             [
              0.7777777777777778,
              "#000018"
             ],
             [
              0.8888888888888888,
              "#000019"
             ],
             [
              1,
              "#000020"
             ]
            ],
            "type": "contour"
           }
          ],
          "contourcarpet": [
           {
            "colorscale": [
             [
              0,
              "#000011"
             ],
             [
              0.1111111111111111,
              "#000012"
             ],
             [
              0.2222222222222222,
              "#000013"
             ],
             [
              0.3333333333333333,
              "#000014"
             ],
             [
              0.4444444444444444,
              "#000015"
             ],
             [
              0.5555555555555556,
              "#000016"
             ],
             [
              0.6666666666666666,
              "#000017"
             ],
             [
              0.7777777777777778,
              "#000018"
             ],
             [
              0.8888888888888888,
              "#000019"
             ],
             [
              1,
              "#000020"
             ]
            ],
            "type": "contourcarpet"
           }
          ],
          "heatmap": [
           {
            "colorscale": [
             [
              0,
              "#000011"
             ],
             [
              0.1111111111111111,
              "#000012"
             ],
             [
              0.2222222222222222,
              "#000013"
             ],
             [
              0.3333333333333333,
              "#000014"
             ],
             [
              0.4444444444444444,
              "#000015"
             ],
             [
              0.5555555555555556,
              "#000016"
             ],
             [
              0.6666666666666666,
              "#000017"
             ],
             [
              0.7777777777777778,
              "#000018"
             ],
             [
              0.8888888888888888,
              "#000019"
             ],
             [
              1,
              "#000020"
             ]
            ],
            "type": "heatmap"
           }
          ],
          "histogram2d": [
           {
            "colorscale": [
             [
              0,
              "#000011"
             ],
             [
              0.1111111111111111,
              "#000012"
             ],
             [
              0.2222222222222222,
              "#000013"
             ],
             [
              0.3333333333333333,
              "#000014"
             ],
             [
              0.4444444444444444,
              "#000015"
             ],
             [
              0.5555555555555556,
              "#000016"
             ],
             [
              0.6666666666666666,
              "#000017"
             ],
             [
              0.7777777777777778,
              "#000018"
             ],
             [
              0.8888888888888888,
              "#000019"
             ],
             [
              1,
              "#000020"
             ]
            ],
            "type": "histogram2d"
           }
          ],
          "icicle": [
           {
            "textfont": {
             "color": "white"
            },
            "type": "icicle"
           }
          ],
          "sankey": [
           {
            "textfont": {
             "color": "#000036"
            },
            "type": "sankey"
           }
          ],
          "scatter": [
           {
            "marker": {
             "line": {
              "width": 0
             }
            },
            "type": "scatter"
           }
          ],
          "table": [
           {
            "cells": {
             "fill": {
              "color": "#000038"
             },
             "font": {
              "color": "#000037"
             },
             "line": {
              "color": "#000039"
             }
            },
            "header": {
             "fill": {
              "color": "#000040"
             },
             "font": {
              "color": "#000036"
             },
             "line": {
              "color": "#000039"
             }
            },
            "type": "table"
           }
          ],
          "waterfall": [
           {
            "connector": {
             "line": {
              "color": "#000036",
              "width": 2
             }
            },
            "decreasing": {
             "marker": {
              "color": "#000033"
             }
            },
            "increasing": {
             "marker": {
              "color": "#000032"
             }
            },
            "totals": {
             "marker": {
              "color": "#000034"
             }
            },
            "type": "waterfall"
           }
          ]
         },
         "layout": {
          "coloraxis": {
           "colorscale": [
            [
             0,
             "#000011"
            ],
            [
             0.1111111111111111,
             "#000012"
            ],
            [
             0.2222222222222222,
             "#000013"
            ],
            [
             0.3333333333333333,
             "#000014"
            ],
            [
             0.4444444444444444,
             "#000015"
            ],
            [
             0.5555555555555556,
             "#000016"
            ],
            [
             0.6666666666666666,
             "#000017"
            ],
            [
             0.7777777777777778,
             "#000018"
            ],
            [
             0.8888888888888888,
             "#000019"
            ],
            [
             1,
             "#000020"
            ]
           ]
          },
          "colorscale": {
           "diverging": [
            [
             0,
             "#000021"
            ],
            [
             0.1,
             "#000022"
            ],
            [
             0.2,
             "#000023"
            ],
            [
             0.3,
             "#000024"
            ],
            [
             0.4,
             "#000025"
            ],
            [
             0.5,
             "#000026"
            ],
            [
             0.6,
             "#000027"
            ],
            [
             0.7,
             "#000028"
            ],
            [
             0.8,
             "#000029"
            ],
            [
             0.9,
             "#000030"
            ],
            [
             1,
             "#000031"
            ]
           ],
           "sequential": [
            [
             0,
             "#000011"
            ],
            [
             0.1111111111111111,
             "#000012"
            ],
            [
             0.2222222222222222,
             "#000013"
            ],
            [
             0.3333333333333333,
             "#000014"
            ],
            [
             0.4444444444444444,
             "#000015"
            ],
            [
             0.5555555555555556,
             "#000016"
            ],
            [
             0.6666666666666666,
             "#000017"
            ],
            [
             0.7777777777777778,
             "#000018"
            ],
            [
             0.8888888888888888,
             "#000019"
            ],
            [
             1,
             "#000020"
            ]
           ],
           "sequentialminus": [
            [
             0,
             "#000011"
            ],
            [
             0.1111111111111111,
             "#000012"
            ],
            [
             0.2222222222222222,
             "#000013"
            ],
            [
             0.3333333333333333,
             "#000014"
            ],
            [
             0.4444444444444444,
             "#000015"
            ],
            [
             0.5555555555555556,
             "#000016"
            ],
            [
             0.6666666666666666,
             "#000017"
            ],
            [
             0.7777777777777778,
             "#000018"
            ],
            [
             0.8888888888888888,
             "#000019"
            ],
            [
             1,
             "#000020"
            ]
           ]
          },
          "colorway": [
           "#000001",
           "#000002",
           "#000003",
           "#000004",
           "#000005",
           "#000006",
           "#000007",
           "#000008",
           "#000009",
           "#000010"
          ]
         }
        },
        "title": {
         "text": "Top 5 Expense Operation Types (RUB)"
        },
        "xaxis": {
         "anchor": "y",
         "domain": [
          0,
          1
         ],
         "title": {
          "text": "Sum"
         }
        },
        "yaxis": {
         "anchor": "x",
         "domain": [
          0,
          1
         ],
         "title": {
          "text": "Operation"
         }
        }
       }
      }
     },
     "metadata": {},
     "output_type": "display_data"
    }
   ],
   "source": [
    "# Top 5 Expense Operation Types in RUB (excluding \"Payout\")\n",
    "top_expense_rub = df_fin_rub[df_fin_rub['Sum'] < 0]\n",
    "top_expense_rub = top_expense_rub[top_expense_rub['Operation'] != 'Payout']\n",
    "top_expense_rub = top_expense_rub.groupby('Operation')['Sum'].sum().nsmallest(5).reset_index()\n",
    "\n",
    "# Reverse the sorting order\n",
    "top_expense_rub = top_expense_rub.iloc[::-1]\n",
    "\n",
    "# Create a horizontal bar graph with the highest value at the top\n",
    "fig_expense_rub = px.bar(top_expense_rub, x='Sum', y='Operation', title='Top 5 Expense Operation Types (RUB)')\n",
    "\n",
    "# Show or save the figure\n",
    "fig_expense_rub.show()\n",
    "\n",
    "\n"
   ]
  },
  {
   "cell_type": "code",
   "execution_count": 227,
   "metadata": {},
   "outputs": [
    {
     "data": {
      "application/vnd.plotly.v1+json": {
       "config": {
        "plotlyServerURL": "https://plot.ly"
       },
       "data": [
        {
         "alignmentgroup": "True",
         "hovertemplate": "Sum=%{x}<br>Operation=%{y}<extra></extra>",
         "legendgroup": "",
         "marker": {
          "color": "#000001",
          "pattern": {
           "shape": ""
          }
         },
         "name": "",
         "offsetgroup": "",
         "orientation": "h",
         "showlegend": false,
         "textposition": "auto",
         "type": "bar",
         "x": [
          61600,
          75700,
          141050,
          150944,
          1430805
         ],
         "xaxis": "x",
         "y": [
          "Head Sale",
          "Helmet Sale",
          "Stick Sale",
          "Membership Fee",
          "Field Fees"
         ],
         "yaxis": "y"
        }
       ],
       "layout": {
        "barmode": "relative",
        "legend": {
         "tracegroupgap": 0
        },
        "template": {
         "data": {
          "candlestick": [
           {
            "decreasing": {
             "line": {
              "color": "#000033"
             }
            },
            "increasing": {
             "line": {
              "color": "#000032"
             }
            },
            "type": "candlestick"
           }
          ],
          "contour": [
           {
            "colorscale": [
             [
              0,
              "#000011"
             ],
             [
              0.1111111111111111,
              "#000012"
             ],
             [
              0.2222222222222222,
              "#000013"
             ],
             [
              0.3333333333333333,
              "#000014"
             ],
             [
              0.4444444444444444,
              "#000015"
             ],
             [
              0.5555555555555556,
              "#000016"
             ],
             [
              0.6666666666666666,
              "#000017"
             ],
             [
              0.7777777777777778,
              "#000018"
             ],
             [
              0.8888888888888888,
              "#000019"
             ],
             [
              1,
              "#000020"
             ]
            ],
            "type": "contour"
           }
          ],
          "contourcarpet": [
           {
            "colorscale": [
             [
              0,
              "#000011"
             ],
             [
              0.1111111111111111,
              "#000012"
             ],
             [
              0.2222222222222222,
              "#000013"
             ],
             [
              0.3333333333333333,
              "#000014"
             ],
             [
              0.4444444444444444,
              "#000015"
             ],
             [
              0.5555555555555556,
              "#000016"
             ],
             [
              0.6666666666666666,
              "#000017"
             ],
             [
              0.7777777777777778,
              "#000018"
             ],
             [
              0.8888888888888888,
              "#000019"
             ],
             [
              1,
              "#000020"
             ]
            ],
            "type": "contourcarpet"
           }
          ],
          "heatmap": [
           {
            "colorscale": [
             [
              0,
              "#000011"
             ],
             [
              0.1111111111111111,
              "#000012"
             ],
             [
              0.2222222222222222,
              "#000013"
             ],
             [
              0.3333333333333333,
              "#000014"
             ],
             [
              0.4444444444444444,
              "#000015"
             ],
             [
              0.5555555555555556,
              "#000016"
             ],
             [
              0.6666666666666666,
              "#000017"
             ],
             [
              0.7777777777777778,
              "#000018"
             ],
             [
              0.8888888888888888,
              "#000019"
             ],
             [
              1,
              "#000020"
             ]
            ],
            "type": "heatmap"
           }
          ],
          "histogram2d": [
           {
            "colorscale": [
             [
              0,
              "#000011"
             ],
             [
              0.1111111111111111,
              "#000012"
             ],
             [
              0.2222222222222222,
              "#000013"
             ],
             [
              0.3333333333333333,
              "#000014"
             ],
             [
              0.4444444444444444,
              "#000015"
             ],
             [
              0.5555555555555556,
              "#000016"
             ],
             [
              0.6666666666666666,
              "#000017"
             ],
             [
              0.7777777777777778,
              "#000018"
             ],
             [
              0.8888888888888888,
              "#000019"
             ],
             [
              1,
              "#000020"
             ]
            ],
            "type": "histogram2d"
           }
          ],
          "icicle": [
           {
            "textfont": {
             "color": "white"
            },
            "type": "icicle"
           }
          ],
          "sankey": [
           {
            "textfont": {
             "color": "#000036"
            },
            "type": "sankey"
           }
          ],
          "scatter": [
           {
            "marker": {
             "line": {
              "width": 0
             }
            },
            "type": "scatter"
           }
          ],
          "table": [
           {
            "cells": {
             "fill": {
              "color": "#000038"
             },
             "font": {
              "color": "#000037"
             },
             "line": {
              "color": "#000039"
             }
            },
            "header": {
             "fill": {
              "color": "#000040"
             },
             "font": {
              "color": "#000036"
             },
             "line": {
              "color": "#000039"
             }
            },
            "type": "table"
           }
          ],
          "waterfall": [
           {
            "connector": {
             "line": {
              "color": "#000036",
              "width": 2
             }
            },
            "decreasing": {
             "marker": {
              "color": "#000033"
             }
            },
            "increasing": {
             "marker": {
              "color": "#000032"
             }
            },
            "totals": {
             "marker": {
              "color": "#000034"
             }
            },
            "type": "waterfall"
           }
          ]
         },
         "layout": {
          "coloraxis": {
           "colorscale": [
            [
             0,
             "#000011"
            ],
            [
             0.1111111111111111,
             "#000012"
            ],
            [
             0.2222222222222222,
             "#000013"
            ],
            [
             0.3333333333333333,
             "#000014"
            ],
            [
             0.4444444444444444,
             "#000015"
            ],
            [
             0.5555555555555556,
             "#000016"
            ],
            [
             0.6666666666666666,
             "#000017"
            ],
            [
             0.7777777777777778,
             "#000018"
            ],
            [
             0.8888888888888888,
             "#000019"
            ],
            [
             1,
             "#000020"
            ]
           ]
          },
          "colorscale": {
           "diverging": [
            [
             0,
             "#000021"
            ],
            [
             0.1,
             "#000022"
            ],
            [
             0.2,
             "#000023"
            ],
            [
             0.3,
             "#000024"
            ],
            [
             0.4,
             "#000025"
            ],
            [
             0.5,
             "#000026"
            ],
            [
             0.6,
             "#000027"
            ],
            [
             0.7,
             "#000028"
            ],
            [
             0.8,
             "#000029"
            ],
            [
             0.9,
             "#000030"
            ],
            [
             1,
             "#000031"
            ]
           ],
           "sequential": [
            [
             0,
             "#000011"
            ],
            [
             0.1111111111111111,
             "#000012"
            ],
            [
             0.2222222222222222,
             "#000013"
            ],
            [
             0.3333333333333333,
             "#000014"
            ],
            [
             0.4444444444444444,
             "#000015"
            ],
            [
             0.5555555555555556,
             "#000016"
            ],
            [
             0.6666666666666666,
             "#000017"
            ],
            [
             0.7777777777777778,
             "#000018"
            ],
            [
             0.8888888888888888,
             "#000019"
            ],
            [
             1,
             "#000020"
            ]
           ],
           "sequentialminus": [
            [
             0,
             "#000011"
            ],
            [
             0.1111111111111111,
             "#000012"
            ],
            [
             0.2222222222222222,
             "#000013"
            ],
            [
             0.3333333333333333,
             "#000014"
            ],
            [
             0.4444444444444444,
             "#000015"
            ],
            [
             0.5555555555555556,
             "#000016"
            ],
            [
             0.6666666666666666,
             "#000017"
            ],
            [
             0.7777777777777778,
             "#000018"
            ],
            [
             0.8888888888888888,
             "#000019"
            ],
            [
             1,
             "#000020"
            ]
           ]
          },
          "colorway": [
           "#000001",
           "#000002",
           "#000003",
           "#000004",
           "#000005",
           "#000006",
           "#000007",
           "#000008",
           "#000009",
           "#000010"
          ]
         }
        },
        "title": {
         "text": "Top 5 Revenue Operation Types (RUB)"
        },
        "xaxis": {
         "anchor": "y",
         "domain": [
          0,
          1
         ],
         "title": {
          "text": "Sum"
         }
        },
        "yaxis": {
         "anchor": "x",
         "domain": [
          0,
          1
         ],
         "title": {
          "text": "Operation"
         }
        }
       }
      }
     },
     "metadata": {},
     "output_type": "display_data"
    }
   ],
   "source": [
    "# Top 5 Revenue Operation Types in RUB\n",
    "top_revenue_rub = df_fin_rub[df_fin_rub['Sum'] > 0]\n",
    "top_revenue_rub = top_revenue_rub.groupby('Operation')['Sum'].sum().nlargest(5).reset_index()\n",
    "\n",
    "# Reverse the sorting order\n",
    "top_revenue_rub = top_revenue_rub.iloc[::-1]\n",
    "\n",
    "# Create a horizontal bar graph with the highest value at the top\n",
    "fig_revenue_rub = px.bar(top_revenue_rub, x='Sum', y='Operation', title='Top 5 Revenue Operation Types (RUB)')\n",
    "\n",
    "# Show or save the figure\n",
    "fig_revenue_rub.show()\n"
   ]
  },
  {
   "cell_type": "code",
   "execution_count": null,
   "metadata": {},
   "outputs": [],
   "source": []
  },
  {
   "cell_type": "markdown",
   "metadata": {},
   "source": [
    "calculate turnover \n"
   ]
  },
  {
   "cell_type": "code",
   "execution_count": 228,
   "metadata": {},
   "outputs": [
    {
     "name": "stdout",
     "output_type": "stream",
     "text": [
      "Total Turnover (USD): 3090\n",
      "Total Turnover (RUB): 4378614\n"
     ]
    }
   ],
   "source": [
    "# Calculate the total turnover as the sum of absolute values of the \"Sum\" column\n",
    "total_turnover_usd = df_fin_usd['Sum'].abs().sum()\n",
    "total_turnover_rub = df_fin_rub['Sum'].abs().sum()\n",
    "\n",
    "# Display the total turnover\n",
    "print(\"Total Turnover (USD):\", total_turnover_usd)\n",
    "print(\"Total Turnover (RUB):\", total_turnover_rub)"
   ]
  },
  {
   "cell_type": "markdown",
   "metadata": {},
   "source": [
    "calculate revenue"
   ]
  },
  {
   "cell_type": "code",
   "execution_count": 229,
   "metadata": {},
   "outputs": [
    {
     "name": "stdout",
     "output_type": "stream",
     "text": [
      "Income USD: 1545\n",
      "Expenses USD: -499\n"
     ]
    }
   ],
   "source": [
    "# Calculate income and expenses for USD DataFrame\n",
    "income_usd = df_fin_usd[df_fin_usd['Classification'].isin(['Credit', 'Credit USD'])]['Sum'].sum()\n",
    "expenses_usd = df_fin_usd[df_fin_usd['Classification'].isin(['Debit', 'Debit USD'])]['Sum'].sum()\n",
    "\n",
    "# Exclude \"Payout Total USD\"\n",
    "expenses_usd -= payout_total_usd\n",
    "\n",
    "# Display the results\n",
    "print(\"Income USD:\", income_usd)\n",
    "print(\"Expenses USD:\", expenses_usd)\n",
    "\n"
   ]
  },
  {
   "cell_type": "code",
   "execution_count": 230,
   "metadata": {},
   "outputs": [
    {
     "name": "stdout",
     "output_type": "stream",
     "text": [
      "Income RUB: 2189307\n",
      "Expenses RUB: -2091407\n"
     ]
    }
   ],
   "source": [
    "# Calculate income and expenses for RUB DataFrame\n",
    "income_rub = df_fin_rub[df_fin_rub['Classification'].isin(['Credit', 'Credit USD'])]['Sum'].sum()\n",
    "expenses_rub = df_fin_rub[df_fin_rub['Classification'].isin(['Debit', 'Debit USD'])]['Sum'].sum()\n",
    "\n",
    "# Exclude \"Payout Total RUB\"\n",
    "expenses_rub -= payout_total_rub\n",
    "\n",
    "# Display the results\n",
    "print(\"Income RUB:\", income_rub)\n",
    "print(\"Expenses RUB:\", expenses_rub)\n"
   ]
  },
  {
   "cell_type": "markdown",
   "metadata": {},
   "source": [
    "calculate profit"
   ]
  },
  {
   "cell_type": "code",
   "execution_count": 231,
   "metadata": {},
   "outputs": [
    {
     "name": "stdout",
     "output_type": "stream",
     "text": [
      "1046\n",
      "97900\n"
     ]
    }
   ],
   "source": [
    "total_profit_rub = abs(payout_total_rub)\n",
    "total_profit_usd = abs(payout_total_usd)\n",
    "\n",
    "\n",
    "\n",
    "print(total_profit_usd)\n",
    "print(total_profit_rub)"
   ]
  },
  {
   "cell_type": "code",
   "execution_count": 232,
   "metadata": {},
   "outputs": [
    {
     "name": "stdout",
     "output_type": "stream",
     "text": [
      "Profit Margin (USD): 67.70226537216828\n",
      "Profit Margin (RUB): 4.4717346630691805\n"
     ]
    }
   ],
   "source": [
    "# Calculate profit margin (Profit as a percentage of income)\n",
    "profit_margin_usd = (abs(payout_total_usd) / income_usd) * 100\n",
    "profit_margin_rub = (abs(payout_total_rub) / income_rub) * 100\n",
    "\n",
    "\n",
    "# Display the results for USD\n",
    "print(\"Profit Margin (USD):\", profit_margin_usd)\n",
    "print(\"Profit Margin (RUB):\", profit_margin_rub)\n",
    "\n"
   ]
  },
  {
   "cell_type": "markdown",
   "metadata": {},
   "source": [
    "NEED TO IDENTIFY REVENUE FOR EACH CATEGORY AND REPLACE TOTAL_PROFIT_USD WITH EACH CATEGORY REVENUE"
   ]
  },
  {
   "cell_type": "code",
   "execution_count": 233,
   "metadata": {},
   "outputs": [
    {
     "name": "stdout",
     "output_type": "stream",
     "text": [
      "0\n",
      "20450\n"
     ]
    }
   ],
   "source": [
    "# Filter the USD data frame for the \"Ball Purchase\" and \"Ball Purchases\" operations\n",
    "ball_revenue_usd = df_fin_usd[df_fin_usd['Operation'].isin(['Ball Sale'])]\n",
    "ball_revenue_rub = df_fin_rub[df_fin_rub['Operation'].isin(['Ball Sale'])]\n",
    "\n",
    "# Calculate the sum of the \"Ball Purchase\" and \"Ball Purchases\" operations in USD\n",
    "ball_revenue_usd = ball_revenue_usd['Sum'].sum()\n",
    "ball_revenue_rub = ball_revenue_rub['Sum'].sum()\n",
    "\n",
    "print(ball_revenue_usd)\n",
    "print(ball_revenue_rub)"
   ]
  },
  {
   "cell_type": "code",
   "execution_count": 234,
   "metadata": {},
   "outputs": [
    {
     "name": "stdout",
     "output_type": "stream",
     "text": [
      "12950\n",
      "20450\n",
      "0.6332518337408313\n"
     ]
    }
   ],
   "source": [
    "###test \n",
    "test = ball_total_rub / ball_revenue_rub\n",
    "\n",
    "print(ball_total_rub)\n",
    "print(ball_revenue_rub)\n",
    "print(test)"
   ]
  },
  {
   "cell_type": "code",
   "execution_count": 235,
   "metadata": {},
   "outputs": [],
   "source": [
    "# Filter the USD data frame for the specified operations for each category\n",
    "ball_revenue_usd = df_fin_usd[df_fin_usd['Operation'].isin(['Ball Sale'])]['Sum'].sum()\n",
    "elbows_revenue_usd = df_fin_usd[df_fin_usd['Operation'].isin(['Elbows Sale'])]['Sum'].sum()\n",
    "equipment_revenue_usd = df_fin_usd[df_fin_usd['Operation'].isin(['Equipment Sale'])]['Sum'].sum()\n",
    "gloves_revenue_usd = df_fin_usd[df_fin_usd['Operation'].isin(['Gloves Sale'])]['Sum'].sum()\n",
    "head_revenue_usd = df_fin_usd[df_fin_usd['Operation'].isin(['Head Sale'])]['Sum'].sum()\n",
    "helmet_revenue_usd = df_fin_usd[df_fin_usd['Operation'].isin(['Helmet Sale'])]['Sum'].sum()\n",
    "shafts_revenue_usd = df_fin_usd[df_fin_usd['Operation'].isin(['Shafts Sale'])]['Sum'].sum()\n",
    "stick_revenue_usd = df_fin_usd[df_fin_usd['Operation'].isin(['Stick Sale'])]['Sum'].sum()\n",
    "strings_revenue_usd = df_fin_usd[df_fin_usd['Operation'].isin(['Strings Sale'])]['Sum'].sum()\n",
    "t_shirt_revenue_usd = df_fin_usd[df_fin_usd['Operation'].isin(['T-Shirt Sale'])]['Sum'].sum()\n",
    "order_refund_revenue_usd = df_fin_usd[df_fin_usd['Operation'].isin(['Order Refund'])]['Sum'].sum()\n",
    "membership_fee_revenue_usd = df_fin_usd[df_fin_usd['Operation'].isin(['Membership Fee'])]['Sum'].sum()\n",
    "player_fine_revenue_usd = df_fin_usd[df_fin_usd['Operation'].isin(['Player Fine'])]['Sum'].sum()\n",
    "reimbursement_revenue_usd = df_fin_usd[df_fin_usd['Operation'].isin(['Reimbursement'])]['Sum'].sum()\n",
    "shoulders_sale_revenue_usd = df_fin_usd[df_fin_usd['Operation'].isin(['Shoulders Sale'])]['Sum'].sum()\n",
    "loan_revenue_usd = (df_fin_usd[df_fin_usd['Operation'].isin(['Loan Repayment'])]['Sum'].sum()) + (df_fin_usd[df_fin_usd['Operation'].isin(['Loan'])]['Sum'].sum())\n",
    "bank_interest_revenue_usd = df_fin_usd[df_fin_usd['Operation'].isin(['Credit'])]['Sum'].sum()\n",
    "lacrosse_clinic_revenue_usd = df_fin_usd[df_fin_usd['Operation'].isin(['Lacrosse Clinic'])]['Sum'].sum()\n",
    "field_revenue_usd = df_fin_usd[df_fin_usd['Operation'].isin(['Field Fees'])]['Sum'].sum()\n",
    "\n",
    "\n"
   ]
  },
  {
   "cell_type": "code",
   "execution_count": 236,
   "metadata": {},
   "outputs": [
    {
     "name": "stdout",
     "output_type": "stream",
     "text": [
      "Ball Revenue (USD): 0.00\n",
      "Elbows Revenue (USD): 80.00\n",
      "Equipment Revenue (USD): 5.00\n",
      "Gloves Revenue (USD): 195.00\n",
      "Head Revenue (USD): 310.00\n",
      "Helmet Revenue (USD): 240.00\n",
      "Shafts Revenue (USD): 259.00\n",
      "Stick Revenue (USD): 0.00\n",
      "Strings Revenue (USD): 25.00\n",
      "T-Shirt Revenue (USD): 0.00\n",
      "Order Refund Revenue (USD): 0.00\n",
      "Membership Fee Revenue (USD): 0.00\n",
      "Player Fine Revenue (USD): 0.00\n",
      "Reimbursement Revenue (USD): 181.00\n",
      "Shoulders Sale Revenue (USD): 0.00\n",
      "Loan Revenue (USD): 0.00\n",
      "Bank Interest Revenue (USD): 0.00\n",
      "Lacrosse Clinic Revenue (USD): 0.00\n",
      "Field Revenue (USD): 0.00\n"
     ]
    }
   ],
   "source": [
    "# Display the revenue for each category in USD\n",
    "print(\"Ball Revenue (USD): {:.2f}\".format(ball_revenue_usd))\n",
    "print(\"Elbows Revenue (USD): {:.2f}\".format(elbows_revenue_usd))\n",
    "print(\"Equipment Revenue (USD): {:.2f}\".format(equipment_revenue_usd))\n",
    "print(\"Gloves Revenue (USD): {:.2f}\".format(gloves_revenue_usd))\n",
    "print(\"Head Revenue (USD): {:.2f}\".format(head_revenue_usd))\n",
    "print(\"Helmet Revenue (USD): {:.2f}\".format(helmet_revenue_usd))\n",
    "print(\"Shafts Revenue (USD): {:.2f}\".format(shafts_revenue_usd))\n",
    "print(\"Stick Revenue (USD): {:.2f}\".format(stick_revenue_usd))\n",
    "print(\"Strings Revenue (USD): {:.2f}\".format(strings_revenue_usd))\n",
    "print(\"T-Shirt Revenue (USD): {:.2f}\".format(t_shirt_revenue_usd))\n",
    "print(\"Order Refund Revenue (USD): {:.2f}\".format(order_refund_revenue_usd))\n",
    "print(\"Membership Fee Revenue (USD): {:.2f}\".format(membership_fee_revenue_usd))\n",
    "print(\"Player Fine Revenue (USD): {:.2f}\".format(player_fine_revenue_usd))\n",
    "print(\"Reimbursement Revenue (USD): {:.2f}\".format(reimbursement_revenue_usd))\n",
    "print(\"Shoulders Sale Revenue (USD): {:.2f}\".format(shoulders_sale_revenue_usd))\n",
    "print(\"Loan Revenue (USD): {:.2f}\".format(loan_revenue_usd))\n",
    "print(\"Bank Interest Revenue (USD): {:.2f}\".format(bank_interest_revenue_usd))\n",
    "print(\"Lacrosse Clinic Revenue (USD): {:.2f}\".format(lacrosse_clinic_revenue_usd))\n",
    "print(\"Field Revenue (USD): {:.2f}\".format(field_revenue_usd))\n"
   ]
  },
  {
   "cell_type": "code",
   "execution_count": 237,
   "metadata": {},
   "outputs": [],
   "source": [
    "# Filter the rub data frame for the specified operations for each category\n",
    "ball_revenue_rub = df_fin_rub[df_fin_rub['Operation'].isin(['Ball Sale'])]['Sum'].sum()\n",
    "elbows_revenue_rub = df_fin_rub[df_fin_rub['Operation'].isin(['Elbows Sale'])]['Sum'].sum()\n",
    "equipment_revenue_rub = df_fin_rub[df_fin_rub['Operation'].isin(['Equipment Sale'])]['Sum'].sum()\n",
    "gloves_revenue_rub = df_fin_rub[df_fin_rub['Operation'].isin(['Gloves Sale'])]['Sum'].sum()\n",
    "head_revenue_rub = df_fin_rub[df_fin_rub['Operation'].isin(['Head Sale'])]['Sum'].sum()\n",
    "helmet_revenue_rub = df_fin_rub[df_fin_rub['Operation'].isin(['Helmet Sale'])]['Sum'].sum()\n",
    "shafts_revenue_rub = df_fin_rub[df_fin_rub['Operation'].isin(['Shafts Sale'])]['Sum'].sum()\n",
    "stick_revenue_rub = df_fin_rub[df_fin_rub['Operation'].isin(['Stick Sale'])]['Sum'].sum()\n",
    "strings_revenue_rub = df_fin_rub[df_fin_rub['Operation'].isin(['Strings Sale'])]['Sum'].sum()\n",
    "t_shirt_revenue_rub = df_fin_rub[df_fin_rub['Operation'].isin(['T-Shirt Sale'])]['Sum'].sum()\n",
    "order_refund_revenue_rub = df_fin_rub[df_fin_rub['Operation'].isin(['Order Refund'])]['Sum'].sum()\n",
    "membership_fee_revenue_rub = df_fin_rub[df_fin_rub['Operation'].isin(['Membership Fee'])]['Sum'].sum()\n",
    "player_fine_revenue_rub = df_fin_rub[df_fin_rub['Operation'].isin(['Player Fine'])]['Sum'].sum()\n",
    "reimbursement_revenue_rub = df_fin_rub[df_fin_rub['Operation'].isin(['Reimbursement'])]['Sum'].sum()\n",
    "shoulders_sale_revenue_rub = df_fin_rub[df_fin_rub['Operation'].isin(['Shoulders Sale'])]['Sum'].sum()\n",
    "loan_revenue_rub = (df_fin_rub[df_fin_rub['Operation'].isin(['Loan Repayment'])]['Sum'].sum()) + (df_fin_rub[df_fin_rub['Operation'].isin(['Loan'])]['Sum'].sum())\n",
    "bank_interest_revenue_rub = df_fin_rub[df_fin_rub['Operation'].isin(['Credit'])]['Sum'].sum()\n",
    "lacrosse_clinic_revenue_rub = df_fin_rub[df_fin_rub['Operation'].isin(['Lacrosse Clinic'])]['Sum'].sum()\n",
    "field_revenue_rub = df_fin_rub[df_fin_rub['Operation'].isin(['Field Fees'])]['Sum'].sum()"
   ]
  },
  {
   "cell_type": "code",
   "execution_count": 238,
   "metadata": {},
   "outputs": [
    {
     "name": "stdout",
     "output_type": "stream",
     "text": [
      "Ball Revenue (rub): 20450.00\n",
      "Elbows Revenue (rub): 49350.00\n",
      "Equipment Revenue (rub): 35180.00\n",
      "Gloves Revenue (rub): 54650.00\n",
      "Head Revenue (rub): 61600.00\n",
      "Helmet Revenue (rub): 75700.00\n",
      "Shafts Revenue (rub): 29440.00\n",
      "Stick Revenue (rub): 141050.00\n",
      "Strings Revenue (rub): 16000.00\n",
      "T-Shirt Revenue (rub): 38471.00\n",
      "Order Refund Revenue (rub): 14577.00\n",
      "Membership Fee Revenue (rub): 150944.00\n",
      "Player Fine Revenue (rub): 1000.00\n",
      "Reimbursement Revenue (rub): 12950.00\n",
      "Shoulders Sale Revenue (rub): 1000.00\n",
      "Loan Revenue (rub): 10650.00\n",
      "Bank Interest Revenue (rub): 1290.00\n",
      "Lacrosse Clinic Revenue (rub): 5800.00\n",
      "Field Revenue (rub): 1430805.00\n"
     ]
    }
   ],
   "source": [
    "# Display the revenue for each category in rub\n",
    "print(\"Ball Revenue (rub): {:.2f}\".format(ball_revenue_rub))\n",
    "print(\"Elbows Revenue (rub): {:.2f}\".format(elbows_revenue_rub))\n",
    "print(\"Equipment Revenue (rub): {:.2f}\".format(equipment_revenue_rub))\n",
    "print(\"Gloves Revenue (rub): {:.2f}\".format(gloves_revenue_rub))\n",
    "print(\"Head Revenue (rub): {:.2f}\".format(head_revenue_rub))\n",
    "print(\"Helmet Revenue (rub): {:.2f}\".format(helmet_revenue_rub))\n",
    "print(\"Shafts Revenue (rub): {:.2f}\".format(shafts_revenue_rub))\n",
    "print(\"Stick Revenue (rub): {:.2f}\".format(stick_revenue_rub))\n",
    "print(\"Strings Revenue (rub): {:.2f}\".format(strings_revenue_rub))\n",
    "print(\"T-Shirt Revenue (rub): {:.2f}\".format(t_shirt_revenue_rub))\n",
    "print(\"Order Refund Revenue (rub): {:.2f}\".format(order_refund_revenue_rub))\n",
    "print(\"Membership Fee Revenue (rub): {:.2f}\".format(membership_fee_revenue_rub))\n",
    "print(\"Player Fine Revenue (rub): {:.2f}\".format(player_fine_revenue_rub))\n",
    "print(\"Reimbursement Revenue (rub): {:.2f}\".format(reimbursement_revenue_rub))\n",
    "print(\"Shoulders Sale Revenue (rub): {:.2f}\".format(shoulders_sale_revenue_rub))\n",
    "print(\"Loan Revenue (rub): {:.2f}\".format(loan_revenue_rub))\n",
    "print(\"Bank Interest Revenue (rub): {:.2f}\".format(bank_interest_revenue_rub))\n",
    "print(\"Lacrosse Clinic Revenue (rub): {:.2f}\".format(lacrosse_clinic_revenue_rub))\n",
    "print(\"Field Revenue (rub): {:.2f}\".format(field_revenue_rub))\n"
   ]
  },
  {
   "cell_type": "code",
   "execution_count": null,
   "metadata": {},
   "outputs": [],
   "source": []
  },
  {
   "cell_type": "code",
   "execution_count": 239,
   "metadata": {},
   "outputs": [
    {
     "name": "stderr",
     "output_type": "stream",
     "text": [
      "C:\\Users\\mader\\AppData\\Local\\Temp\\ipykernel_7924\\2976571891.py:1: RuntimeWarning:\n",
      "\n",
      "divide by zero encountered in longlong_scalars\n",
      "\n",
      "C:\\Users\\mader\\AppData\\Local\\Temp\\ipykernel_7924\\2976571891.py:4: RuntimeWarning:\n",
      "\n",
      "invalid value encountered in longlong_scalars\n",
      "\n",
      "C:\\Users\\mader\\AppData\\Local\\Temp\\ipykernel_7924\\2976571891.py:8: RuntimeWarning:\n",
      "\n",
      "invalid value encountered in longlong_scalars\n",
      "\n",
      "C:\\Users\\mader\\AppData\\Local\\Temp\\ipykernel_7924\\2976571891.py:10: RuntimeWarning:\n",
      "\n",
      "invalid value encountered in longlong_scalars\n",
      "\n",
      "C:\\Users\\mader\\AppData\\Local\\Temp\\ipykernel_7924\\2976571891.py:12: RuntimeWarning:\n",
      "\n",
      "invalid value encountered in longlong_scalars\n",
      "\n",
      "C:\\Users\\mader\\AppData\\Local\\Temp\\ipykernel_7924\\2976571891.py:13: RuntimeWarning:\n",
      "\n",
      "invalid value encountered in longlong_scalars\n",
      "\n",
      "C:\\Users\\mader\\AppData\\Local\\Temp\\ipykernel_7924\\2976571891.py:14: RuntimeWarning:\n",
      "\n",
      "invalid value encountered in longlong_scalars\n",
      "\n",
      "C:\\Users\\mader\\AppData\\Local\\Temp\\ipykernel_7924\\2976571891.py:15: RuntimeWarning:\n",
      "\n",
      "invalid value encountered in longlong_scalars\n",
      "\n",
      "C:\\Users\\mader\\AppData\\Local\\Temp\\ipykernel_7924\\2976571891.py:17: RuntimeWarning:\n",
      "\n",
      "invalid value encountered in longlong_scalars\n",
      "\n",
      "C:\\Users\\mader\\AppData\\Local\\Temp\\ipykernel_7924\\2976571891.py:18: RuntimeWarning:\n",
      "\n",
      "invalid value encountered in longlong_scalars\n",
      "\n",
      "C:\\Users\\mader\\AppData\\Local\\Temp\\ipykernel_7924\\2976571891.py:19: RuntimeWarning:\n",
      "\n",
      "invalid value encountered in longlong_scalars\n",
      "\n"
     ]
    }
   ],
   "source": [
    "ball_profit_percent_usd = ball_total_usd / ball_revenue_usd\n",
    "elbows_profit_percent_usd = elbows_total_usd / elbows_revenue_usd\n",
    "equipment_profit_percent_usd = equipment_total_usd / equipment_revenue_usd\n",
    "field_profit_percent_usd = field_total_usd / field_revenue_usd\n",
    "gloves_profit_percent_usd = gloves_total_usd / gloves_revenue_usd\n",
    "head_profit_percent_usd = head_total_usd / head_revenue_usd\n",
    "helmet_profit_percent_usd = helmet_total_usd / helmet_revenue_usd\n",
    "loan_profit_percent_usd = loan_total_usd / loan_revenue_usd\n",
    "shafts_profit_percent_usd = shafts_total_usd / shafts_revenue_usd\n",
    "stick_profit_percent_usd = stick_total_usd / stick_revenue_usd\n",
    "strings_profit_percent_usd = strings_total_usd / strings_revenue_usd\n",
    "t_shirt_profit_percent_usd = t_shirt_total_usd / t_shirt_revenue_usd\n",
    "membership_profit_percent_usd = membership_total_usd / membership_fee_revenue_usd\n",
    "order_refund_profit_percent_usd = order_refund_total_usd / order_refund_revenue_usd\n",
    "player_fine_profit_percent_usd = player_fine_total_usd / player_fine_revenue_usd\n",
    "reimbursement_profit_percent_usd = reimbursement_total_usd / reimbursement_revenue_usd\n",
    "shoulders_sale_profit_percent_usd = shoulders_sale_total_usd / shoulders_sale_revenue_usd\n",
    "bank_interest_profit_percent_usd = bank_interest_usd / bank_interest_revenue_usd\n",
    "lacrosse_clinic_profit_percent_usd = lacrosse_clinic_usd / lacrosse_clinic_revenue_usd\n",
    "\n"
   ]
  },
  {
   "cell_type": "code",
   "execution_count": null,
   "metadata": {},
   "outputs": [],
   "source": []
  },
  {
   "cell_type": "code",
   "execution_count": 240,
   "metadata": {},
   "outputs": [
    {
     "name": "stdout",
     "output_type": "stream",
     "text": [
      "Ball Profit Percent (USD): -inf%\n",
      "Elbows Profit Percent (USD): -212.50%\n",
      "Equipment Profit Percent (USD): 100.00%\n",
      "Field Profit Percent (USD): nan%\n",
      "Gloves Profit Percent (USD): 100.00%\n",
      "Head Profit Percent (USD): 100.00%\n",
      "Helmet Profit Percent (USD): 100.00%\n",
      "Loan Profit Percent (USD): nan%\n",
      "Shafts Profit Percent (USD): 100.00%\n",
      "Stick Profit Percent (USD): nan%\n",
      "Strings Profit Percent (USD): -172.00%\n",
      "T-Shirt Profit Percent (USD): nan%\n",
      "Membership Fee Profit Percent (USD): nan%\n",
      "Order Refund Profit Percent (USD): nan%\n",
      "Player Fine Profit Percent (USD): nan%\n",
      "Reimbursement Profit Percent (USD): 100.00%\n",
      "Shoulders Sale Profit Percent (USD): nan%\n",
      "Bank Interest Profit Percent (USD): nan%\n",
      "Lacrosse Clinic Profit Percent (USD): nan%\n"
     ]
    }
   ],
   "source": [
    "print(\"Ball Profit Percent (USD): {:.2f}%\".format(ball_profit_percent_usd * 100))\n",
    "print(\"Elbows Profit Percent (USD): {:.2f}%\".format(elbows_profit_percent_usd * 100))\n",
    "print(\"Equipment Profit Percent (USD): {:.2f}%\".format(equipment_profit_percent_usd * 100))\n",
    "print(\"Field Profit Percent (USD): {:.2f}%\".format(field_profit_percent_usd * 100))\n",
    "print(\"Gloves Profit Percent (USD): {:.2f}%\".format(gloves_profit_percent_usd * 100))\n",
    "print(\"Head Profit Percent (USD): {:.2f}%\".format(head_profit_percent_usd * 100))\n",
    "print(\"Helmet Profit Percent (USD): {:.2f}%\".format(helmet_profit_percent_usd * 100))\n",
    "print(\"Loan Profit Percent (USD): {:.2f}%\".format(loan_profit_percent_usd * 100))\n",
    "print(\"Shafts Profit Percent (USD): {:.2f}%\".format(shafts_profit_percent_usd * 100))\n",
    "print(\"Stick Profit Percent (USD): {:.2f}%\".format(stick_profit_percent_usd * 100))\n",
    "print(\"Strings Profit Percent (USD): {:.2f}%\".format(strings_profit_percent_usd * 100))\n",
    "print(\"T-Shirt Profit Percent (USD): {:.2f}%\".format(t_shirt_profit_percent_usd * 100))\n",
    "print(\"Membership Fee Profit Percent (USD): {:.2f}%\".format(membership_profit_percent_usd * 100))\n",
    "print(\"Order Refund Profit Percent (USD): {:.2f}%\".format(order_refund_profit_percent_usd * 100))\n",
    "print(\"Player Fine Profit Percent (USD): {:.2f}%\".format(player_fine_profit_percent_usd * 100))\n",
    "print(\"Reimbursement Profit Percent (USD): {:.2f}%\".format(reimbursement_profit_percent_usd * 100))\n",
    "print(\"Shoulders Sale Profit Percent (USD): {:.2f}%\".format(shoulders_sale_profit_percent_usd * 100))\n",
    "print(\"Bank Interest Profit Percent (USD): {:.2f}%\".format(bank_interest_profit_percent_usd * 100))\n",
    "print(\"Lacrosse Clinic Profit Percent (USD): {:.2f}%\".format(lacrosse_clinic_profit_percent_usd * 100))\n"
   ]
  },
  {
   "cell_type": "code",
   "execution_count": 241,
   "metadata": {},
   "outputs": [],
   "source": [
    "ball_profit_percent_rub = ball_total_rub / ball_revenue_rub\n",
    "elbows_profit_percent_rub = elbows_total_rub / elbows_revenue_rub\n",
    "equipment_profit_percent_rub = equipment_total_rub / equipment_revenue_rub\n",
    "field_profit_percent_rub = field_total_rub / field_revenue_rub\n",
    "gloves_profit_percent_rub = gloves_total_rub / gloves_revenue_rub\n",
    "head_profit_percent_rub = head_total_rub / head_revenue_rub\n",
    "helmet_profit_percent_rub = helmet_total_rub / helmet_revenue_rub\n",
    "loan_profit_percent_rub = loan_total_rub / loan_revenue_rub\n",
    "shafts_profit_percent_rub = shafts_total_rub / shafts_revenue_rub\n",
    "stick_profit_percent_rub = stick_total_rub / stick_revenue_rub\n",
    "strings_profit_percent_rub = strings_total_rub / strings_revenue_rub\n",
    "t_shirt_profit_percent_rub = t_shirt_total_rub / t_shirt_revenue_rub\n",
    "membership_profit_percent_rub = membership_total_rub / membership_fee_revenue_rub\n",
    "order_refund_profit_percent_rub = order_refund_total_rub / order_refund_revenue_rub\n",
    "player_fine_profit_percent_rub = player_fine_total_rub / player_fine_revenue_rub\n",
    "reimbursement_profit_percent_rub = reimbursement_total_rub / reimbursement_revenue_rub\n",
    "shoulders_sale_profit_percent_rub = shoulders_sale_total_rub / shoulders_sale_revenue_rub\n",
    "bank_interest_profit_percent_rub = bank_interest_rub / bank_interest_revenue_rub\n",
    "lacrosse_clinic_profit_percent_rub = lacrosse_clinic_rub / lacrosse_clinic_revenue_rub"
   ]
  },
  {
   "cell_type": "code",
   "execution_count": 242,
   "metadata": {},
   "outputs": [
    {
     "data": {
      "text/plain": [
       "1.0"
      ]
     },
     "execution_count": 242,
     "metadata": {},
     "output_type": "execute_result"
    }
   ],
   "source": [
    "ball_profit_percent_rub\n",
    "elbows_profit_percent_rub\n",
    "equipment_profit_percent_rub\n",
    "field_profit_percent_rub\n",
    "gloves_profit_percent_rub\n",
    "head_profit_percent_rub\n",
    "helmet_profit_percent_rub\n",
    "loan_profit_percent_rub\n",
    "shafts_profit_percent_rub\n",
    "stick_profit_percent_rub\n",
    "strings_profit_percent_rub\n",
    "t_shirt_profit_percent_rub\n",
    "membership_profit_percent_rub\n",
    "order_refund_profit_percent_rub\n",
    "player_fine_profit_percent_rub\n",
    "reimbursement_profit_percent_rub\n",
    "shoulders_sale_profit_percent_rub\n",
    "bank_interest_profit_percent_rub\n",
    "lacrosse_clinic_profit_percent_rub"
   ]
  },
  {
   "cell_type": "code",
   "execution_count": 243,
   "metadata": {},
   "outputs": [
    {
     "name": "stdout",
     "output_type": "stream",
     "text": [
      "Ball Profit Percent (rub): 63.33%\n",
      "Elbows Profit Percent (rub): 13.46%\n",
      "Equipment Profit Percent (rub): -93.30%\n",
      "Field Profit Percent (rub): 1.80%\n",
      "Gloves Profit Percent (rub): 28.82%\n",
      "Head Profit Percent (rub): 40.77%\n",
      "Helmet Profit Percent (rub): 37.52%\n",
      "Loan Profit Percent (rub): 6.10%\n",
      "Shafts Profit Percent (rub): -67.80%\n",
      "Stick Profit Percent (rub): 43.14%\n",
      "Strings Profit Percent (rub): 54.76%\n",
      "T-Shirt Profit Percent (rub): 0.44%\n",
      "Membership Fee Profit Percent (rub): 39.94%\n",
      "Order Refund Profit Percent (rub): 100.00%\n",
      "Player Fine Profit Percent (rub): 100.00%\n",
      "Reimbursement Profit Percent (rub): 100.00%\n",
      "Shoulders Sale Profit Percent (rub): 100.00%\n",
      "Bank Interest Profit Percent (rub): 100.00%\n",
      "Lacrosse Clinic Profit Percent (rub): 100.00%\n"
     ]
    }
   ],
   "source": [
    "print(\"Ball Profit Percent (rub): {:.2f}%\".format(ball_profit_percent_rub * 100))\n",
    "print(\"Elbows Profit Percent (rub): {:.2f}%\".format(elbows_profit_percent_rub * 100))\n",
    "print(\"Equipment Profit Percent (rub): {:.2f}%\".format(equipment_profit_percent_rub * 100))\n",
    "print(\"Field Profit Percent (rub): {:.2f}%\".format(field_profit_percent_rub * 100))\n",
    "print(\"Gloves Profit Percent (rub): {:.2f}%\".format(gloves_profit_percent_rub * 100))\n",
    "print(\"Head Profit Percent (rub): {:.2f}%\".format(head_profit_percent_rub * 100))\n",
    "print(\"Helmet Profit Percent (rub): {:.2f}%\".format(helmet_profit_percent_rub * 100))\n",
    "print(\"Loan Profit Percent (rub): {:.2f}%\".format(loan_profit_percent_rub * 100))\n",
    "print(\"Shafts Profit Percent (rub): {:.2f}%\".format(shafts_profit_percent_rub * 100))\n",
    "print(\"Stick Profit Percent (rub): {:.2f}%\".format(stick_profit_percent_rub * 100))\n",
    "print(\"Strings Profit Percent (rub): {:.2f}%\".format(strings_profit_percent_rub * 100))\n",
    "print(\"T-Shirt Profit Percent (rub): {:.2f}%\".format(t_shirt_profit_percent_rub * 100))\n",
    "print(\"Membership Fee Profit Percent (rub): {:.2f}%\".format(membership_profit_percent_rub * 100))\n",
    "print(\"Order Refund Profit Percent (rub): {:.2f}%\".format(order_refund_profit_percent_rub * 100))\n",
    "print(\"Player Fine Profit Percent (rub): {:.2f}%\".format(player_fine_profit_percent_rub * 100))\n",
    "print(\"Reimbursement Profit Percent (rub): {:.2f}%\".format(reimbursement_profit_percent_rub * 100))\n",
    "print(\"Shoulders Sale Profit Percent (rub): {:.2f}%\".format(shoulders_sale_profit_percent_rub * 100))\n",
    "print(\"Bank Interest Profit Percent (rub): {:.2f}%\".format(bank_interest_profit_percent_rub * 100))\n",
    "print(\"Lacrosse Clinic Profit Percent (rub): {:.2f}%\".format(lacrosse_clinic_profit_percent_rub * 100))"
   ]
  },
  {
   "cell_type": "code",
   "execution_count": 244,
   "metadata": {},
   "outputs": [
    {
     "data": {
      "application/vnd.plotly.v1+json": {
       "config": {
        "plotlyServerURL": "https://plot.ly"
       },
       "data": [
        {
         "alignmentgroup": "True",
         "hovertemplate": "Operation=%{x}<br>Profit Percentage (RUB)=%{y}<extra></extra>",
         "legendgroup": "",
         "marker": {
          "color": "#000001",
          "pattern": {
           "shape": ""
          }
         },
         "name": "",
         "offsetgroup": "",
         "orientation": "v",
         "showlegend": false,
         "textposition": "auto",
         "type": "bar",
         "x": [
          "Order Refund",
          "Player Fine",
          "Shoulders Sale",
          "Bank Interest",
          "Lacrosse Clinic",
          "Ball",
          "Strings",
          "Stick",
          "Head",
          "Membership Fee",
          "Helmet",
          "Gloves",
          "Elbows",
          "Loan",
          "Field"
         ],
         "xaxis": "x",
         "y": [
          1,
          1,
          1,
          1,
          1,
          0.6332518337408313,
          0.5475625,
          0.43143566111308046,
          0.40766233766233767,
          0.3993865274538902,
          0.375217965653897,
          0.2881976212259835,
          0.13458966565349545,
          0.06103286384976526,
          0.017993367370116822
         ],
         "yaxis": "y"
        }
       ],
       "layout": {
        "barmode": "relative",
        "legend": {
         "tracegroupgap": 0
        },
        "template": {
         "data": {
          "candlestick": [
           {
            "decreasing": {
             "line": {
              "color": "#000033"
             }
            },
            "increasing": {
             "line": {
              "color": "#000032"
             }
            },
            "type": "candlestick"
           }
          ],
          "contour": [
           {
            "colorscale": [
             [
              0,
              "#000011"
             ],
             [
              0.1111111111111111,
              "#000012"
             ],
             [
              0.2222222222222222,
              "#000013"
             ],
             [
              0.3333333333333333,
              "#000014"
             ],
             [
              0.4444444444444444,
              "#000015"
             ],
             [
              0.5555555555555556,
              "#000016"
             ],
             [
              0.6666666666666666,
              "#000017"
             ],
             [
              0.7777777777777778,
              "#000018"
             ],
             [
              0.8888888888888888,
              "#000019"
             ],
             [
              1,
              "#000020"
             ]
            ],
            "type": "contour"
           }
          ],
          "contourcarpet": [
           {
            "colorscale": [
             [
              0,
              "#000011"
             ],
             [
              0.1111111111111111,
              "#000012"
             ],
             [
              0.2222222222222222,
              "#000013"
             ],
             [
              0.3333333333333333,
              "#000014"
             ],
             [
              0.4444444444444444,
              "#000015"
             ],
             [
              0.5555555555555556,
              "#000016"
             ],
             [
              0.6666666666666666,
              "#000017"
             ],
             [
              0.7777777777777778,
              "#000018"
             ],
             [
              0.8888888888888888,
              "#000019"
             ],
             [
              1,
              "#000020"
             ]
            ],
            "type": "contourcarpet"
           }
          ],
          "heatmap": [
           {
            "colorscale": [
             [
              0,
              "#000011"
             ],
             [
              0.1111111111111111,
              "#000012"
             ],
             [
              0.2222222222222222,
              "#000013"
             ],
             [
              0.3333333333333333,
              "#000014"
             ],
             [
              0.4444444444444444,
              "#000015"
             ],
             [
              0.5555555555555556,
              "#000016"
             ],
             [
              0.6666666666666666,
              "#000017"
             ],
             [
              0.7777777777777778,
              "#000018"
             ],
             [
              0.8888888888888888,
              "#000019"
             ],
             [
              1,
              "#000020"
             ]
            ],
            "type": "heatmap"
           }
          ],
          "histogram2d": [
           {
            "colorscale": [
             [
              0,
              "#000011"
             ],
             [
              0.1111111111111111,
              "#000012"
             ],
             [
              0.2222222222222222,
              "#000013"
             ],
             [
              0.3333333333333333,
              "#000014"
             ],
             [
              0.4444444444444444,
              "#000015"
             ],
             [
              0.5555555555555556,
              "#000016"
             ],
             [
              0.6666666666666666,
              "#000017"
             ],
             [
              0.7777777777777778,
              "#000018"
             ],
             [
              0.8888888888888888,
              "#000019"
             ],
             [
              1,
              "#000020"
             ]
            ],
            "type": "histogram2d"
           }
          ],
          "icicle": [
           {
            "textfont": {
             "color": "white"
            },
            "type": "icicle"
           }
          ],
          "sankey": [
           {
            "textfont": {
             "color": "#000036"
            },
            "type": "sankey"
           }
          ],
          "scatter": [
           {
            "marker": {
             "line": {
              "width": 0
             }
            },
            "type": "scatter"
           }
          ],
          "table": [
           {
            "cells": {
             "fill": {
              "color": "#000038"
             },
             "font": {
              "color": "#000037"
             },
             "line": {
              "color": "#000039"
             }
            },
            "header": {
             "fill": {
              "color": "#000040"
             },
             "font": {
              "color": "#000036"
             },
             "line": {
              "color": "#000039"
             }
            },
            "type": "table"
           }
          ],
          "waterfall": [
           {
            "connector": {
             "line": {
              "color": "#000036",
              "width": 2
             }
            },
            "decreasing": {
             "marker": {
              "color": "#000033"
             }
            },
            "increasing": {
             "marker": {
              "color": "#000032"
             }
            },
            "totals": {
             "marker": {
              "color": "#000034"
             }
            },
            "type": "waterfall"
           }
          ]
         },
         "layout": {
          "coloraxis": {
           "colorscale": [
            [
             0,
             "#000011"
            ],
            [
             0.1111111111111111,
             "#000012"
            ],
            [
             0.2222222222222222,
             "#000013"
            ],
            [
             0.3333333333333333,
             "#000014"
            ],
            [
             0.4444444444444444,
             "#000015"
            ],
            [
             0.5555555555555556,
             "#000016"
            ],
            [
             0.6666666666666666,
             "#000017"
            ],
            [
             0.7777777777777778,
             "#000018"
            ],
            [
             0.8888888888888888,
             "#000019"
            ],
            [
             1,
             "#000020"
            ]
           ]
          },
          "colorscale": {
           "diverging": [
            [
             0,
             "#000021"
            ],
            [
             0.1,
             "#000022"
            ],
            [
             0.2,
             "#000023"
            ],
            [
             0.3,
             "#000024"
            ],
            [
             0.4,
             "#000025"
            ],
            [
             0.5,
             "#000026"
            ],
            [
             0.6,
             "#000027"
            ],
            [
             0.7,
             "#000028"
            ],
            [
             0.8,
             "#000029"
            ],
            [
             0.9,
             "#000030"
            ],
            [
             1,
             "#000031"
            ]
           ],
           "sequential": [
            [
             0,
             "#000011"
            ],
            [
             0.1111111111111111,
             "#000012"
            ],
            [
             0.2222222222222222,
             "#000013"
            ],
            [
             0.3333333333333333,
             "#000014"
            ],
            [
             0.4444444444444444,
             "#000015"
            ],
            [
             0.5555555555555556,
             "#000016"
            ],
            [
             0.6666666666666666,
             "#000017"
            ],
            [
             0.7777777777777778,
             "#000018"
            ],
            [
             0.8888888888888888,
             "#000019"
            ],
            [
             1,
             "#000020"
            ]
           ],
           "sequentialminus": [
            [
             0,
             "#000011"
            ],
            [
             0.1111111111111111,
             "#000012"
            ],
            [
             0.2222222222222222,
             "#000013"
            ],
            [
             0.3333333333333333,
             "#000014"
            ],
            [
             0.4444444444444444,
             "#000015"
            ],
            [
             0.5555555555555556,
             "#000016"
            ],
            [
             0.6666666666666666,
             "#000017"
            ],
            [
             0.7777777777777778,
             "#000018"
            ],
            [
             0.8888888888888888,
             "#000019"
            ],
            [
             1,
             "#000020"
            ]
           ]
          },
          "colorway": [
           "#000001",
           "#000002",
           "#000003",
           "#000004",
           "#000005",
           "#000006",
           "#000007",
           "#000008",
           "#000009",
           "#000010"
          ]
         }
        },
        "title": {
         "text": "Top 15 Profit Percentages (RUB)"
        },
        "xaxis": {
         "anchor": "y",
         "domain": [
          0,
          1
         ],
         "title": {
          "text": "Operation"
         }
        },
        "yaxis": {
         "anchor": "x",
         "domain": [
          0,
          1
         ],
         "title": {
          "text": "Profit Percentage (RUB)"
         }
        }
       }
      }
     },
     "metadata": {},
     "output_type": "display_data"
    }
   ],
   "source": [
    "# Create a dictionary with the profit percentages\n",
    "profit_percentages_rub = {\n",
    "    \"Ball\": ball_profit_percent_rub,\n",
    "    \"Elbows\": elbows_profit_percent_rub,\n",
    "    \"Equipment\": equipment_profit_percent_rub,\n",
    "    \"Field\": field_profit_percent_rub,\n",
    "    \"Gloves\": gloves_profit_percent_rub,\n",
    "    \"Head\": head_profit_percent_rub,\n",
    "    \"Helmet\": helmet_profit_percent_rub,\n",
    "    \"Loan\": loan_profit_percent_rub,\n",
    "    \"Shafts\": shafts_profit_percent_rub,\n",
    "    \"Stick\": stick_profit_percent_rub,\n",
    "    \"Strings\": strings_profit_percent_rub,\n",
    "    \"T-Shirt\": t_shirt_profit_percent_rub,\n",
    "    \"Membership Fee\": membership_profit_percent_rub,\n",
    "    \"Order Refund\": order_refund_profit_percent_rub,\n",
    "    \"Player Fine\": player_fine_profit_percent_rub,\n",
    "    \"Shoulders Sale\": shoulders_sale_profit_percent_rub,\n",
    "    \"Bank Interest\": bank_interest_profit_percent_rub,\n",
    "    \"Lacrosse Clinic\": lacrosse_clinic_profit_percent_rub\n",
    "}\n",
    "\n",
    "# Sort the dictionary by profit percentages and take the top 15\n",
    "top_15_profit_percentages_rub = dict(sorted(profit_percentages_rub.items(), key=lambda item: item[1], reverse=True)[:15])\n",
    "\n",
    "# Create a DataFrame from the top 15 profit percentages\n",
    "df_top_15_profit_rub = pd.DataFrame(list(top_15_profit_percentages_rub.items()), columns=[\"Operation\", \"Profit Percentage (RUB)\"])\n",
    "\n",
    "# Create a bar graph\n",
    "fig = px.bar(df_top_15_profit_rub, x=\"Operation\", y=\"Profit Percentage (RUB)\", title=\"Top 15 Profit Percentages (RUB)\")\n",
    "fig.show()\n"
   ]
  },
  {
   "cell_type": "code",
   "execution_count": 245,
   "metadata": {},
   "outputs": [
    {
     "data": {
      "application/vnd.plotly.v1+json": {
       "config": {
        "plotlyServerURL": "https://plot.ly"
       },
       "data": [
        {
         "alignmentgroup": "True",
         "hovertemplate": "Operation=%{x}<br>Profit Percentage (RUB)=%{y}<extra></extra>",
         "legendgroup": "",
         "marker": {
          "color": "#000001",
          "pattern": {
           "shape": ""
          }
         },
         "name": "",
         "offsetgroup": "",
         "orientation": "v",
         "showlegend": false,
         "textposition": "auto",
         "type": "bar",
         "x": [
          "Stick",
          "Head",
          "Membership Fee",
          "Helmet",
          "Field"
         ],
         "xaxis": "x",
         "y": [
          0.43143566111308046,
          0.40766233766233767,
          0.3993865274538902,
          0.375217965653897,
          0.017993367370116822
         ],
         "yaxis": "y"
        }
       ],
       "layout": {
        "barmode": "relative",
        "legend": {
         "tracegroupgap": 0
        },
        "template": {
         "data": {
          "candlestick": [
           {
            "decreasing": {
             "line": {
              "color": "#000033"
             }
            },
            "increasing": {
             "line": {
              "color": "#000032"
             }
            },
            "type": "candlestick"
           }
          ],
          "contour": [
           {
            "colorscale": [
             [
              0,
              "#000011"
             ],
             [
              0.1111111111111111,
              "#000012"
             ],
             [
              0.2222222222222222,
              "#000013"
             ],
             [
              0.3333333333333333,
              "#000014"
             ],
             [
              0.4444444444444444,
              "#000015"
             ],
             [
              0.5555555555555556,
              "#000016"
             ],
             [
              0.6666666666666666,
              "#000017"
             ],
             [
              0.7777777777777778,
              "#000018"
             ],
             [
              0.8888888888888888,
              "#000019"
             ],
             [
              1,
              "#000020"
             ]
            ],
            "type": "contour"
           }
          ],
          "contourcarpet": [
           {
            "colorscale": [
             [
              0,
              "#000011"
             ],
             [
              0.1111111111111111,
              "#000012"
             ],
             [
              0.2222222222222222,
              "#000013"
             ],
             [
              0.3333333333333333,
              "#000014"
             ],
             [
              0.4444444444444444,
              "#000015"
             ],
             [
              0.5555555555555556,
              "#000016"
             ],
             [
              0.6666666666666666,
              "#000017"
             ],
             [
              0.7777777777777778,
              "#000018"
             ],
             [
              0.8888888888888888,
              "#000019"
             ],
             [
              1,
              "#000020"
             ]
            ],
            "type": "contourcarpet"
           }
          ],
          "heatmap": [
           {
            "colorscale": [
             [
              0,
              "#000011"
             ],
             [
              0.1111111111111111,
              "#000012"
             ],
             [
              0.2222222222222222,
              "#000013"
             ],
             [
              0.3333333333333333,
              "#000014"
             ],
             [
              0.4444444444444444,
              "#000015"
             ],
             [
              0.5555555555555556,
              "#000016"
             ],
             [
              0.6666666666666666,
              "#000017"
             ],
             [
              0.7777777777777778,
              "#000018"
             ],
             [
              0.8888888888888888,
              "#000019"
             ],
             [
              1,
              "#000020"
             ]
            ],
            "type": "heatmap"
           }
          ],
          "histogram2d": [
           {
            "colorscale": [
             [
              0,
              "#000011"
             ],
             [
              0.1111111111111111,
              "#000012"
             ],
             [
              0.2222222222222222,
              "#000013"
             ],
             [
              0.3333333333333333,
              "#000014"
             ],
             [
              0.4444444444444444,
              "#000015"
             ],
             [
              0.5555555555555556,
              "#000016"
             ],
             [
              0.6666666666666666,
              "#000017"
             ],
             [
              0.7777777777777778,
              "#000018"
             ],
             [
              0.8888888888888888,
              "#000019"
             ],
             [
              1,
              "#000020"
             ]
            ],
            "type": "histogram2d"
           }
          ],
          "icicle": [
           {
            "textfont": {
             "color": "white"
            },
            "type": "icicle"
           }
          ],
          "sankey": [
           {
            "textfont": {
             "color": "#000036"
            },
            "type": "sankey"
           }
          ],
          "scatter": [
           {
            "marker": {
             "line": {
              "width": 0
             }
            },
            "type": "scatter"
           }
          ],
          "table": [
           {
            "cells": {
             "fill": {
              "color": "#000038"
             },
             "font": {
              "color": "#000037"
             },
             "line": {
              "color": "#000039"
             }
            },
            "header": {
             "fill": {
              "color": "#000040"
             },
             "font": {
              "color": "#000036"
             },
             "line": {
              "color": "#000039"
             }
            },
            "type": "table"
           }
          ],
          "waterfall": [
           {
            "connector": {
             "line": {
              "color": "#000036",
              "width": 2
             }
            },
            "decreasing": {
             "marker": {
              "color": "#000033"
             }
            },
            "increasing": {
             "marker": {
              "color": "#000032"
             }
            },
            "totals": {
             "marker": {
              "color": "#000034"
             }
            },
            "type": "waterfall"
           }
          ]
         },
         "layout": {
          "coloraxis": {
           "colorscale": [
            [
             0,
             "#000011"
            ],
            [
             0.1111111111111111,
             "#000012"
            ],
            [
             0.2222222222222222,
             "#000013"
            ],
            [
             0.3333333333333333,
             "#000014"
            ],
            [
             0.4444444444444444,
             "#000015"
            ],
            [
             0.5555555555555556,
             "#000016"
            ],
            [
             0.6666666666666666,
             "#000017"
            ],
            [
             0.7777777777777778,
             "#000018"
            ],
            [
             0.8888888888888888,
             "#000019"
            ],
            [
             1,
             "#000020"
            ]
           ]
          },
          "colorscale": {
           "diverging": [
            [
             0,
             "#000021"
            ],
            [
             0.1,
             "#000022"
            ],
            [
             0.2,
             "#000023"
            ],
            [
             0.3,
             "#000024"
            ],
            [
             0.4,
             "#000025"
            ],
            [
             0.5,
             "#000026"
            ],
            [
             0.6,
             "#000027"
            ],
            [
             0.7,
             "#000028"
            ],
            [
             0.8,
             "#000029"
            ],
            [
             0.9,
             "#000030"
            ],
            [
             1,
             "#000031"
            ]
           ],
           "sequential": [
            [
             0,
             "#000011"
            ],
            [
             0.1111111111111111,
             "#000012"
            ],
            [
             0.2222222222222222,
             "#000013"
            ],
            [
             0.3333333333333333,
             "#000014"
            ],
            [
             0.4444444444444444,
             "#000015"
            ],
            [
             0.5555555555555556,
             "#000016"
            ],
            [
             0.6666666666666666,
             "#000017"
            ],
            [
             0.7777777777777778,
             "#000018"
            ],
            [
             0.8888888888888888,
             "#000019"
            ],
            [
             1,
             "#000020"
            ]
           ],
           "sequentialminus": [
            [
             0,
             "#000011"
            ],
            [
             0.1111111111111111,
             "#000012"
            ],
            [
             0.2222222222222222,
             "#000013"
            ],
            [
             0.3333333333333333,
             "#000014"
            ],
            [
             0.4444444444444444,
             "#000015"
            ],
            [
             0.5555555555555556,
             "#000016"
            ],
            [
             0.6666666666666666,
             "#000017"
            ],
            [
             0.7777777777777778,
             "#000018"
            ],
            [
             0.8888888888888888,
             "#000019"
            ],
            [
             1,
             "#000020"
            ]
           ]
          },
          "colorway": [
           "#000001",
           "#000002",
           "#000003",
           "#000004",
           "#000005",
           "#000006",
           "#000007",
           "#000008",
           "#000009",
           "#000010"
          ]
         }
        },
        "title": {
         "text": "Top 5 Most Profitable by volmume RUB Operations by profit percentage"
        },
        "xaxis": {
         "anchor": "y",
         "domain": [
          0,
          1
         ],
         "title": {
          "text": "Operation"
         }
        },
        "yaxis": {
         "anchor": "x",
         "domain": [
          0,
          1
         ],
         "title": {
          "text": "Profit Percentage (RUB)"
         }
        }
       }
      }
     },
     "metadata": {},
     "output_type": "display_data"
    }
   ],
   "source": [
    "# Calculate the profit percentages for each operation\n",
    "profit_percentages = {\n",
    "    \"Stick\": stick_profit_percent_rub,\n",
    "    \"Membership Fee\": membership_profit_percent_rub,\n",
    "    \"Helmet\": helmet_profit_percent_rub,\n",
    "    \"Field\": field_profit_percent_rub,\n",
    "    \"Head\": head_profit_percent_rub\n",
    "}\n",
    "\n",
    "# Sort the profit percentages dictionary by the profit percentage in descending order\n",
    "sorted_profit_percentages = dict(sorted(profit_percentages.items(), key=lambda item: item[1], reverse=True))\n",
    "\n",
    "# Create a DataFrame from the sorted profit percentages\n",
    "df_sorted_profit_percentages = pd.DataFrame(list(sorted_profit_percentages.items()), columns=[\"Operation\", \"Profit Percentage (RUB)\"])\n",
    "\n",
    "# Create a bar graph\n",
    "fig = px.bar(df_sorted_profit_percentages, x=\"Operation\", y=\"Profit Percentage (RUB)\",\n",
    "             title=\"Top 5 Most Profitable by volmume RUB Operations by profit percentage\")\n",
    "fig.show()\n",
    "\n"
   ]
  },
  {
   "cell_type": "code",
   "execution_count": null,
   "metadata": {},
   "outputs": [],
   "source": []
  },
  {
   "cell_type": "code",
   "execution_count": null,
   "metadata": {},
   "outputs": [],
   "source": []
  },
  {
   "cell_type": "code",
   "execution_count": null,
   "metadata": {},
   "outputs": [],
   "source": []
  },
  {
   "cell_type": "code",
   "execution_count": null,
   "metadata": {},
   "outputs": [],
   "source": []
  },
  {
   "cell_type": "code",
   "execution_count": null,
   "metadata": {},
   "outputs": [],
   "source": []
  },
  {
   "cell_type": "code",
   "execution_count": null,
   "metadata": {},
   "outputs": [],
   "source": []
  },
  {
   "cell_type": "code",
   "execution_count": null,
   "metadata": {},
   "outputs": [],
   "source": []
  },
  {
   "cell_type": "code",
   "execution_count": null,
   "metadata": {},
   "outputs": [],
   "source": []
  },
  {
   "cell_type": "markdown",
   "metadata": {},
   "source": [
    "attendance exploratory analysis\n"
   ]
  }
 ],
 "metadata": {
  "kernelspec": {
   "display_name": "base",
   "language": "python",
   "name": "python3"
  },
  "language_info": {
   "codemirror_mode": {
    "name": "ipython",
    "version": 3
   },
   "file_extension": ".py",
   "mimetype": "text/x-python",
   "name": "python",
   "nbconvert_exporter": "python",
   "pygments_lexer": "ipython3",
   "version": "3.9.13"
  }
 },
 "nbformat": 4,
 "nbformat_minor": 2
}

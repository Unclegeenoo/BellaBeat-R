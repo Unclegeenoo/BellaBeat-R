{
 "cells": [
  {
   "cell_type": "code",
   "execution_count": 3,
   "metadata": {},
   "outputs": [],
   "source": [
    "import streamlit as st\n",
    "import pandas as pd\n",
    "import matplotlib.pyplot as plt\n",
    "import numpy as np\n",
    "import seaborn as sns\n",
    "import plotly.express as px"
   ]
  },
  {
   "cell_type": "code",
   "execution_count": 4,
   "metadata": {},
   "outputs": [],
   "source": [
    "df_att = pd.read_csv(\"D:\\Python\\WebApp\\MLC_Attendance_Eng_FInal_UTF8.csv\")"
   ]
  },
  {
   "cell_type": "code",
   "execution_count": 5,
   "metadata": {},
   "outputs": [
    {
     "name": "stdout",
     "output_type": "stream",
     "text": [
      "16668\n"
     ]
    }
   ],
   "source": [
    "print(df_att.size)"
   ]
  },
  {
   "cell_type": "code",
   "execution_count": 6,
   "metadata": {},
   "outputs": [
    {
     "data": {
      "text/html": [
       "<div>\n",
       "<style scoped>\n",
       "    .dataframe tbody tr th:only-of-type {\n",
       "        vertical-align: middle;\n",
       "    }\n",
       "\n",
       "    .dataframe tbody tr th {\n",
       "        vertical-align: top;\n",
       "    }\n",
       "\n",
       "    .dataframe thead th {\n",
       "        text-align: right;\n",
       "    }\n",
       "</style>\n",
       "<table border=\"1\" class=\"dataframe\">\n",
       "  <thead>\n",
       "    <tr style=\"text-align: right;\">\n",
       "      <th></th>\n",
       "      <th>Date_Start</th>\n",
       "      <th>Date_End</th>\n",
       "      <th>Year</th>\n",
       "      <th>Attendance</th>\n",
       "    </tr>\n",
       "  </thead>\n",
       "  <tbody>\n",
       "    <tr>\n",
       "      <th>count</th>\n",
       "      <td>926.000000</td>\n",
       "      <td>926.00000</td>\n",
       "      <td>926.000000</td>\n",
       "      <td>926.000000</td>\n",
       "    </tr>\n",
       "    <tr>\n",
       "      <th>mean</th>\n",
       "      <td>15.757019</td>\n",
       "      <td>15.75486</td>\n",
       "      <td>2017.514039</td>\n",
       "      <td>7.568035</td>\n",
       "    </tr>\n",
       "    <tr>\n",
       "      <th>std</th>\n",
       "      <td>8.732315</td>\n",
       "      <td>8.72346</td>\n",
       "      <td>2.352989</td>\n",
       "      <td>5.050364</td>\n",
       "    </tr>\n",
       "    <tr>\n",
       "      <th>min</th>\n",
       "      <td>1.000000</td>\n",
       "      <td>1.00000</td>\n",
       "      <td>2013.000000</td>\n",
       "      <td>0.000000</td>\n",
       "    </tr>\n",
       "    <tr>\n",
       "      <th>25%</th>\n",
       "      <td>8.000000</td>\n",
       "      <td>8.00000</td>\n",
       "      <td>2016.000000</td>\n",
       "      <td>4.000000</td>\n",
       "    </tr>\n",
       "    <tr>\n",
       "      <th>50%</th>\n",
       "      <td>16.000000</td>\n",
       "      <td>16.00000</td>\n",
       "      <td>2017.000000</td>\n",
       "      <td>7.000000</td>\n",
       "    </tr>\n",
       "    <tr>\n",
       "      <th>75%</th>\n",
       "      <td>23.000000</td>\n",
       "      <td>23.00000</td>\n",
       "      <td>2020.000000</td>\n",
       "      <td>10.000000</td>\n",
       "    </tr>\n",
       "    <tr>\n",
       "      <th>max</th>\n",
       "      <td>31.000000</td>\n",
       "      <td>31.00000</td>\n",
       "      <td>2022.000000</td>\n",
       "      <td>31.000000</td>\n",
       "    </tr>\n",
       "  </tbody>\n",
       "</table>\n",
       "</div>"
      ],
      "text/plain": [
       "       Date_Start   Date_End         Year  Attendance\n",
       "count  926.000000  926.00000   926.000000  926.000000\n",
       "mean    15.757019   15.75486  2017.514039    7.568035\n",
       "std      8.732315    8.72346     2.352989    5.050364\n",
       "min      1.000000    1.00000  2013.000000    0.000000\n",
       "25%      8.000000    8.00000  2016.000000    4.000000\n",
       "50%     16.000000   16.00000  2017.000000    7.000000\n",
       "75%     23.000000   23.00000  2020.000000   10.000000\n",
       "max     31.000000   31.00000  2022.000000   31.000000"
      ]
     },
     "execution_count": 6,
     "metadata": {},
     "output_type": "execute_result"
    }
   ],
   "source": [
    "df_att.describe()"
   ]
  },
  {
   "cell_type": "code",
   "execution_count": 7,
   "metadata": {},
   "outputs": [
    {
     "name": "stdout",
     "output_type": "stream",
     "text": [
      "<class 'pandas.core.frame.DataFrame'>\n",
      "RangeIndex: 926 entries, 0 to 925\n",
      "Data columns (total 18 columns):\n",
      " #   Column           Non-Null Count  Dtype \n",
      "---  ------           --------------  ----- \n",
      " 0   Name             926 non-null    object\n",
      " 1   Status           926 non-null    object\n",
      " 2   Type             926 non-null    object\n",
      " 3   Creator          926 non-null    object\n",
      " 4   Date             926 non-null    object\n",
      " 5   Day_Start        926 non-null    object\n",
      " 6   Day_End          926 non-null    object\n",
      " 7   Month_Start      926 non-null    object\n",
      " 8   Month_Finish     926 non-null    object\n",
      " 9   Date_Start       926 non-null    int64 \n",
      " 10  Date_End         926 non-null    int64 \n",
      " 11  Year             926 non-null    int64 \n",
      " 12  Time_Start       926 non-null    object\n",
      " 13  Duration         926 non-null    object\n",
      " 14  Location         926 non-null    object\n",
      " 15  Going            926 non-null    object\n",
      " 16  Attendance       926 non-null    int64 \n",
      " 17  Date_Date_Excel  926 non-null    object\n",
      "dtypes: int64(4), object(14)\n",
      "memory usage: 130.3+ KB\n"
     ]
    }
   ],
   "source": [
    "df_att.info()"
   ]
  },
  {
   "cell_type": "code",
   "execution_count": 8,
   "metadata": {},
   "outputs": [
    {
     "name": "stdout",
     "output_type": "stream",
     "text": [
      "datetime64[ns]\n"
     ]
    }
   ],
   "source": [
    "# Assuming your DataFrame is named df_att\n",
    "df_att['Date_Date_Excel'] = pd.to_datetime(df_att['Date_Date_Excel'], format='%A, %B %d, %Y')\n",
    "\n",
    "# Check the updated data types\n",
    "print(df_att['Date_Date_Excel'].dtype)\n",
    "\n"
   ]
  },
  {
   "cell_type": "code",
   "execution_count": 9,
   "metadata": {},
   "outputs": [
    {
     "name": "stdout",
     "output_type": "stream",
     "text": [
      "<class 'pandas.core.frame.DataFrame'>\n",
      "RangeIndex: 926 entries, 0 to 925\n",
      "Data columns (total 18 columns):\n",
      " #   Column           Non-Null Count  Dtype         \n",
      "---  ------           --------------  -----         \n",
      " 0   Name             926 non-null    object        \n",
      " 1   Status           926 non-null    object        \n",
      " 2   Type             926 non-null    object        \n",
      " 3   Creator          926 non-null    object        \n",
      " 4   Date             926 non-null    object        \n",
      " 5   Day_Start        926 non-null    object        \n",
      " 6   Day_End          926 non-null    object        \n",
      " 7   Month_Start      926 non-null    object        \n",
      " 8   Month_Finish     926 non-null    object        \n",
      " 9   Date_Start       926 non-null    int64         \n",
      " 10  Date_End         926 non-null    int64         \n",
      " 11  Year             926 non-null    int64         \n",
      " 12  Time_Start       926 non-null    object        \n",
      " 13  Duration         926 non-null    object        \n",
      " 14  Location         926 non-null    object        \n",
      " 15  Going            926 non-null    object        \n",
      " 16  Attendance       926 non-null    int64         \n",
      " 17  Date_Date_Excel  926 non-null    datetime64[ns]\n",
      "dtypes: datetime64[ns](1), int64(4), object(13)\n",
      "memory usage: 130.3+ KB\n"
     ]
    }
   ],
   "source": [
    "df_att.info()"
   ]
  },
  {
   "cell_type": "code",
   "execution_count": 10,
   "metadata": {},
   "outputs": [
    {
     "data": {
      "text/html": [
       "<div>\n",
       "<style scoped>\n",
       "    .dataframe tbody tr th:only-of-type {\n",
       "        vertical-align: middle;\n",
       "    }\n",
       "\n",
       "    .dataframe tbody tr th {\n",
       "        vertical-align: top;\n",
       "    }\n",
       "\n",
       "    .dataframe thead th {\n",
       "        text-align: right;\n",
       "    }\n",
       "</style>\n",
       "<table border=\"1\" class=\"dataframe\">\n",
       "  <thead>\n",
       "    <tr style=\"text-align: right;\">\n",
       "      <th></th>\n",
       "      <th>Name</th>\n",
       "      <th>Status</th>\n",
       "      <th>Type</th>\n",
       "      <th>Creator</th>\n",
       "      <th>Date</th>\n",
       "      <th>Day_Start</th>\n",
       "      <th>Day_End</th>\n",
       "      <th>Month_Start</th>\n",
       "      <th>Month_Finish</th>\n",
       "      <th>Date_Start</th>\n",
       "      <th>Date_End</th>\n",
       "      <th>Year</th>\n",
       "      <th>Time_Start</th>\n",
       "      <th>Duration</th>\n",
       "      <th>Location</th>\n",
       "      <th>Going</th>\n",
       "      <th>Attendance</th>\n",
       "      <th>Date_Date_Excel</th>\n",
       "    </tr>\n",
       "  </thead>\n",
       "  <tbody>\n",
       "    <tr>\n",
       "      <th>0</th>\n",
       "      <td>Saturday Practice</td>\n",
       "      <td>Completed</td>\n",
       "      <td>Team Practice</td>\n",
       "      <td>Eugene Arkhipov</td>\n",
       "      <td>SATURDAY, NOVEMBER 2, 2013 AT 4 PM UTC+03</td>\n",
       "      <td>SATURDAY</td>\n",
       "      <td>SATURDAY</td>\n",
       "      <td>NOVEMBER</td>\n",
       "      <td>November</td>\n",
       "      <td>2</td>\n",
       "      <td>2</td>\n",
       "      <td>2013</td>\n",
       "      <td>4:00 PM</td>\n",
       "      <td>Duration: 3 hr</td>\n",
       "      <td>ул. Флотская, 11а, москва</td>\n",
       "      <td>No Data</td>\n",
       "      <td>7</td>\n",
       "      <td>2013-11-02</td>\n",
       "    </tr>\n",
       "    <tr>\n",
       "      <th>1</th>\n",
       "      <td>Sunday Practice</td>\n",
       "      <td>Completed</td>\n",
       "      <td>Team Practice</td>\n",
       "      <td>Eugene Arkhipov</td>\n",
       "      <td>SUNDAY, NOVEMBER 3, 2013 AT 11:45 AM UTC+03</td>\n",
       "      <td>SUNDAY</td>\n",
       "      <td>SUNDAY</td>\n",
       "      <td>NOVEMBER</td>\n",
       "      <td>November</td>\n",
       "      <td>3</td>\n",
       "      <td>3</td>\n",
       "      <td>2013</td>\n",
       "      <td>11:45 AM</td>\n",
       "      <td>Duration: 3 hr</td>\n",
       "      <td>ул. Флотская, 11а, москва</td>\n",
       "      <td>No Data</td>\n",
       "      <td>5</td>\n",
       "      <td>2013-11-03</td>\n",
       "    </tr>\n",
       "    <tr>\n",
       "      <th>2</th>\n",
       "      <td>Monday Practice</td>\n",
       "      <td>Completed</td>\n",
       "      <td>Team Practice</td>\n",
       "      <td>Eugene Arkhipov</td>\n",
       "      <td>MONDAY, NOVEMBER 4, 2013 AT 12 PM UTC+03</td>\n",
       "      <td>MONDAY</td>\n",
       "      <td>MONDAY</td>\n",
       "      <td>NOVEMBER</td>\n",
       "      <td>November</td>\n",
       "      <td>4</td>\n",
       "      <td>4</td>\n",
       "      <td>2013</td>\n",
       "      <td>12:00 PM</td>\n",
       "      <td>Duration: 3 hr</td>\n",
       "      <td>ул. Флотская, 11а, москва</td>\n",
       "      <td>No Data</td>\n",
       "      <td>3</td>\n",
       "      <td>2013-11-04</td>\n",
       "    </tr>\n",
       "    <tr>\n",
       "      <th>3</th>\n",
       "      <td>Saturday Practice</td>\n",
       "      <td>Completed</td>\n",
       "      <td>Team Practice</td>\n",
       "      <td>Eugene Arkhipov</td>\n",
       "      <td>SATURDAY, NOVEMBER 9, 2013 AT 4 PM UTC+03</td>\n",
       "      <td>SATURDAY</td>\n",
       "      <td>SATURDAY</td>\n",
       "      <td>NOVEMBER</td>\n",
       "      <td>November</td>\n",
       "      <td>9</td>\n",
       "      <td>9</td>\n",
       "      <td>2013</td>\n",
       "      <td>4:00 PM</td>\n",
       "      <td>Duration: 3 hr</td>\n",
       "      <td>ул. Флотская, 11а, москва</td>\n",
       "      <td>No Data</td>\n",
       "      <td>11</td>\n",
       "      <td>2013-11-09</td>\n",
       "    </tr>\n",
       "    <tr>\n",
       "      <th>4</th>\n",
       "      <td>Sunday Practice</td>\n",
       "      <td>Completed</td>\n",
       "      <td>Team Practice</td>\n",
       "      <td>Eugene Arkhipov</td>\n",
       "      <td>SUNDAY, NOVEMBER 10, 2013 AT 11:45 AM UTC+03</td>\n",
       "      <td>SUNDAY</td>\n",
       "      <td>SUNDAY</td>\n",
       "      <td>NOVEMBER</td>\n",
       "      <td>November</td>\n",
       "      <td>10</td>\n",
       "      <td>10</td>\n",
       "      <td>2013</td>\n",
       "      <td>11:45 AM</td>\n",
       "      <td>Duration: 3 hr</td>\n",
       "      <td>ул. Флотская, 11а, москва</td>\n",
       "      <td>No Data</td>\n",
       "      <td>11</td>\n",
       "      <td>2013-11-10</td>\n",
       "    </tr>\n",
       "  </tbody>\n",
       "</table>\n",
       "</div>"
      ],
      "text/plain": [
       "                Name     Status           Type          Creator  \\\n",
       "0  Saturday Practice  Completed  Team Practice  Eugene Arkhipov   \n",
       "1    Sunday Practice  Completed  Team Practice  Eugene Arkhipov   \n",
       "2    Monday Practice  Completed  Team Practice  Eugene Arkhipov   \n",
       "3  Saturday Practice  Completed  Team Practice  Eugene Arkhipov   \n",
       "4    Sunday Practice  Completed  Team Practice  Eugene Arkhipov   \n",
       "\n",
       "                                           Date Day_Start   Day_End  \\\n",
       "0     SATURDAY, NOVEMBER 2, 2013 AT 4 PM UTC+03  SATURDAY  SATURDAY   \n",
       "1   SUNDAY, NOVEMBER 3, 2013 AT 11:45 AM UTC+03    SUNDAY    SUNDAY   \n",
       "2      MONDAY, NOVEMBER 4, 2013 AT 12 PM UTC+03    MONDAY    MONDAY   \n",
       "3     SATURDAY, NOVEMBER 9, 2013 AT 4 PM UTC+03  SATURDAY  SATURDAY   \n",
       "4  SUNDAY, NOVEMBER 10, 2013 AT 11:45 AM UTC+03    SUNDAY    SUNDAY   \n",
       "\n",
       "  Month_Start Month_Finish  Date_Start  Date_End  Year Time_Start  \\\n",
       "0    NOVEMBER     November           2         2  2013    4:00 PM   \n",
       "1    NOVEMBER     November           3         3  2013   11:45 AM   \n",
       "2    NOVEMBER     November           4         4  2013   12:00 PM   \n",
       "3    NOVEMBER     November           9         9  2013    4:00 PM   \n",
       "4    NOVEMBER     November          10        10  2013   11:45 AM   \n",
       "\n",
       "         Duration                   Location    Going  Attendance  \\\n",
       "0  Duration: 3 hr  ул. Флотская, 11а, москва  No Data           7   \n",
       "1  Duration: 3 hr  ул. Флотская, 11а, москва  No Data           5   \n",
       "2  Duration: 3 hr  ул. Флотская, 11а, москва  No Data           3   \n",
       "3  Duration: 3 hr  ул. Флотская, 11а, москва  No Data          11   \n",
       "4  Duration: 3 hr  ул. Флотская, 11а, москва  No Data          11   \n",
       "\n",
       "  Date_Date_Excel  \n",
       "0      2013-11-02  \n",
       "1      2013-11-03  \n",
       "2      2013-11-04  \n",
       "3      2013-11-09  \n",
       "4      2013-11-10  "
      ]
     },
     "execution_count": 10,
     "metadata": {},
     "output_type": "execute_result"
    }
   ],
   "source": [
    "df_att.head()"
   ]
  },
  {
   "cell_type": "code",
   "execution_count": 11,
   "metadata": {},
   "outputs": [],
   "source": [
    "# Total count of events\n",
    "total_events = df_att.shape[0]\n",
    "\n",
    "# Count of events by Creator\n",
    "events_by_creator = df_att['Creator'].value_counts()\n",
    "\n",
    "# Count of different Status (Cancelled and Completed count)\n",
    "status_counts = df_att['Status'].value_counts()\n",
    "\n",
    "# Percent completed from all events\n",
    "completed_percent = (status_counts['Completed'] / total_events) * 100\n",
    "\n",
    "# Count of different Type (Team Practice, etc)\n",
    "type_counts = df_att['Type'].value_counts()\n",
    "\n",
    "# Count of different elements in the Name column\n",
    "name_counts = df_att['Name'].value_counts()\n",
    "\n",
    "# Count of events by Location\n",
    "location_counts = df_att['Location'].value_counts()"
   ]
  },
  {
   "cell_type": "code",
   "execution_count": 12,
   "metadata": {},
   "outputs": [
    {
     "name": "stdout",
     "output_type": "stream",
     "text": [
      "Total count of events: 926\n",
      "Count of events by Creator:\n",
      "Eugene Arkhipov           630\n",
      "Artur Ventsel             287\n",
      "Zombies Cup                 3\n",
      "Gus Peters                  1\n",
      "Sofia Ninjas Lacrosse       1\n",
      "Budapest New Years Cup      1\n",
      "Moscow Lacrosse Club        1\n",
      "Rhinocup - Lacrosse         1\n",
      "Lisboa Lacrosse Cup         1\n",
      "Name: Creator, dtype: int64\n"
     ]
    }
   ],
   "source": [
    "# Print the results\n",
    "print(\"Total count of events:\", total_events)\n",
    "print(\"Count of events by Creator:\")\n",
    "print(events_by_creator)\n"
   ]
  },
  {
   "cell_type": "code",
   "execution_count": 13,
   "metadata": {},
   "outputs": [
    {
     "name": "stdout",
     "output_type": "stream",
     "text": [
      "Count of different Status:\n",
      "Completed    919\n",
      "Cancelled      7\n",
      "Name: Status, dtype: int64\n",
      "Percent completed from all events: 99.24406047516199 %\n"
     ]
    }
   ],
   "source": [
    "\n",
    "print(\"Count of different Status:\")\n",
    "print(status_counts)\n",
    "print(\"Percent completed from all events:\", completed_percent, \"%\")\n"
   ]
  },
  {
   "cell_type": "code",
   "execution_count": 14,
   "metadata": {},
   "outputs": [
    {
     "name": "stdout",
     "output_type": "stream",
     "text": [
      "Count of different Type:\n",
      "Team Practice                  562\n",
      "Skills Practice                258\n",
      "Tournament                      25\n",
      "Intra-Squad Game                19\n",
      "Championship                    13\n",
      "Theory                          13\n",
      "Conditioning                    11\n",
      "Clinic                           7\n",
      "Administrative Function          4\n",
      "Clinic/Game/Marketing Event      4\n",
      "Team Building                    4\n",
      "Stringing                        4\n",
      "Training Camp                    2\n",
      "Name: Type, dtype: int64\n"
     ]
    }
   ],
   "source": [
    "\n",
    "print(\"Count of different Type:\")\n",
    "print(type_counts)\n"
   ]
  },
  {
   "cell_type": "code",
   "execution_count": 15,
   "metadata": {},
   "outputs": [
    {
     "name": "stdout",
     "output_type": "stream",
     "text": [
      "Count of different elements in the Name column:\n",
      "Академия Лакросса                       258\n",
      "Тренировка в воскресенье                 63\n",
      "Тренировка (суб вечер)                   59\n",
      "Saturday Practice                        56\n",
      "Тренировка на поляне                     54\n",
      "                                       ... \n",
      "Тренировка в субботу на Васильевской      1\n",
      "Тренировка в пятницу на Динамо            1\n",
      "The Early Frost                           1\n",
      "The Northern War                          1\n",
      "Сбор документов                           1\n",
      "Name: Name, Length: 167, dtype: int64\n"
     ]
    }
   ],
   "source": [
    "print(\"Count of different elements in the Name column:\")\n",
    "print(name_counts)"
   ]
  },
  {
   "cell_type": "code",
   "execution_count": 16,
   "metadata": {},
   "outputs": [
    {
     "name": "stdout",
     "output_type": "stream",
     "text": [
      "Count of events by Location:\n",
      "ул. васильевская 5                                         292\n",
      "Ул. Рогова, 12к1                                           157\n",
      "Шереметьевская улица 29, Москва, Россия, 127521            156\n",
      "ул, добролюбова д.2 стр. 3                                  70\n",
      "ул. Флотская, 11а, москва                                   47\n",
      "                                                          ... \n",
      "ул. Мясницкая, д.17, стр. 2                                  1\n",
      "Mechelsbroekstraat 4a, 2820 Bonheiden, Belgium               1\n",
      "Лиговский Пр. 246                                            1\n",
      "Лиственничная аллея, д. 12/2                                 1\n",
      "Krasnaya Presnya St, 24, стр. 1, Moskva, Russia, 123557      1\n",
      "Name: Location, Length: 69, dtype: int64\n"
     ]
    }
   ],
   "source": [
    "print(\"Count of events by Location:\")\n",
    "print(location_counts)"
   ]
  },
  {
   "cell_type": "code",
   "execution_count": 17,
   "metadata": {},
   "outputs": [
    {
     "name": "stdout",
     "output_type": "stream",
     "text": [
      "List of all attendees and their counts:\n",
      "Eugene Arkhipov                                                      699\n",
      "Artur Ventsel                                                        397\n",
      "Vladislav Vereschagin                                                333\n",
      "Artem Denisov                                                        242\n",
      "Valeo Sosnov                                                         216\n",
      "                                                                    ... \n",
      "73 people responded Going                                              1\n",
      "15 people responded Going                                              1\n",
      "Alisa Tsvetkova                                                        1\n",
      "Даря Воршева                                                           1\n",
      "Practice is cancelled\\nWe are just retrubation... along with time      1\n",
      "Name: Going, Length: 176, dtype: int64\n"
     ]
    }
   ],
   "source": [
    "all_attendees = df_att['Going'].str.split(', ').explode()\n",
    "\n",
    "# Count the number of attendees\n",
    "attendees_count = all_attendees.value_counts()\n",
    "\n",
    "# Print the list of all attendees and their counts\n",
    "print(\"List of all attendees and their counts:\")\n",
    "print(attendees_count)"
   ]
  },
  {
   "cell_type": "code",
   "execution_count": 18,
   "metadata": {},
   "outputs": [
    {
     "name": "stdout",
     "output_type": "stream",
     "text": [
      "Unique values in all_attendees:\n",
      "Aleksandr Markov\n",
      "Followed by 15 people\n",
      "Valeria Surikova\n",
      "Ivan Baranoff\n",
      "17 people responded Going\n",
      "Мила Бородина\n",
      "Vache Oganesian\n",
      "Viktor Bukanov\n",
      "Egor Gorelix\n",
      "Alexander Zarubin\n",
      "Aleksandr Klochkov\n",
      "Святослав Суханов\n",
      "Никита Хоба\n",
      "Evgeny Zheltikov\n",
      "Mikhail Fedechkin\n",
      "11 people responded Going\n",
      "Иван Лысов\n",
      "180 people responded Going\n",
      "Dmitry Levis\n",
      "Stephen Hnery\n",
      "Simon Chislov\n",
      "No Data\n",
      "James Evans\n",
      "Nikita Cherkashin\n",
      "Vladislav Vereschagin\n",
      "Aaron Luo\n",
      "Philipp Chirkov\n",
      "Podoshva-Zakharov Nikolay\n",
      "Samuil Yusufov\n",
      "Philipp Le\n",
      "Татьяна Стародубова\n",
      "Hidenori Morii\n",
      "Борис Ремизов\n",
      "10 people responded Going\n",
      "Kirill Potekhin\n",
      "Юрий Гибизти\n",
      "Denis Kudrin\n",
      "Dmitry Kupriyanov\n",
      "Ivan Aleksandrovich\n",
      "Kristina Pleshkova\n",
      "Vasily Lavrov\n",
      "13 people responded Going\n",
      "Виктор Апаков\n",
      "Alexander Sazzi\n",
      "Damir Kudryakov\n",
      "Irina Krez\n",
      "Alyona Samokhina\n",
      "Dmitry Ulyanov\n",
      "Robert Zx\n",
      "80 people responded Going\n",
      "Artem Denisov\n",
      "Daniil Kulik\n",
      "73 people responded Going\n",
      "7 people responded Going\n",
      "Zach Cowan\n",
      "Kirill Bazylev\n",
      "Ruslan Romanov\n",
      "2 people responded Going\n",
      "Anton Podgorny\n",
      "Alexandr Litoy\n",
      "John Watson\n",
      "Ivan Borodin\n",
      "Olga Churakova\n",
      "Alexey Sukhanov\n",
      "Alexander Fomichev\n",
      "22 people responded Going\n",
      "Григорий Гоголь\n",
      "Alex Lane\n",
      "Кирилл Мальцев\n",
      "Athen Fuller\n",
      "Artur Karibyan\n",
      "Igor Zelenko Jr.\n",
      "Дмитрий Засов\n",
      "Александр Самылкин\n",
      "Nick Ecvols\n",
      "Vitaly Dubinin\n",
      "Gleb Global-Nomad\n",
      "Polina Shuravina\n",
      "Daniil Vlasenko\n",
      "14 people responded Going\n",
      "Евгений Цуканов\n",
      "Kn Yaz\n",
      "Антон Тараненко\n",
      "Надежда Обрезкова\n",
      "Practice is cancelled\\nWe are just retrubation... along with time\n",
      "Андрей Потеха\n",
      "163 people responded Going\n",
      "Kenneth Wong\n",
      "Anton Berezin\n",
      "Konstantin S Baranov\n",
      "Anton Samsonov\n",
      "Антон Антон\n",
      "Gus Peters\n",
      "Valeriy Severukhin\n",
      "Сергей Леонов\n",
      "Константин Гуров\n",
      "София Гастин\n",
      "Лев Щуклинов\n",
      "Антон Беляев\n",
      "50 people responded Going\n",
      "Boroda Serhio\n",
      "Rowan Staden-Coats\n",
      "Alexander Volkov\n",
      "Андрей Шухминов\n",
      "Ее Ее\n",
      "Валерий Порошков\n",
      "Cancellation\n",
      "Артём Червоный\n",
      "Artur Ventsel\n",
      "Alisa Tsvetkova\n",
      "25 people responded Going\n",
      "Даниил Хромов\n",
      "109 people responded Going\n",
      "Burbu Kuular\n",
      "Konstantin Kologriev\n",
      "Янина Сафарян\n",
      "Jack Stubbs\n",
      "Aleksandr Avramenko\n",
      "4 people responded Going\n",
      "Gleb Sinyavsky\n",
      "8 people responded Going\n",
      "Nikolay Efimov\n",
      "Алексей Чернышов\n",
      "Lina Rekubratskaya\n",
      "5 people responded Going\n",
      "Иван Никитин\n",
      "Elizaveta Larina\n",
      "Lera Skvortsova\n",
      "Gio Mushukia\n",
      "Mary Shevchenko\n",
      "Даниил Шевченко\n",
      "George Rusinov\n",
      "Анастасия Кухтерина\n",
      "Tuyara Dayan-Pavlova\n",
      "Charlotte Ridsdale\n",
      "Даря Воршева\n",
      "Sergey Matyukhin\n",
      "Evgen Soltys\n",
      "Eugene Arkhipov\n",
      "Serg Prikhodko\n",
      "Vladimir Yerakhtorin\n",
      "Александр Терентьев\n",
      "Ivan Safonov\n",
      "Василий Соболев\n",
      "15 people responded Going\n",
      "Ildar Isa\n",
      "3 people responded Going\n",
      "Лера Полежаевская\n",
      "Gabriel Yegiazarov\n",
      "Alina Lisnenko\n",
      "Artem Smirnov\n",
      "6 people responded Going\n",
      "Leonid Belokopytov\n",
      "Павел Багаев\n",
      "Tony Fernandes\n",
      "Andrey Mineev\n",
      "Valeo Sosnov\n",
      "Михаил Рогачев\n",
      "Oleg Karakyan\n",
      "Дамир Кудряков\n",
      "Ester Kaplan\n",
      "Cole Russon\n",
      "Olga Dyminskaya\n",
      "Мария Три\n",
      "Тимофей Пухов\n",
      "Timur Safiullin\n",
      "Muhammad Ibrahim\n",
      "Chase Philpot\n",
      "Joshua Burkett\n",
      "Alex Ilmenyov\n",
      "Nikita Konogorskiy\n",
      "Dmitriy Khamin\n",
      "Alexandr Bovin\n",
      "39 people responded Going\n",
      "Konstantin Kravtsov\n",
      "Алексей Бородин\n"
     ]
    }
   ],
   "source": [
    "unique_all_attendees = set(all_attendees)\n",
    "print(\"Unique values in all_attendees:\")\n",
    "for attendee in unique_all_attendees:\n",
    "    print(attendee)"
   ]
  },
  {
   "cell_type": "code",
   "execution_count": 19,
   "metadata": {},
   "outputs": [
    {
     "name": "stdout",
     "output_type": "stream",
     "text": [
      "176\n"
     ]
    }
   ],
   "source": [
    "print(len(unique_all_attendees))"
   ]
  },
  {
   "cell_type": "code",
   "execution_count": 20,
   "metadata": {},
   "outputs": [
    {
     "name": "stdout",
     "output_type": "stream",
     "text": [
      "Unique attendees with 2 words:\n",
      "Aleksandr Markov\n",
      "Valeria Surikova\n",
      "Ivan Baranoff\n",
      "Мила Бородина\n",
      "Vache Oganesian\n",
      "Viktor Bukanov\n",
      "Egor Gorelix\n",
      "Alexander Zarubin\n",
      "Aleksandr Klochkov\n",
      "Святослав Суханов\n",
      "Никита Хоба\n",
      "Evgeny Zheltikov\n",
      "Mikhail Fedechkin\n",
      "Иван Лысов\n",
      "Dmitry Levis\n",
      "Stephen Hnery\n",
      "Simon Chislov\n",
      "James Evans\n",
      "Nikita Cherkashin\n",
      "Vladislav Vereschagin\n",
      "Aaron Luo\n",
      "Philipp Chirkov\n",
      "Podoshva-Zakharov Nikolay\n",
      "Samuil Yusufov\n",
      "Philipp Le\n",
      "Татьяна Стародубова\n",
      "Hidenori Morii\n",
      "Борис Ремизов\n",
      "Kirill Potekhin\n",
      "Юрий Гибизти\n",
      "Denis Kudrin\n",
      "Dmitry Kupriyanov\n",
      "Ivan Aleksandrovich\n",
      "Kristina Pleshkova\n",
      "Vasily Lavrov\n",
      "Виктор Апаков\n",
      "Alexander Sazzi\n",
      "Damir Kudryakov\n",
      "Irina Krez\n",
      "Alyona Samokhina\n",
      "Dmitry Ulyanov\n",
      "Robert Zx\n",
      "Artem Denisov\n",
      "Daniil Kulik\n",
      "Zach Cowan\n",
      "Kirill Bazylev\n",
      "Ruslan Romanov\n",
      "Anton Podgorny\n",
      "Alexandr Litoy\n",
      "John Watson\n",
      "Ivan Borodin\n",
      "Olga Churakova\n",
      "Alexey Sukhanov\n",
      "Alexander Fomichev\n",
      "Григорий Гоголь\n",
      "Alex Lane\n",
      "Кирилл Мальцев\n",
      "Athen Fuller\n",
      "Artur Karibyan\n",
      "Дмитрий Засов\n",
      "Александр Самылкин\n",
      "Nick Ecvols\n",
      "Vitaly Dubinin\n",
      "Gleb Global-Nomad\n",
      "Polina Shuravina\n",
      "Daniil Vlasenko\n",
      "Евгений Цуканов\n",
      "Kn Yaz\n",
      "Антон Тараненко\n",
      "Надежда Обрезкова\n",
      "Андрей Потеха\n",
      "Kenneth Wong\n",
      "Anton Berezin\n",
      "Anton Samsonov\n",
      "Антон Антон\n",
      "Gus Peters\n",
      "Valeriy Severukhin\n",
      "Сергей Леонов\n",
      "Константин Гуров\n",
      "София Гастин\n",
      "Лев Щуклинов\n",
      "Антон Беляев\n",
      "Boroda Serhio\n",
      "Rowan Staden-Coats\n",
      "Alexander Volkov\n",
      "Андрей Шухминов\n",
      "Ее Ее\n",
      "Валерий Порошков\n",
      "Артём Червоный\n",
      "Artur Ventsel\n",
      "Alisa Tsvetkova\n",
      "Даниил Хромов\n",
      "Burbu Kuular\n",
      "Konstantin Kologriev\n",
      "Янина Сафарян\n",
      "Jack Stubbs\n",
      "Aleksandr Avramenko\n",
      "Gleb Sinyavsky\n",
      "Nikolay Efimov\n",
      "Алексей Чернышов\n",
      "Lina Rekubratskaya\n",
      "Иван Никитин\n",
      "Elizaveta Larina\n",
      "Lera Skvortsova\n",
      "Gio Mushukia\n",
      "Mary Shevchenko\n",
      "Даниил Шевченко\n",
      "George Rusinov\n",
      "Анастасия Кухтерина\n",
      "Tuyara Dayan-Pavlova\n",
      "Charlotte Ridsdale\n",
      "Даря Воршева\n",
      "Sergey Matyukhin\n",
      "Evgen Soltys\n",
      "Eugene Arkhipov\n",
      "Serg Prikhodko\n",
      "Vladimir Yerakhtorin\n",
      "Александр Терентьев\n",
      "Ivan Safonov\n",
      "Василий Соболев\n",
      "Ildar Isa\n",
      "Gabriel Yegiazarov\n",
      "Лера Полежаевская\n",
      "Alina Lisnenko\n",
      "Artem Smirnov\n",
      "Leonid Belokopytov\n",
      "Павел Багаев\n",
      "Tony Fernandes\n",
      "Andrey Mineev\n",
      "Valeo Sosnov\n",
      "Михаил Рогачев\n",
      "Oleg Karakyan\n",
      "Дамир Кудряков\n",
      "Ester Kaplan\n",
      "Cole Russon\n",
      "Olga Dyminskaya\n",
      "Мария Три\n",
      "Тимофей Пухов\n",
      "Timur Safiullin\n",
      "Muhammad Ibrahim\n",
      "Chase Philpot\n",
      "Joshua Burkett\n",
      "Alex Ilmenyov\n",
      "Nikita Konogorskiy\n",
      "Dmitriy Khamin\n",
      "Alexandr Bovin\n",
      "Konstantin Kravtsov\n",
      "Алексей Бородин\n"
     ]
    }
   ],
   "source": [
    "filtered_attendees = [attendee for attendee in all_attendees if attendee != \"No Data\" and len(attendee.split()) == 2]\n",
    "unique_attendees = list(set(filtered_attendees))\n",
    "print(\"Unique attendees with 2 words:\")\n",
    "for attendee in unique_attendees:\n",
    "    print(attendee)\n"
   ]
  },
  {
   "cell_type": "code",
   "execution_count": 21,
   "metadata": {},
   "outputs": [
    {
     "name": "stdout",
     "output_type": "stream",
     "text": [
      "Count of unique attendees with 2 words: 148\n"
     ]
    }
   ],
   "source": [
    "unique_attendees_count = len(unique_attendees)\n",
    "print(\"Count of unique attendees with 2 words:\", unique_attendees_count)\n"
   ]
  },
  {
   "cell_type": "code",
   "execution_count": 22,
   "metadata": {},
   "outputs": [],
   "source": [
    "# Create a new DataFrame containing only the rows where Eugene Arkhipov appears in the Going column\n",
    "eugene_attendee_df = df_att[df_att['Going'].str.contains('Eugene Arkhipov', na=False)]\n"
   ]
  },
  {
   "cell_type": "code",
   "execution_count": 23,
   "metadata": {},
   "outputs": [
    {
     "name": "stdout",
     "output_type": "stream",
     "text": [
      "<class 'pandas.core.frame.DataFrame'>\n",
      "Int64Index: 699 entries, 131 to 925\n",
      "Data columns (total 18 columns):\n",
      " #   Column           Non-Null Count  Dtype         \n",
      "---  ------           --------------  -----         \n",
      " 0   Name             699 non-null    object        \n",
      " 1   Status           699 non-null    object        \n",
      " 2   Type             699 non-null    object        \n",
      " 3   Creator          699 non-null    object        \n",
      " 4   Date             699 non-null    object        \n",
      " 5   Day_Start        699 non-null    object        \n",
      " 6   Day_End          699 non-null    object        \n",
      " 7   Month_Start      699 non-null    object        \n",
      " 8   Month_Finish     699 non-null    object        \n",
      " 9   Date_Start       699 non-null    int64         \n",
      " 10  Date_End         699 non-null    int64         \n",
      " 11  Year             699 non-null    int64         \n",
      " 12  Time_Start       699 non-null    object        \n",
      " 13  Duration         699 non-null    object        \n",
      " 14  Location         699 non-null    object        \n",
      " 15  Going            699 non-null    object        \n",
      " 16  Attendance       699 non-null    int64         \n",
      " 17  Date_Date_Excel  699 non-null    datetime64[ns]\n",
      "dtypes: datetime64[ns](1), int64(4), object(13)\n",
      "memory usage: 103.8+ KB\n",
      "None\n"
     ]
    }
   ],
   "source": [
    "print(eugene_attendee_df.info())"
   ]
  },
  {
   "cell_type": "code",
   "execution_count": 24,
   "metadata": {},
   "outputs": [],
   "source": [
    "\n",
    "# Find the first and last date Eugene Arkhipov attended an event\n",
    "first_date = eugene_attendee_df['Date_Date_Excel'].min()\n",
    "last_date = eugene_attendee_df['Date_Date_Excel'].max()\n",
    "\n"
   ]
  },
  {
   "cell_type": "code",
   "execution_count": 25,
   "metadata": {},
   "outputs": [
    {
     "name": "stdout",
     "output_type": "stream",
     "text": [
      "2015-05-23 00:00:00\n",
      "2022-03-19 00:00:00\n"
     ]
    }
   ],
   "source": [
    "print(first_date)\n",
    "print(last_date)"
   ]
  },
  {
   "cell_type": "code",
   "execution_count": 26,
   "metadata": {},
   "outputs": [
    {
     "name": "stdout",
     "output_type": "stream",
     "text": [
      "Eugene Arkhipov attended 699 events\n",
      "87.92% of total events\n",
      "from 2015-05-23 00:00:00 to 2022-03-19 00:00:00.\n",
      "He was available to practice for 6 Years, 9 Months, and 24 Days from 2015 to 2022\n"
     ]
    }
   ],
   "source": [
    "from dateutil.relativedelta import relativedelta\n",
    "\n",
    "# Create a new DataFrame containing only the rows within the date range of Eugene Arkhipov's attendance\n",
    "eugene_time_period_df = df_att[(df_att['Date_Date_Excel'] >= first_date) & (df_att['Date_Date_Excel'] <= last_date)]\n",
    "\n",
    "# Count the number of events Eugene Arkhipov attended in that time period\n",
    "events_attended = len(eugene_attendee_df)\n",
    "\n",
    "# Count the total number of events in the time period\n",
    "total_events_in_time_period = len(eugene_time_period_df)\n",
    "\n",
    "# Calculate the percentage of events attended by Eugene Arkhipov\n",
    "percentage_attended = (events_attended / total_events_in_time_period) * 100\n",
    "\n",
    "# Assuming you have `first_date` and `last_date` as datetime objects\n",
    "delta = relativedelta(last_date, first_date)\n",
    "\n",
    "print(f\"Eugene Arkhipov attended {events_attended} events\")\n",
    "print(f\"{percentage_attended:.2f}% of total events\")\n",
    "print(f\"from {first_date} to {last_date}.\")\n",
    "print(f\"He was available to practice for {delta.years} Years, {delta.months} Months, and {delta.days} Days from 2015 to 2022\")\n"
   ]
  },
  {
   "cell_type": "code",
   "execution_count": 27,
   "metadata": {},
   "outputs": [
    {
     "name": "stdout",
     "output_type": "stream",
     "text": [
      "0             Duration: 3 hr\n",
      "1             Duration: 3 hr\n",
      "2             Duration: 3 hr\n",
      "3             Duration: 3 hr\n",
      "4             Duration: 3 hr\n",
      "               ...          \n",
      "921    Duration: 1 hr 30 min\n",
      "922    Duration: 1 hr 30 min\n",
      "923    Duration: 1 hr 30 min\n",
      "924    Duration: 1 hr 30 min\n",
      "925    Duration: 1 hr 30 min\n",
      "Name: Duration, Length: 926, dtype: object\n"
     ]
    }
   ],
   "source": [
    "all_durations = df_att['Duration']\n",
    "\n",
    "print(all_durations)"
   ]
  },
  {
   "cell_type": "code",
   "execution_count": 28,
   "metadata": {},
   "outputs": [
    {
     "name": "stdout",
     "output_type": "stream",
     "text": [
      "['Duration: 3 hr' 'Duration: 2 hr' 'Duration: 2 days' 'Duration: 6 hr'\n",
      " 'Duration: 4 hr' 'Duration: 3 days' 'Duration: 5 hr'\n",
      " 'Duration: 1 hr 50 min' 'Duration: 3 hr 30 min' 'Duration: 2 hr 30 min'\n",
      " 'Duration: 1 hr 30 min' 'Duration: 7 hr' 'Duration: 9 hr'\n",
      " 'Duration: 8 hr' 'Duration: 1 hr 20 min' 'Duration: 4 days'\n",
      " 'Duration: 8 hr 30 min' 'Duration: 1 hr' 'Duration: 4 hr 30 min'\n",
      " 'Duration: 1 hr 59 min']\n"
     ]
    }
   ],
   "source": [
    "# Assuming you already have your DataFrame\n",
    "unique_durations = df_att['Duration'].unique()\n",
    "\n",
    "# Print the unique values\n",
    "print(unique_durations)\n"
   ]
  },
  {
   "cell_type": "code",
   "execution_count": 29,
   "metadata": {},
   "outputs": [
    {
     "name": "stdout",
     "output_type": "stream",
     "text": [
      "Total Duration: 3454 hr 39 min\n"
     ]
    }
   ],
   "source": [
    "# Sample duration values from all rows\n",
    "durations = all_durations\n",
    "\n",
    "# Define a function to convert a duration string to minutes\n",
    "def convert_duration_to_minutes(duration_str):\n",
    "    parts = duration_str.split()\n",
    "    minutes = 0\n",
    "\n",
    "    for i in range(len(parts)):\n",
    "        if parts[i] == 'days':\n",
    "            minutes += int(parts[i - 1]) * 24 * 60\n",
    "        elif parts[i] == 'hr':\n",
    "            minutes += int(parts[i - 1]) * 60\n",
    "        elif parts[i] == 'min':\n",
    "            minutes += int(parts[i - 1])\n",
    "\n",
    "    return minutes\n",
    "\n",
    "# Convert the duration strings to minutes and sum them\n",
    "total_minutes = sum([convert_duration_to_minutes(duration) for duration in durations])\n",
    "\n",
    "# Convert the total minutes back to hours and minutes\n",
    "total_hours = total_minutes // 60\n",
    "remaining_minutes = total_minutes % 60\n",
    "\n",
    "# Print the total duration\n",
    "print(f\"Total Duration: {total_hours} hr {remaining_minutes} min\")\n"
   ]
  },
  {
   "cell_type": "code",
   "execution_count": 30,
   "metadata": {},
   "outputs": [
    {
     "name": "stdout",
     "output_type": "stream",
     "text": [
      "Total Duration for Eugene Arkhipov's Events: 2073 hr 39 min\n"
     ]
    }
   ],
   "source": [
    "# Filter the DataFrame to select rows where Eugene Arkhipov is in the \"Going\" column\n",
    "eugene_events = df_att[df_att['Going'].str.contains('Eugene Arkhipov', case=False)]\n",
    "\n",
    "# Sample duration values from the filtered DataFrame\n",
    "eugene_durations = eugene_events['Duration']\n",
    "\n",
    "# Define a function to convert a duration string to minutes\n",
    "def convert_duration_to_minutes(duration_str):\n",
    "    parts = duration_str.split()\n",
    "    minutes = 0\n",
    "\n",
    "    for i in range(len(parts)):\n",
    "        if parts[i] == 'days':\n",
    "            minutes += int(parts[i - 1]) * 24 * 60\n",
    "        elif parts[i] == 'hr':\n",
    "            minutes += int(parts[i - 1]) * 60\n",
    "        elif parts[i] == 'min':\n",
    "            minutes += int(parts[i - 1])\n",
    "\n",
    "    return minutes\n",
    "\n",
    "# Convert the duration strings to minutes and sum them\n",
    "total_minutes = sum([convert_duration_to_minutes(duration) for duration in eugene_durations])\n",
    "\n",
    "# Convert the total minutes back to hours and minutes\n",
    "total_hours = total_minutes // 60\n",
    "remaining_minutes = total_minutes % 60\n",
    "\n",
    "# Print the total duration for events where Eugene Arkhipov was present\n",
    "print(f\"Total Duration for Eugene Arkhipov's Events: {total_hours} hr {remaining_minutes} min\")\n",
    "\n"
   ]
  },
  {
   "cell_type": "code",
   "execution_count": 32,
   "metadata": {},
   "outputs": [
    {
     "name": "stdout",
     "output_type": "stream",
     "text": [
      "Events Eugene Arkhipov Attended:\n",
      "Академия Лакросса                                      258\n",
      "Тренировка в воскресенье                                62\n",
      "Тренировка (суб вечер)                                  59\n",
      "Тренировка на поляне                                    54\n",
      "Тренировка (вос днем)                                   52\n",
      "                                                      ... \n",
      "Функциональный тренинг в Сокольниках                     1\n",
      "Лакросс на Днем Спорта в Сокольниках. Часть вторая.      1\n",
      "Тренировка в Субботу                                     1\n",
      "Днем На Поляне                                           1\n",
      "Пробная игра на новом поле                               1\n",
      "Name: Name, Length: 96, dtype: int64\n"
     ]
    }
   ],
   "source": [
    "# Filter the DataFrame to select rows where Eugene Arkhipov is in the \"Going\" column\n",
    "eugene_events = df_att[df_att['Going'].str.contains('Eugene Arkhipov', case=False)]\n",
    "\n",
    "# Count the number of occurrences of each unique event\n",
    "event_counts = eugene_events['Name'].value_counts()\n",
    "\n",
    "# Print the counts of each event\n",
    "print(\"Events Eugene Arkhipov Attended:\")\n",
    "print(event_counts)\n"
   ]
  },
  {
   "cell_type": "code",
   "execution_count": 33,
   "metadata": {},
   "outputs": [
    {
     "name": "stdout",
     "output_type": "stream",
     "text": [
      "Event Types Eugene Arkhipov Attended:\n",
      "Team Practice                  382\n",
      "Skills Practice                258\n",
      "Theory                          13\n",
      "Tournament                      12\n",
      "Intra-Squad Game                10\n",
      "Championship                     6\n",
      "Clinic                           5\n",
      "Clinic/Game/Marketing Event      3\n",
      "Stringing                        3\n",
      "Conditioning                     2\n",
      "Administrative Function          2\n",
      "Training Camp                    2\n",
      "Team Building                    1\n",
      "Name: Type, dtype: int64\n"
     ]
    }
   ],
   "source": [
    "# Filter the DataFrame to select rows where Eugene Arkhipov is in the \"Going\" column\n",
    "eugene_events = df_att[df_att['Going'].str.contains('Eugene Arkhipov', case=False)]\n",
    "\n",
    "# Count the number of occurrences of each unique event type\n",
    "type_counts = eugene_events['Type'].value_counts()\n",
    "\n",
    "# Print the counts of each event type\n",
    "print(\"Event Types Eugene Arkhipov Attended:\")\n",
    "print(type_counts)\n"
   ]
  },
  {
   "cell_type": "code",
   "execution_count": 35,
   "metadata": {},
   "outputs": [
    {
     "name": "stdout",
     "output_type": "stream",
     "text": [
      "Events Attended by Eugene Arkhipov Each Year:\n",
      "2015     51\n",
      "2016    127\n",
      "2017    115\n",
      "2018     91\n",
      "2019     61\n",
      "2020    119\n",
      "2021    122\n",
      "2022     13\n",
      "Name: Year, dtype: int64\n"
     ]
    }
   ],
   "source": [
    "# Filter the DataFrame to select rows where Eugene Arkhipov is in the \"Going\" column\n",
    "eugene_events = df_att[df_att['Going'].str.contains('Eugene Arkhipov', case=False)]\n",
    "\n",
    "# Group the filtered DataFrame by the \"Year\" column and count the occurrences\n",
    "events_per_year = eugene_events['Year'].value_counts().sort_index()\n",
    "\n",
    "# Print the count of events attended by Eugene Arkhipov each year\n",
    "print(\"Events Attended by Eugene Arkhipov Each Year:\")\n",
    "print(events_per_year)\n"
   ]
  },
  {
   "cell_type": "code",
   "execution_count": 45,
   "metadata": {},
   "outputs": [
    {
     "name": "stdout",
     "output_type": "stream",
     "text": [
      "Events Attended by Eugene Arkhipov Each Year:\n",
      "      Total Events Attended  Team Practice Attended  Skills Practice Attended  \\\n",
      "2015                     51                      44                       0.0   \n",
      "2016                    127                      61                      55.0   \n",
      "2017                    115                      47                      50.0   \n",
      "2018                     91                      31                      55.0   \n",
      "2019                     61                      46                      14.0   \n",
      "2020                    119                      47                      63.0   \n",
      "2021                    122                      93                      21.0   \n",
      "2022                     13                      13                       0.0   \n",
      "\n",
      "      Other Events Attended  \n",
      "2015                    7.0  \n",
      "2016                   11.0  \n",
      "2017                   18.0  \n",
      "2018                    5.0  \n",
      "2019                    1.0  \n",
      "2020                    9.0  \n",
      "2021                    8.0  \n",
      "2022                    0.0  \n"
     ]
    }
   ],
   "source": [
    "# Filter the DataFrame to select rows where Eugene Arkhipov is in the \"Going\" column\n",
    "eugene_events = df_att[df_att['Going'].str.contains('Eugene Arkhipov', case=False)]\n",
    "\n",
    "# Group the filtered DataFrame by the \"Year\" column and count the total occurrences\n",
    "events_per_year = eugene_events['Year'].value_counts().sort_index()\n",
    "\n",
    "# Filter the DataFrame to select rows with \"Team Practice\" events attended by Eugene\n",
    "team_practice_events = eugene_events[eugene_events['Type'] == 'Team Practice']\n",
    "\n",
    "# Group the filtered \"Team Practice\" DataFrame by the \"Year\" column and count the occurrences\n",
    "team_practice_per_year = team_practice_events['Year'].value_counts().sort_index()\n",
    "\n",
    "# Filter the DataFrame to select rows with \"Skills Practice\" events attended by Eugene\n",
    "skills_practice_events = eugene_events[eugene_events['Type'] == 'Skills Practice']\n",
    "\n",
    "# Group the filtered \"Skills Practice\" DataFrame by the \"Year\" column and count the occurrences\n",
    "skills_practice_per_year = skills_practice_events['Year'].value_counts().sort_index()\n",
    "\n",
    "# Filter the main DataFrame (df_att) to select rows where Eugene Arkhipov is in the \"Going\" column\n",
    "other_events = df_att[df_att['Going'].str.contains('Eugene Arkhipov', case=False, na=False)]\n",
    "\n",
    "# Exclude \"Skills Practice\" and \"Team Practice\" events\n",
    "other_events = other_events[~other_events['Type'].isin(['Skills Practice', 'Team Practice'])]\n",
    "\n",
    "# Group the \"Other Events\" DataFrame by the \"Year\" column and count the occurrences\n",
    "other_events_per_year = other_events['Year'].value_counts().sort_index()\n",
    "\n",
    "# Merge all the Series to create a DataFrame with all the information\n",
    "result = pd.DataFrame({'Total Events Attended': events_per_year, 'Team Practice Attended': team_practice_per_year, 'Skills Practice Attended': skills_practice_per_year, 'Other Events Attended': other_events_per_year})\n",
    "result.fillna(0, inplace=True)  # Fill NaN values with 0\n",
    "\n",
    "# Print the result\n",
    "print(\"Events Attended by Eugene Arkhipov Each Year:\")\n",
    "print(result)\n"
   ]
  },
  {
   "cell_type": "code",
   "execution_count": 49,
   "metadata": {},
   "outputs": [
    {
     "name": "stdout",
     "output_type": "stream",
     "text": [
      "Events Attended by Eugene Arkhipov Each Month:\n",
      "1     27\n",
      "2     38\n",
      "3     51\n",
      "4     58\n",
      "5     80\n",
      "6     76\n",
      "7     74\n",
      "8     83\n",
      "9     77\n",
      "10    60\n",
      "11    35\n",
      "12    40\n",
      "Name: Month, dtype: int64\n"
     ]
    }
   ],
   "source": [
    "# Filter the DataFrame to select rows where Eugene Arkhipov is in the \"Going\" column\n",
    "eugene_events = df_att[df_att['Going'].str.contains('Eugene Arkhipov', case=False)].copy()\n",
    "\n",
    "# Convert the \"Date_Date_Excel\" column to datetime objects\n",
    "eugene_events[\"Date_Date_Excel\"] = pd.to_datetime(eugene_events[\"Date_Date_Excel\"])\n",
    "\n",
    "# Extract the month from the \"Date_Date_Excel\" column and create a new \"Month\" column\n",
    "eugene_events['Month'] = eugene_events[\"Date_Date_Excel\"].dt.month\n",
    "\n",
    "# Group the DataFrame by month and count the total occurrences\n",
    "events_per_month = eugene_events['Month'].value_counts().sort_index()\n",
    "\n",
    "# Print the breakdown of events attended by Eugene Arkhipov for each month\n",
    "print(\"Events Attended by Eugene Arkhipov Each Month:\")\n",
    "print(events_per_month)\n"
   ]
  }
 ],
 "metadata": {
  "kernelspec": {
   "display_name": "base",
   "language": "python",
   "name": "python3"
  },
  "language_info": {
   "codemirror_mode": {
    "name": "ipython",
    "version": 3
   },
   "file_extension": ".py",
   "mimetype": "text/x-python",
   "name": "python",
   "nbconvert_exporter": "python",
   "pygments_lexer": "ipython3",
   "version": "3.9.13"
  }
 },
 "nbformat": 4,
 "nbformat_minor": 2
}

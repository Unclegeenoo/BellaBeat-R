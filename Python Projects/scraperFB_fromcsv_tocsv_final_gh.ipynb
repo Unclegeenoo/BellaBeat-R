{
 "cells": [
  {
   "cell_type": "code",
   "execution_count": 1,
   "metadata": {},
   "outputs": [],
   "source": [
    "## Import Packages\n",
    "from selenium import webdriver\n",
    "from selenium.webdriver.common.by import By\n",
    "import requests\n",
    "import time\n",
    "from selenium.webdriver.common.action_chains import ActionChains\n",
    "from selenium.webdriver.support.ui import WebDriverWait\n",
    "from selenium.webdriver.common.by import By\n",
    "from selenium.webdriver.support import expected_conditions as EC\n",
    "from selenium.webdriver.common.keys import Keys\n",
    "from selenium.common.exceptions import NoSuchElementException\n",
    "from selenium.webdriver.support.select import Select\n",
    "from bs4 import BeautifulSoup\n",
    "\n",
    "import os\n",
    "import re\n",
    "import pandas as pd\n",
    "import csv"
   ]
  },
  {
   "cell_type": "code",
   "execution_count": 8,
   "metadata": {},
   "outputs": [],
   "source": [
    "## Set Browser to Google Chrome\n",
    "chrome_options = webdriver.ChromeOptions()\n",
    "prefs = {\"profile.default_content_setting_values.notifications\" : 2}\n",
    "chrome_options.add_experimental_option(\"prefs\", prefs)\n"
   ]
  },
  {
   "cell_type": "code",
   "execution_count": 9,
   "metadata": {},
   "outputs": [
    {
     "name": "stderr",
     "output_type": "stream",
     "text": [
      "C:\\Users\\mader\\AppData\\Local\\Temp\\ipykernel_39036\\3314076339.py:1: DeprecationWarning: executable_path has been deprecated, please pass in a Service object\n",
      "  driver = webdriver.Chrome(\"D:\\Python>\", chrome_options=chrome_options)\n",
      "C:\\Users\\mader\\AppData\\Local\\Temp\\ipykernel_39036\\3314076339.py:1: DeprecationWarning: use options instead of chrome_options\n",
      "  driver = webdriver.Chrome(\"D:\\Python>\", chrome_options=chrome_options)\n"
     ]
    }
   ],
   "source": [
    "## Set Facebook event group \n",
    "driver = webdriver.Chrome(\"D:\\Python>\", chrome_options=chrome_options)\n",
    "url = 'https://www.facebook.com/groups/##your_group_name_##/events'"
   ]
  },
  {
   "cell_type": "code",
   "execution_count": 10,
   "metadata": {},
   "outputs": [],
   "source": [
    "## Open facebook group website page\n",
    "driver.get(url)"
   ]
  },
  {
   "cell_type": "code",
   "execution_count": 11,
   "metadata": {},
   "outputs": [],
   "source": [
    "## Define a pause for loading a page\n",
    "def wait_for_page_load():\n",
    "    timer= 10\n",
    "    start_time = time.time()\n",
    "    page_state = None\n",
    "    while page_state != 'complete':\n",
    "        time.sleep(0.5)\n",
    "        page_state = driver.execute_script('return document.readyState;')\n",
    "        if time.time() - start_time > timer:\n",
    "            raise Exception('Timeout :(')"
   ]
  },
  {
   "cell_type": "code",
   "execution_count": 12,
   "metadata": {},
   "outputs": [],
   "source": [
    "## Login to facebook account\n",
    "username = \"your@email.here\"\n",
    "password = \"Your_Password_Here\"\n",
    "driver.implicitly_wait(2)\n",
    "\n",
    "login = driver.find_element(By.ID, 'email')\n",
    "login.send_keys(username)\n",
    "\n",
    "pw = driver.find_element(By.ID, 'pass')\n",
    "pw.send_keys(password)\n",
    "\n",
    "driver.implicitly_wait(2)\n",
    "\n",
    "LI = driver.find_element(By.ID, 'loginbutton')\n",
    "\n",
    "LI.click()\n",
    "\n",
    "time.sleep(5)"
   ]
  },
  {
   "cell_type": "code",
   "execution_count": null,
   "metadata": {},
   "outputs": [],
   "source": [
    "## infinite scroll \"see more\" to show all href links\n",
    "\n",
    "while(driver.find_element(By.CSS_SELECTOR, \"[aria-label='See more']\")):\n",
    "    driver.find_element(By.CSS_SELECTOR, \"[aria-label='See more']\").click()\n",
    "    time.sleep(7)"
   ]
  },
  {
   "cell_type": "code",
   "execution_count": null,
   "metadata": {},
   "outputs": [],
   "source": [
    "## recall all links (if necessary), otherwise skip to next step\n",
    "\n",
    "anchors = driver.find_elements(By.XPATH,'//a[contains(@href,\"event_action_history\")]')\n",
    "for a in anchors:\n",
    "    print([a.get_attribute(\"href\")])"
   ]
  },
  {
   "cell_type": "code",
   "execution_count": 13,
   "metadata": {},
   "outputs": [],
   "source": [
    "## define links that we need to move to a csv\n",
    "anchors = driver.find_elements(By.XPATH,'//a[contains(@href,\"event_action_history\")]')"
   ]
  },
  {
   "cell_type": "code",
   "execution_count": 14,
   "metadata": {},
   "outputs": [
    {
     "name": "stdout",
     "output_type": "stream",
     "text": [
      "6\n"
     ]
    }
   ],
   "source": [
    "## count number of links\n",
    "count = len(anchors)\n",
    "print(count)"
   ]
  },
  {
   "cell_type": "code",
   "execution_count": 18,
   "metadata": {},
   "outputs": [],
   "source": [
    "## record anchors into csv \n",
    "\n",
    "with open('href_links.csv', 'w', newline='' ) as rw:\n",
    "    hwriter = csv.writer(rw)\n",
    "    for a in anchors:\n",
    "        hwriter.writerow([a.get_attribute(\"href\")])"
   ]
  },
  {
   "cell_type": "code",
   "execution_count": 15,
   "metadata": {},
   "outputs": [],
   "source": [
    "## iterate through the list in the csv and record data into separate csv. the xpaths need to be checked/updated if necessary\n",
    "\n",
    "header = ['event_name', 'event_creator', 'event_date', 'event_duration', 'event_location', 'going']\n",
    "with open('scraped_data.csv', 'w') as t:\n",
    "    writer = csv.writer(t)\n",
    "    writer.writerow(header)\n",
    "\n",
    "    hrefs = []\n",
    "    with open('href_links.csv', 'r') as r:\n",
    "        reader = csv.reader(r)\n",
    "        for row in reader:\n",
    "            links = row[0]\n",
    "            hrefs.append(links)\n",
    "    \n",
    "    for link in hrefs:\n",
    "        url_html = requests.get(link)\n",
    "        \n",
    "        hrefs = hrefs[0:x] ## x = the total amount of links can be found either in the csv or from print(count) function in row 14. \n",
    "\n",
    "        hrefs2 = {}\n",
    "\n",
    "        for href in hrefs:\n",
    "            hrefs2[href] = []\n",
    "            driver.get(href)\n",
    "            wait_for_page_load()\n",
    "\n",
    "            try:\n",
    "                event_name = driver.find_element(By.XPATH,\"/html/body/div[1]/div[1]/div[1]/div/div[3]/div/div/div/div[1]/div[1]/div[1]/div[1]/div[2]/div/div[2]/div/div[1]/div/div/div[2]/h2/span/span/span\").text\n",
    "            except:\n",
    "                event_name = \"No Data\"\n",
    "    \n",
    "           \n",
    "            try:\n",
    "                event_creator = driver.find_element(By.XPATH,'/html/body/div[1]/div[1]/div[1]/div/div[3]/div/div/div/div[1]/div[1]/div[2]/div/div/div/div/div[1]/div/div/div/div[3]/div/div/div[2]/div/div/span/strong[1]/a').text\n",
    "            except:\n",
    "                event_creator = \"No Data\"\n",
    "\n",
    "            try: \n",
    "                event_location = driver.find_element(By.XPATH,'/html/body/div[1]/div/div[1]/div/div[3]/div/div/div/div[1]/div[1]/div[2]/div/div/div/div/div[1]/div/div/div/div[4]').text\n",
    "            except:\n",
    "                event_creator = \"No Data\"\n",
    "\n",
    "            try:\n",
    "                event_duration = driver.find_element(By.XPATH,'/html/body/div[1]/div[1]/div[1]/div/div[3]/div/div/div/div[1]/div[1]/div[2]/div/div/div/div/div[1]/div/div/div/div[5]/div/div/div[2]/div/div/span').text        \n",
    "            except:\n",
    "                event_duration = \"No Data\"\n",
    "\n",
    "            try:\n",
    "                event_date = driver.find_element(By.XPATH,'/html/body/div[1]/div[1]/div[1]/div/div[3]/div/div/div/div[1]/div[1]/div[1]/div[1]/div[2]/div/div[2]/div/div[1]/div/div/div[1]/span').text\n",
    "            except:\n",
    "                event_data = \"No Data\"\n",
    "   \n",
    "    \n",
    "            guest_list = driver.find_element(By.XPATH,'//span[contains(@class, \"x193iq5w xeuugli x13faqbe x1vvkbs x1xmvt09 x1lliihq x1s928wv xhkezso x1gmr53x x1cpjm7i x1fgarty x1943h6x x4zkp8e x676frb x1nxh6w3 x1sibtaa x1s688f xi81zsa x2b8uid\")]')\n",
    "            guest_list.click()\n",
    "            time.sleep(50)\n",
    "            going = driver.find_elements(By.XPATH,'//span[contains(@class, \"x193iq5w xeuugli x13faqbe x1vvkbs x1xmvt09 x6prxxf xvq8zen xo1l8bm xzsf02u\")]')\n",
    "\n",
    "\n",
    "        \n",
    "            going_text = [g.text for g in going]\n",
    "\n",
    "            writer.writerow([event_name, event_creator, event_date, event_duration, event_location, going_text])\n"
   ]
  }
 ],
 "metadata": {
  "kernelspec": {
   "display_name": "base",
   "language": "python",
   "name": "python3"
  },
  "language_info": {
   "codemirror_mode": {
    "name": "ipython",
    "version": 3
   },
   "file_extension": ".py",
   "mimetype": "text/x-python",
   "name": "python",
   "nbconvert_exporter": "python",
   "pygments_lexer": "ipython3",
   "version": "3.9.13"
  },
  "orig_nbformat": 4,
  "vscode": {
   "interpreter": {
    "hash": "49cb93f377a7abe7414b7b0f21fb3017538004a126cf690fb524202736b7fb92"
   }
  }
 },
 "nbformat": 4,
 "nbformat_minor": 2
}
